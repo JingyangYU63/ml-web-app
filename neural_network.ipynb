{
  "nbformat": 4,
  "nbformat_minor": 0,
  "metadata": {
    "colab": {
      "provenance": []
    },
    "kernelspec": {
      "name": "python3",
      "display_name": "Python 3"
    },
    "language_info": {
      "name": "python"
    }
  },
  "cells": [
    {
      "cell_type": "code",
      "execution_count": 1,
      "metadata": {
        "id": "p9-SfMc0PT4V"
      },
      "outputs": [],
      "source": [
        "#!/usr/bin/env python3\n",
        "import os\n",
        "import sys\n",
        "\n",
        "# BEGIN THREAD SETTINGS this sets the number of threads used by numpy in the program\n",
        "# (should be set to 1 to avoid implicit parallelism)\n",
        "implicit_num_threads = 1\n",
        "os.environ[\"OMP_NUM_THREADS\"] = str(implicit_num_threads)\n",
        "os.environ[\"MKL_NUM_THREADS\"] = str(implicit_num_threads)\n",
        "os.environ[\"OPENBLAS_NUM_THREADS\"] = str(implicit_num_threads)\n",
        "# END THREAD SETTINGS\n",
        "\n",
        "import numpy as np\n",
        "import torch\n",
        "from numpy import random\n",
        "import matplotlib\n",
        "import pickle\n",
        "matplotlib.use('agg')\n",
        "from matplotlib import pyplot as plt\n",
        "import threading\n",
        "import time\n",
        "import pandas\n",
        "from collections import deque\n",
        "\n",
        "from tqdm import tqdm\n",
        "from google.colab import files, drive"
      ]
    },
    {
      "cell_type": "code",
      "source": [
        "drive.mount('/content/gdrive')"
      ],
      "metadata": {
        "colab": {
          "base_uri": "https://localhost:8080/"
        },
        "id": "3EHq0nnSC0KH",
        "outputId": "02cf876e-1a24-41af-ebc3-5d8d0599d43c"
      },
      "execution_count": 2,
      "outputs": [
        {
          "output_type": "stream",
          "name": "stdout",
          "text": [
            "Drive already mounted at /content/gdrive; to attempt to forcibly remount, call drive.mount(\"/content/gdrive\", force_remount=True).\n"
          ]
        }
      ]
    },
    {
      "cell_type": "code",
      "source": [
        "path = \"/content/gdrive/MyDrive/data_daily.csv\"\n",
        "# reading the CSV file\n",
        "csvFile = pandas.read_csv(path)\n",
        " \n",
        "# displaying the contents of the CSV file\n",
        "print(csvFile)"
      ],
      "metadata": {
        "colab": {
          "base_uri": "https://localhost:8080/"
        },
        "id": "kvsFaK5-C4yI",
        "outputId": "b62d2991-9dcd-44be-912c-de439f4cbd08"
      },
      "execution_count": 3,
      "outputs": [
        {
          "output_type": "stream",
          "name": "stdout",
          "text": [
            "         # Date  Receipt_Count\n",
            "0    2021-01-01        7564766\n",
            "1    2021-01-02        7455524\n",
            "2    2021-01-03        7095414\n",
            "3    2021-01-04        7666163\n",
            "4    2021-01-05        7771289\n",
            "..          ...            ...\n",
            "360  2021-12-27       10350408\n",
            "361  2021-12-28       10219445\n",
            "362  2021-12-29       10313337\n",
            "363  2021-12-30       10310644\n",
            "364  2021-12-31       10211187\n",
            "\n",
            "[365 rows x 2 columns]\n"
          ]
        }
      ]
    },
    {
      "cell_type": "code",
      "source": [
        "def train_test_split(Xs, Ys, test_size, random_state):\n",
        "    random.seed(random_state)\n",
        "    random.shuffle(Xs)\n",
        "    random.shuffle(Ys)\n",
        "    test_set_size = int(test_size * len(Ys))\n",
        "    Xs_tr, Xs_va, Ys_tr, Ys_va = Xs[test_set_size:], Xs[:test_set_size], Ys[test_set_size:], Ys[:test_set_size]\n",
        "    return Xs_tr, Xs_va, Ys_tr, Ys_va"
      ],
      "metadata": {
        "id": "VLk5kJTfC6Q7"
      },
      "execution_count": 4,
      "outputs": []
    },
    {
      "cell_type": "code",
      "source": [
        "# setting the days ahead range for predicting the approximate number of the scanned receipts for a future day\n",
        "day_range = 30 # using the data from day 0 to day 29 to predict day 30\n",
        "\n",
        "# constructing features and target variables\n",
        "Receipt_Count = csvFile[\"Receipt_Count\"].array.to_numpy()\n",
        "Xs = [[Receipt_Count[j] for j in range(i, i + day_range)] for i in range(335)]\n",
        "Ys = Receipt_Count[day_range:]\n",
        "assert len(Xs) == len(Ys)\n",
        "# perform train-validation (0.8 vs 0.2) split\n",
        "Xs_tr, Xs_va, Ys_tr, Ys_va = train_test_split(Xs, \n",
        "                                              Ys, \n",
        "                                              test_size = 0.2, \n",
        "                                              random_state = 123)"
      ],
      "metadata": {
        "id": "tAt-L8eGC99U"
      },
      "execution_count": 5,
      "outputs": []
    },
    {
      "cell_type": "code",
      "source": [
        "# normalization of input data\n",
        "mean = np.mean(Receipt_Count)\n",
        "std = np.std(Receipt_Count)\n",
        "Xs_tr = np.array(Xs_tr, dtype=float).reshape(day_range, -1)\n",
        "Xs_va = np.array(Xs_va, dtype=float).reshape(day_range, -1)\n",
        "Ys_tr = np.array(Ys_tr, dtype=float).reshape(1, -1)\n",
        "Ys_va = np.array(Ys_va, dtype=float).reshape(1, -1)\n",
        "Xs_tr = (Xs_tr - mean) / std\n",
        "Ys_tr = (Ys_tr - mean) / std\n",
        "Xs_tr = (Xs_va - mean) / std\n",
        "Ys_tr = (Ys_va - mean) / std\n",
        "receipts_dataset = (Xs_tr, Xs_va, Ys_tr, Ys_va)\n",
        "print(Xs_tr.shape, Xs_va.shape, Ys_tr.shape, Ys_va.shape)"
      ],
      "metadata": {
        "colab": {
          "base_uri": "https://localhost:8080/"
        },
        "id": "jElUh7BsDA9l",
        "outputId": "290756ab-d220-415e-91f6-02673ab28b47"
      },
      "execution_count": 6,
      "outputs": [
        {
          "output_type": "stream",
          "name": "stdout",
          "text": [
            "(30, 67) (30, 67) (1, 67) (1, 67)\n"
          ]
        }
      ]
    },
    {
      "cell_type": "code",
      "source": [
        "# weight matrix initialization\n",
        "h = 5\n",
        "W10 = np.zeros((h, len(Xs_tr)))\n",
        "W20 = np.zeros((len(Ys_tr), h))\n",
        "print(W10.shape, W20.shape)"
      ],
      "metadata": {
        "colab": {
          "base_uri": "https://localhost:8080/"
        },
        "id": "6z21xLUJDDuJ",
        "outputId": "c0b711a0-c02e-415c-b895-a24dddb16330"
      },
      "execution_count": 7,
      "outputs": [
        {
          "output_type": "stream",
          "name": "stdout",
          "text": [
            "(5, 30) (1, 5)\n"
          ]
        }
      ]
    },
    {
      "cell_type": "code",
      "source": [
        "### a function to create a unique increasing ID\n",
        "### note that this is just a quick-and-easy way to create a global order\n",
        "### it's not the only way to do it\n",
        "global_order_counter = 0\n",
        "def get_next_order():\n",
        "    global global_order_counter\n",
        "    rv = global_order_counter\n",
        "    global_order_counter = global_order_counter + 1\n",
        "    return rv"
      ],
      "metadata": {
        "id": "swGMoDjQPmSb"
      },
      "execution_count": 8,
      "outputs": []
    },
    {
      "cell_type": "code",
      "source": [
        "### a helper function to convert constants into BackproppableArray objects\n",
        "def to_ba(x):\n",
        "    if isinstance(x, BackproppableArray):\n",
        "        return x\n",
        "    elif isinstance(x, np.ndarray):\n",
        "        return BackproppableArray(x)\n",
        "    elif isinstance(x, float):\n",
        "        return BackproppableArray(np.array(x))\n",
        "    elif isinstance(x, int):\n",
        "        return BackproppableArray(np.array(float(x)))\n",
        "    else:\n",
        "        raise Exception(\"could not convert {} to BackproppableArray\".format(x))"
      ],
      "metadata": {
        "id": "jToJ4fKNPo-y"
      },
      "execution_count": 9,
      "outputs": []
    },
    {
      "cell_type": "code",
      "source": [
        "### a class for an array that can be \"packpropped-through\"\n",
        "class BackproppableArray(object):\n",
        "    # np_array     numpy array that stores the data for this object\n",
        "    def __init__(self, np_array, dependencies=[]):\n",
        "        super().__init__()\n",
        "        self.data = np_array\n",
        "\n",
        "        # grad holds the gradient, an array of the same shape as data\n",
        "        # before backprop, grad is None\n",
        "        # during backprop before grad_fn is called, grad holds the partially accumulated gradient\n",
        "        # after backprop, grad holds the gradient of the loss (the thing we call backward on)\n",
        "        #     with respect to this array\n",
        "        # if you want to use the same array object to call backward twice, you need to re-initialize\n",
        "        #     grad to zero first\n",
        "        self.grad = np.zeros(np_array.shape, dtype=\"float64\")\n",
        "\n",
        "        # an counter that increments monotonically over the course of the application\n",
        "        # we know that arrays with higher order must depend only on arrays with lower order\n",
        "        # we can use this to order the arrays for backpropagation\n",
        "        self.order = get_next_order()\n",
        "\n",
        "        # a list of other BackproppableArray objects on which this array directly depends\n",
        "        # we'll use this later to decide which BackproppableArray objects need to participate in the backward pass\n",
        "        self.dependencies = dependencies\n",
        "\n",
        "    # represents me as a string\n",
        "    def __repr__(self):\n",
        "        return \"({}, type={})\".format(self.data, type(self).__name__)\n",
        "\n",
        "    # returns a list containing this array and ALL the dependencies of this array, not just\n",
        "    #    the direct dependencies listed in self.dependencies\n",
        "    # that is, this list should include this array, the arrays in self.dependencies,\n",
        "    #     plus all the arrays those arrays depend on, plus all the arrays THOSE arrays depend on, et cetera\n",
        "    # the returned list must only include each dependency ONCE\n",
        "    def all_dependencies(self):\n",
        "        # TODO: (1.1) implement some sort of search to get all the dependencies\n",
        "        res = [self]\n",
        "        if not self.dependencies: return res\n",
        "        q = deque()\n",
        "        for i in range(len(self.dependencies)):\n",
        "            q.append(self.dependencies[i])\n",
        "        while q:\n",
        "            for _ in range(len(q)):\n",
        "                node = q.popleft()\n",
        "                if node not in res:\n",
        "                    node.grad = np.zeros(node.data.shape, dtype=\"float64\")\n",
        "                    res.append(node)\n",
        "                for j in range(len(node.dependencies)):\n",
        "                    q.append(node.dependencies[j])\n",
        "        return res\n",
        "            \n",
        "\n",
        "    # compute gradients of this array with respect to everything it depends on\n",
        "    def backward(self):\n",
        "        # can only take the gradient of a scalar\n",
        "        #assert(self.data.size == 1)\n",
        "\n",
        "        # depth-first search to find all dependencies of this array\n",
        "        all_my_dependencies = self.all_dependencies()\n",
        "        # TODO: (1.2) implement the backward pass to compute the gradients\n",
        "        #   this should do the following\n",
        "        #   (1) sort the found dependencies so that the ones computed last go FIRST\n",
        "        all_my_dependencies = sorted(all_my_dependencies, key = lambda x: x.order, reverse = True)\n",
        "        #   (2) initialize and zero out all the gradient accumulators (.grad) for all the dependencies\n",
        "        for dependency in all_my_dependencies:\n",
        "            if len(dependency.data.shape)==0:\n",
        "                dependency.grad = np.array(0.0)\n",
        "            else:\n",
        "                dependency = np.zeros(dependency.data.shape, dtype=\"float64\")\n",
        "        #   (3) set the gradient accumulator of this array to 1, as an initial condition\n",
        "        #           since the gradient of a number with respect to itself is 1\n",
        "        if len(self.data.shape)==0:\n",
        "            self.grad = np.array(1.0)\n",
        "        else:\n",
        "            self.grad = np.ones(self.data.shape, dtype=\"float64\")\n",
        "        #   (4) call the backward function for all the dependencies in the sorted reverse order\n",
        "        for dependency in all_my_dependencies:\n",
        "            dependency.grad_fn()\n",
        "\n",
        "    # function that is called to process a single step of backprop for this array\n",
        "    # when called, it must be the case that self.grad contains the gradient of the loss (the\n",
        "    #     thing we are differentating) with respect to this array\n",
        "    # this function should update the .grad field of its dependencies\n",
        "    #\n",
        "    # this should just say \"pass\" for the parent class\n",
        "    #\n",
        "    # child classes override this\n",
        "    def grad_fn(self):\n",
        "        pass\n",
        "\n",
        "    # operator overloading\n",
        "    def __add__(self, other):\n",
        "        return BA_Add(self, to_ba(other))\n",
        "    def __sub__(self, other):\n",
        "        return BA_Sub(self, to_ba(other))\n",
        "    def __mul__(self, other):\n",
        "        return BA_Mul(self, to_ba(other))\n",
        "    def __truediv__(self, other):\n",
        "        return BA_Div(self, to_ba(other))\n",
        "\n",
        "    def __radd__(self, other):\n",
        "        return BA_Add(to_ba(other), self)\n",
        "    def __rsub__(self, other):\n",
        "        return BA_Sub(to_ba(other), self)\n",
        "    def __rmul__(self, other):\n",
        "        return BA_Mul(to_ba(other), self)\n",
        "    def __rtruediv__(self, other):\n",
        "        return BA_Div(to_ba(other), self)\n",
        "\n",
        "    # TODO (2.2) Add operator overloading for matrix multiplication\n",
        "    def __matmul__(self, other):\n",
        "        return BA_MatMul(self, to_ba(other))\n",
        "    def __rmatmul__(self, other):\n",
        "        return BA_MatMul(to_ba(other), self)\n",
        "    \n",
        "    def sum(self, axis=None, keepdims=True):\n",
        "        return BA_Sum(self, axis)\n",
        "\n",
        "    def reshape(self, shape):\n",
        "        return BA_Reshape(self, shape)\n",
        "\n",
        "    def transpose(self, axes = None):\n",
        "        if axes is None:\n",
        "            axes = range(self.data.ndim)[::-1]\n",
        "        return BA_Transpose(self, axes)"
      ],
      "metadata": {
        "id": "UYuODp-1Pszq"
      },
      "execution_count": 10,
      "outputs": []
    },
    {
      "cell_type": "code",
      "source": [
        "# a class for an array that's the result of an addition operation\n",
        "class BA_Add(BackproppableArray):\n",
        "    # x + y\n",
        "    def __init__(self, x, y):\n",
        "        super().__init__(x.data + y.data, [x,y])\n",
        "        self.x = x\n",
        "        self.y = y\n",
        "\n",
        "    def grad_fn(self):\n",
        "        # TODO: (2.3) improve grad fn for Add\n",
        "        if len(self.x.data.shape)==0:\n",
        "            self.x.grad = self.x.grad+self.grad\n",
        "        else:\n",
        "        \n",
        "            if len(self.x.data) != 1:\n",
        "                self.x.grad = self.x.grad+self.grad\n",
        "            else:\n",
        "                self.x.grad = self.x.grad+np.sum(self.grad)\n",
        "        if len(self.y.data.shape)==0:\n",
        "            self.y.grad = self.y.grad+self.grad\n",
        "        else:\n",
        "            if len(self.y.data) != 1:\n",
        "                self.y.grad = self.y.grad+self.grad\n",
        "            else:\n",
        "                self.y.grad = self.y.grad+np.sum(self.grad)"
      ],
      "metadata": {
        "id": "NoTMVf1qP1vz"
      },
      "execution_count": 11,
      "outputs": []
    },
    {
      "cell_type": "code",
      "source": [
        "# a class for an array that's the result of a subtraction operation\n",
        "class BA_Sub(BackproppableArray):\n",
        "    # x + y\n",
        "    def __init__(self, x, y):\n",
        "        super().__init__(x.data - y.data, [x,y])\n",
        "        self.x = x\n",
        "        self.y = y\n",
        "\n",
        "    def grad_fn(self):\n",
        "        # TODO: (1.3, 2.3) implement grad fn for Sub\n",
        "        if len(self.x.data.shape)==0:\n",
        "            self.x.grad = self.x.grad+self.grad\n",
        "        else:\n",
        "        \n",
        "            if len(self.x.data) != 1:\n",
        "                self.x.grad = self.x.grad++self.grad\n",
        "            else:\n",
        "                self.x.grad = self.x.grad++np.sum(self.grad)\n",
        "        if len(self.y.data.shape)==0:\n",
        "            self.y.grad = self.y.grad-self.grad\n",
        "        else:\n",
        "            if len(self.y.data) != 1:\n",
        "                self.y.grad = self.y.grad+-self.grad\n",
        "            else:\n",
        "                self.y.grad = self.y.grad-np.sum(self.grad)"
      ],
      "metadata": {
        "id": "oBce1sN8P7Dq"
      },
      "execution_count": 12,
      "outputs": []
    },
    {
      "cell_type": "code",
      "source": [
        "# a class for an array that's the result of a multiplication operation\n",
        "class BA_Mul(BackproppableArray):\n",
        "    # x * y\n",
        "    def __init__(self, x, y):\n",
        "        super().__init__(x.data * y.data, [x,y])\n",
        "        self.x = x\n",
        "        self.y = y\n",
        "\n",
        "    def grad_fn(self):\n",
        "        # TODO: (1.3, 2.3) implement grad fn for Mul\n",
        "        if len(self.x.data.shape)==0:\n",
        "            self.x.grad = self.x.grad+self.y.data*self.grad\n",
        "        else:\n",
        "            if len(self.x.data) != 1:\n",
        "                self.x.grad = self.x.grad+self.y.data*self.grad\n",
        "            else:\n",
        "                self.x.grad = self.x.grad+np.sum(self.grad*self.y.data)\n",
        "        if len(self.y.data.shape)==0:\n",
        "            self.y.grad = self.y.grad+self.x.data*self.grad\n",
        "        else:\n",
        "            if len(self.y.data) != 1:\n",
        "                self.y.grad = self.y.grad+self.x.data*self.grad\n",
        "            else:\n",
        "                self.y.grad = self.y.grad+np.sum(self.grad*self.x.data)"
      ],
      "metadata": {
        "id": "d5sLwSWVP-3B"
      },
      "execution_count": 13,
      "outputs": []
    },
    {
      "cell_type": "code",
      "source": [
        "# a class for an array that's the result of a division operation\n",
        "class BA_Div(BackproppableArray):\n",
        "    # x / y\n",
        "    def __init__(self, x, y):\n",
        "        super().__init__(x.data / y.data, [x,y])\n",
        "        self.x = x\n",
        "        self.y = y\n",
        "\n",
        "    def grad_fn(self):\n",
        "        # TODO: (1.3, 2.3) implement grad fn for Div\n",
        "        # self.x.grad += (1.0 / self.y.data)*self.grad\n",
        "        # self.y.grad -= (self.x.data* self.grad)/(self.y.data**2)\n",
        "        \n",
        "        if len(self.x.data.shape)==0:\n",
        "            self.x.grad = self.x.grad+(1.0 / self.y.data)*self.grad\n",
        "        else:\n",
        "            if len(self.x.data) != 1:\n",
        "                self.x.grad = self.x.grad+(1.0 / self.y.data)*self.grad\n",
        "            else:\n",
        "                self.x.grad = self.x.grad+np.sum(self.grad/self.y.data)\n",
        "        if len(self.y.data.shape)==0:\n",
        "            self.y.grad = self.y.grad-(self.x.data* self.grad)/(self.y.data**2)\n",
        "        else:\n",
        "            if len(self.y.data) != 1:\n",
        "                self.y.grad = self.y.grad-(self.x.data* self.grad)/(self.y.data**2)\n",
        "            else:\n",
        "                self.y.grad = self.y.grad-np.sum(self.grad*self.x.data/self.y.data**2)"
      ],
      "metadata": {
        "id": "eRht3B0eQEnb"
      },
      "execution_count": 14,
      "outputs": []
    },
    {
      "cell_type": "code",
      "source": [
        "# a class for an array that's the result of a matrix multiplication operation\n",
        "class BA_MatMul(BackproppableArray):\n",
        "    # x @ y\n",
        "    def __init__(self, x, y):\n",
        "        # we only support multiplication of matrices, i.e. arrays with shape of length 2\n",
        "        assert(len(x.data.shape) == 2)\n",
        "        assert(len(y.data.shape) == 2)\n",
        "        super().__init__(x.data @ y.data, [x,y])\n",
        "        self.x = x\n",
        "        self.y = y\n",
        "\n",
        "    def grad_fn(self):\n",
        "        # TODO: (2.1) implement grad fn for MatMul\n",
        "        self.x.grad = self.x.grad+self.grad@self.y.data.T\n",
        "        self.y.grad = self.y.grad+self.x.data.T@self.grad"
      ],
      "metadata": {
        "id": "1v9I9cz8QISQ"
      },
      "execution_count": 15,
      "outputs": []
    },
    {
      "cell_type": "code",
      "source": [
        "# a class for an array that's the result of an exponential operation\n",
        "class BA_Exp(BackproppableArray):\n",
        "    # exp(x)\n",
        "    def __init__(self, x):\n",
        "        super().__init__(np.exp(x.data), [x])\n",
        "        self.x = x\n",
        "\n",
        "    def grad_fn(self):\n",
        "        # TODO: (1.3) implement grad fn for Exp\n",
        "        self.x.grad = self.x.grad+np.exp(self.x.data)*self.grad"
      ],
      "metadata": {
        "id": "W1x6bwyvQLWi"
      },
      "execution_count": 16,
      "outputs": []
    },
    {
      "cell_type": "code",
      "source": [
        "def exp(x):\n",
        "    if isinstance(x, BackproppableArray):\n",
        "        return BA_Exp(x)\n",
        "    else:\n",
        "        return np.exp(x)"
      ],
      "metadata": {
        "id": "s1m73mA8dAQm"
      },
      "execution_count": 17,
      "outputs": []
    },
    {
      "cell_type": "code",
      "source": [
        "# a class for an array that's the result of an logarithm operation\n",
        "class BA_Log(BackproppableArray):\n",
        "    # log(x)\n",
        "    def __init__(self, x):\n",
        "        super().__init__(np.log(x.data), [x])\n",
        "        self.x = x\n",
        "\n",
        "    def grad_fn(self):\n",
        "        # TODO: (1.3) implement grad fn for Log\n",
        "        self.x.grad = self.x.grad+(1.0 / self.x.data)*self.grad"
      ],
      "metadata": {
        "id": "ouWbPRsMQQr7"
      },
      "execution_count": 18,
      "outputs": []
    },
    {
      "cell_type": "code",
      "source": [
        "def log(x):\n",
        "    if isinstance(x, BackproppableArray):\n",
        "        return BA_Log(x)\n",
        "    else:\n",
        "        return np.log(x)"
      ],
      "metadata": {
        "id": "CGqAeea7c9Js"
      },
      "execution_count": 19,
      "outputs": []
    },
    {
      "cell_type": "code",
      "source": [
        "# a class for an array that's the result of a sum operation\n",
        "class BA_Sum(BackproppableArray):\n",
        "    # x.sum(axis, keepdims=True)\n",
        "    def __init__(self, x, axis):\n",
        "        super().__init__(x.data.sum(axis, keepdims=True), [x])\n",
        "        self.x = x\n",
        "        self.axis = axis\n",
        "\n",
        "    def grad_fn(self):\n",
        "        # TODO: (2.1) implement grad fn for Sum\n",
        "        if len(self.x.data.shape)==0:\n",
        "            self.x.grad = self.x.grad+self.grad\n",
        "        else:\n",
        "            self.x.grad = self.x.grad+self.grad*np.ones(self.x.data.shape)"
      ],
      "metadata": {
        "id": "QU2aFcCDQZOL"
      },
      "execution_count": 20,
      "outputs": []
    },
    {
      "cell_type": "code",
      "source": [
        "# a class for an array that's the result of a reshape operation\n",
        "class BA_Reshape(BackproppableArray):\n",
        "    # x.reshape(shape)\n",
        "    def __init__(self, x, shape):\n",
        "        super().__init__(x.data.reshape(shape), [x])\n",
        "        self.x = x\n",
        "        self.shape = shape\n",
        "\n",
        "    def grad_fn(self):\n",
        "        # TODO: (2.1) implement grad fn for Reshape\n",
        "        if type(self.grad)!=float:\n",
        "               self.x.grad = self.x.grad+self.grad.reshape(self.x.data.shape)"
      ],
      "metadata": {
        "id": "C8TmsQQYQb4H"
      },
      "execution_count": 21,
      "outputs": []
    },
    {
      "cell_type": "code",
      "source": [
        "# a class for an array that's the result of a transpose operation\n",
        "class BA_Transpose(BackproppableArray):\n",
        "    # x.transpose(axes)\n",
        "    def __init__(self, x, axes):\n",
        "        super().__init__(x.data.transpose(axes), [x])\n",
        "        self.x = x\n",
        "        self.axes = axes\n",
        "\n",
        "    def grad_fn(self):\n",
        "        # TODO: (2.1) implement grad fn for Transpose\n",
        "        if type(self.grad)!=float:\n",
        "            self.x.grad = self.x.grad+np.transpose(self.grad, axes = self.axes)"
      ],
      "metadata": {
        "id": "vC7B5t2lQeps"
      },
      "execution_count": 22,
      "outputs": []
    },
    {
      "cell_type": "code",
      "source": [
        "class BA_Sigmoid(BackproppableArray):\n",
        "    def __init__(self, x):\n",
        "        super().__init__(1 / (1 + np.exp(-x.data)), [x])\n",
        "        self.x = x\n",
        "    def grad_fn(self):\n",
        "        self.x.grad = self.x.grad + 1 / (1 + np.exp(-self.x.data)) * (1 - 1 / (1 + np.exp(-self.x.data))) * self.grad"
      ],
      "metadata": {
        "id": "OLLlo9sJUumP"
      },
      "execution_count": 23,
      "outputs": []
    },
    {
      "cell_type": "code",
      "source": [
        "def sigmoid(x):\n",
        "    if isinstance(x, BackproppableArray):\n",
        "        return BA_Sigmoid(x)\n",
        "    else:\n",
        "        return 1 / (1 + np.exp(-x))"
      ],
      "metadata": {
        "id": "os-rZvheVSOB"
      },
      "execution_count": 24,
      "outputs": []
    },
    {
      "cell_type": "code",
      "source": [
        "# automatic derivative of scalar function f at x, using backprop\n",
        "def backprop_diff(f, x):\n",
        "    ba_x = to_ba(x)\n",
        "    fx = f(ba_x)\n",
        "    fx.backward()\n",
        "    return ba_x.grad"
      ],
      "metadata": {
        "id": "TtmsSbmBQhGA"
      },
      "execution_count": 25,
      "outputs": []
    },
    {
      "cell_type": "code",
      "source": [
        "# SGD + Momentum (threaded) for Neural Network\n",
        "#\n",
        "# Xs              training examples (d * n)\n",
        "# Ys              training labels   (c * n)\n",
        "# gamma           L2 regularization constant\n",
        "# W0              the initial value of the parameters (c * d)\n",
        "# alpha           step size/learning rate\n",
        "# beta            momentum hyperparameter\n",
        "# B               minibatch size\n",
        "# num_epochs      number of epochs (passes through the training set) to run\n",
        "# monitor_period  how frequently, in terms of batches (not epochs) to output the parameter vector\n",
        "# num_threads     how many threads to use\n",
        "#\n",
        "# returns         the final model arrived at at the end of training\n",
        "def nn_sgd_mss_with_momentum_threaded(Xs, Ys, gamma, W10, W20, alpha, beta, B, num_epochs, num_threads):\n",
        "    (d, n) = Xs.shape\n",
        "    (h, d) = W10.shape\n",
        "    # perform global setup/initialization/allocation\n",
        "    V1 = np.zeros(W10.shape)\n",
        "    V2 = np.zeros(W20.shape)\n",
        "    W1 = np.copy(W10)\n",
        "    W2 = np.copy(W20)\n",
        "    gradient1 = np.zeros(W10.shape)\n",
        "    gradient2 = np.zeros(W20.shape)\n",
        "    Bt = int(B / num_threads)\n",
        "\n",
        "    # construct the barrier object\n",
        "    iter_barrier = threading.Barrier(num_threads + 1)\n",
        "\n",
        "    # a function for each thread to run\n",
        "    def thread_main(ithread):\n",
        "        # perform any per-thread allocations\n",
        "        # avoid memory allocation in the running of program by pre-allocating memories ahead\n",
        "        thread_gradient1 = np.zeros(W10.shape)\n",
        "        thread_gradient2 = np.zeros(W20.shape)\n",
        "\n",
        "        slices_X = []\n",
        "        slices_Y = []\n",
        "        for ibatch in range(int(n/B)):\n",
        "            ii = range(ibatch*B + ithread*Bt, ibatch*B + (ithread+1)*Bt)\n",
        "            slices_X.append(np.ascontiguousarray(Xs[:,ii]))\n",
        "            slices_Y.append(np.ascontiguousarray(Ys[:,ii]))\n",
        "        # gradint calculation (uses only pre-allocated memories to improve performance of SGD)\n",
        "        for it in range(num_epochs):\n",
        "            for ibatch in range(int(n/B)):\n",
        "                # work done by thread in each iteration;\n",
        "                # this section of code primarily uses numpy operations with the \"out=\" argument specified\n",
        "                np.multiply(thread_gradient1, 0, out=thread_gradient1)\n",
        "                np.add(thread_gradient1,\\\n",
        "                       backprop_diff(lambda W: neural_network_loss_1(slices_X[ibatch], slices_Y[ibatch], W, W2), W1), out=thread_gradient1)\n",
        "                np.multiply(thread_gradient2, 0, out=thread_gradient2)\n",
        "                np.add(thread_gradient2,\\\n",
        "                       backprop_diff(lambda W: neural_network_loss_2(slices_X[ibatch], slices_Y[ibatch], W1, W), W2), out=thread_gradient2)\n",
        "                \n",
        "                iter_barrier.wait() # wait for all threads to finish computation before moving up to next step\n",
        "                np.add(gradient1, thread_gradient1, out=gradient1)\n",
        "                np.add(gradient2, thread_gradient2, out=gradient2)\n",
        "                \n",
        "                iter_barrier.wait()\n",
        "\n",
        "    worker_threads = [threading.Thread(target=thread_main, args=(it,)) for it in range(num_threads)]\n",
        "\n",
        "    for t in worker_threads:\n",
        "        print(\"running thread \", t)\n",
        "        t.start()\n",
        "\n",
        "    print(\"Running minibatch sequential-scan SGD with momentum (%d threads)\" % num_threads)\n",
        "    # gradient & momentum update:\n",
        "    # v <- beta * v - alpha * gradient\n",
        "    # w <- w + v\n",
        "    for it in tqdm(range(num_epochs)):\n",
        "        for ibatch in range(int(n/B)):\n",
        "            np.multiply(gradient1, 0, out=gradient1)\n",
        "            np.multiply(gradient2, 0, out=gradient2)\n",
        "            iter_barrier.wait()\n",
        "            # work done on a single thread at each iteration;\n",
        "            # this section of code primarily uses numpy operations with the \"out=\" argument specified\n",
        "            np.divide(gradient1, B, out=gradient1)\n",
        "            np.multiply(beta, V1, out=V1)\n",
        "            np.multiply(alpha, gradient1, out=gradient1)\n",
        "            np.subtract(V1, gradient1, out=V1)\n",
        "            np.add(W1, V1, out=W1)\n",
        "            np.divide(gradient2, B, out=gradient2)\n",
        "            np.multiply(beta, V2, out=V2)\n",
        "            np.multiply(alpha, gradient2, out=gradient2)\n",
        "            np.subtract(V2, gradient2, out=V2)\n",
        "            np.add(W2, V2, out=W2)\n",
        "            iter_barrier.wait()\n",
        "\n",
        "    for t in worker_threads:\n",
        "        t.join()\n",
        "\n",
        "    print(\"current loss: \" + str((W2 @ sigmoid(W1 @ Xs) - Ys) @ (W2 @ sigmoid(W1 @ Xs) - Ys).transpose())) # report current loss\n",
        "    # return the learned model\n",
        "    return W1, W2"
      ],
      "metadata": {
        "id": "F8l64OUhjpkD"
      },
      "execution_count": 32,
      "outputs": []
    },
    {
      "cell_type": "code",
      "source": [
        "# customized hyperparameter tryout\n",
        "nn_sgd_mss_with_momentum_threaded(Xs=Xs_tr, Ys=Ys_tr, gamma=0.0001, W10=W10, W20=W20, alpha=0.001, beta=0.9, B=8, num_epochs=200, num_threads=8)"
      ],
      "metadata": {
        "colab": {
          "base_uri": "https://localhost:8080/"
        },
        "id": "vuA11wVFCrVT",
        "outputId": "08e2315b-71a2-41be-e428-47fb3c9fb5b4"
      },
      "execution_count": 33,
      "outputs": [
        {
          "output_type": "stream",
          "name": "stdout",
          "text": [
            "running thread  <Thread(Thread-11, initial)>\n",
            "running thread  <Thread(Thread-12, initial)>\n",
            "running thread  <Thread(Thread-13, initial)>\n",
            "running thread  <Thread(Thread-14, initial)>\n",
            "running thread  <Thread(Thread-15, initial)>\n",
            "running thread  <Thread(Thread-16, initial)>\n",
            "running thread  <Thread(Thread-17, initial)>\n",
            "running thread  <Thread(Thread-18, initial)>\n",
            "Running minibatch sequential-scan SGD with momentum (8 threads)\n"
          ]
        },
        {
          "output_type": "stream",
          "name": "stderr",
          "text": [
            "100%|██████████| 200/200 [00:18<00:00, 10.98it/s]"
          ]
        },
        {
          "output_type": "stream",
          "name": "stdout",
          "text": [
            "current loss: [[49.55791879]]\n"
          ]
        },
        {
          "output_type": "stream",
          "name": "stderr",
          "text": [
            "\n"
          ]
        },
        {
          "output_type": "execute_result",
          "data": {
            "text/plain": [
              "(array([[-2.55844122e-03, -3.35173051e-03, -5.30038179e-03,\n",
              "          2.25961259e-03,  5.54046327e-03,  7.06139460e-05,\n",
              "         -1.27880822e-05,  6.14877023e-03, -7.04510279e-03,\n",
              "         -5.11654413e-03, -4.61385844e-03,  9.98700775e-04,\n",
              "          1.34734094e-03,  2.08066971e-05, -9.06537543e-05,\n",
              "          4.36028589e-03, -4.43149891e-03, -1.09513450e-02,\n",
              "         -3.75449972e-03,  4.73086053e-03,  5.15074252e-03,\n",
              "          3.98984900e-03, -6.91025082e-03,  8.58127200e-03,\n",
              "         -4.58574768e-03,  3.90778388e-03, -1.04859179e-03,\n",
              "          6.61668308e-04,  8.97947829e-03, -4.67860270e-03],\n",
              "        [-2.55844122e-03, -3.35173051e-03, -5.30038179e-03,\n",
              "          2.25961259e-03,  5.54046327e-03,  7.06139460e-05,\n",
              "         -1.27880822e-05,  6.14877023e-03, -7.04510279e-03,\n",
              "         -5.11654413e-03, -4.61385844e-03,  9.98700775e-04,\n",
              "          1.34734094e-03,  2.08066971e-05, -9.06537543e-05,\n",
              "          4.36028589e-03, -4.43149891e-03, -1.09513450e-02,\n",
              "         -3.75449972e-03,  4.73086053e-03,  5.15074252e-03,\n",
              "          3.98984900e-03, -6.91025082e-03,  8.58127200e-03,\n",
              "         -4.58574768e-03,  3.90778388e-03, -1.04859179e-03,\n",
              "          6.61668308e-04,  8.97947829e-03, -4.67860270e-03],\n",
              "        [-2.55844122e-03, -3.35173051e-03, -5.30038179e-03,\n",
              "          2.25961259e-03,  5.54046327e-03,  7.06139460e-05,\n",
              "         -1.27880822e-05,  6.14877023e-03, -7.04510279e-03,\n",
              "         -5.11654413e-03, -4.61385844e-03,  9.98700775e-04,\n",
              "          1.34734094e-03,  2.08066971e-05, -9.06537543e-05,\n",
              "          4.36028589e-03, -4.43149891e-03, -1.09513450e-02,\n",
              "         -3.75449972e-03,  4.73086053e-03,  5.15074252e-03,\n",
              "          3.98984900e-03, -6.91025082e-03,  8.58127200e-03,\n",
              "         -4.58574768e-03,  3.90778388e-03, -1.04859179e-03,\n",
              "          6.61668308e-04,  8.97947829e-03, -4.67860270e-03],\n",
              "        [-2.55844122e-03, -3.35173051e-03, -5.30038179e-03,\n",
              "          2.25961259e-03,  5.54046327e-03,  7.06139460e-05,\n",
              "         -1.27880822e-05,  6.14877023e-03, -7.04510279e-03,\n",
              "         -5.11654413e-03, -4.61385844e-03,  9.98700775e-04,\n",
              "          1.34734094e-03,  2.08066971e-05, -9.06537543e-05,\n",
              "          4.36028589e-03, -4.43149891e-03, -1.09513450e-02,\n",
              "         -3.75449972e-03,  4.73086053e-03,  5.15074252e-03,\n",
              "          3.98984900e-03, -6.91025082e-03,  8.58127200e-03,\n",
              "         -4.58574768e-03,  3.90778388e-03, -1.04859179e-03,\n",
              "          6.61668308e-04,  8.97947829e-03, -4.67860270e-03],\n",
              "        [-2.55844122e-03, -3.35173051e-03, -5.30038179e-03,\n",
              "          2.25961259e-03,  5.54046327e-03,  7.06139460e-05,\n",
              "         -1.27880822e-05,  6.14877023e-03, -7.04510279e-03,\n",
              "         -5.11654413e-03, -4.61385844e-03,  9.98700775e-04,\n",
              "          1.34734094e-03,  2.08066971e-05, -9.06537543e-05,\n",
              "          4.36028589e-03, -4.43149891e-03, -1.09513450e-02,\n",
              "         -3.75449972e-03,  4.73086053e-03,  5.15074252e-03,\n",
              "          3.98984900e-03, -6.91025082e-03,  8.58127200e-03,\n",
              "         -4.58574768e-03,  3.90778388e-03, -1.04859179e-03,\n",
              "          6.61668308e-04,  8.97947829e-03, -4.67860270e-03]]),\n",
              " array([[0.01521553, 0.01521553, 0.01521553, 0.01521553, 0.01521553]]))"
            ]
          },
          "metadata": {},
          "execution_count": 33
        }
      ]
    },
    {
      "cell_type": "code",
      "source": [
        "# gradient descent to do the inner optimization step of Bayesian optimization\n",
        "#\n",
        "# objective     the objective function to minimize, as a function that takes a torch tensor and returns an expression\n",
        "# x0            initial value to assign to variable (torch tensor)\n",
        "# alpha         learning rate/step size\n",
        "# num_iters     number of iterations of gradient descent\n",
        "#\n",
        "# returns     (obj_min, x_min), where\n",
        "#       obj_min     the value of the objective after running iterations of gradient descent\n",
        "#       x_min       the value of x after running iterations of gradient descent\n",
        "def gradient_descent(objective, x0, alpha, num_iters):\n",
        "    x = x0.detach().clone()  # create a fresh copy of x0\n",
        "    x.requires_grad = True   # make it a target for differentiation\n",
        "    opt = torch.optim.SGD([x], alpha)\n",
        "    for it in range(num_iters):\n",
        "        opt.zero_grad()\n",
        "        f = objective(x)\n",
        "        f.backward()\n",
        "        opt.step()\n",
        "    x.requires_grad = False  # make x no longer require gradients\n",
        "    return (float(f.item()), x)"
      ],
      "metadata": {
        "id": "V9a3oQsXEZDW"
      },
      "execution_count": 34,
      "outputs": []
    },
    {
      "cell_type": "code",
      "source": [
        "# compute the Gaussian RBF kernel matrix for a vector of data points (in PyTorch)\n",
        "#\n",
        "# Xs        points at which to compute the kernel (size: d x m)\n",
        "# Zs        other points at which to compute the kernel (size: d x n)\n",
        "# gamma     gamma parameter for the RBF kernel\n",
        "#\n",
        "# returns   an (m x n) matrix Sigma where Sigma[i,j] = K(Xs[:,i], Zs[:,j])\n",
        "def rbf_kernel_matrix(Xs, Zs, gamma):\n",
        "    m = Xs.shape[1] if len(Xs.shape) > 1 else 1\n",
        "    n = Zs.shape[1] if len(Zs.shape) > 1 else 1\n",
        "    sigma = [[torch.exp(-gamma * torch.linalg.norm(Xs[:, i] - Zs[:, j])**2) for j in range(n)] for i in range(m)]\n",
        "    sigma = torch.tensor(sigma)\n",
        "    return sigma"
      ],
      "metadata": {
        "id": "ieC88HZChHuf"
      },
      "execution_count": 35,
      "outputs": []
    },
    {
      "cell_type": "code",
      "source": [
        "# compute the distribution predicted by a Gaussian process that uses an RBF kernel (in PyTorch)\n",
        "#\n",
        "# Xs            points at which to compute the kernel (size: d x n) where d is the number of parameters\n",
        "# Ys            observed value at those points (size: n)\n",
        "# gamma         gamma parameter for the RBF kernel\n",
        "# sigma2_noise  the variance sigma^2 of the additive gaussian noise used in the model\n",
        "#\n",
        "# returns   a function that takes a value Xtest (size: d) and returns a tuple (mean, variance)\n",
        "def gp_prediction(Xs, Ys, gamma, sigma2_noise):\n",
        "    # first, do any work that can be shared among predictions\n",
        "    sigma = rbf_kernel_matrix(Xs, Xs, gamma)\n",
        "    n = Xs.shape[1]\n",
        "    # next, define a nested function to return\n",
        "    def prediction_mean_and_variance(Xtest):\n",
        "        # construct mean and variance\n",
        "        k = [torch.exp(-gamma * torch.linalg.norm(Xs[:, i] - Xtest)) for i in range(n)]\n",
        "        k = torch.tensor(k)\n",
        "        \n",
        "        mean = k @ torch.linalg.inv(sigma + sigma2_noise * torch.eye(n)) @ Ys\n",
        "        variance = torch.exp(-gamma * torch.linalg.norm(Xtest - Xtest)) + sigma2_noise -\\\n",
        "        k @ torch.linalg.inv(sigma + sigma2_noise * torch.eye(n)) @ k.T\n",
        "        return (mean.reshape(()), variance.reshape(()))\n",
        "    #finally, return the nested function\n",
        "    return prediction_mean_and_variance"
      ],
      "metadata": {
        "id": "n8Wq7lqQhKRx"
      },
      "execution_count": 36,
      "outputs": []
    },
    {
      "cell_type": "code",
      "source": [
        "# run Bayesian optimization to minimize an objective\n",
        "#\n",
        "# objective     objective function; takes a torch tensor, returns a python float scalar\n",
        "# d             dimension to optimize over\n",
        "# gamma         gamma to use for RBF hyper-hyperparameter\n",
        "# sigma2_noise  additive Gaussian noise parameter for Gaussian Process\n",
        "# acquisition   acquisition function to use (e.g. ei_acquisition)\n",
        "# random_x      function that returns a random sample of the parameter we're optimizing over (a torch tensor, e.g. for use in warmup)\n",
        "# gd_nruns      number of random initializations we should use for gradient descent for the inner optimization step\n",
        "# gd_alpha      learning rate for gradient descent\n",
        "# gd_niters     number of iterations for gradient descent\n",
        "# n_warmup      number of initial warmup evaluations of the objective to use\n",
        "# num_iters     number of outer iterations of Bayes optimization to run (including warmup)\n",
        "#\n",
        "# returns       tuple of (y_best, x_best, Ys, Xs), where\n",
        "#   y_best          objective value of best point found\n",
        "#   x_best          best point found\n",
        "#   Ys              vector of objective values for all points searched (size: num_iters)\n",
        "#   Xs              matrix of all points searched (size: d x num_iters)\n",
        "def bayes_opt(objective, d, gamma, sigma2_noise, acquisition, random_x, gd_nruns, gd_alpha, gd_niters, n_warmup, num_iters):\n",
        "    y_best = float(\"inf\")\n",
        "    x_best = torch.zeros(size=(d,))\n",
        "    Xs = []\n",
        "    Ys = []\n",
        "    # warm-up to prepare prior information for Bayesian Optimization\n",
        "    for _ in range(n_warmup):\n",
        "        x_i = torch.tensor([0.0001, 0.001, 0.9])\n",
        "        y_i = objective(x_i)\n",
        "        Xs.append(x_i)\n",
        "        Ys.append(y_i)\n",
        "        if y_i <= y_best:\n",
        "            y_best = y_i\n",
        "            x_best = x_i\n",
        "    for _ in range(n_warmup, num_iters):\n",
        "        Xs_vec = torch.stack(tensors=Xs, dim=1)\n",
        "        Ys_vec = torch.tensor(Ys)\n",
        "        prediction_fn =  gp_prediction(Xs_vec, Ys_vec, gamma, sigma2_noise)\n",
        "        y = float(\"inf\")\n",
        "        x = torch.zeros(size=(d,))\n",
        "        for _ in range(gd_nruns):\n",
        "            x_0 = random_x(size=(d,))\n",
        "            _, x_i = gradient_descent(objective=lambda x: acquisition(y_best, prediction_fn(x)[0], torch.sqrt(prediction_fn(x)[1])),\\\n",
        "                x0=x_0, alpha=gd_alpha, num_iters=gd_niters)\n",
        "            y_i = objective(x_i)\n",
        "            if y_i <= y:\n",
        "                y = y_i\n",
        "                x = x_i\n",
        "        Xs.append(x)\n",
        "        Ys.append(y)\n",
        "        if y <= y_best:\n",
        "            y_best = y\n",
        "            x_best = x\n",
        "    Xs_vec = torch.stack(tensors=Xs, dim=1)\n",
        "    Ys_vec = torch.tensor(Ys)\n",
        "    return y_best, x_best, Ys_vec, Xs_vec"
      ],
      "metadata": {
        "id": "U82gdBd6hMiF"
      },
      "execution_count": 37,
      "outputs": []
    },
    {
      "cell_type": "code",
      "source": [
        "# return a function that computes the lower confidence bound (LCB) acquisition function\n",
        "#\n",
        "# kappa     parameter for LCB\n",
        "#\n",
        "# returns   function that computes the LCB acquisition function\n",
        "def lcb_acquisition(kappa):\n",
        "    def A_lcb(Ybest, mean, stdev):\n",
        "        return mean - kappa * stdev\n",
        "    return A_lcb"
      ],
      "metadata": {
        "id": "UoePFSwUhPuf"
      },
      "execution_count": 38,
      "outputs": []
    },
    {
      "cell_type": "code",
      "source": [
        "# produce a function that runs SGD+Momentum on the receipts dataset, initializing the weights to zero\n",
        "#\n",
        "# mnist_dataset         the MNIST dataset, as returned by load_MNIST_dataset_with_validation_split\n",
        "# num_epochs            number of epochs to run for\n",
        "# B                     the batch size\n",
        "#\n",
        "# returns               a function that takes parameters\n",
        "#   params                  a numpy vector of shape (3,) with entries that determine the hyperparameters, where\n",
        "#       gamma = params[0]\n",
        "#       alpha = params[1]\n",
        "#       beta = params[2]\n",
        "#                       and returns (the validation error of the final trained model after all the epochs) minus 0.9.\n",
        "#                       if training diverged (i.e. any of the weights are non-finite) then return 0.1, which corresponds to an error of 1.\n",
        "def receipts_dataset_sgd_mss_with_momentum(receipts_dataset, B, num_epochs, num_threads):\n",
        "    def objective(params):\n",
        "        Xs_tr, Xs_va, Ys_tr, Ys_va = receipts_dataset\n",
        "        d = Xs_tr.shape[0]\n",
        "        c = Ys_tr.shape[0]\n",
        "        if torch.is_tensor(Xs_tr):\n",
        "            Xs_tr = Xs_tr.numpy()\n",
        "        if torch.is_tensor(Ys_tr):\n",
        "            Ys_tr = Ys_tr.numpy()\n",
        "        if torch.is_tensor(Xs_va):\n",
        "            Xs_va = Xs_va.numpy()\n",
        "        if torch.is_tensor(Ys_va):\n",
        "            Ys_va = Ys_va.numpy()\n",
        "        gamma, alpha, beta, W_0 = float(params[0].item()), float(params[1].item()), float(params[2].item()), np.zeros(shape=(c,d))\n",
        "        W1, W2 = nn_sgd_mss_with_momentum_threaded(Xs=Xs_tr, Ys=Ys_tr, gamma=gamma, W10=W10, W20=W20, alpha=alpha, beta=beta,\\\n",
        "                                           B=B, num_epochs=num_epochs, num_threads=num_threads)\n",
        "        Ys_pr = W2 @ sigmoid(W1 @ Xs_va)\n",
        "        error = (W2 @ sigmoid(W1 @ Xs_va) - Ys_va) @ (W2 @ sigmoid(W1 @ Xs_va) - Ys_va).transpose() # use 1 - R^2 as error to select hyperparameters\n",
        "        return float(error)\n",
        "    return objective"
      ],
      "metadata": {
        "id": "ir8ewFckhSRz"
      },
      "execution_count": 41,
      "outputs": []
    },
    {
      "cell_type": "code",
      "source": [
        "# perform Bayesian Optimization to find optimal hyperparameters\n",
        "obj = receipts_dataset_sgd_mss_with_momentum(receipts_dataset, B=8, num_epochs=40, num_threads=8)\n",
        "(y_best, x_best, Ys_vec, Xs_vec) = bayes_opt(objective=obj, d=3, gamma=10, sigma2_noise=0.001, acquisition=lcb_acquisition(kappa=2.0),\\\n",
        "                                     random_x=torch.randn, gd_nruns=20, gd_alpha=0.01, gd_niters=20, n_warmup=3, num_iters=20)\n",
        "print(y_best) # best R^2 score\n",
        "print(x_best) # best hyperparameter set\n",
        "print(Ys_vec) # R^2 score history\n",
        "print(Xs_vec) # hyperparameter set history"
      ],
      "metadata": {
        "colab": {
          "base_uri": "https://localhost:8080/"
        },
        "id": "ODwlXyZ5h4QY",
        "outputId": "32277bab-8cfb-4515-c605-9522a433166a"
      },
      "execution_count": 42,
      "outputs": [
        {
          "output_type": "stream",
          "name": "stdout",
          "text": [
            "running thread  <Thread(Thread-28, initial)>\n",
            "running thread  <Thread(Thread-29, initial)>\n",
            "running thread  <Thread(Thread-30, initial)>\n",
            "running thread  <Thread(Thread-31, initial)>\n",
            "running thread  <Thread(Thread-32, initial)>\n",
            "running thread  <Thread(Thread-33, initial)>\n",
            "running thread  <Thread(Thread-34, initial)>\n",
            "running thread  <Thread(Thread-35, initial)>\n",
            "Running minibatch sequential-scan SGD with momentum (8 threads)\n"
          ]
        },
        {
          "output_type": "stream",
          "name": "stderr",
          "text": [
            "100%|██████████| 40/40 [00:02<00:00, 17.35it/s]\n",
            "<ipython-input-24-3118aad6faaf>:5: RuntimeWarning: overflow encountered in exp\n",
            "  return 1 / (1 + np.exp(-x))\n"
          ]
        },
        {
          "output_type": "stream",
          "name": "stdout",
          "text": [
            "current loss: [[49.4804125]]\n",
            "running thread  <Thread(Thread-36, initial)>\n",
            "running thread  <Thread(Thread-37, initial)>\n",
            "running thread  <Thread(Thread-38, initial)>\n",
            "running thread  <Thread(Thread-39, initial)>\n",
            "running thread  <Thread(Thread-40, initial)>\n",
            "running thread  <Thread(Thread-41, initial)>\n",
            "running thread  <Thread(Thread-42, initial)>\n",
            "running thread  <Thread(Thread-43, initial)>\n",
            "Running minibatch sequential-scan SGD with momentum (8 threads)\n"
          ]
        },
        {
          "output_type": "stream",
          "name": "stderr",
          "text": [
            "100%|██████████| 40/40 [00:02<00:00, 17.79it/s]\n"
          ]
        },
        {
          "output_type": "stream",
          "name": "stdout",
          "text": [
            "current loss: [[49.43518533]]\n",
            "running thread  <Thread(Thread-44, initial)>\n",
            "running thread  <Thread(Thread-45, initial)>\n",
            "running thread  <Thread(Thread-46, initial)>\n",
            "running thread  <Thread(Thread-47, initial)>\n",
            "running thread  <Thread(Thread-48, initial)>\n",
            "running thread  <Thread(Thread-49, initial)>\n",
            "running thread  <Thread(Thread-50, initial)>\n",
            "running thread  <Thread(Thread-51, initial)>\n",
            "Running minibatch sequential-scan SGD with momentum (8 threads)\n"
          ]
        },
        {
          "output_type": "stream",
          "name": "stderr",
          "text": [
            "100%|██████████| 40/40 [00:02<00:00, 16.91it/s]\n",
            "<ipython-input-36-113feb5b3944>:21: UserWarning: The use of `x.T` on tensors of dimension other than 2 to reverse their shape is deprecated and it will throw an error in a future release. Consider `x.mT` to transpose batches of matrices or `x.permute(*torch.arange(x.ndim - 1, -1, -1))` to reverse the dimensions of a tensor. (Triggered internally at ../aten/src/ATen/native/TensorShape.cpp:3277.)\n",
            "  k @ torch.linalg.inv(sigma + sigma2_noise * torch.eye(n)) @ k.T\n"
          ]
        },
        {
          "output_type": "stream",
          "name": "stdout",
          "text": [
            "current loss: [[49.47873172]]\n",
            "running thread  <Thread(Thread-52, initial)>\n",
            "running thread  <Thread(Thread-53, initial)>\n",
            "running thread  <Thread(Thread-54, initial)>\n",
            "running thread  <Thread(Thread-55, initial)>\n",
            "running thread  <Thread(Thread-56, initial)>\n",
            "running thread  <Thread(Thread-57, initial)>\n",
            "running thread  <Thread(Thread-58, initial)>\n",
            "running thread  <Thread(Thread-59, initial)>\n",
            "Running minibatch sequential-scan SGD with momentum (8 threads)\n"
          ]
        },
        {
          "output_type": "stream",
          "name": "stderr",
          "text": [
            "  5%|▌         | 2/40 [00:00<00:02, 13.90it/s]<ipython-input-23-2f08c7b57e9f>:3: RuntimeWarning: overflow encountered in exp\n",
            "  super().__init__(1 / (1 + np.exp(-x.data)), [x])\n",
            "<ipython-input-23-2f08c7b57e9f>:6: RuntimeWarning: overflow encountered in exp\n",
            "  self.x.grad = self.x.grad + 1 / (1 + np.exp(-self.x.data)) * (1 - 1 / (1 + np.exp(-self.x.data))) * self.grad\n",
            "100%|██████████| 40/40 [00:05<00:00,  7.94it/s]\n"
          ]
        },
        {
          "output_type": "stream",
          "name": "stdout",
          "text": [
            "current loss: [[1.22121177e+250]]\n",
            "running thread  <Thread(Thread-60, initial)>\n",
            "running thread  <Thread(Thread-61, initial)>\n",
            "running thread  <Thread(Thread-62, initial)>\n",
            "running thread  <Thread(Thread-63, initial)>\n",
            "running thread  <Thread(Thread-64, initial)>\n",
            "running thread  <Thread(Thread-65, initial)>\n",
            "running thread  <Thread(Thread-66, initial)>\n",
            "running thread  <Thread(Thread-67, initial)>\n",
            "Running minibatch sequential-scan SGD with momentum (8 threads)\n"
          ]
        },
        {
          "output_type": "stream",
          "name": "stderr",
          "text": [
            "100%|██████████| 40/40 [00:03<00:00, 11.08it/s]\n"
          ]
        },
        {
          "output_type": "stream",
          "name": "stdout",
          "text": [
            "current loss: [[2.99495633e+92]]\n",
            "running thread  <Thread(Thread-68, initial)>\n",
            "running thread  <Thread(Thread-69, initial)>\n",
            "running thread  <Thread(Thread-70, initial)>\n",
            "running thread  <Thread(Thread-71, initial)>\n",
            "running thread  <Thread(Thread-72, initial)>\n",
            "running thread  <Thread(Thread-73, initial)>\n",
            "running thread  <Thread(Thread-74, initial)>\n",
            "running thread  <Thread(Thread-75, initial)>\n",
            "Running minibatch sequential-scan SGD with momentum (8 threads)\n"
          ]
        },
        {
          "output_type": "stream",
          "name": "stderr",
          "text": [
            "100%|██████████| 40/40 [00:02<00:00, 16.26it/s]\n"
          ]
        },
        {
          "output_type": "stream",
          "name": "stdout",
          "text": [
            "current loss: [[1.41136553e+98]]\n",
            "running thread  <Thread(Thread-76, initial)>\n",
            "running thread  <Thread(Thread-77, initial)>\n",
            "running thread  <Thread(Thread-78, initial)>\n",
            "running thread  <Thread(Thread-79, initial)>\n",
            "running thread  <Thread(Thread-80, initial)>\n",
            "running thread  <Thread(Thread-81, initial)>\n",
            "running thread  <Thread(Thread-82, initial)>\n",
            "running thread  <Thread(Thread-83, initial)>\n",
            "Running minibatch sequential-scan SGD with momentum (8 threads)\n"
          ]
        },
        {
          "output_type": "stream",
          "name": "stderr",
          "text": [
            "100%|██████████| 40/40 [00:02<00:00, 17.43it/s]\n"
          ]
        },
        {
          "output_type": "stream",
          "name": "stdout",
          "text": [
            "current loss: [[5.09202893e+89]]\n",
            "running thread  <Thread(Thread-84, initial)>\n",
            "running thread  <Thread(Thread-85, initial)>\n",
            "running thread  <Thread(Thread-86, initial)>\n",
            "running thread  <Thread(Thread-87, initial)>\n",
            "running thread  <Thread(Thread-88, initial)>\n",
            "running thread  <Thread(Thread-89, initial)>\n",
            "running thread  <Thread(Thread-90, initial)>\n",
            "running thread  <Thread(Thread-91, initial)>\n",
            "Running minibatch sequential-scan SGD with momentum (8 threads)\n"
          ]
        },
        {
          "output_type": "stream",
          "name": "stderr",
          "text": [
            "100%|██████████| 40/40 [00:02<00:00, 17.39it/s]\n"
          ]
        },
        {
          "output_type": "stream",
          "name": "stdout",
          "text": [
            "current loss: [[5.25733705e+156]]\n",
            "running thread  <Thread(Thread-92, initial)>\n",
            "running thread  <Thread(Thread-93, initial)>\n",
            "running thread  <Thread(Thread-94, initial)>\n",
            "running thread  <Thread(Thread-95, initial)>\n",
            "running thread  <Thread(Thread-96, initial)>\n",
            "running thread  <Thread(Thread-97, initial)>\n",
            "running thread  <Thread(Thread-98, initial)>\n",
            "running thread  <Thread(Thread-99, initial)>\n",
            "Running minibatch sequential-scan SGD with momentum (8 threads)\n"
          ]
        },
        {
          "output_type": "stream",
          "name": "stderr",
          "text": [
            "100%|██████████| 40/40 [00:02<00:00, 17.58it/s]\n"
          ]
        },
        {
          "output_type": "stream",
          "name": "stdout",
          "text": [
            "current loss: [[44.88976852]]\n",
            "running thread  <Thread(Thread-100, initial)>\n",
            "running thread  <Thread(Thread-101, initial)>\n",
            "running thread  <Thread(Thread-102, initial)>\n",
            "running thread  <Thread(Thread-103, initial)>\n",
            "running thread  <Thread(Thread-104, initial)>\n",
            "running thread  <Thread(Thread-105, initial)>\n",
            "running thread  <Thread(Thread-106, initial)>\n",
            "running thread  <Thread(Thread-107, initial)>\n",
            "Running minibatch sequential-scan SGD with momentum (8 threads)\n"
          ]
        },
        {
          "output_type": "stream",
          "name": "stderr",
          "text": [
            "100%|██████████| 40/40 [00:02<00:00, 14.86it/s]\n"
          ]
        },
        {
          "output_type": "stream",
          "name": "stdout",
          "text": [
            "current loss: [[47.20634691]]\n",
            "running thread  <Thread(Thread-108, initial)>\n",
            "running thread  <Thread(Thread-109, initial)>\n",
            "running thread  <Thread(Thread-110, initial)>\n",
            "running thread  <Thread(Thread-111, initial)>\n",
            "running thread  <Thread(Thread-112, initial)>\n",
            "running thread  <Thread(Thread-113, initial)>\n",
            "running thread  <Thread(Thread-114, initial)>\n",
            "running thread  <Thread(Thread-115, initial)>\n",
            "Running minibatch sequential-scan SGD with momentum (8 threads)\n"
          ]
        },
        {
          "output_type": "stream",
          "name": "stderr",
          "text": [
            " 60%|██████    | 24/40 [00:01<00:01, 13.32it/s]<ipython-input-15-07862ff0eba1>:8: RuntimeWarning: overflow encountered in matmul\n",
            "  super().__init__(x.data @ y.data, [x,y])\n",
            "<ipython-input-15-07862ff0eba1>:14: RuntimeWarning: overflow encountered in matmul\n",
            "  self.x.grad = self.x.grad+self.grad@self.y.data.T\n",
            "<ipython-input-23-2f08c7b57e9f>:6: RuntimeWarning: invalid value encountered in multiply\n",
            "  self.x.grad = self.x.grad + 1 / (1 + np.exp(-self.x.data)) * (1 - 1 / (1 + np.exp(-self.x.data))) * self.grad\n",
            "<ipython-input-15-07862ff0eba1>:15: RuntimeWarning: overflow encountered in matmul\n",
            "  self.y.grad = self.y.grad+self.x.data.T@self.grad\n",
            "100%|██████████| 40/40 [00:02<00:00, 13.41it/s]\n"
          ]
        },
        {
          "output_type": "stream",
          "name": "stdout",
          "text": [
            "current loss: [[nan]]\n",
            "running thread  <Thread(Thread-116, initial)>\n",
            "running thread  <Thread(Thread-117, initial)>\n",
            "running thread  <Thread(Thread-118, initial)>\n",
            "running thread  <Thread(Thread-119, initial)>\n",
            "running thread  <Thread(Thread-120, initial)>\n",
            "running thread  <Thread(Thread-121, initial)>\n",
            "running thread  <Thread(Thread-122, initial)>\n",
            "running thread  <Thread(Thread-123, initial)>\n",
            "Running minibatch sequential-scan SGD with momentum (8 threads)\n"
          ]
        },
        {
          "output_type": "stream",
          "name": "stderr",
          "text": [
            "100%|██████████| 40/40 [00:02<00:00, 16.57it/s]\n"
          ]
        },
        {
          "output_type": "stream",
          "name": "stdout",
          "text": [
            "current loss: [[2.91782555e+218]]\n",
            "running thread  <Thread(Thread-124, initial)>\n",
            "running thread  <Thread(Thread-125, initial)>\n",
            "running thread  <Thread(Thread-126, initial)>\n",
            "running thread  <Thread(Thread-127, initial)>\n",
            "running thread  <Thread(Thread-128, initial)>\n",
            "running thread  <Thread(Thread-129, initial)>\n",
            "running thread  <Thread(Thread-130, initial)>\n",
            "running thread  <Thread(Thread-131, initial)>\n",
            "Running minibatch sequential-scan SGD with momentum (8 threads)\n"
          ]
        },
        {
          "output_type": "stream",
          "name": "stderr",
          "text": [
            "100%|██████████| 40/40 [00:02<00:00, 17.64it/s]\n"
          ]
        },
        {
          "output_type": "stream",
          "name": "stdout",
          "text": [
            "current loss: [[1.04079491e+149]]\n",
            "running thread  <Thread(Thread-132, initial)>\n",
            "running thread  <Thread(Thread-133, initial)>\n",
            "running thread  <Thread(Thread-134, initial)>\n",
            "running thread  <Thread(Thread-135, initial)>\n",
            "running thread  <Thread(Thread-136, initial)>\n",
            "running thread  <Thread(Thread-137, initial)>\n",
            "running thread  <Thread(Thread-138, initial)>\n",
            "running thread  <Thread(Thread-139, initial)>\n",
            "Running minibatch sequential-scan SGD with momentum (8 threads)\n"
          ]
        },
        {
          "output_type": "stream",
          "name": "stderr",
          "text": [
            "100%|██████████| 40/40 [00:02<00:00, 17.26it/s]\n"
          ]
        },
        {
          "output_type": "stream",
          "name": "stdout",
          "text": [
            "current loss: [[2.19124077e+221]]\n",
            "running thread  <Thread(Thread-140, initial)>\n",
            "running thread  <Thread(Thread-141, initial)>\n",
            "running thread  <Thread(Thread-142, initial)>\n",
            "running thread  <Thread(Thread-143, initial)>\n",
            "running thread  <Thread(Thread-144, initial)>\n",
            "running thread  <Thread(Thread-145, initial)>\n",
            "running thread  <Thread(Thread-146, initial)>\n",
            "running thread  <Thread(Thread-147, initial)>\n",
            "Running minibatch sequential-scan SGD with momentum (8 threads)\n"
          ]
        },
        {
          "output_type": "stream",
          "name": "stderr",
          "text": [
            "100%|██████████| 40/40 [00:02<00:00, 17.63it/s]\n"
          ]
        },
        {
          "output_type": "stream",
          "name": "stdout",
          "text": [
            "current loss: [[1.04496984e+279]]\n",
            "running thread  <Thread(Thread-148, initial)>\n",
            "running thread  <Thread(Thread-149, initial)>\n",
            "running thread  <Thread(Thread-150, initial)>\n",
            "running thread  <Thread(Thread-151, initial)>\n",
            "running thread  <Thread(Thread-152, initial)>\n",
            "running thread  <Thread(Thread-153, initial)>\n",
            "running thread  <Thread(Thread-154, initial)>\n",
            "running thread  <Thread(Thread-155, initial)>\n",
            "Running minibatch sequential-scan SGD with momentum (8 threads)\n"
          ]
        },
        {
          "output_type": "stream",
          "name": "stderr",
          "text": [
            "100%|██████████| 40/40 [00:02<00:00, 13.34it/s]\n"
          ]
        },
        {
          "output_type": "stream",
          "name": "stdout",
          "text": [
            "current loss: [[1.13521238e+191]]\n",
            "running thread  <Thread(Thread-156, initial)>\n",
            "running thread  <Thread(Thread-157, initial)>\n",
            "running thread  <Thread(Thread-158, initial)>\n",
            "running thread  <Thread(Thread-159, initial)>\n",
            "running thread  <Thread(Thread-160, initial)>\n",
            "running thread  <Thread(Thread-161, initial)>\n",
            "running thread  <Thread(Thread-162, initial)>\n",
            "running thread  <Thread(Thread-163, initial)>\n",
            "Running minibatch sequential-scan SGD with momentum (8 threads)\n"
          ]
        },
        {
          "output_type": "stream",
          "name": "stderr",
          "text": [
            "100%|██████████| 40/40 [00:02<00:00, 14.46it/s]\n"
          ]
        },
        {
          "output_type": "stream",
          "name": "stdout",
          "text": [
            "current loss: [[53.37752427]]\n",
            "running thread  <Thread(Thread-164, initial)>\n",
            "running thread  <Thread(Thread-165, initial)>\n",
            "running thread  <Thread(Thread-166, initial)>\n",
            "running thread  <Thread(Thread-167, initial)>\n",
            "running thread  <Thread(Thread-168, initial)>\n",
            "running thread  <Thread(Thread-169, initial)>\n",
            "running thread  <Thread(Thread-170, initial)>\n",
            "running thread  <Thread(Thread-171, initial)>\n",
            "Running minibatch sequential-scan SGD with momentum (8 threads)\n"
          ]
        },
        {
          "output_type": "stream",
          "name": "stderr",
          "text": [
            "100%|██████████| 40/40 [00:02<00:00, 17.49it/s]\n"
          ]
        },
        {
          "output_type": "stream",
          "name": "stdout",
          "text": [
            "current loss: [[2.592149e+125]]\n",
            "running thread  <Thread(Thread-172, initial)>\n",
            "running thread  <Thread(Thread-173, initial)>\n",
            "running thread  <Thread(Thread-174, initial)>\n",
            "running thread  <Thread(Thread-175, initial)>\n",
            "running thread  <Thread(Thread-176, initial)>\n",
            "running thread  <Thread(Thread-177, initial)>\n",
            "running thread  <Thread(Thread-178, initial)>\n",
            "running thread  <Thread(Thread-179, initial)>\n",
            "Running minibatch sequential-scan SGD with momentum (8 threads)\n"
          ]
        },
        {
          "output_type": "stream",
          "name": "stderr",
          "text": [
            "100%|██████████| 40/40 [00:02<00:00, 17.54it/s]\n"
          ]
        },
        {
          "output_type": "stream",
          "name": "stdout",
          "text": [
            "current loss: [[4.81699478e+282]]\n",
            "running thread  <Thread(Thread-180, initial)>\n",
            "running thread  <Thread(Thread-181, initial)>\n",
            "running thread  <Thread(Thread-182, initial)>\n",
            "running thread  <Thread(Thread-183, initial)>\n",
            "running thread  <Thread(Thread-184, initial)>\n",
            "running thread  <Thread(Thread-185, initial)>\n",
            "running thread  <Thread(Thread-186, initial)>\n",
            "running thread  <Thread(Thread-187, initial)>\n",
            "Running minibatch sequential-scan SGD with momentum (8 threads)\n"
          ]
        },
        {
          "output_type": "stream",
          "name": "stderr",
          "text": [
            "100%|██████████| 40/40 [00:02<00:00, 16.90it/s]\n"
          ]
        },
        {
          "output_type": "stream",
          "name": "stdout",
          "text": [
            "current loss: [[3.14865363e+206]]\n",
            "running thread  <Thread(Thread-188, initial)>\n",
            "running thread  <Thread(Thread-189, initial)>\n",
            "running thread  <Thread(Thread-190, initial)>\n",
            "running thread  <Thread(Thread-191, initial)>\n",
            "running thread  <Thread(Thread-192, initial)>\n",
            "running thread  <Thread(Thread-193, initial)>\n",
            "running thread  <Thread(Thread-194, initial)>\n",
            "running thread  <Thread(Thread-195, initial)>\n",
            "Running minibatch sequential-scan SGD with momentum (8 threads)\n"
          ]
        },
        {
          "output_type": "stream",
          "name": "stderr",
          "text": [
            "100%|██████████| 40/40 [00:02<00:00, 16.57it/s]\n"
          ]
        },
        {
          "output_type": "stream",
          "name": "stdout",
          "text": [
            "current loss: [[nan]]\n",
            "running thread  <Thread(Thread-196, initial)>\n",
            "running thread  <Thread(Thread-197, initial)>\n",
            "running thread  <Thread(Thread-198, initial)>\n",
            "running thread  <Thread(Thread-199, initial)>\n",
            "running thread  <Thread(Thread-200, initial)>\n",
            "running thread  <Thread(Thread-201, initial)>\n",
            "running thread  <Thread(Thread-202, initial)>\n",
            "running thread  <Thread(Thread-203, initial)>\n",
            "Running minibatch sequential-scan SGD with momentum (8 threads)\n"
          ]
        },
        {
          "output_type": "stream",
          "name": "stderr",
          "text": [
            "100%|██████████| 40/40 [00:02<00:00, 13.46it/s]\n"
          ]
        },
        {
          "output_type": "stream",
          "name": "stdout",
          "text": [
            "current loss: [[1.39639364e+270]]\n",
            "running thread  <Thread(Thread-204, initial)>\n",
            "running thread  <Thread(Thread-205, initial)>\n",
            "running thread  <Thread(Thread-206, initial)>\n",
            "running thread  <Thread(Thread-207, initial)>\n",
            "running thread  <Thread(Thread-208, initial)>\n",
            "running thread  <Thread(Thread-209, initial)>\n",
            "running thread  <Thread(Thread-210, initial)>\n",
            "running thread  <Thread(Thread-211, initial)>\n",
            "Running minibatch sequential-scan SGD with momentum (8 threads)\n"
          ]
        },
        {
          "output_type": "stream",
          "name": "stderr",
          "text": [
            "100%|██████████| 40/40 [00:02<00:00, 15.54it/s]\n"
          ]
        },
        {
          "output_type": "stream",
          "name": "stdout",
          "text": [
            "current loss: [[45.83264433]]\n",
            "running thread  <Thread(Thread-212, initial)>\n",
            "running thread  <Thread(Thread-213, initial)>\n",
            "running thread  <Thread(Thread-214, initial)>\n",
            "running thread  <Thread(Thread-215, initial)>\n",
            "running thread  <Thread(Thread-216, initial)>\n",
            "running thread  <Thread(Thread-217, initial)>\n",
            "running thread  <Thread(Thread-218, initial)>\n",
            "running thread  <Thread(Thread-219, initial)>\n",
            "Running minibatch sequential-scan SGD with momentum (8 threads)\n"
          ]
        },
        {
          "output_type": "stream",
          "name": "stderr",
          "text": [
            "100%|██████████| 40/40 [00:02<00:00, 17.82it/s]\n"
          ]
        },
        {
          "output_type": "stream",
          "name": "stdout",
          "text": [
            "current loss: [[49.44844049]]\n",
            "running thread  <Thread(Thread-220, initial)>\n",
            "running thread  <Thread(Thread-221, initial)>\n",
            "running thread  <Thread(Thread-222, initial)>\n",
            "running thread  <Thread(Thread-223, initial)>\n",
            "running thread  <Thread(Thread-224, initial)>\n",
            "running thread  <Thread(Thread-225, initial)>\n",
            "running thread  <Thread(Thread-226, initial)>\n",
            "running thread  <Thread(Thread-227, initial)>\n",
            "Running minibatch sequential-scan SGD with momentum (8 threads)\n"
          ]
        },
        {
          "output_type": "stream",
          "name": "stderr",
          "text": [
            "100%|██████████| 40/40 [00:02<00:00, 17.61it/s]\n"
          ]
        },
        {
          "output_type": "stream",
          "name": "stdout",
          "text": [
            "current loss: [[48.57321588]]\n",
            "running thread  <Thread(Thread-228, initial)>\n",
            "running thread  <Thread(Thread-229, initial)>\n",
            "running thread  <Thread(Thread-230, initial)>\n",
            "running thread  <Thread(Thread-231, initial)>\n",
            "running thread  <Thread(Thread-232, initial)>\n",
            "running thread  <Thread(Thread-233, initial)>\n",
            "running thread  <Thread(Thread-234, initial)>\n",
            "running thread  <Thread(Thread-235, initial)>\n",
            "Running minibatch sequential-scan SGD with momentum (8 threads)\n"
          ]
        },
        {
          "output_type": "stream",
          "name": "stderr",
          "text": [
            "100%|██████████| 40/40 [00:02<00:00, 17.09it/s]\n"
          ]
        },
        {
          "output_type": "stream",
          "name": "stdout",
          "text": [
            "current loss: [[nan]]\n",
            "running thread  <Thread(Thread-236, initial)>\n",
            "running thread  <Thread(Thread-237, initial)>\n",
            "running thread  <Thread(Thread-238, initial)>\n",
            "running thread  <Thread(Thread-239, initial)>\n",
            "running thread  <Thread(Thread-240, initial)>\n",
            "running thread  <Thread(Thread-241, initial)>\n",
            "running thread  <Thread(Thread-242, initial)>\n",
            "running thread  <Thread(Thread-243, initial)>\n",
            "Running minibatch sequential-scan SGD with momentum (8 threads)\n"
          ]
        },
        {
          "output_type": "stream",
          "name": "stderr",
          "text": [
            "100%|██████████| 40/40 [00:02<00:00, 15.27it/s]\n"
          ]
        },
        {
          "output_type": "stream",
          "name": "stdout",
          "text": [
            "current loss: [[49.90130989]]\n",
            "running thread  <Thread(Thread-244, initial)>\n",
            "running thread  <Thread(Thread-245, initial)>\n",
            "running thread  <Thread(Thread-246, initial)>\n",
            "running thread  <Thread(Thread-247, initial)>\n",
            "running thread  <Thread(Thread-248, initial)>\n",
            "running thread  <Thread(Thread-249, initial)>\n",
            "running thread  <Thread(Thread-250, initial)>\n",
            "running thread  <Thread(Thread-251, initial)>\n",
            "Running minibatch sequential-scan SGD with momentum (8 threads)\n"
          ]
        },
        {
          "output_type": "stream",
          "name": "stderr",
          "text": [
            "100%|██████████| 40/40 [00:02<00:00, 14.00it/s]\n"
          ]
        },
        {
          "output_type": "stream",
          "name": "stdout",
          "text": [
            "current loss: [[54.53323233]]\n",
            "running thread  <Thread(Thread-252, initial)>\n",
            "running thread  <Thread(Thread-253, initial)>\n",
            "running thread  <Thread(Thread-254, initial)>\n",
            "running thread  <Thread(Thread-255, initial)>\n",
            "running thread  <Thread(Thread-256, initial)>\n",
            "running thread  <Thread(Thread-257, initial)>\n",
            "running thread  <Thread(Thread-258, initial)>\n",
            "running thread  <Thread(Thread-259, initial)>\n",
            "Running minibatch sequential-scan SGD with momentum (8 threads)\n"
          ]
        },
        {
          "output_type": "stream",
          "name": "stderr",
          "text": [
            "100%|██████████| 40/40 [00:02<00:00, 14.77it/s]\n"
          ]
        },
        {
          "output_type": "stream",
          "name": "stdout",
          "text": [
            "current loss: [[2.33684033e+194]]\n",
            "running thread  <Thread(Thread-260, initial)>\n",
            "running thread  <Thread(Thread-261, initial)>\n",
            "running thread  <Thread(Thread-262, initial)>\n",
            "running thread  <Thread(Thread-263, initial)>\n",
            "running thread  <Thread(Thread-264, initial)>\n",
            "running thread  <Thread(Thread-265, initial)>\n",
            "running thread  <Thread(Thread-266, initial)>\n",
            "running thread  <Thread(Thread-267, initial)>\n",
            "Running minibatch sequential-scan SGD with momentum (8 threads)\n"
          ]
        },
        {
          "output_type": "stream",
          "name": "stderr",
          "text": [
            "100%|██████████| 40/40 [00:02<00:00, 17.21it/s]\n"
          ]
        },
        {
          "output_type": "stream",
          "name": "stdout",
          "text": [
            "current loss: [[44.16683283]]\n",
            "running thread  <Thread(Thread-268, initial)>\n",
            "running thread  <Thread(Thread-269, initial)>\n",
            "running thread  <Thread(Thread-270, initial)>\n",
            "running thread  <Thread(Thread-271, initial)>\n",
            "running thread  <Thread(Thread-272, initial)>\n",
            "running thread  <Thread(Thread-273, initial)>\n",
            "running thread  <Thread(Thread-274, initial)>\n",
            "running thread  <Thread(Thread-275, initial)>\n",
            "Running minibatch sequential-scan SGD with momentum (8 threads)\n"
          ]
        },
        {
          "output_type": "stream",
          "name": "stderr",
          "text": [
            "100%|██████████| 40/40 [00:02<00:00, 16.23it/s]\n"
          ]
        },
        {
          "output_type": "stream",
          "name": "stdout",
          "text": [
            "current loss: [[nan]]\n",
            "running thread  <Thread(Thread-276, initial)>\n",
            "running thread  <Thread(Thread-277, initial)>\n",
            "running thread  <Thread(Thread-278, initial)>\n",
            "running thread  <Thread(Thread-279, initial)>\n",
            "running thread  <Thread(Thread-280, initial)>\n",
            "running thread  <Thread(Thread-281, initial)>\n",
            "running thread  <Thread(Thread-282, initial)>\n",
            "running thread  <Thread(Thread-283, initial)>\n",
            "Running minibatch sequential-scan SGD with momentum (8 threads)\n"
          ]
        },
        {
          "output_type": "stream",
          "name": "stderr",
          "text": [
            "100%|██████████| 40/40 [00:02<00:00, 17.62it/s]\n"
          ]
        },
        {
          "output_type": "stream",
          "name": "stdout",
          "text": [
            "current loss: [[47.93250533]]\n",
            "running thread  <Thread(Thread-284, initial)>\n",
            "running thread  <Thread(Thread-285, initial)>\n",
            "running thread  <Thread(Thread-286, initial)>\n",
            "running thread  <Thread(Thread-287, initial)>\n",
            "running thread  <Thread(Thread-288, initial)>\n",
            "running thread  <Thread(Thread-289, initial)>\n",
            "running thread  <Thread(Thread-290, initial)>\n",
            "running thread  <Thread(Thread-291, initial)>\n",
            "Running minibatch sequential-scan SGD with momentum (8 threads)\n"
          ]
        },
        {
          "output_type": "stream",
          "name": "stderr",
          "text": [
            "100%|██████████| 40/40 [00:02<00:00, 14.57it/s]\n"
          ]
        },
        {
          "output_type": "stream",
          "name": "stdout",
          "text": [
            "current loss: [[1.73542273e+301]]\n",
            "running thread  <Thread(Thread-292, initial)>\n",
            "running thread  <Thread(Thread-293, initial)>\n",
            "running thread  <Thread(Thread-294, initial)>\n",
            "running thread  <Thread(Thread-295, initial)>\n",
            "running thread  <Thread(Thread-296, initial)>\n",
            "running thread  <Thread(Thread-297, initial)>\n",
            "running thread  <Thread(Thread-298, initial)>\n",
            "running thread  <Thread(Thread-299, initial)>\n",
            "Running minibatch sequential-scan SGD with momentum (8 threads)\n"
          ]
        },
        {
          "output_type": "stream",
          "name": "stderr",
          "text": [
            "100%|██████████| 40/40 [00:02<00:00, 13.65it/s]\n"
          ]
        },
        {
          "output_type": "stream",
          "name": "stdout",
          "text": [
            "current loss: [[41.0685648]]\n",
            "running thread  <Thread(Thread-300, initial)>\n",
            "running thread  <Thread(Thread-301, initial)>\n",
            "running thread  <Thread(Thread-302, initial)>\n",
            "running thread  <Thread(Thread-303, initial)>\n",
            "running thread  <Thread(Thread-304, initial)>\n",
            "running thread  <Thread(Thread-305, initial)>\n",
            "running thread  <Thread(Thread-306, initial)>\n",
            "running thread  <Thread(Thread-307, initial)>\n",
            "Running minibatch sequential-scan SGD with momentum (8 threads)\n"
          ]
        },
        {
          "output_type": "stream",
          "name": "stderr",
          "text": [
            "100%|██████████| 40/40 [00:02<00:00, 17.60it/s]\n",
            "<ipython-input-32-26e15c3d5dbb>:93: RuntimeWarning: overflow encountered in matmul\n",
            "  print(\"current loss: \" + str((W2 @ sigmoid(W1 @ Xs) - Ys) @ (W2 @ sigmoid(W1 @ Xs) - Ys).transpose())) # report current loss\n",
            "<ipython-input-41-c2889471a468>:31: RuntimeWarning: overflow encountered in matmul\n",
            "  error = (W2 @ sigmoid(W1 @ Xs_va) - Ys_va) @ (W2 @ sigmoid(W1 @ Xs_va) - Ys_va).transpose() # use 1 - R^2 as error to select hyperparameters\n"
          ]
        },
        {
          "output_type": "stream",
          "name": "stdout",
          "text": [
            "current loss: [[inf]]\n",
            "running thread  <Thread(Thread-308, initial)>\n",
            "running thread  <Thread(Thread-309, initial)>\n",
            "running thread  <Thread(Thread-310, initial)>\n",
            "running thread  <Thread(Thread-311, initial)>\n",
            "running thread  <Thread(Thread-312, initial)>\n",
            "running thread  <Thread(Thread-313, initial)>\n",
            "running thread  <Thread(Thread-314, initial)>\n",
            "running thread  <Thread(Thread-315, initial)>\n",
            "Running minibatch sequential-scan SGD with momentum (8 threads)\n"
          ]
        },
        {
          "output_type": "stream",
          "name": "stderr",
          "text": [
            "100%|██████████| 40/40 [00:02<00:00, 15.29it/s]\n"
          ]
        },
        {
          "output_type": "stream",
          "name": "stdout",
          "text": [
            "current loss: [[nan]]\n",
            "running thread  <Thread(Thread-316, initial)>\n",
            "running thread  <Thread(Thread-317, initial)>\n",
            "running thread  <Thread(Thread-318, initial)>\n",
            "running thread  <Thread(Thread-319, initial)>\n",
            "running thread  <Thread(Thread-320, initial)>\n",
            "running thread  <Thread(Thread-321, initial)>\n",
            "running thread  <Thread(Thread-322, initial)>\n",
            "running thread  <Thread(Thread-323, initial)>\n",
            "Running minibatch sequential-scan SGD with momentum (8 threads)\n"
          ]
        },
        {
          "output_type": "stream",
          "name": "stderr",
          "text": [
            "100%|██████████| 40/40 [00:02<00:00, 13.70it/s]\n"
          ]
        },
        {
          "output_type": "stream",
          "name": "stdout",
          "text": [
            "current loss: [[7.47770453e+88]]\n",
            "running thread  <Thread(Thread-324, initial)>\n",
            "running thread  <Thread(Thread-325, initial)>\n",
            "running thread  <Thread(Thread-326, initial)>\n",
            "running thread  <Thread(Thread-327, initial)>\n",
            "running thread  <Thread(Thread-328, initial)>\n",
            "running thread  <Thread(Thread-329, initial)>\n",
            "running thread  <Thread(Thread-330, initial)>\n",
            "running thread  <Thread(Thread-331, initial)>\n",
            "Running minibatch sequential-scan SGD with momentum (8 threads)\n"
          ]
        },
        {
          "output_type": "stream",
          "name": "stderr",
          "text": [
            "100%|██████████| 40/40 [00:02<00:00, 13.98it/s]\n"
          ]
        },
        {
          "output_type": "stream",
          "name": "stdout",
          "text": [
            "current loss: [[8.38824257e+98]]\n",
            "running thread  <Thread(Thread-332, initial)>\n",
            "running thread  <Thread(Thread-333, initial)>\n",
            "running thread  <Thread(Thread-334, initial)>\n",
            "running thread  <Thread(Thread-335, initial)>\n",
            "running thread  <Thread(Thread-336, initial)>\n",
            "running thread  <Thread(Thread-337, initial)>\n",
            "running thread  <Thread(Thread-338, initial)>\n",
            "running thread  <Thread(Thread-339, initial)>\n",
            "Running minibatch sequential-scan SGD with momentum (8 threads)\n"
          ]
        },
        {
          "output_type": "stream",
          "name": "stderr",
          "text": [
            "100%|██████████| 40/40 [00:02<00:00, 13.68it/s]\n"
          ]
        },
        {
          "output_type": "stream",
          "name": "stdout",
          "text": [
            "current loss: [[inf]]\n",
            "running thread  <Thread(Thread-340, initial)>\n",
            "running thread  <Thread(Thread-341, initial)>\n",
            "running thread  <Thread(Thread-342, initial)>\n",
            "running thread  <Thread(Thread-343, initial)>\n",
            "running thread  <Thread(Thread-344, initial)>\n",
            "running thread  <Thread(Thread-345, initial)>\n",
            "running thread  <Thread(Thread-346, initial)>\n",
            "running thread  <Thread(Thread-347, initial)>\n",
            "Running minibatch sequential-scan SGD with momentum (8 threads)\n"
          ]
        },
        {
          "output_type": "stream",
          "name": "stderr",
          "text": [
            "100%|██████████| 40/40 [00:02<00:00, 15.75it/s]\n"
          ]
        },
        {
          "output_type": "stream",
          "name": "stdout",
          "text": [
            "current loss: [[4.80418651e+206]]\n",
            "running thread  <Thread(Thread-348, initial)>\n",
            "running thread  <Thread(Thread-349, initial)>\n",
            "running thread  <Thread(Thread-350, initial)>\n",
            "running thread  <Thread(Thread-351, initial)>\n",
            "running thread  <Thread(Thread-352, initial)>\n",
            "running thread  <Thread(Thread-353, initial)>\n",
            "running thread  <Thread(Thread-354, initial)>\n",
            "running thread  <Thread(Thread-355, initial)>\n",
            "Running minibatch sequential-scan SGD with momentum (8 threads)\n"
          ]
        },
        {
          "output_type": "stream",
          "name": "stderr",
          "text": [
            "100%|██████████| 40/40 [00:02<00:00, 17.59it/s]\n"
          ]
        },
        {
          "output_type": "stream",
          "name": "stdout",
          "text": [
            "current loss: [[48.25762874]]\n",
            "running thread  <Thread(Thread-356, initial)>\n",
            "running thread  <Thread(Thread-357, initial)>\n",
            "running thread  <Thread(Thread-358, initial)>\n",
            "running thread  <Thread(Thread-359, initial)>\n",
            "running thread  <Thread(Thread-360, initial)>\n",
            "running thread  <Thread(Thread-361, initial)>\n",
            "running thread  <Thread(Thread-362, initial)>\n",
            "running thread  <Thread(Thread-363, initial)>\n",
            "Running minibatch sequential-scan SGD with momentum (8 threads)\n"
          ]
        },
        {
          "output_type": "stream",
          "name": "stderr",
          "text": [
            "100%|██████████| 40/40 [00:02<00:00, 17.43it/s]\n"
          ]
        },
        {
          "output_type": "stream",
          "name": "stdout",
          "text": [
            "current loss: [[4.1522796e+104]]\n",
            "running thread  <Thread(Thread-364, initial)>\n",
            "running thread  <Thread(Thread-365, initial)>\n",
            "running thread  <Thread(Thread-366, initial)>\n",
            "running thread  <Thread(Thread-367, initial)>\n",
            "running thread  <Thread(Thread-368, initial)>\n",
            "running thread  <Thread(Thread-369, initial)>\n",
            "running thread  <Thread(Thread-370, initial)>\n",
            "running thread  <Thread(Thread-371, initial)>\n",
            "Running minibatch sequential-scan SGD with momentum (8 threads)\n"
          ]
        },
        {
          "output_type": "stream",
          "name": "stderr",
          "text": [
            "100%|██████████| 40/40 [00:02<00:00, 16.75it/s]\n"
          ]
        },
        {
          "output_type": "stream",
          "name": "stdout",
          "text": [
            "current loss: [[2.01651983e+296]]\n",
            "running thread  <Thread(Thread-372, initial)>\n",
            "running thread  <Thread(Thread-373, initial)>\n",
            "running thread  <Thread(Thread-374, initial)>\n",
            "running thread  <Thread(Thread-375, initial)>\n",
            "running thread  <Thread(Thread-376, initial)>\n",
            "running thread  <Thread(Thread-377, initial)>\n",
            "running thread  <Thread(Thread-378, initial)>\n",
            "running thread  <Thread(Thread-379, initial)>\n",
            "Running minibatch sequential-scan SGD with momentum (8 threads)\n"
          ]
        },
        {
          "output_type": "stream",
          "name": "stderr",
          "text": [
            "100%|██████████| 40/40 [00:02<00:00, 14.39it/s]\n"
          ]
        },
        {
          "output_type": "stream",
          "name": "stdout",
          "text": [
            "current loss: [[nan]]\n",
            "running thread  <Thread(Thread-380, initial)>\n",
            "running thread  <Thread(Thread-381, initial)>\n",
            "running thread  <Thread(Thread-382, initial)>\n",
            "running thread  <Thread(Thread-383, initial)>\n",
            "running thread  <Thread(Thread-384, initial)>\n",
            "running thread  <Thread(Thread-385, initial)>\n",
            "running thread  <Thread(Thread-386, initial)>\n",
            "running thread  <Thread(Thread-387, initial)>\n",
            "Running minibatch sequential-scan SGD with momentum (8 threads)\n"
          ]
        },
        {
          "output_type": "stream",
          "name": "stderr",
          "text": [
            "100%|██████████| 40/40 [00:02<00:00, 13.64it/s]\n"
          ]
        },
        {
          "output_type": "stream",
          "name": "stdout",
          "text": [
            "current loss: [[49.18744277]]\n",
            "running thread  <Thread(Thread-388, initial)>\n",
            "running thread  <Thread(Thread-389, initial)>\n",
            "running thread  <Thread(Thread-390, initial)>\n",
            "running thread  <Thread(Thread-391, initial)>\n",
            "running thread  <Thread(Thread-392, initial)>\n",
            "running thread  <Thread(Thread-393, initial)>\n",
            "running thread  <Thread(Thread-394, initial)>\n",
            "running thread  <Thread(Thread-395, initial)>\n",
            "Running minibatch sequential-scan SGD with momentum (8 threads)\n"
          ]
        },
        {
          "output_type": "stream",
          "name": "stderr",
          "text": [
            "100%|██████████| 40/40 [00:02<00:00, 16.78it/s]\n"
          ]
        },
        {
          "output_type": "stream",
          "name": "stdout",
          "text": [
            "current loss: [[4.05707751e+175]]\n",
            "running thread  <Thread(Thread-396, initial)>\n",
            "running thread  <Thread(Thread-397, initial)>\n",
            "running thread  <Thread(Thread-398, initial)>\n",
            "running thread  <Thread(Thread-399, initial)>\n",
            "running thread  <Thread(Thread-400, initial)>\n",
            "running thread  <Thread(Thread-401, initial)>\n",
            "running thread  <Thread(Thread-402, initial)>\n",
            "running thread  <Thread(Thread-403, initial)>\n",
            "Running minibatch sequential-scan SGD with momentum (8 threads)\n"
          ]
        },
        {
          "output_type": "stream",
          "name": "stderr",
          "text": [
            "100%|██████████| 40/40 [00:02<00:00, 17.36it/s]\n"
          ]
        },
        {
          "output_type": "stream",
          "name": "stdout",
          "text": [
            "current loss: [[44.96368565]]\n",
            "running thread  <Thread(Thread-404, initial)>\n",
            "running thread  <Thread(Thread-405, initial)>\n",
            "running thread  <Thread(Thread-406, initial)>\n",
            "running thread  <Thread(Thread-407, initial)>\n",
            "running thread  <Thread(Thread-408, initial)>\n",
            "running thread  <Thread(Thread-409, initial)>\n",
            "running thread  <Thread(Thread-410, initial)>\n",
            "running thread  <Thread(Thread-411, initial)>\n",
            "Running minibatch sequential-scan SGD with momentum (8 threads)\n"
          ]
        },
        {
          "output_type": "stream",
          "name": "stderr",
          "text": [
            "100%|██████████| 40/40 [00:02<00:00, 17.00it/s]\n"
          ]
        },
        {
          "output_type": "stream",
          "name": "stdout",
          "text": [
            "current loss: [[43.87955532]]\n",
            "running thread  <Thread(Thread-412, initial)>\n",
            "running thread  <Thread(Thread-413, initial)>\n",
            "running thread  <Thread(Thread-414, initial)>\n",
            "running thread  <Thread(Thread-415, initial)>\n",
            "running thread  <Thread(Thread-416, initial)>\n",
            "running thread  <Thread(Thread-417, initial)>\n",
            "running thread  <Thread(Thread-418, initial)>\n",
            "running thread  <Thread(Thread-419, initial)>\n",
            "Running minibatch sequential-scan SGD with momentum (8 threads)\n"
          ]
        },
        {
          "output_type": "stream",
          "name": "stderr",
          "text": [
            "100%|██████████| 40/40 [00:02<00:00, 17.20it/s]\n"
          ]
        },
        {
          "output_type": "stream",
          "name": "stdout",
          "text": [
            "current loss: [[1.30064272e+273]]\n",
            "running thread  <Thread(Thread-420, initial)>\n",
            "running thread  <Thread(Thread-421, initial)>\n",
            "running thread  <Thread(Thread-422, initial)>\n",
            "running thread  <Thread(Thread-423, initial)>\n",
            "running thread  <Thread(Thread-424, initial)>\n",
            "running thread  <Thread(Thread-425, initial)>\n",
            "running thread  <Thread(Thread-426, initial)>\n",
            "running thread  <Thread(Thread-427, initial)>\n",
            "Running minibatch sequential-scan SGD with momentum (8 threads)\n"
          ]
        },
        {
          "output_type": "stream",
          "name": "stderr",
          "text": [
            "100%|██████████| 40/40 [00:02<00:00, 13.92it/s]\n"
          ]
        },
        {
          "output_type": "stream",
          "name": "stdout",
          "text": [
            "current loss: [[46.9106903]]\n",
            "running thread  <Thread(Thread-428, initial)>\n",
            "running thread  <Thread(Thread-429, initial)>\n",
            "running thread  <Thread(Thread-430, initial)>\n",
            "running thread  <Thread(Thread-431, initial)>\n",
            "running thread  <Thread(Thread-432, initial)>\n",
            "running thread  <Thread(Thread-433, initial)>\n",
            "running thread  <Thread(Thread-434, initial)>\n",
            "running thread  <Thread(Thread-435, initial)>\n",
            "Running minibatch sequential-scan SGD with momentum (8 threads)\n"
          ]
        },
        {
          "output_type": "stream",
          "name": "stderr",
          "text": [
            "100%|██████████| 40/40 [00:02<00:00, 13.67it/s]\n"
          ]
        },
        {
          "output_type": "stream",
          "name": "stdout",
          "text": [
            "current loss: [[4.63507674e+292]]\n",
            "running thread  <Thread(Thread-436, initial)>\n",
            "running thread  <Thread(Thread-437, initial)>\n",
            "running thread  <Thread(Thread-438, initial)>\n",
            "running thread  <Thread(Thread-439, initial)>\n",
            "running thread  <Thread(Thread-440, initial)>\n",
            "running thread  <Thread(Thread-441, initial)>\n",
            "running thread  <Thread(Thread-442, initial)>\n",
            "running thread  <Thread(Thread-443, initial)>\n",
            "Running minibatch sequential-scan SGD with momentum (8 threads)\n"
          ]
        },
        {
          "output_type": "stream",
          "name": "stderr",
          "text": [
            "100%|██████████| 40/40 [00:02<00:00, 17.58it/s]\n"
          ]
        },
        {
          "output_type": "stream",
          "name": "stdout",
          "text": [
            "current loss: [[1.55264637e+08]]\n",
            "running thread  <Thread(Thread-444, initial)>\n",
            "running thread  <Thread(Thread-445, initial)>\n",
            "running thread  <Thread(Thread-446, initial)>\n",
            "running thread  <Thread(Thread-447, initial)>\n",
            "running thread  <Thread(Thread-448, initial)>\n",
            "running thread  <Thread(Thread-449, initial)>\n",
            "running thread  <Thread(Thread-450, initial)>\n",
            "running thread  <Thread(Thread-451, initial)>\n",
            "Running minibatch sequential-scan SGD with momentum (8 threads)\n"
          ]
        },
        {
          "output_type": "stream",
          "name": "stderr",
          "text": [
            "100%|██████████| 40/40 [00:02<00:00, 16.95it/s]\n"
          ]
        },
        {
          "output_type": "stream",
          "name": "stdout",
          "text": [
            "current loss: [[1.63459907e+124]]\n",
            "running thread  <Thread(Thread-452, initial)>\n",
            "running thread  <Thread(Thread-453, initial)>\n",
            "running thread  <Thread(Thread-454, initial)>\n",
            "running thread  <Thread(Thread-455, initial)>\n",
            "running thread  <Thread(Thread-456, initial)>\n",
            "running thread  <Thread(Thread-457, initial)>\n",
            "running thread  <Thread(Thread-458, initial)>\n",
            "running thread  <Thread(Thread-459, initial)>\n",
            "Running minibatch sequential-scan SGD with momentum (8 threads)\n"
          ]
        },
        {
          "output_type": "stream",
          "name": "stderr",
          "text": [
            "100%|██████████| 40/40 [00:02<00:00, 17.54it/s]\n"
          ]
        },
        {
          "output_type": "stream",
          "name": "stdout",
          "text": [
            "current loss: [[46.52477853]]\n",
            "running thread  <Thread(Thread-460, initial)>\n",
            "running thread  <Thread(Thread-461, initial)>\n",
            "running thread  <Thread(Thread-462, initial)>\n",
            "running thread  <Thread(Thread-463, initial)>\n",
            "running thread  <Thread(Thread-464, initial)>\n",
            "running thread  <Thread(Thread-465, initial)>\n",
            "running thread  <Thread(Thread-466, initial)>\n",
            "running thread  <Thread(Thread-467, initial)>\n",
            "Running minibatch sequential-scan SGD with momentum (8 threads)\n"
          ]
        },
        {
          "output_type": "stream",
          "name": "stderr",
          "text": [
            "100%|██████████| 40/40 [00:02<00:00, 16.63it/s]\n"
          ]
        },
        {
          "output_type": "stream",
          "name": "stdout",
          "text": [
            "current loss: [[4.98433962e+52]]\n",
            "running thread  <Thread(Thread-468, initial)>\n",
            "running thread  <Thread(Thread-469, initial)>\n",
            "running thread  <Thread(Thread-470, initial)>\n",
            "running thread  <Thread(Thread-471, initial)>\n",
            "running thread  <Thread(Thread-472, initial)>\n",
            "running thread  <Thread(Thread-473, initial)>\n",
            "running thread  <Thread(Thread-474, initial)>\n",
            "running thread  <Thread(Thread-475, initial)>\n",
            "Running minibatch sequential-scan SGD with momentum (8 threads)\n"
          ]
        },
        {
          "output_type": "stream",
          "name": "stderr",
          "text": [
            "100%|██████████| 40/40 [00:02<00:00, 13.69it/s]\n"
          ]
        },
        {
          "output_type": "stream",
          "name": "stdout",
          "text": [
            "current loss: [[2.3321929e+174]]\n",
            "running thread  <Thread(Thread-476, initial)>\n",
            "running thread  <Thread(Thread-477, initial)>\n",
            "running thread  <Thread(Thread-478, initial)>\n",
            "running thread  <Thread(Thread-479, initial)>\n",
            "running thread  <Thread(Thread-480, initial)>\n",
            "running thread  <Thread(Thread-481, initial)>\n",
            "running thread  <Thread(Thread-482, initial)>\n",
            "running thread  <Thread(Thread-483, initial)>\n",
            "Running minibatch sequential-scan SGD with momentum (8 threads)\n"
          ]
        },
        {
          "output_type": "stream",
          "name": "stderr",
          "text": [
            "100%|██████████| 40/40 [00:02<00:00, 14.55it/s]\n"
          ]
        },
        {
          "output_type": "stream",
          "name": "stdout",
          "text": [
            "current loss: [[4.53596442e+191]]\n",
            "running thread  <Thread(Thread-484, initial)>\n",
            "running thread  <Thread(Thread-485, initial)>\n",
            "running thread  <Thread(Thread-486, initial)>\n",
            "running thread  <Thread(Thread-487, initial)>\n",
            "running thread  <Thread(Thread-488, initial)>\n",
            "running thread  <Thread(Thread-489, initial)>\n",
            "running thread  <Thread(Thread-490, initial)>\n",
            "running thread  <Thread(Thread-491, initial)>\n",
            "Running minibatch sequential-scan SGD with momentum (8 threads)\n"
          ]
        },
        {
          "output_type": "stream",
          "name": "stderr",
          "text": [
            "100%|██████████| 40/40 [00:02<00:00, 17.69it/s]\n"
          ]
        },
        {
          "output_type": "stream",
          "name": "stdout",
          "text": [
            "current loss: [[1.08752504e+157]]\n",
            "running thread  <Thread(Thread-492, initial)>\n",
            "running thread  <Thread(Thread-493, initial)>\n",
            "running thread  <Thread(Thread-494, initial)>\n",
            "running thread  <Thread(Thread-495, initial)>\n",
            "running thread  <Thread(Thread-496, initial)>\n",
            "running thread  <Thread(Thread-497, initial)>\n",
            "running thread  <Thread(Thread-498, initial)>\n",
            "running thread  <Thread(Thread-499, initial)>\n",
            "Running minibatch sequential-scan SGD with momentum (8 threads)\n"
          ]
        },
        {
          "output_type": "stream",
          "name": "stderr",
          "text": [
            "100%|██████████| 40/40 [00:02<00:00, 17.49it/s]\n"
          ]
        },
        {
          "output_type": "stream",
          "name": "stdout",
          "text": [
            "current loss: [[48.05240327]]\n",
            "running thread  <Thread(Thread-500, initial)>\n",
            "running thread  <Thread(Thread-501, initial)>\n",
            "running thread  <Thread(Thread-502, initial)>\n",
            "running thread  <Thread(Thread-503, initial)>\n",
            "running thread  <Thread(Thread-504, initial)>\n",
            "running thread  <Thread(Thread-505, initial)>\n",
            "running thread  <Thread(Thread-506, initial)>\n",
            "running thread  <Thread(Thread-507, initial)>\n",
            "Running minibatch sequential-scan SGD with momentum (8 threads)\n"
          ]
        },
        {
          "output_type": "stream",
          "name": "stderr",
          "text": [
            "100%|██████████| 40/40 [00:02<00:00, 16.78it/s]\n"
          ]
        },
        {
          "output_type": "stream",
          "name": "stdout",
          "text": [
            "current loss: [[1.83134786e+112]]\n",
            "running thread  <Thread(Thread-508, initial)>\n",
            "running thread  <Thread(Thread-509, initial)>\n",
            "running thread  <Thread(Thread-510, initial)>\n",
            "running thread  <Thread(Thread-511, initial)>\n",
            "running thread  <Thread(Thread-512, initial)>\n",
            "running thread  <Thread(Thread-513, initial)>\n",
            "running thread  <Thread(Thread-514, initial)>\n",
            "running thread  <Thread(Thread-515, initial)>\n",
            "Running minibatch sequential-scan SGD with momentum (8 threads)\n"
          ]
        },
        {
          "output_type": "stream",
          "name": "stderr",
          "text": [
            "100%|██████████| 40/40 [00:02<00:00, 15.01it/s]\n"
          ]
        },
        {
          "output_type": "stream",
          "name": "stdout",
          "text": [
            "current loss: [[2.71473129e+104]]\n",
            "running thread  <Thread(Thread-516, initial)>\n",
            "running thread  <Thread(Thread-517, initial)>\n",
            "running thread  <Thread(Thread-518, initial)>\n",
            "running thread  <Thread(Thread-519, initial)>\n",
            "running thread  <Thread(Thread-520, initial)>\n",
            "running thread  <Thread(Thread-521, initial)>\n",
            "running thread  <Thread(Thread-522, initial)>\n",
            "running thread  <Thread(Thread-523, initial)>\n",
            "Running minibatch sequential-scan SGD with momentum (8 threads)\n"
          ]
        },
        {
          "output_type": "stream",
          "name": "stderr",
          "text": [
            "100%|██████████| 40/40 [00:03<00:00, 12.72it/s]\n"
          ]
        },
        {
          "output_type": "stream",
          "name": "stdout",
          "text": [
            "current loss: [[2.97794012e+61]]\n",
            "running thread  <Thread(Thread-524, initial)>\n",
            "running thread  <Thread(Thread-525, initial)>\n",
            "running thread  <Thread(Thread-526, initial)>\n",
            "running thread  <Thread(Thread-527, initial)>\n",
            "running thread  <Thread(Thread-528, initial)>\n",
            "running thread  <Thread(Thread-529, initial)>\n",
            "running thread  <Thread(Thread-530, initial)>\n",
            "running thread  <Thread(Thread-531, initial)>\n",
            "Running minibatch sequential-scan SGD with momentum (8 threads)\n"
          ]
        },
        {
          "output_type": "stream",
          "name": "stderr",
          "text": [
            "100%|██████████| 40/40 [00:02<00:00, 16.15it/s]\n"
          ]
        },
        {
          "output_type": "stream",
          "name": "stdout",
          "text": [
            "current loss: [[nan]]\n",
            "running thread  <Thread(Thread-532, initial)>\n",
            "running thread  <Thread(Thread-533, initial)>\n",
            "running thread  <Thread(Thread-534, initial)>\n",
            "running thread  <Thread(Thread-535, initial)>\n",
            "running thread  <Thread(Thread-536, initial)>\n",
            "running thread  <Thread(Thread-537, initial)>\n",
            "running thread  <Thread(Thread-538, initial)>\n",
            "running thread  <Thread(Thread-539, initial)>\n",
            "Running minibatch sequential-scan SGD with momentum (8 threads)\n"
          ]
        },
        {
          "output_type": "stream",
          "name": "stderr",
          "text": [
            "100%|██████████| 40/40 [00:02<00:00, 16.51it/s]\n"
          ]
        },
        {
          "output_type": "stream",
          "name": "stdout",
          "text": [
            "current loss: [[49.90130989]]\n",
            "running thread  <Thread(Thread-540, initial)>\n",
            "running thread  <Thread(Thread-541, initial)>\n",
            "running thread  <Thread(Thread-542, initial)>\n",
            "running thread  <Thread(Thread-543, initial)>\n",
            "running thread  <Thread(Thread-544, initial)>\n",
            "running thread  <Thread(Thread-545, initial)>\n",
            "running thread  <Thread(Thread-546, initial)>\n",
            "running thread  <Thread(Thread-547, initial)>\n",
            "Running minibatch sequential-scan SGD with momentum (8 threads)\n"
          ]
        },
        {
          "output_type": "stream",
          "name": "stderr",
          "text": [
            "100%|██████████| 40/40 [00:02<00:00, 17.61it/s]\n"
          ]
        },
        {
          "output_type": "stream",
          "name": "stdout",
          "text": [
            "current loss: [[47.91907778]]\n",
            "running thread  <Thread(Thread-548, initial)>\n",
            "running thread  <Thread(Thread-549, initial)>\n",
            "running thread  <Thread(Thread-550, initial)>\n",
            "running thread  <Thread(Thread-551, initial)>\n",
            "running thread  <Thread(Thread-552, initial)>\n",
            "running thread  <Thread(Thread-553, initial)>\n",
            "running thread  <Thread(Thread-554, initial)>\n",
            "running thread  <Thread(Thread-555, initial)>\n",
            "Running minibatch sequential-scan SGD with momentum (8 threads)\n"
          ]
        },
        {
          "output_type": "stream",
          "name": "stderr",
          "text": [
            "100%|██████████| 40/40 [00:02<00:00, 17.88it/s]\n"
          ]
        },
        {
          "output_type": "stream",
          "name": "stdout",
          "text": [
            "current loss: [[49.48981913]]\n",
            "running thread  <Thread(Thread-556, initial)>\n",
            "running thread  <Thread(Thread-557, initial)>\n",
            "running thread  <Thread(Thread-558, initial)>\n",
            "running thread  <Thread(Thread-559, initial)>\n",
            "running thread  <Thread(Thread-560, initial)>\n",
            "running thread  <Thread(Thread-561, initial)>\n",
            "running thread  <Thread(Thread-562, initial)>\n",
            "running thread  <Thread(Thread-563, initial)>\n",
            "Running minibatch sequential-scan SGD with momentum (8 threads)\n"
          ]
        },
        {
          "output_type": "stream",
          "name": "stderr",
          "text": [
            "100%|██████████| 40/40 [00:02<00:00, 13.93it/s]\n"
          ]
        },
        {
          "output_type": "stream",
          "name": "stdout",
          "text": [
            "current loss: [[1.18626649e+106]]\n",
            "running thread  <Thread(Thread-564, initial)>\n",
            "running thread  <Thread(Thread-565, initial)>\n",
            "running thread  <Thread(Thread-566, initial)>\n",
            "running thread  <Thread(Thread-567, initial)>\n",
            "running thread  <Thread(Thread-568, initial)>\n",
            "running thread  <Thread(Thread-569, initial)>\n",
            "running thread  <Thread(Thread-570, initial)>\n",
            "running thread  <Thread(Thread-571, initial)>\n",
            "Running minibatch sequential-scan SGD with momentum (8 threads)\n"
          ]
        },
        {
          "output_type": "stream",
          "name": "stderr",
          "text": [
            "100%|██████████| 40/40 [00:03<00:00, 13.29it/s]\n"
          ]
        },
        {
          "output_type": "stream",
          "name": "stdout",
          "text": [
            "current loss: [[49.90130989]]\n",
            "running thread  <Thread(Thread-572, initial)>\n",
            "running thread  <Thread(Thread-573, initial)>\n",
            "running thread  <Thread(Thread-574, initial)>\n",
            "running thread  <Thread(Thread-575, initial)>\n",
            "running thread  <Thread(Thread-576, initial)>\n",
            "running thread  <Thread(Thread-577, initial)>\n",
            "running thread  <Thread(Thread-578, initial)>\n",
            "running thread  <Thread(Thread-579, initial)>\n",
            "Running minibatch sequential-scan SGD with momentum (8 threads)\n"
          ]
        },
        {
          "output_type": "stream",
          "name": "stderr",
          "text": [
            "100%|██████████| 40/40 [00:02<00:00, 17.75it/s]\n"
          ]
        },
        {
          "output_type": "stream",
          "name": "stdout",
          "text": [
            "current loss: [[45.20959919]]\n",
            "running thread  <Thread(Thread-580, initial)>\n",
            "running thread  <Thread(Thread-581, initial)>\n",
            "running thread  <Thread(Thread-582, initial)>\n",
            "running thread  <Thread(Thread-583, initial)>\n",
            "running thread  <Thread(Thread-584, initial)>\n",
            "running thread  <Thread(Thread-585, initial)>\n",
            "running thread  <Thread(Thread-586, initial)>\n",
            "running thread  <Thread(Thread-587, initial)>\n",
            "Running minibatch sequential-scan SGD with momentum (8 threads)\n"
          ]
        },
        {
          "output_type": "stream",
          "name": "stderr",
          "text": [
            "100%|██████████| 40/40 [00:02<00:00, 17.57it/s]\n"
          ]
        },
        {
          "output_type": "stream",
          "name": "stdout",
          "text": [
            "current loss: [[49.73573789]]\n",
            "running thread  <Thread(Thread-588, initial)>\n",
            "running thread  <Thread(Thread-589, initial)>\n",
            "running thread  <Thread(Thread-590, initial)>\n",
            "running thread  <Thread(Thread-591, initial)>\n",
            "running thread  <Thread(Thread-592, initial)>\n",
            "running thread  <Thread(Thread-593, initial)>\n",
            "running thread  <Thread(Thread-594, initial)>\n",
            "running thread  <Thread(Thread-595, initial)>\n",
            "Running minibatch sequential-scan SGD with momentum (8 threads)\n"
          ]
        },
        {
          "output_type": "stream",
          "name": "stderr",
          "text": [
            "100%|██████████| 40/40 [00:02<00:00, 17.21it/s]\n"
          ]
        },
        {
          "output_type": "stream",
          "name": "stdout",
          "text": [
            "current loss: [[45.09635622]]\n",
            "running thread  <Thread(Thread-596, initial)>\n",
            "running thread  <Thread(Thread-597, initial)>\n",
            "running thread  <Thread(Thread-598, initial)>\n",
            "running thread  <Thread(Thread-599, initial)>\n",
            "running thread  <Thread(Thread-600, initial)>\n",
            "running thread  <Thread(Thread-601, initial)>\n",
            "running thread  <Thread(Thread-602, initial)>\n",
            "running thread  <Thread(Thread-603, initial)>\n",
            "Running minibatch sequential-scan SGD with momentum (8 threads)\n"
          ]
        },
        {
          "output_type": "stream",
          "name": "stderr",
          "text": [
            "100%|██████████| 40/40 [00:02<00:00, 17.60it/s]\n"
          ]
        },
        {
          "output_type": "stream",
          "name": "stdout",
          "text": [
            "current loss: [[47.45584609]]\n",
            "running thread  <Thread(Thread-604, initial)>\n",
            "running thread  <Thread(Thread-605, initial)>\n",
            "running thread  <Thread(Thread-606, initial)>\n",
            "running thread  <Thread(Thread-607, initial)>\n",
            "running thread  <Thread(Thread-608, initial)>\n",
            "running thread  <Thread(Thread-609, initial)>\n",
            "running thread  <Thread(Thread-610, initial)>\n",
            "running thread  <Thread(Thread-611, initial)>\n",
            "Running minibatch sequential-scan SGD with momentum (8 threads)\n"
          ]
        },
        {
          "output_type": "stream",
          "name": "stderr",
          "text": [
            "100%|██████████| 40/40 [00:03<00:00, 12.77it/s]\n"
          ]
        },
        {
          "output_type": "stream",
          "name": "stdout",
          "text": [
            "current loss: [[4.24541206e+211]]\n",
            "running thread  <Thread(Thread-612, initial)>\n",
            "running thread  <Thread(Thread-613, initial)>\n",
            "running thread  <Thread(Thread-614, initial)>\n",
            "running thread  <Thread(Thread-615, initial)>\n",
            "running thread  <Thread(Thread-616, initial)>\n",
            "running thread  <Thread(Thread-617, initial)>\n",
            "running thread  <Thread(Thread-618, initial)>\n",
            "running thread  <Thread(Thread-619, initial)>\n",
            "Running minibatch sequential-scan SGD with momentum (8 threads)\n"
          ]
        },
        {
          "output_type": "stream",
          "name": "stderr",
          "text": [
            "100%|██████████| 40/40 [00:03<00:00, 13.12it/s]\n"
          ]
        },
        {
          "output_type": "stream",
          "name": "stdout",
          "text": [
            "current loss: [[45.30190356]]\n",
            "running thread  <Thread(Thread-620, initial)>\n",
            "running thread  <Thread(Thread-621, initial)>\n",
            "running thread  <Thread(Thread-622, initial)>\n",
            "running thread  <Thread(Thread-623, initial)>\n",
            "running thread  <Thread(Thread-624, initial)>\n",
            "running thread  <Thread(Thread-625, initial)>\n",
            "running thread  <Thread(Thread-626, initial)>\n",
            "running thread  <Thread(Thread-627, initial)>\n",
            "Running minibatch sequential-scan SGD with momentum (8 threads)\n"
          ]
        },
        {
          "output_type": "stream",
          "name": "stderr",
          "text": [
            "100%|██████████| 40/40 [00:02<00:00, 16.91it/s]\n"
          ]
        },
        {
          "output_type": "stream",
          "name": "stdout",
          "text": [
            "current loss: [[7.19649247e+163]]\n",
            "running thread  <Thread(Thread-628, initial)>\n",
            "running thread  <Thread(Thread-629, initial)>\n",
            "running thread  <Thread(Thread-630, initial)>\n",
            "running thread  <Thread(Thread-631, initial)>\n",
            "running thread  <Thread(Thread-632, initial)>\n",
            "running thread  <Thread(Thread-633, initial)>\n",
            "running thread  <Thread(Thread-634, initial)>\n",
            "running thread  <Thread(Thread-635, initial)>\n",
            "Running minibatch sequential-scan SGD with momentum (8 threads)\n"
          ]
        },
        {
          "output_type": "stream",
          "name": "stderr",
          "text": [
            "100%|██████████| 40/40 [00:02<00:00, 17.03it/s]\n"
          ]
        },
        {
          "output_type": "stream",
          "name": "stdout",
          "text": [
            "current loss: [[2.34958513e+148]]\n",
            "running thread  <Thread(Thread-636, initial)>\n",
            "running thread  <Thread(Thread-637, initial)>\n",
            "running thread  <Thread(Thread-638, initial)>\n",
            "running thread  <Thread(Thread-639, initial)>\n",
            "running thread  <Thread(Thread-640, initial)>\n",
            "running thread  <Thread(Thread-641, initial)>\n",
            "running thread  <Thread(Thread-642, initial)>\n",
            "running thread  <Thread(Thread-643, initial)>\n",
            "Running minibatch sequential-scan SGD with momentum (8 threads)\n"
          ]
        },
        {
          "output_type": "stream",
          "name": "stderr",
          "text": [
            "100%|██████████| 40/40 [00:02<00:00, 17.21it/s]\n"
          ]
        },
        {
          "output_type": "stream",
          "name": "stdout",
          "text": [
            "current loss: [[nan]]\n",
            "running thread  <Thread(Thread-644, initial)>\n",
            "running thread  <Thread(Thread-645, initial)>\n",
            "running thread  <Thread(Thread-646, initial)>\n",
            "running thread  <Thread(Thread-647, initial)>\n",
            "running thread  <Thread(Thread-648, initial)>\n",
            "running thread  <Thread(Thread-649, initial)>\n",
            "running thread  <Thread(Thread-650, initial)>\n",
            "running thread  <Thread(Thread-651, initial)>\n",
            "Running minibatch sequential-scan SGD with momentum (8 threads)\n"
          ]
        },
        {
          "output_type": "stream",
          "name": "stderr",
          "text": [
            "100%|██████████| 40/40 [00:02<00:00, 14.84it/s]\n"
          ]
        },
        {
          "output_type": "stream",
          "name": "stdout",
          "text": [
            "current loss: [[5.50059187e+150]]\n",
            "running thread  <Thread(Thread-652, initial)>\n",
            "running thread  <Thread(Thread-653, initial)>\n",
            "running thread  <Thread(Thread-654, initial)>\n",
            "running thread  <Thread(Thread-655, initial)>\n",
            "running thread  <Thread(Thread-656, initial)>\n",
            "running thread  <Thread(Thread-657, initial)>\n",
            "running thread  <Thread(Thread-658, initial)>\n",
            "running thread  <Thread(Thread-659, initial)>\n",
            "Running minibatch sequential-scan SGD with momentum (8 threads)\n"
          ]
        },
        {
          "output_type": "stream",
          "name": "stderr",
          "text": [
            "100%|██████████| 40/40 [00:02<00:00, 13.61it/s]\n"
          ]
        },
        {
          "output_type": "stream",
          "name": "stdout",
          "text": [
            "current loss: [[45.64983455]]\n",
            "running thread  <Thread(Thread-660, initial)>\n",
            "running thread  <Thread(Thread-661, initial)>\n",
            "running thread  <Thread(Thread-662, initial)>\n",
            "running thread  <Thread(Thread-663, initial)>\n",
            "running thread  <Thread(Thread-664, initial)>\n",
            "running thread  <Thread(Thread-665, initial)>\n",
            "running thread  <Thread(Thread-666, initial)>\n",
            "running thread  <Thread(Thread-667, initial)>\n",
            "Running minibatch sequential-scan SGD with momentum (8 threads)\n"
          ]
        },
        {
          "output_type": "stream",
          "name": "stderr",
          "text": [
            "100%|██████████| 40/40 [00:02<00:00, 16.24it/s]\n"
          ]
        },
        {
          "output_type": "stream",
          "name": "stdout",
          "text": [
            "current loss: [[49.90130989]]\n",
            "running thread  <Thread(Thread-668, initial)>\n",
            "running thread  <Thread(Thread-669, initial)>\n",
            "running thread  <Thread(Thread-670, initial)>\n",
            "running thread  <Thread(Thread-671, initial)>\n",
            "running thread  <Thread(Thread-672, initial)>\n",
            "running thread  <Thread(Thread-673, initial)>\n",
            "running thread  <Thread(Thread-674, initial)>\n",
            "running thread  <Thread(Thread-675, initial)>\n",
            "Running minibatch sequential-scan SGD with momentum (8 threads)\n"
          ]
        },
        {
          "output_type": "stream",
          "name": "stderr",
          "text": [
            "100%|██████████| 40/40 [00:02<00:00, 16.49it/s]\n"
          ]
        },
        {
          "output_type": "stream",
          "name": "stdout",
          "text": [
            "current loss: [[49.46689304]]\n",
            "running thread  <Thread(Thread-676, initial)>\n",
            "running thread  <Thread(Thread-677, initial)>\n",
            "running thread  <Thread(Thread-678, initial)>\n",
            "running thread  <Thread(Thread-679, initial)>\n",
            "running thread  <Thread(Thread-680, initial)>\n",
            "running thread  <Thread(Thread-681, initial)>\n",
            "running thread  <Thread(Thread-682, initial)>\n",
            "running thread  <Thread(Thread-683, initial)>\n",
            "Running minibatch sequential-scan SGD with momentum (8 threads)\n"
          ]
        },
        {
          "output_type": "stream",
          "name": "stderr",
          "text": [
            "100%|██████████| 40/40 [00:03<00:00, 12.96it/s]\n"
          ]
        },
        {
          "output_type": "stream",
          "name": "stdout",
          "text": [
            "current loss: [[1.28088587e+275]]\n",
            "running thread  <Thread(Thread-684, initial)>\n",
            "running thread  <Thread(Thread-685, initial)>\n",
            "running thread  <Thread(Thread-686, initial)>\n",
            "running thread  <Thread(Thread-687, initial)>\n",
            "running thread  <Thread(Thread-688, initial)>\n",
            "running thread  <Thread(Thread-689, initial)>\n",
            "running thread  <Thread(Thread-690, initial)>\n",
            "running thread  <Thread(Thread-691, initial)>\n",
            "Running minibatch sequential-scan SGD with momentum (8 threads)\n"
          ]
        },
        {
          "output_type": "stream",
          "name": "stderr",
          "text": [
            "100%|██████████| 40/40 [00:02<00:00, 14.94it/s]\n"
          ]
        },
        {
          "output_type": "stream",
          "name": "stdout",
          "text": [
            "current loss: [[46.94985437]]\n",
            "running thread  <Thread(Thread-692, initial)>\n",
            "running thread  <Thread(Thread-693, initial)>\n",
            "running thread  <Thread(Thread-694, initial)>\n",
            "running thread  <Thread(Thread-695, initial)>\n",
            "running thread  <Thread(Thread-696, initial)>\n",
            "running thread  <Thread(Thread-697, initial)>\n",
            "running thread  <Thread(Thread-698, initial)>\n",
            "running thread  <Thread(Thread-699, initial)>\n",
            "Running minibatch sequential-scan SGD with momentum (8 threads)\n"
          ]
        },
        {
          "output_type": "stream",
          "name": "stderr",
          "text": [
            "100%|██████████| 40/40 [00:02<00:00, 13.55it/s]\n"
          ]
        },
        {
          "output_type": "stream",
          "name": "stdout",
          "text": [
            "current loss: [[nan]]\n",
            "running thread  <Thread(Thread-700, initial)>\n",
            "running thread  <Thread(Thread-701, initial)>\n",
            "running thread  <Thread(Thread-702, initial)>\n",
            "running thread  <Thread(Thread-703, initial)>\n",
            "running thread  <Thread(Thread-704, initial)>\n",
            "running thread  <Thread(Thread-705, initial)>\n",
            "running thread  <Thread(Thread-706, initial)>\n",
            "running thread  <Thread(Thread-707, initial)>\n",
            "Running minibatch sequential-scan SGD with momentum (8 threads)\n"
          ]
        },
        {
          "output_type": "stream",
          "name": "stderr",
          "text": [
            "100%|██████████| 40/40 [00:02<00:00, 14.94it/s]\n"
          ]
        },
        {
          "output_type": "stream",
          "name": "stdout",
          "text": [
            "current loss: [[7.60609651e+278]]\n",
            "running thread  <Thread(Thread-708, initial)>\n",
            "running thread  <Thread(Thread-709, initial)>\n",
            "running thread  <Thread(Thread-710, initial)>\n",
            "running thread  <Thread(Thread-711, initial)>\n",
            "running thread  <Thread(Thread-712, initial)>\n",
            "running thread  <Thread(Thread-713, initial)>\n",
            "running thread  <Thread(Thread-714, initial)>\n",
            "running thread  <Thread(Thread-715, initial)>\n",
            "Running minibatch sequential-scan SGD with momentum (8 threads)\n"
          ]
        },
        {
          "output_type": "stream",
          "name": "stderr",
          "text": [
            "100%|██████████| 40/40 [00:02<00:00, 17.19it/s]\n"
          ]
        },
        {
          "output_type": "stream",
          "name": "stdout",
          "text": [
            "current loss: [[3.94120365e+172]]\n",
            "running thread  <Thread(Thread-716, initial)>\n",
            "running thread  <Thread(Thread-717, initial)>\n",
            "running thread  <Thread(Thread-718, initial)>\n",
            "running thread  <Thread(Thread-719, initial)>\n",
            "running thread  <Thread(Thread-720, initial)>\n",
            "running thread  <Thread(Thread-721, initial)>\n",
            "running thread  <Thread(Thread-722, initial)>\n",
            "running thread  <Thread(Thread-723, initial)>\n",
            "Running minibatch sequential-scan SGD with momentum (8 threads)\n"
          ]
        },
        {
          "output_type": "stream",
          "name": "stderr",
          "text": [
            "100%|██████████| 40/40 [00:02<00:00, 17.16it/s]\n"
          ]
        },
        {
          "output_type": "stream",
          "name": "stdout",
          "text": [
            "current loss: [[4.087119e+231]]\n",
            "running thread  <Thread(Thread-724, initial)>\n",
            "running thread  <Thread(Thread-725, initial)>\n",
            "running thread  <Thread(Thread-726, initial)>\n",
            "running thread  <Thread(Thread-727, initial)>\n",
            "running thread  <Thread(Thread-728, initial)>\n",
            "running thread  <Thread(Thread-729, initial)>\n",
            "running thread  <Thread(Thread-730, initial)>\n",
            "running thread  <Thread(Thread-731, initial)>\n",
            "Running minibatch sequential-scan SGD with momentum (8 threads)\n"
          ]
        },
        {
          "output_type": "stream",
          "name": "stderr",
          "text": [
            "100%|██████████| 40/40 [00:02<00:00, 16.90it/s]\n"
          ]
        },
        {
          "output_type": "stream",
          "name": "stdout",
          "text": [
            "current loss: [[1.33901684e+35]]\n",
            "running thread  <Thread(Thread-732, initial)>\n",
            "running thread  <Thread(Thread-733, initial)>\n",
            "running thread  <Thread(Thread-734, initial)>\n",
            "running thread  <Thread(Thread-735, initial)>\n",
            "running thread  <Thread(Thread-736, initial)>\n",
            "running thread  <Thread(Thread-737, initial)>\n",
            "running thread  <Thread(Thread-738, initial)>\n",
            "running thread  <Thread(Thread-739, initial)>\n",
            "Running minibatch sequential-scan SGD with momentum (8 threads)\n"
          ]
        },
        {
          "output_type": "stream",
          "name": "stderr",
          "text": [
            "100%|██████████| 40/40 [00:02<00:00, 15.29it/s]\n"
          ]
        },
        {
          "output_type": "stream",
          "name": "stdout",
          "text": [
            "current loss: [[49.1829318]]\n",
            "running thread  <Thread(Thread-740, initial)>\n",
            "running thread  <Thread(Thread-741, initial)>\n",
            "running thread  <Thread(Thread-742, initial)>\n",
            "running thread  <Thread(Thread-743, initial)>\n",
            "running thread  <Thread(Thread-744, initial)>\n",
            "running thread  <Thread(Thread-745, initial)>\n",
            "running thread  <Thread(Thread-746, initial)>\n",
            "running thread  <Thread(Thread-747, initial)>\n",
            "Running minibatch sequential-scan SGD with momentum (8 threads)\n"
          ]
        },
        {
          "output_type": "stream",
          "name": "stderr",
          "text": [
            "100%|██████████| 40/40 [00:02<00:00, 13.58it/s]\n"
          ]
        },
        {
          "output_type": "stream",
          "name": "stdout",
          "text": [
            "current loss: [[8.06086224e+57]]\n",
            "running thread  <Thread(Thread-748, initial)>\n",
            "running thread  <Thread(Thread-749, initial)>\n",
            "running thread  <Thread(Thread-750, initial)>\n",
            "running thread  <Thread(Thread-751, initial)>\n",
            "running thread  <Thread(Thread-752, initial)>\n",
            "running thread  <Thread(Thread-753, initial)>\n",
            "running thread  <Thread(Thread-754, initial)>\n",
            "running thread  <Thread(Thread-755, initial)>\n",
            "Running minibatch sequential-scan SGD with momentum (8 threads)\n"
          ]
        },
        {
          "output_type": "stream",
          "name": "stderr",
          "text": [
            "100%|██████████| 40/40 [00:02<00:00, 16.12it/s]\n"
          ]
        },
        {
          "output_type": "stream",
          "name": "stdout",
          "text": [
            "current loss: [[nan]]\n",
            "running thread  <Thread(Thread-756, initial)>\n",
            "running thread  <Thread(Thread-757, initial)>\n",
            "running thread  <Thread(Thread-758, initial)>\n",
            "running thread  <Thread(Thread-759, initial)>\n",
            "running thread  <Thread(Thread-760, initial)>\n",
            "running thread  <Thread(Thread-761, initial)>\n",
            "running thread  <Thread(Thread-762, initial)>\n",
            "running thread  <Thread(Thread-763, initial)>\n",
            "Running minibatch sequential-scan SGD with momentum (8 threads)\n"
          ]
        },
        {
          "output_type": "stream",
          "name": "stderr",
          "text": [
            "100%|██████████| 40/40 [00:02<00:00, 17.05it/s]\n"
          ]
        },
        {
          "output_type": "stream",
          "name": "stdout",
          "text": [
            "current loss: [[nan]]\n",
            "running thread  <Thread(Thread-764, initial)>\n",
            "running thread  <Thread(Thread-765, initial)>\n",
            "running thread  <Thread(Thread-766, initial)>\n",
            "running thread  <Thread(Thread-767, initial)>\n",
            "running thread  <Thread(Thread-768, initial)>\n",
            "running thread  <Thread(Thread-769, initial)>\n",
            "running thread  <Thread(Thread-770, initial)>\n",
            "running thread  <Thread(Thread-771, initial)>\n",
            "Running minibatch sequential-scan SGD with momentum (8 threads)\n"
          ]
        },
        {
          "output_type": "stream",
          "name": "stderr",
          "text": [
            "100%|██████████| 40/40 [00:02<00:00, 17.74it/s]\n"
          ]
        },
        {
          "output_type": "stream",
          "name": "stdout",
          "text": [
            "current loss: [[45.02848964]]\n",
            "running thread  <Thread(Thread-772, initial)>\n",
            "running thread  <Thread(Thread-773, initial)>\n",
            "running thread  <Thread(Thread-774, initial)>\n",
            "running thread  <Thread(Thread-775, initial)>\n",
            "running thread  <Thread(Thread-776, initial)>\n",
            "running thread  <Thread(Thread-777, initial)>\n",
            "running thread  <Thread(Thread-778, initial)>\n",
            "running thread  <Thread(Thread-779, initial)>\n",
            "Running minibatch sequential-scan SGD with momentum (8 threads)\n"
          ]
        },
        {
          "output_type": "stream",
          "name": "stderr",
          "text": [
            "100%|██████████| 40/40 [00:02<00:00, 16.39it/s]\n"
          ]
        },
        {
          "output_type": "stream",
          "name": "stdout",
          "text": [
            "current loss: [[nan]]\n",
            "running thread  <Thread(Thread-780, initial)>\n",
            "running thread  <Thread(Thread-781, initial)>\n",
            "running thread  <Thread(Thread-782, initial)>\n",
            "running thread  <Thread(Thread-783, initial)>\n",
            "running thread  <Thread(Thread-784, initial)>\n",
            "running thread  <Thread(Thread-785, initial)>\n",
            "running thread  <Thread(Thread-786, initial)>\n",
            "running thread  <Thread(Thread-787, initial)>\n",
            "Running minibatch sequential-scan SGD with momentum (8 threads)\n"
          ]
        },
        {
          "output_type": "stream",
          "name": "stderr",
          "text": [
            "100%|██████████| 40/40 [00:02<00:00, 13.99it/s]\n"
          ]
        },
        {
          "output_type": "stream",
          "name": "stdout",
          "text": [
            "current loss: [[1.26378155e+69]]\n",
            "running thread  <Thread(Thread-788, initial)>\n",
            "running thread  <Thread(Thread-789, initial)>\n",
            "running thread  <Thread(Thread-790, initial)>\n",
            "running thread  <Thread(Thread-791, initial)>\n",
            "running thread  <Thread(Thread-792, initial)>\n",
            "running thread  <Thread(Thread-793, initial)>\n",
            "running thread  <Thread(Thread-794, initial)>\n",
            "running thread  <Thread(Thread-795, initial)>\n",
            "Running minibatch sequential-scan SGD with momentum (8 threads)\n"
          ]
        },
        {
          "output_type": "stream",
          "name": "stderr",
          "text": [
            "100%|██████████| 40/40 [00:02<00:00, 13.37it/s]\n"
          ]
        },
        {
          "output_type": "stream",
          "name": "stdout",
          "text": [
            "current loss: [[7.78605936e+92]]\n",
            "running thread  <Thread(Thread-796, initial)>\n",
            "running thread  <Thread(Thread-797, initial)>\n",
            "running thread  <Thread(Thread-798, initial)>\n",
            "running thread  <Thread(Thread-799, initial)>\n",
            "running thread  <Thread(Thread-800, initial)>\n",
            "running thread  <Thread(Thread-801, initial)>\n",
            "running thread  <Thread(Thread-802, initial)>\n",
            "running thread  <Thread(Thread-803, initial)>\n",
            "Running minibatch sequential-scan SGD with momentum (8 threads)\n"
          ]
        },
        {
          "output_type": "stream",
          "name": "stderr",
          "text": [
            "100%|██████████| 40/40 [00:02<00:00, 17.13it/s]\n"
          ]
        },
        {
          "output_type": "stream",
          "name": "stdout",
          "text": [
            "current loss: [[2.51853361e+129]]\n",
            "running thread  <Thread(Thread-804, initial)>\n",
            "running thread  <Thread(Thread-805, initial)>\n",
            "running thread  <Thread(Thread-806, initial)>\n",
            "running thread  <Thread(Thread-807, initial)>\n",
            "running thread  <Thread(Thread-808, initial)>\n",
            "running thread  <Thread(Thread-809, initial)>\n",
            "running thread  <Thread(Thread-810, initial)>\n",
            "running thread  <Thread(Thread-811, initial)>\n",
            "Running minibatch sequential-scan SGD with momentum (8 threads)\n"
          ]
        },
        {
          "output_type": "stream",
          "name": "stderr",
          "text": [
            "100%|██████████| 40/40 [00:02<00:00, 16.92it/s]\n"
          ]
        },
        {
          "output_type": "stream",
          "name": "stdout",
          "text": [
            "current loss: [[3.79212734e+273]]\n",
            "running thread  <Thread(Thread-812, initial)>\n",
            "running thread  <Thread(Thread-813, initial)>\n",
            "running thread  <Thread(Thread-814, initial)>\n",
            "running thread  <Thread(Thread-815, initial)>\n",
            "running thread  <Thread(Thread-816, initial)>\n",
            "running thread  <Thread(Thread-817, initial)>\n",
            "running thread  <Thread(Thread-818, initial)>\n",
            "running thread  <Thread(Thread-819, initial)>\n",
            "Running minibatch sequential-scan SGD with momentum (8 threads)\n"
          ]
        },
        {
          "output_type": "stream",
          "name": "stderr",
          "text": [
            "100%|██████████| 40/40 [00:02<00:00, 16.74it/s]\n"
          ]
        },
        {
          "output_type": "stream",
          "name": "stdout",
          "text": [
            "current loss: [[4.21552295e+151]]\n",
            "running thread  <Thread(Thread-820, initial)>\n",
            "running thread  <Thread(Thread-821, initial)>\n",
            "running thread  <Thread(Thread-822, initial)>\n",
            "running thread  <Thread(Thread-823, initial)>\n",
            "running thread  <Thread(Thread-824, initial)>\n",
            "running thread  <Thread(Thread-825, initial)>\n",
            "running thread  <Thread(Thread-826, initial)>\n",
            "running thread  <Thread(Thread-827, initial)>\n",
            "Running minibatch sequential-scan SGD with momentum (8 threads)\n"
          ]
        },
        {
          "output_type": "stream",
          "name": "stderr",
          "text": [
            "100%|██████████| 40/40 [00:02<00:00, 17.38it/s]\n"
          ]
        },
        {
          "output_type": "stream",
          "name": "stdout",
          "text": [
            "current loss: [[46.18873732]]\n",
            "running thread  <Thread(Thread-828, initial)>\n",
            "running thread  <Thread(Thread-829, initial)>\n",
            "running thread  <Thread(Thread-830, initial)>\n",
            "running thread  <Thread(Thread-831, initial)>\n",
            "running thread  <Thread(Thread-832, initial)>\n",
            "running thread  <Thread(Thread-833, initial)>\n",
            "running thread  <Thread(Thread-834, initial)>\n",
            "running thread  <Thread(Thread-835, initial)>\n",
            "Running minibatch sequential-scan SGD with momentum (8 threads)\n"
          ]
        },
        {
          "output_type": "stream",
          "name": "stderr",
          "text": [
            "100%|██████████| 40/40 [00:02<00:00, 13.72it/s]\n"
          ]
        },
        {
          "output_type": "stream",
          "name": "stdout",
          "text": [
            "current loss: [[47.90089042]]\n",
            "running thread  <Thread(Thread-836, initial)>\n",
            "running thread  <Thread(Thread-837, initial)>\n",
            "running thread  <Thread(Thread-838, initial)>\n",
            "running thread  <Thread(Thread-839, initial)>\n",
            "running thread  <Thread(Thread-840, initial)>\n",
            "running thread  <Thread(Thread-841, initial)>\n",
            "running thread  <Thread(Thread-842, initial)>\n",
            "running thread  <Thread(Thread-843, initial)>\n",
            "Running minibatch sequential-scan SGD with momentum (8 threads)\n"
          ]
        },
        {
          "output_type": "stream",
          "name": "stderr",
          "text": [
            "100%|██████████| 40/40 [00:02<00:00, 14.50it/s]\n"
          ]
        },
        {
          "output_type": "stream",
          "name": "stdout",
          "text": [
            "current loss: [[49.93538929]]\n",
            "running thread  <Thread(Thread-844, initial)>\n",
            "running thread  <Thread(Thread-845, initial)>\n",
            "running thread  <Thread(Thread-846, initial)>\n",
            "running thread  <Thread(Thread-847, initial)>\n",
            "running thread  <Thread(Thread-848, initial)>\n",
            "running thread  <Thread(Thread-849, initial)>\n",
            "running thread  <Thread(Thread-850, initial)>\n",
            "running thread  <Thread(Thread-851, initial)>\n",
            "Running minibatch sequential-scan SGD with momentum (8 threads)\n"
          ]
        },
        {
          "output_type": "stream",
          "name": "stderr",
          "text": [
            "100%|██████████| 40/40 [00:02<00:00, 16.31it/s]\n"
          ]
        },
        {
          "output_type": "stream",
          "name": "stdout",
          "text": [
            "current loss: [[7.27390761e+121]]\n",
            "running thread  <Thread(Thread-852, initial)>\n",
            "running thread  <Thread(Thread-853, initial)>\n",
            "running thread  <Thread(Thread-854, initial)>\n",
            "running thread  <Thread(Thread-855, initial)>\n",
            "running thread  <Thread(Thread-856, initial)>\n",
            "running thread  <Thread(Thread-857, initial)>\n",
            "running thread  <Thread(Thread-858, initial)>\n",
            "running thread  <Thread(Thread-859, initial)>\n",
            "Running minibatch sequential-scan SGD with momentum (8 threads)\n"
          ]
        },
        {
          "output_type": "stream",
          "name": "stderr",
          "text": [
            "100%|██████████| 40/40 [00:02<00:00, 17.19it/s]\n"
          ]
        },
        {
          "output_type": "stream",
          "name": "stdout",
          "text": [
            "current loss: [[45.57555012]]\n",
            "running thread  <Thread(Thread-860, initial)>\n",
            "running thread  <Thread(Thread-861, initial)>\n",
            "running thread  <Thread(Thread-862, initial)>\n",
            "running thread  <Thread(Thread-863, initial)>\n",
            "running thread  <Thread(Thread-864, initial)>\n",
            "running thread  <Thread(Thread-865, initial)>\n",
            "running thread  <Thread(Thread-866, initial)>\n",
            "running thread  <Thread(Thread-867, initial)>\n",
            "Running minibatch sequential-scan SGD with momentum (8 threads)\n"
          ]
        },
        {
          "output_type": "stream",
          "name": "stderr",
          "text": [
            "100%|██████████| 40/40 [00:02<00:00, 16.65it/s]\n"
          ]
        },
        {
          "output_type": "stream",
          "name": "stdout",
          "text": [
            "current loss: [[1.53613808e+180]]\n",
            "running thread  <Thread(Thread-868, initial)>\n",
            "running thread  <Thread(Thread-869, initial)>\n",
            "running thread  <Thread(Thread-870, initial)>\n",
            "running thread  <Thread(Thread-871, initial)>\n",
            "running thread  <Thread(Thread-872, initial)>\n",
            "running thread  <Thread(Thread-873, initial)>\n",
            "running thread  <Thread(Thread-874, initial)>\n",
            "running thread  <Thread(Thread-875, initial)>\n",
            "Running minibatch sequential-scan SGD with momentum (8 threads)\n"
          ]
        },
        {
          "output_type": "stream",
          "name": "stderr",
          "text": [
            "100%|██████████| 40/40 [00:02<00:00, 16.16it/s]\n"
          ]
        },
        {
          "output_type": "stream",
          "name": "stdout",
          "text": [
            "current loss: [[3.53846099e+16]]\n",
            "running thread  <Thread(Thread-876, initial)>\n",
            "running thread  <Thread(Thread-877, initial)>\n",
            "running thread  <Thread(Thread-878, initial)>\n",
            "running thread  <Thread(Thread-879, initial)>\n",
            "running thread  <Thread(Thread-880, initial)>\n",
            "running thread  <Thread(Thread-881, initial)>\n",
            "running thread  <Thread(Thread-882, initial)>\n",
            "running thread  <Thread(Thread-883, initial)>\n",
            "Running minibatch sequential-scan SGD with momentum (8 threads)\n"
          ]
        },
        {
          "output_type": "stream",
          "name": "stderr",
          "text": [
            "100%|██████████| 40/40 [00:02<00:00, 13.44it/s]\n"
          ]
        },
        {
          "output_type": "stream",
          "name": "stdout",
          "text": [
            "current loss: [[3.32666634e+141]]\n",
            "running thread  <Thread(Thread-884, initial)>\n",
            "running thread  <Thread(Thread-885, initial)>\n",
            "running thread  <Thread(Thread-886, initial)>\n",
            "running thread  <Thread(Thread-887, initial)>\n",
            "running thread  <Thread(Thread-888, initial)>\n",
            "running thread  <Thread(Thread-889, initial)>\n",
            "running thread  <Thread(Thread-890, initial)>\n",
            "running thread  <Thread(Thread-891, initial)>\n",
            "Running minibatch sequential-scan SGD with momentum (8 threads)\n"
          ]
        },
        {
          "output_type": "stream",
          "name": "stderr",
          "text": [
            "100%|██████████| 40/40 [00:02<00:00, 15.41it/s]\n"
          ]
        },
        {
          "output_type": "stream",
          "name": "stdout",
          "text": [
            "current loss: [[49.90102123]]\n",
            "running thread  <Thread(Thread-892, initial)>\n",
            "running thread  <Thread(Thread-893, initial)>\n",
            "running thread  <Thread(Thread-894, initial)>\n",
            "running thread  <Thread(Thread-895, initial)>\n",
            "running thread  <Thread(Thread-896, initial)>\n",
            "running thread  <Thread(Thread-897, initial)>\n",
            "running thread  <Thread(Thread-898, initial)>\n",
            "running thread  <Thread(Thread-899, initial)>\n",
            "Running minibatch sequential-scan SGD with momentum (8 threads)\n"
          ]
        },
        {
          "output_type": "stream",
          "name": "stderr",
          "text": [
            "100%|██████████| 40/40 [00:02<00:00, 17.51it/s]\n"
          ]
        },
        {
          "output_type": "stream",
          "name": "stdout",
          "text": [
            "current loss: [[49.47042631]]\n",
            "running thread  <Thread(Thread-900, initial)>\n",
            "running thread  <Thread(Thread-901, initial)>\n",
            "running thread  <Thread(Thread-902, initial)>\n",
            "running thread  <Thread(Thread-903, initial)>\n",
            "running thread  <Thread(Thread-904, initial)>\n",
            "running thread  <Thread(Thread-905, initial)>\n",
            "running thread  <Thread(Thread-906, initial)>\n",
            "running thread  <Thread(Thread-907, initial)>\n",
            "Running minibatch sequential-scan SGD with momentum (8 threads)\n"
          ]
        },
        {
          "output_type": "stream",
          "name": "stderr",
          "text": [
            "100%|██████████| 40/40 [00:02<00:00, 16.95it/s]\n"
          ]
        },
        {
          "output_type": "stream",
          "name": "stdout",
          "text": [
            "current loss: [[nan]]\n",
            "running thread  <Thread(Thread-908, initial)>\n",
            "running thread  <Thread(Thread-909, initial)>\n",
            "running thread  <Thread(Thread-910, initial)>\n",
            "running thread  <Thread(Thread-911, initial)>\n",
            "running thread  <Thread(Thread-912, initial)>\n",
            "running thread  <Thread(Thread-913, initial)>\n",
            "running thread  <Thread(Thread-914, initial)>\n",
            "running thread  <Thread(Thread-915, initial)>\n",
            "Running minibatch sequential-scan SGD with momentum (8 threads)\n"
          ]
        },
        {
          "output_type": "stream",
          "name": "stderr",
          "text": [
            "100%|██████████| 40/40 [00:02<00:00, 16.46it/s]\n"
          ]
        },
        {
          "output_type": "stream",
          "name": "stdout",
          "text": [
            "current loss: [[1.50177251e+67]]\n",
            "running thread  <Thread(Thread-916, initial)>\n",
            "running thread  <Thread(Thread-917, initial)>\n",
            "running thread  <Thread(Thread-918, initial)>\n",
            "running thread  <Thread(Thread-919, initial)>\n",
            "running thread  <Thread(Thread-920, initial)>\n",
            "running thread  <Thread(Thread-921, initial)>\n",
            "running thread  <Thread(Thread-922, initial)>\n",
            "running thread  <Thread(Thread-923, initial)>\n",
            "Running minibatch sequential-scan SGD with momentum (8 threads)\n"
          ]
        },
        {
          "output_type": "stream",
          "name": "stderr",
          "text": [
            "100%|██████████| 40/40 [00:02<00:00, 14.67it/s]\n"
          ]
        },
        {
          "output_type": "stream",
          "name": "stdout",
          "text": [
            "current loss: [[2.45835355e+245]]\n",
            "running thread  <Thread(Thread-924, initial)>\n",
            "running thread  <Thread(Thread-925, initial)>\n",
            "running thread  <Thread(Thread-926, initial)>\n",
            "running thread  <Thread(Thread-927, initial)>\n",
            "running thread  <Thread(Thread-928, initial)>\n",
            "running thread  <Thread(Thread-929, initial)>\n",
            "running thread  <Thread(Thread-930, initial)>\n",
            "running thread  <Thread(Thread-931, initial)>\n",
            "Running minibatch sequential-scan SGD with momentum (8 threads)\n"
          ]
        },
        {
          "output_type": "stream",
          "name": "stderr",
          "text": [
            "100%|██████████| 40/40 [00:02<00:00, 13.51it/s]\n"
          ]
        },
        {
          "output_type": "stream",
          "name": "stdout",
          "text": [
            "current loss: [[nan]]\n",
            "running thread  <Thread(Thread-932, initial)>\n",
            "running thread  <Thread(Thread-933, initial)>\n",
            "running thread  <Thread(Thread-934, initial)>\n",
            "running thread  <Thread(Thread-935, initial)>\n",
            "running thread  <Thread(Thread-936, initial)>\n",
            "running thread  <Thread(Thread-937, initial)>\n",
            "running thread  <Thread(Thread-938, initial)>\n",
            "running thread  <Thread(Thread-939, initial)>\n",
            "Running minibatch sequential-scan SGD with momentum (8 threads)\n"
          ]
        },
        {
          "output_type": "stream",
          "name": "stderr",
          "text": [
            "100%|██████████| 40/40 [00:02<00:00, 15.59it/s]\n"
          ]
        },
        {
          "output_type": "stream",
          "name": "stdout",
          "text": [
            "current loss: [[nan]]\n",
            "running thread  <Thread(Thread-940, initial)>\n",
            "running thread  <Thread(Thread-941, initial)>\n",
            "running thread  <Thread(Thread-942, initial)>\n",
            "running thread  <Thread(Thread-943, initial)>\n",
            "running thread  <Thread(Thread-944, initial)>\n",
            "running thread  <Thread(Thread-945, initial)>\n",
            "running thread  <Thread(Thread-946, initial)>\n",
            "running thread  <Thread(Thread-947, initial)>\n",
            "Running minibatch sequential-scan SGD with momentum (8 threads)\n"
          ]
        },
        {
          "output_type": "stream",
          "name": "stderr",
          "text": [
            "100%|██████████| 40/40 [00:02<00:00, 17.48it/s]\n"
          ]
        },
        {
          "output_type": "stream",
          "name": "stdout",
          "text": [
            "current loss: [[1.44125859e+206]]\n",
            "running thread  <Thread(Thread-948, initial)>\n",
            "running thread  <Thread(Thread-949, initial)>\n",
            "running thread  <Thread(Thread-950, initial)>\n",
            "running thread  <Thread(Thread-951, initial)>\n",
            "running thread  <Thread(Thread-952, initial)>\n",
            "running thread  <Thread(Thread-953, initial)>\n",
            "running thread  <Thread(Thread-954, initial)>\n",
            "running thread  <Thread(Thread-955, initial)>\n",
            "Running minibatch sequential-scan SGD with momentum (8 threads)\n"
          ]
        },
        {
          "output_type": "stream",
          "name": "stderr",
          "text": [
            "100%|██████████| 40/40 [00:02<00:00, 17.03it/s]\n"
          ]
        },
        {
          "output_type": "stream",
          "name": "stdout",
          "text": [
            "current loss: [[8.37957127e+168]]\n",
            "running thread  <Thread(Thread-956, initial)>\n",
            "running thread  <Thread(Thread-957, initial)>\n",
            "running thread  <Thread(Thread-958, initial)>\n",
            "running thread  <Thread(Thread-959, initial)>\n",
            "running thread  <Thread(Thread-960, initial)>\n",
            "running thread  <Thread(Thread-961, initial)>\n",
            "running thread  <Thread(Thread-962, initial)>\n",
            "running thread  <Thread(Thread-963, initial)>\n",
            "Running minibatch sequential-scan SGD with momentum (8 threads)\n"
          ]
        },
        {
          "output_type": "stream",
          "name": "stderr",
          "text": [
            "100%|██████████| 40/40 [00:02<00:00, 16.81it/s]\n"
          ]
        },
        {
          "output_type": "stream",
          "name": "stdout",
          "text": [
            "current loss: [[46.14478078]]\n",
            "running thread  <Thread(Thread-964, initial)>\n",
            "running thread  <Thread(Thread-965, initial)>\n",
            "running thread  <Thread(Thread-966, initial)>\n",
            "running thread  <Thread(Thread-967, initial)>\n",
            "running thread  <Thread(Thread-968, initial)>\n",
            "running thread  <Thread(Thread-969, initial)>\n",
            "running thread  <Thread(Thread-970, initial)>\n",
            "running thread  <Thread(Thread-971, initial)>\n",
            "Running minibatch sequential-scan SGD with momentum (8 threads)\n"
          ]
        },
        {
          "output_type": "stream",
          "name": "stderr",
          "text": [
            "100%|██████████| 40/40 [00:02<00:00, 13.74it/s]\n"
          ]
        },
        {
          "output_type": "stream",
          "name": "stdout",
          "text": [
            "current loss: [[1.25709272e+71]]\n",
            "running thread  <Thread(Thread-972, initial)>\n",
            "running thread  <Thread(Thread-973, initial)>\n",
            "running thread  <Thread(Thread-974, initial)>\n",
            "running thread  <Thread(Thread-975, initial)>\n",
            "running thread  <Thread(Thread-976, initial)>\n",
            "running thread  <Thread(Thread-977, initial)>\n",
            "running thread  <Thread(Thread-978, initial)>\n",
            "running thread  <Thread(Thread-979, initial)>\n",
            "Running minibatch sequential-scan SGD with momentum (8 threads)\n"
          ]
        },
        {
          "output_type": "stream",
          "name": "stderr",
          "text": [
            "100%|██████████| 40/40 [00:02<00:00, 13.66it/s]\n"
          ]
        },
        {
          "output_type": "stream",
          "name": "stdout",
          "text": [
            "current loss: [[1.39625781e+39]]\n",
            "running thread  <Thread(Thread-980, initial)>\n",
            "running thread  <Thread(Thread-981, initial)>\n",
            "running thread  <Thread(Thread-982, initial)>\n",
            "running thread  <Thread(Thread-983, initial)>\n",
            "running thread  <Thread(Thread-984, initial)>\n",
            "running thread  <Thread(Thread-985, initial)>\n",
            "running thread  <Thread(Thread-986, initial)>\n",
            "running thread  <Thread(Thread-987, initial)>\n",
            "Running minibatch sequential-scan SGD with momentum (8 threads)\n"
          ]
        },
        {
          "output_type": "stream",
          "name": "stderr",
          "text": [
            "100%|██████████| 40/40 [00:02<00:00, 16.79it/s]\n"
          ]
        },
        {
          "output_type": "stream",
          "name": "stdout",
          "text": [
            "current loss: [[5.98068932e+252]]\n",
            "running thread  <Thread(Thread-988, initial)>\n",
            "running thread  <Thread(Thread-989, initial)>\n",
            "running thread  <Thread(Thread-990, initial)>\n",
            "running thread  <Thread(Thread-991, initial)>\n",
            "running thread  <Thread(Thread-992, initial)>\n",
            "running thread  <Thread(Thread-993, initial)>\n",
            "running thread  <Thread(Thread-994, initial)>\n",
            "running thread  <Thread(Thread-995, initial)>\n",
            "Running minibatch sequential-scan SGD with momentum (8 threads)\n"
          ]
        },
        {
          "output_type": "stream",
          "name": "stderr",
          "text": [
            "100%|██████████| 40/40 [00:02<00:00, 17.28it/s]\n"
          ]
        },
        {
          "output_type": "stream",
          "name": "stdout",
          "text": [
            "current loss: [[49.38707217]]\n",
            "running thread  <Thread(Thread-996, initial)>\n",
            "running thread  <Thread(Thread-997, initial)>\n",
            "running thread  <Thread(Thread-998, initial)>\n",
            "running thread  <Thread(Thread-999, initial)>\n",
            "running thread  <Thread(Thread-1000, initial)>\n",
            "running thread  <Thread(Thread-1001, initial)>\n",
            "running thread  <Thread(Thread-1002, initial)>\n",
            "running thread  <Thread(Thread-1003, initial)>\n",
            "Running minibatch sequential-scan SGD with momentum (8 threads)\n"
          ]
        },
        {
          "output_type": "stream",
          "name": "stderr",
          "text": [
            "100%|██████████| 40/40 [00:02<00:00, 16.61it/s]\n"
          ]
        },
        {
          "output_type": "stream",
          "name": "stdout",
          "text": [
            "current loss: [[5.545759e+122]]\n",
            "running thread  <Thread(Thread-1004, initial)>\n",
            "running thread  <Thread(Thread-1005, initial)>\n",
            "running thread  <Thread(Thread-1006, initial)>\n",
            "running thread  <Thread(Thread-1007, initial)>\n",
            "running thread  <Thread(Thread-1008, initial)>\n",
            "running thread  <Thread(Thread-1009, initial)>\n",
            "running thread  <Thread(Thread-1010, initial)>\n",
            "running thread  <Thread(Thread-1011, initial)>\n",
            "Running minibatch sequential-scan SGD with momentum (8 threads)\n"
          ]
        },
        {
          "output_type": "stream",
          "name": "stderr",
          "text": [
            "100%|██████████| 40/40 [00:02<00:00, 16.80it/s]\n"
          ]
        },
        {
          "output_type": "stream",
          "name": "stdout",
          "text": [
            "current loss: [[45.21844205]]\n",
            "running thread  <Thread(Thread-1012, initial)>\n",
            "running thread  <Thread(Thread-1013, initial)>\n",
            "running thread  <Thread(Thread-1014, initial)>\n",
            "running thread  <Thread(Thread-1015, initial)>\n",
            "running thread  <Thread(Thread-1016, initial)>\n",
            "running thread  <Thread(Thread-1017, initial)>\n",
            "running thread  <Thread(Thread-1018, initial)>\n",
            "running thread  <Thread(Thread-1019, initial)>\n",
            "Running minibatch sequential-scan SGD with momentum (8 threads)\n"
          ]
        },
        {
          "output_type": "stream",
          "name": "stderr",
          "text": [
            "100%|██████████| 40/40 [00:03<00:00, 13.11it/s]\n"
          ]
        },
        {
          "output_type": "stream",
          "name": "stdout",
          "text": [
            "current loss: [[7.79624072e+157]]\n",
            "running thread  <Thread(Thread-1020, initial)>\n",
            "running thread  <Thread(Thread-1021, initial)>\n",
            "running thread  <Thread(Thread-1022, initial)>\n",
            "running thread  <Thread(Thread-1023, initial)>\n",
            "running thread  <Thread(Thread-1024, initial)>\n",
            "running thread  <Thread(Thread-1025, initial)>\n",
            "running thread  <Thread(Thread-1026, initial)>\n",
            "running thread  <Thread(Thread-1027, initial)>\n",
            "Running minibatch sequential-scan SGD with momentum (8 threads)\n"
          ]
        },
        {
          "output_type": "stream",
          "name": "stderr",
          "text": [
            "100%|██████████| 40/40 [00:02<00:00, 15.51it/s]\n"
          ]
        },
        {
          "output_type": "stream",
          "name": "stdout",
          "text": [
            "current loss: [[47.83850855]]\n",
            "running thread  <Thread(Thread-1028, initial)>\n",
            "running thread  <Thread(Thread-1029, initial)>\n",
            "running thread  <Thread(Thread-1030, initial)>\n",
            "running thread  <Thread(Thread-1031, initial)>\n",
            "running thread  <Thread(Thread-1032, initial)>\n",
            "running thread  <Thread(Thread-1033, initial)>\n",
            "running thread  <Thread(Thread-1034, initial)>\n",
            "running thread  <Thread(Thread-1035, initial)>\n",
            "Running minibatch sequential-scan SGD with momentum (8 threads)\n"
          ]
        },
        {
          "output_type": "stream",
          "name": "stderr",
          "text": [
            "100%|██████████| 40/40 [00:02<00:00, 16.24it/s]\n"
          ]
        },
        {
          "output_type": "stream",
          "name": "stdout",
          "text": [
            "current loss: [[49.90130989]]\n",
            "running thread  <Thread(Thread-1036, initial)>\n",
            "running thread  <Thread(Thread-1037, initial)>\n",
            "running thread  <Thread(Thread-1038, initial)>\n",
            "running thread  <Thread(Thread-1039, initial)>\n",
            "running thread  <Thread(Thread-1040, initial)>\n",
            "running thread  <Thread(Thread-1041, initial)>\n",
            "running thread  <Thread(Thread-1042, initial)>\n",
            "running thread  <Thread(Thread-1043, initial)>\n",
            "Running minibatch sequential-scan SGD with momentum (8 threads)\n"
          ]
        },
        {
          "output_type": "stream",
          "name": "stderr",
          "text": [
            "100%|██████████| 40/40 [00:02<00:00, 16.90it/s]\n"
          ]
        },
        {
          "output_type": "stream",
          "name": "stdout",
          "text": [
            "current loss: [[5.96599635e+53]]\n",
            "running thread  <Thread(Thread-1044, initial)>\n",
            "running thread  <Thread(Thread-1045, initial)>\n",
            "running thread  <Thread(Thread-1046, initial)>\n",
            "running thread  <Thread(Thread-1047, initial)>\n",
            "running thread  <Thread(Thread-1048, initial)>\n",
            "running thread  <Thread(Thread-1049, initial)>\n",
            "running thread  <Thread(Thread-1050, initial)>\n",
            "running thread  <Thread(Thread-1051, initial)>\n",
            "Running minibatch sequential-scan SGD with momentum (8 threads)\n"
          ]
        },
        {
          "output_type": "stream",
          "name": "stderr",
          "text": [
            "100%|██████████| 40/40 [00:02<00:00, 16.29it/s]\n"
          ]
        },
        {
          "output_type": "stream",
          "name": "stdout",
          "text": [
            "current loss: [[1.13231134e+50]]\n",
            "running thread  <Thread(Thread-1052, initial)>\n",
            "running thread  <Thread(Thread-1053, initial)>\n",
            "running thread  <Thread(Thread-1054, initial)>\n",
            "running thread  <Thread(Thread-1055, initial)>\n",
            "running thread  <Thread(Thread-1056, initial)>\n",
            "running thread  <Thread(Thread-1057, initial)>\n",
            "running thread  <Thread(Thread-1058, initial)>\n",
            "running thread  <Thread(Thread-1059, initial)>\n",
            "Running minibatch sequential-scan SGD with momentum (8 threads)\n"
          ]
        },
        {
          "output_type": "stream",
          "name": "stderr",
          "text": [
            "100%|██████████| 40/40 [00:02<00:00, 14.17it/s]\n"
          ]
        },
        {
          "output_type": "stream",
          "name": "stdout",
          "text": [
            "current loss: [[3.58305193e+169]]\n",
            "running thread  <Thread(Thread-1060, initial)>\n",
            "running thread  <Thread(Thread-1061, initial)>\n",
            "running thread  <Thread(Thread-1062, initial)>\n",
            "running thread  <Thread(Thread-1063, initial)>\n",
            "running thread  <Thread(Thread-1064, initial)>\n",
            "running thread  <Thread(Thread-1065, initial)>\n",
            "running thread  <Thread(Thread-1066, initial)>\n",
            "running thread  <Thread(Thread-1067, initial)>\n",
            "Running minibatch sequential-scan SGD with momentum (8 threads)\n"
          ]
        },
        {
          "output_type": "stream",
          "name": "stderr",
          "text": [
            "100%|██████████| 40/40 [00:03<00:00, 13.05it/s]\n"
          ]
        },
        {
          "output_type": "stream",
          "name": "stdout",
          "text": [
            "current loss: [[5.03782626e+183]]\n",
            "running thread  <Thread(Thread-1068, initial)>\n",
            "running thread  <Thread(Thread-1069, initial)>\n",
            "running thread  <Thread(Thread-1070, initial)>\n",
            "running thread  <Thread(Thread-1071, initial)>\n",
            "running thread  <Thread(Thread-1072, initial)>\n",
            "running thread  <Thread(Thread-1073, initial)>\n",
            "running thread  <Thread(Thread-1074, initial)>\n",
            "running thread  <Thread(Thread-1075, initial)>\n",
            "Running minibatch sequential-scan SGD with momentum (8 threads)\n"
          ]
        },
        {
          "output_type": "stream",
          "name": "stderr",
          "text": [
            "100%|██████████| 40/40 [00:02<00:00, 16.50it/s]\n"
          ]
        },
        {
          "output_type": "stream",
          "name": "stdout",
          "text": [
            "current loss: [[6.86298104e+43]]\n",
            "running thread  <Thread(Thread-1076, initial)>\n",
            "running thread  <Thread(Thread-1077, initial)>\n",
            "running thread  <Thread(Thread-1078, initial)>\n",
            "running thread  <Thread(Thread-1079, initial)>\n",
            "running thread  <Thread(Thread-1080, initial)>\n",
            "running thread  <Thread(Thread-1081, initial)>\n",
            "running thread  <Thread(Thread-1082, initial)>\n",
            "running thread  <Thread(Thread-1083, initial)>\n",
            "Running minibatch sequential-scan SGD with momentum (8 threads)\n"
          ]
        },
        {
          "output_type": "stream",
          "name": "stderr",
          "text": [
            "100%|██████████| 40/40 [00:02<00:00, 16.83it/s]\n"
          ]
        },
        {
          "output_type": "stream",
          "name": "stdout",
          "text": [
            "current loss: [[8.46800574e+92]]\n",
            "running thread  <Thread(Thread-1084, initial)>\n",
            "running thread  <Thread(Thread-1085, initial)>\n",
            "running thread  <Thread(Thread-1086, initial)>\n",
            "running thread  <Thread(Thread-1087, initial)>\n",
            "running thread  <Thread(Thread-1088, initial)>\n",
            "running thread  <Thread(Thread-1089, initial)>\n",
            "running thread  <Thread(Thread-1090, initial)>\n",
            "running thread  <Thread(Thread-1091, initial)>\n",
            "Running minibatch sequential-scan SGD with momentum (8 threads)\n"
          ]
        },
        {
          "output_type": "stream",
          "name": "stderr",
          "text": [
            "100%|██████████| 40/40 [00:02<00:00, 16.37it/s]\n"
          ]
        },
        {
          "output_type": "stream",
          "name": "stdout",
          "text": [
            "current loss: [[4.28721055e+26]]\n",
            "running thread  <Thread(Thread-1092, initial)>\n",
            "running thread  <Thread(Thread-1093, initial)>\n",
            "running thread  <Thread(Thread-1094, initial)>\n",
            "running thread  <Thread(Thread-1095, initial)>\n",
            "running thread  <Thread(Thread-1096, initial)>\n",
            "running thread  <Thread(Thread-1097, initial)>\n",
            "running thread  <Thread(Thread-1098, initial)>\n",
            "running thread  <Thread(Thread-1099, initial)>\n",
            "Running minibatch sequential-scan SGD with momentum (8 threads)\n"
          ]
        },
        {
          "output_type": "stream",
          "name": "stderr",
          "text": [
            "100%|██████████| 40/40 [00:02<00:00, 16.58it/s]\n"
          ]
        },
        {
          "output_type": "stream",
          "name": "stdout",
          "text": [
            "current loss: [[6.61790597e+203]]\n",
            "running thread  <Thread(Thread-1100, initial)>\n",
            "running thread  <Thread(Thread-1101, initial)>\n",
            "running thread  <Thread(Thread-1102, initial)>\n",
            "running thread  <Thread(Thread-1103, initial)>\n",
            "running thread  <Thread(Thread-1104, initial)>\n",
            "running thread  <Thread(Thread-1105, initial)>\n",
            "running thread  <Thread(Thread-1106, initial)>\n",
            "running thread  <Thread(Thread-1107, initial)>\n",
            "Running minibatch sequential-scan SGD with momentum (8 threads)\n"
          ]
        },
        {
          "output_type": "stream",
          "name": "stderr",
          "text": [
            "100%|██████████| 40/40 [00:02<00:00, 13.40it/s]\n"
          ]
        },
        {
          "output_type": "stream",
          "name": "stdout",
          "text": [
            "current loss: [[1.06751699e+127]]\n",
            "running thread  <Thread(Thread-1108, initial)>\n",
            "running thread  <Thread(Thread-1109, initial)>\n",
            "running thread  <Thread(Thread-1110, initial)>\n",
            "running thread  <Thread(Thread-1111, initial)>\n",
            "running thread  <Thread(Thread-1112, initial)>\n",
            "running thread  <Thread(Thread-1113, initial)>\n",
            "running thread  <Thread(Thread-1114, initial)>\n",
            "running thread  <Thread(Thread-1115, initial)>\n",
            "Running minibatch sequential-scan SGD with momentum (8 threads)\n"
          ]
        },
        {
          "output_type": "stream",
          "name": "stderr",
          "text": [
            "100%|██████████| 40/40 [00:02<00:00, 14.17it/s]\n"
          ]
        },
        {
          "output_type": "stream",
          "name": "stdout",
          "text": [
            "current loss: [[6.41435631e+277]]\n",
            "running thread  <Thread(Thread-1116, initial)>\n",
            "running thread  <Thread(Thread-1117, initial)>\n",
            "running thread  <Thread(Thread-1118, initial)>\n",
            "running thread  <Thread(Thread-1119, initial)>\n",
            "running thread  <Thread(Thread-1120, initial)>\n",
            "running thread  <Thread(Thread-1121, initial)>\n",
            "running thread  <Thread(Thread-1122, initial)>\n",
            "running thread  <Thread(Thread-1123, initial)>\n",
            "Running minibatch sequential-scan SGD with momentum (8 threads)\n"
          ]
        },
        {
          "output_type": "stream",
          "name": "stderr",
          "text": [
            "100%|██████████| 40/40 [00:02<00:00, 16.86it/s]\n"
          ]
        },
        {
          "output_type": "stream",
          "name": "stdout",
          "text": [
            "current loss: [[2.89013397e+242]]\n",
            "running thread  <Thread(Thread-1124, initial)>\n",
            "running thread  <Thread(Thread-1125, initial)>\n",
            "running thread  <Thread(Thread-1126, initial)>\n",
            "running thread  <Thread(Thread-1127, initial)>\n",
            "running thread  <Thread(Thread-1128, initial)>\n",
            "running thread  <Thread(Thread-1129, initial)>\n",
            "running thread  <Thread(Thread-1130, initial)>\n",
            "running thread  <Thread(Thread-1131, initial)>\n",
            "Running minibatch sequential-scan SGD with momentum (8 threads)\n"
          ]
        },
        {
          "output_type": "stream",
          "name": "stderr",
          "text": [
            "100%|██████████| 40/40 [00:02<00:00, 17.43it/s]\n"
          ]
        },
        {
          "output_type": "stream",
          "name": "stdout",
          "text": [
            "current loss: [[1.02279406e+32]]\n",
            "running thread  <Thread(Thread-1132, initial)>\n",
            "running thread  <Thread(Thread-1133, initial)>\n",
            "running thread  <Thread(Thread-1134, initial)>\n",
            "running thread  <Thread(Thread-1135, initial)>\n",
            "running thread  <Thread(Thread-1136, initial)>\n",
            "running thread  <Thread(Thread-1137, initial)>\n",
            "running thread  <Thread(Thread-1138, initial)>\n",
            "running thread  <Thread(Thread-1139, initial)>\n",
            "Running minibatch sequential-scan SGD with momentum (8 threads)\n"
          ]
        },
        {
          "output_type": "stream",
          "name": "stderr",
          "text": [
            "100%|██████████| 40/40 [00:02<00:00, 16.53it/s]\n"
          ]
        },
        {
          "output_type": "stream",
          "name": "stdout",
          "text": [
            "current loss: [[3.65949379e+84]]\n",
            "running thread  <Thread(Thread-1140, initial)>\n",
            "running thread  <Thread(Thread-1141, initial)>\n",
            "running thread  <Thread(Thread-1142, initial)>\n",
            "running thread  <Thread(Thread-1143, initial)>\n",
            "running thread  <Thread(Thread-1144, initial)>\n",
            "running thread  <Thread(Thread-1145, initial)>\n",
            "running thread  <Thread(Thread-1146, initial)>\n",
            "running thread  <Thread(Thread-1147, initial)>\n",
            "Running minibatch sequential-scan SGD with momentum (8 threads)\n"
          ]
        },
        {
          "output_type": "stream",
          "name": "stderr",
          "text": [
            "100%|██████████| 40/40 [00:02<00:00, 15.13it/s]\n"
          ]
        },
        {
          "output_type": "stream",
          "name": "stdout",
          "text": [
            "current loss: [[6.74155804e+84]]\n",
            "running thread  <Thread(Thread-1148, initial)>\n",
            "running thread  <Thread(Thread-1149, initial)>\n",
            "running thread  <Thread(Thread-1150, initial)>\n",
            "running thread  <Thread(Thread-1151, initial)>\n",
            "running thread  <Thread(Thread-1152, initial)>\n",
            "running thread  <Thread(Thread-1153, initial)>\n",
            "running thread  <Thread(Thread-1154, initial)>\n",
            "running thread  <Thread(Thread-1155, initial)>\n",
            "Running minibatch sequential-scan SGD with momentum (8 threads)\n"
          ]
        },
        {
          "output_type": "stream",
          "name": "stderr",
          "text": [
            "100%|██████████| 40/40 [00:02<00:00, 13.41it/s]\n"
          ]
        },
        {
          "output_type": "stream",
          "name": "stdout",
          "text": [
            "current loss: [[46.27600566]]\n",
            "running thread  <Thread(Thread-1156, initial)>\n",
            "running thread  <Thread(Thread-1157, initial)>\n",
            "running thread  <Thread(Thread-1158, initial)>\n",
            "running thread  <Thread(Thread-1159, initial)>\n",
            "running thread  <Thread(Thread-1160, initial)>\n",
            "running thread  <Thread(Thread-1161, initial)>\n",
            "running thread  <Thread(Thread-1162, initial)>\n",
            "running thread  <Thread(Thread-1163, initial)>\n",
            "Running minibatch sequential-scan SGD with momentum (8 threads)\n"
          ]
        },
        {
          "output_type": "stream",
          "name": "stderr",
          "text": [
            "100%|██████████| 40/40 [00:02<00:00, 15.40it/s]\n"
          ]
        },
        {
          "output_type": "stream",
          "name": "stdout",
          "text": [
            "current loss: [[3.07792991e+111]]\n",
            "running thread  <Thread(Thread-1164, initial)>\n",
            "running thread  <Thread(Thread-1165, initial)>\n",
            "running thread  <Thread(Thread-1166, initial)>\n",
            "running thread  <Thread(Thread-1167, initial)>\n",
            "running thread  <Thread(Thread-1168, initial)>\n",
            "running thread  <Thread(Thread-1169, initial)>\n",
            "running thread  <Thread(Thread-1170, initial)>\n",
            "running thread  <Thread(Thread-1171, initial)>\n",
            "Running minibatch sequential-scan SGD with momentum (8 threads)\n"
          ]
        },
        {
          "output_type": "stream",
          "name": "stderr",
          "text": [
            "100%|██████████| 40/40 [00:02<00:00, 16.37it/s]\n"
          ]
        },
        {
          "output_type": "stream",
          "name": "stdout",
          "text": [
            "current loss: [[3.6289028e+106]]\n",
            "running thread  <Thread(Thread-1172, initial)>\n",
            "running thread  <Thread(Thread-1173, initial)>\n",
            "running thread  <Thread(Thread-1174, initial)>\n",
            "running thread  <Thread(Thread-1175, initial)>\n",
            "running thread  <Thread(Thread-1176, initial)>\n",
            "running thread  <Thread(Thread-1177, initial)>\n",
            "running thread  <Thread(Thread-1178, initial)>\n",
            "running thread  <Thread(Thread-1179, initial)>\n",
            "Running minibatch sequential-scan SGD with momentum (8 threads)\n"
          ]
        },
        {
          "output_type": "stream",
          "name": "stderr",
          "text": [
            "100%|██████████| 40/40 [00:02<00:00, 16.58it/s]\n"
          ]
        },
        {
          "output_type": "stream",
          "name": "stdout",
          "text": [
            "current loss: [[4.01907903e+249]]\n",
            "running thread  <Thread(Thread-1180, initial)>\n",
            "running thread  <Thread(Thread-1181, initial)>\n",
            "running thread  <Thread(Thread-1182, initial)>\n",
            "running thread  <Thread(Thread-1183, initial)>\n",
            "running thread  <Thread(Thread-1184, initial)>\n",
            "running thread  <Thread(Thread-1185, initial)>\n",
            "running thread  <Thread(Thread-1186, initial)>\n",
            "running thread  <Thread(Thread-1187, initial)>\n",
            "Running minibatch sequential-scan SGD with momentum (8 threads)\n"
          ]
        },
        {
          "output_type": "stream",
          "name": "stderr",
          "text": [
            "100%|██████████| 40/40 [00:02<00:00, 16.87it/s]\n"
          ]
        },
        {
          "output_type": "stream",
          "name": "stdout",
          "text": [
            "current loss: [[2.67943462e+62]]\n",
            "running thread  <Thread(Thread-1188, initial)>\n",
            "running thread  <Thread(Thread-1189, initial)>\n",
            "running thread  <Thread(Thread-1190, initial)>\n",
            "running thread  <Thread(Thread-1191, initial)>\n",
            "running thread  <Thread(Thread-1192, initial)>\n",
            "running thread  <Thread(Thread-1193, initial)>\n",
            "running thread  <Thread(Thread-1194, initial)>\n",
            "running thread  <Thread(Thread-1195, initial)>\n",
            "Running minibatch sequential-scan SGD with momentum (8 threads)\n"
          ]
        },
        {
          "output_type": "stream",
          "name": "stderr",
          "text": [
            "100%|██████████| 40/40 [00:02<00:00, 14.04it/s]\n"
          ]
        },
        {
          "output_type": "stream",
          "name": "stdout",
          "text": [
            "current loss: [[nan]]\n",
            "running thread  <Thread(Thread-1196, initial)>\n",
            "running thread  <Thread(Thread-1197, initial)>\n",
            "running thread  <Thread(Thread-1198, initial)>\n",
            "running thread  <Thread(Thread-1199, initial)>\n",
            "running thread  <Thread(Thread-1200, initial)>\n",
            "running thread  <Thread(Thread-1201, initial)>\n",
            "running thread  <Thread(Thread-1202, initial)>\n",
            "running thread  <Thread(Thread-1203, initial)>\n",
            "Running minibatch sequential-scan SGD with momentum (8 threads)\n"
          ]
        },
        {
          "output_type": "stream",
          "name": "stderr",
          "text": [
            "100%|██████████| 40/40 [00:02<00:00, 13.35it/s]\n"
          ]
        },
        {
          "output_type": "stream",
          "name": "stdout",
          "text": [
            "current loss: [[nan]]\n",
            "running thread  <Thread(Thread-1204, initial)>\n",
            "running thread  <Thread(Thread-1205, initial)>\n",
            "running thread  <Thread(Thread-1206, initial)>\n",
            "running thread  <Thread(Thread-1207, initial)>\n",
            "running thread  <Thread(Thread-1208, initial)>\n",
            "running thread  <Thread(Thread-1209, initial)>\n",
            "running thread  <Thread(Thread-1210, initial)>\n",
            "running thread  <Thread(Thread-1211, initial)>\n",
            "Running minibatch sequential-scan SGD with momentum (8 threads)\n"
          ]
        },
        {
          "output_type": "stream",
          "name": "stderr",
          "text": [
            "100%|██████████| 40/40 [00:02<00:00, 16.71it/s]\n"
          ]
        },
        {
          "output_type": "stream",
          "name": "stdout",
          "text": [
            "current loss: [[2.65831675e+184]]\n",
            "running thread  <Thread(Thread-1212, initial)>\n",
            "running thread  <Thread(Thread-1213, initial)>\n",
            "running thread  <Thread(Thread-1214, initial)>\n",
            "running thread  <Thread(Thread-1215, initial)>\n",
            "running thread  <Thread(Thread-1216, initial)>\n",
            "running thread  <Thread(Thread-1217, initial)>\n",
            "running thread  <Thread(Thread-1218, initial)>\n",
            "running thread  <Thread(Thread-1219, initial)>\n",
            "Running minibatch sequential-scan SGD with momentum (8 threads)\n"
          ]
        },
        {
          "output_type": "stream",
          "name": "stderr",
          "text": [
            "100%|██████████| 40/40 [00:02<00:00, 16.54it/s]\n"
          ]
        },
        {
          "output_type": "stream",
          "name": "stdout",
          "text": [
            "current loss: [[5.62602315e+208]]\n",
            "running thread  <Thread(Thread-1220, initial)>\n",
            "running thread  <Thread(Thread-1221, initial)>\n",
            "running thread  <Thread(Thread-1222, initial)>\n",
            "running thread  <Thread(Thread-1223, initial)>\n",
            "running thread  <Thread(Thread-1224, initial)>\n",
            "running thread  <Thread(Thread-1225, initial)>\n",
            "running thread  <Thread(Thread-1226, initial)>\n",
            "running thread  <Thread(Thread-1227, initial)>\n",
            "Running minibatch sequential-scan SGD with momentum (8 threads)\n"
          ]
        },
        {
          "output_type": "stream",
          "name": "stderr",
          "text": [
            "100%|██████████| 40/40 [00:02<00:00, 17.55it/s]\n"
          ]
        },
        {
          "output_type": "stream",
          "name": "stdout",
          "text": [
            "current loss: [[45.19676763]]\n",
            "running thread  <Thread(Thread-1228, initial)>\n",
            "running thread  <Thread(Thread-1229, initial)>\n",
            "running thread  <Thread(Thread-1230, initial)>\n",
            "running thread  <Thread(Thread-1231, initial)>\n",
            "running thread  <Thread(Thread-1232, initial)>\n",
            "running thread  <Thread(Thread-1233, initial)>\n",
            "running thread  <Thread(Thread-1234, initial)>\n",
            "running thread  <Thread(Thread-1235, initial)>\n",
            "Running minibatch sequential-scan SGD with momentum (8 threads)\n"
          ]
        },
        {
          "output_type": "stream",
          "name": "stderr",
          "text": [
            "100%|██████████| 40/40 [00:02<00:00, 17.21it/s]\n"
          ]
        },
        {
          "output_type": "stream",
          "name": "stdout",
          "text": [
            "current loss: [[43.38195396]]\n",
            "running thread  <Thread(Thread-1236, initial)>\n",
            "running thread  <Thread(Thread-1237, initial)>\n",
            "running thread  <Thread(Thread-1238, initial)>\n",
            "running thread  <Thread(Thread-1239, initial)>\n",
            "running thread  <Thread(Thread-1240, initial)>\n",
            "running thread  <Thread(Thread-1241, initial)>\n",
            "running thread  <Thread(Thread-1242, initial)>\n",
            "running thread  <Thread(Thread-1243, initial)>\n",
            "Running minibatch sequential-scan SGD with momentum (8 threads)\n"
          ]
        },
        {
          "output_type": "stream",
          "name": "stderr",
          "text": [
            "100%|██████████| 40/40 [00:03<00:00, 13.19it/s]\n"
          ]
        },
        {
          "output_type": "stream",
          "name": "stdout",
          "text": [
            "current loss: [[2.75791247e+219]]\n",
            "running thread  <Thread(Thread-1244, initial)>\n",
            "running thread  <Thread(Thread-1245, initial)>\n",
            "running thread  <Thread(Thread-1246, initial)>\n",
            "running thread  <Thread(Thread-1247, initial)>\n",
            "running thread  <Thread(Thread-1248, initial)>\n",
            "running thread  <Thread(Thread-1249, initial)>\n",
            "running thread  <Thread(Thread-1250, initial)>\n",
            "running thread  <Thread(Thread-1251, initial)>\n",
            "Running minibatch sequential-scan SGD with momentum (8 threads)\n"
          ]
        },
        {
          "output_type": "stream",
          "name": "stderr",
          "text": [
            "100%|██████████| 40/40 [00:02<00:00, 13.94it/s]\n"
          ]
        },
        {
          "output_type": "stream",
          "name": "stdout",
          "text": [
            "current loss: [[3.18625073e+293]]\n",
            "running thread  <Thread(Thread-1252, initial)>\n",
            "running thread  <Thread(Thread-1253, initial)>\n",
            "running thread  <Thread(Thread-1254, initial)>\n",
            "running thread  <Thread(Thread-1255, initial)>\n",
            "running thread  <Thread(Thread-1256, initial)>\n",
            "running thread  <Thread(Thread-1257, initial)>\n",
            "running thread  <Thread(Thread-1258, initial)>\n",
            "running thread  <Thread(Thread-1259, initial)>\n",
            "Running minibatch sequential-scan SGD with momentum (8 threads)\n"
          ]
        },
        {
          "output_type": "stream",
          "name": "stderr",
          "text": [
            "100%|██████████| 40/40 [00:02<00:00, 17.41it/s]\n"
          ]
        },
        {
          "output_type": "stream",
          "name": "stdout",
          "text": [
            "current loss: [[49.92857311]]\n",
            "running thread  <Thread(Thread-1260, initial)>\n",
            "running thread  <Thread(Thread-1261, initial)>\n",
            "running thread  <Thread(Thread-1262, initial)>\n",
            "running thread  <Thread(Thread-1263, initial)>\n",
            "running thread  <Thread(Thread-1264, initial)>\n",
            "running thread  <Thread(Thread-1265, initial)>\n",
            "running thread  <Thread(Thread-1266, initial)>\n",
            "running thread  <Thread(Thread-1267, initial)>\n",
            "Running minibatch sequential-scan SGD with momentum (8 threads)\n"
          ]
        },
        {
          "output_type": "stream",
          "name": "stderr",
          "text": [
            "100%|██████████| 40/40 [00:02<00:00, 17.10it/s]\n"
          ]
        },
        {
          "output_type": "stream",
          "name": "stdout",
          "text": [
            "current loss: [[6.31760893e+167]]\n",
            "running thread  <Thread(Thread-1268, initial)>\n",
            "running thread  <Thread(Thread-1269, initial)>\n",
            "running thread  <Thread(Thread-1270, initial)>\n",
            "running thread  <Thread(Thread-1271, initial)>\n",
            "running thread  <Thread(Thread-1272, initial)>\n",
            "running thread  <Thread(Thread-1273, initial)>\n",
            "running thread  <Thread(Thread-1274, initial)>\n",
            "running thread  <Thread(Thread-1275, initial)>\n",
            "Running minibatch sequential-scan SGD with momentum (8 threads)\n"
          ]
        },
        {
          "output_type": "stream",
          "name": "stderr",
          "text": [
            "100%|██████████| 40/40 [00:02<00:00, 16.58it/s]\n"
          ]
        },
        {
          "output_type": "stream",
          "name": "stdout",
          "text": [
            "current loss: [[3.78088823e+76]]\n",
            "running thread  <Thread(Thread-1276, initial)>\n",
            "running thread  <Thread(Thread-1277, initial)>\n",
            "running thread  <Thread(Thread-1278, initial)>\n",
            "running thread  <Thread(Thread-1279, initial)>\n",
            "running thread  <Thread(Thread-1280, initial)>\n",
            "running thread  <Thread(Thread-1281, initial)>\n",
            "running thread  <Thread(Thread-1282, initial)>\n",
            "running thread  <Thread(Thread-1283, initial)>\n",
            "Running minibatch sequential-scan SGD with momentum (8 threads)\n"
          ]
        },
        {
          "output_type": "stream",
          "name": "stderr",
          "text": [
            "100%|██████████| 40/40 [00:02<00:00, 15.59it/s]\n"
          ]
        },
        {
          "output_type": "stream",
          "name": "stdout",
          "text": [
            "current loss: [[3.68050624e+165]]\n",
            "running thread  <Thread(Thread-1284, initial)>\n",
            "running thread  <Thread(Thread-1285, initial)>\n",
            "running thread  <Thread(Thread-1286, initial)>\n",
            "running thread  <Thread(Thread-1287, initial)>\n",
            "running thread  <Thread(Thread-1288, initial)>\n",
            "running thread  <Thread(Thread-1289, initial)>\n",
            "running thread  <Thread(Thread-1290, initial)>\n",
            "running thread  <Thread(Thread-1291, initial)>\n",
            "Running minibatch sequential-scan SGD with momentum (8 threads)\n"
          ]
        },
        {
          "output_type": "stream",
          "name": "stderr",
          "text": [
            "100%|██████████| 40/40 [00:03<00:00, 11.37it/s]\n"
          ]
        },
        {
          "output_type": "stream",
          "name": "stdout",
          "text": [
            "current loss: [[3.74858058e+121]]\n",
            "running thread  <Thread(Thread-1292, initial)>\n",
            "running thread  <Thread(Thread-1293, initial)>\n",
            "running thread  <Thread(Thread-1294, initial)>\n",
            "running thread  <Thread(Thread-1295, initial)>\n",
            "running thread  <Thread(Thread-1296, initial)>\n",
            "running thread  <Thread(Thread-1297, initial)>\n",
            "running thread  <Thread(Thread-1298, initial)>\n",
            "running thread  <Thread(Thread-1299, initial)>\n",
            "Running minibatch sequential-scan SGD with momentum (8 threads)\n"
          ]
        },
        {
          "output_type": "stream",
          "name": "stderr",
          "text": [
            "100%|██████████| 40/40 [00:03<00:00, 11.21it/s]\n"
          ]
        },
        {
          "output_type": "stream",
          "name": "stdout",
          "text": [
            "current loss: [[4.61361082e+62]]\n",
            "running thread  <Thread(Thread-1300, initial)>\n",
            "running thread  <Thread(Thread-1301, initial)>\n",
            "running thread  <Thread(Thread-1302, initial)>\n",
            "running thread  <Thread(Thread-1303, initial)>\n",
            "running thread  <Thread(Thread-1304, initial)>\n",
            "running thread  <Thread(Thread-1305, initial)>\n",
            "running thread  <Thread(Thread-1306, initial)>\n",
            "running thread  <Thread(Thread-1307, initial)>\n",
            "Running minibatch sequential-scan SGD with momentum (8 threads)\n"
          ]
        },
        {
          "output_type": "stream",
          "name": "stderr",
          "text": [
            "100%|██████████| 40/40 [00:02<00:00, 14.77it/s]\n"
          ]
        },
        {
          "output_type": "stream",
          "name": "stdout",
          "text": [
            "current loss: [[44.1975531]]\n",
            "running thread  <Thread(Thread-1308, initial)>\n",
            "running thread  <Thread(Thread-1309, initial)>\n",
            "running thread  <Thread(Thread-1310, initial)>\n",
            "running thread  <Thread(Thread-1311, initial)>\n",
            "running thread  <Thread(Thread-1312, initial)>\n",
            "running thread  <Thread(Thread-1313, initial)>\n",
            "running thread  <Thread(Thread-1314, initial)>\n",
            "running thread  <Thread(Thread-1315, initial)>\n",
            "Running minibatch sequential-scan SGD with momentum (8 threads)\n"
          ]
        },
        {
          "output_type": "stream",
          "name": "stderr",
          "text": [
            "100%|██████████| 40/40 [00:02<00:00, 16.05it/s]\n"
          ]
        },
        {
          "output_type": "stream",
          "name": "stdout",
          "text": [
            "current loss: [[2.39589073e+79]]\n",
            "running thread  <Thread(Thread-1316, initial)>\n",
            "running thread  <Thread(Thread-1317, initial)>\n",
            "running thread  <Thread(Thread-1318, initial)>\n",
            "running thread  <Thread(Thread-1319, initial)>\n",
            "running thread  <Thread(Thread-1320, initial)>\n",
            "running thread  <Thread(Thread-1321, initial)>\n",
            "running thread  <Thread(Thread-1322, initial)>\n",
            "running thread  <Thread(Thread-1323, initial)>\n",
            "Running minibatch sequential-scan SGD with momentum (8 threads)\n"
          ]
        },
        {
          "output_type": "stream",
          "name": "stderr",
          "text": [
            "100%|██████████| 40/40 [00:02<00:00, 16.50it/s]\n"
          ]
        },
        {
          "output_type": "stream",
          "name": "stdout",
          "text": [
            "current loss: [[48.37797939]]\n",
            "running thread  <Thread(Thread-1324, initial)>\n",
            "running thread  <Thread(Thread-1325, initial)>\n",
            "running thread  <Thread(Thread-1326, initial)>\n",
            "running thread  <Thread(Thread-1327, initial)>\n",
            "running thread  <Thread(Thread-1328, initial)>\n",
            "running thread  <Thread(Thread-1329, initial)>\n",
            "running thread  <Thread(Thread-1330, initial)>\n",
            "running thread  <Thread(Thread-1331, initial)>\n",
            "Running minibatch sequential-scan SGD with momentum (8 threads)\n"
          ]
        },
        {
          "output_type": "stream",
          "name": "stderr",
          "text": [
            "100%|██████████| 40/40 [00:02<00:00, 14.73it/s]\n"
          ]
        },
        {
          "output_type": "stream",
          "name": "stdout",
          "text": [
            "current loss: [[2.40193333e+56]]\n",
            "running thread  <Thread(Thread-1332, initial)>\n",
            "running thread  <Thread(Thread-1333, initial)>\n",
            "running thread  <Thread(Thread-1334, initial)>\n",
            "running thread  <Thread(Thread-1335, initial)>\n",
            "running thread  <Thread(Thread-1336, initial)>\n",
            "running thread  <Thread(Thread-1337, initial)>\n",
            "running thread  <Thread(Thread-1338, initial)>\n",
            "running thread  <Thread(Thread-1339, initial)>\n",
            "Running minibatch sequential-scan SGD with momentum (8 threads)\n"
          ]
        },
        {
          "output_type": "stream",
          "name": "stderr",
          "text": [
            "100%|██████████| 40/40 [00:03<00:00, 12.86it/s]\n"
          ]
        },
        {
          "output_type": "stream",
          "name": "stdout",
          "text": [
            "current loss: [[1.65357003e+95]]\n",
            "running thread  <Thread(Thread-1340, initial)>\n",
            "running thread  <Thread(Thread-1341, initial)>\n",
            "running thread  <Thread(Thread-1342, initial)>\n",
            "running thread  <Thread(Thread-1343, initial)>\n",
            "running thread  <Thread(Thread-1344, initial)>\n",
            "running thread  <Thread(Thread-1345, initial)>\n",
            "running thread  <Thread(Thread-1346, initial)>\n",
            "running thread  <Thread(Thread-1347, initial)>\n",
            "Running minibatch sequential-scan SGD with momentum (8 threads)\n"
          ]
        },
        {
          "output_type": "stream",
          "name": "stderr",
          "text": [
            "100%|██████████| 40/40 [00:02<00:00, 15.70it/s]\n"
          ]
        },
        {
          "output_type": "stream",
          "name": "stdout",
          "text": [
            "current loss: [[4.7146331e+175]]\n",
            "running thread  <Thread(Thread-1348, initial)>\n",
            "running thread  <Thread(Thread-1349, initial)>\n",
            "running thread  <Thread(Thread-1350, initial)>\n",
            "running thread  <Thread(Thread-1351, initial)>\n",
            "running thread  <Thread(Thread-1352, initial)>\n",
            "running thread  <Thread(Thread-1353, initial)>\n",
            "running thread  <Thread(Thread-1354, initial)>\n",
            "running thread  <Thread(Thread-1355, initial)>\n",
            "Running minibatch sequential-scan SGD with momentum (8 threads)\n"
          ]
        },
        {
          "output_type": "stream",
          "name": "stderr",
          "text": [
            "100%|██████████| 40/40 [00:02<00:00, 17.15it/s]\n"
          ]
        },
        {
          "output_type": "stream",
          "name": "stdout",
          "text": [
            "current loss: [[47.54279603]]\n",
            "running thread  <Thread(Thread-1356, initial)>\n",
            "running thread  <Thread(Thread-1357, initial)>\n",
            "running thread  <Thread(Thread-1358, initial)>\n",
            "running thread  <Thread(Thread-1359, initial)>\n",
            "running thread  <Thread(Thread-1360, initial)>\n",
            "running thread  <Thread(Thread-1361, initial)>\n",
            "running thread  <Thread(Thread-1362, initial)>\n",
            "running thread  <Thread(Thread-1363, initial)>\n",
            "Running minibatch sequential-scan SGD with momentum (8 threads)\n"
          ]
        },
        {
          "output_type": "stream",
          "name": "stderr",
          "text": [
            "100%|██████████| 40/40 [00:02<00:00, 16.93it/s]\n"
          ]
        },
        {
          "output_type": "stream",
          "name": "stdout",
          "text": [
            "current loss: [[3.10299469e+174]]\n",
            "running thread  <Thread(Thread-1364, initial)>\n",
            "running thread  <Thread(Thread-1365, initial)>\n",
            "running thread  <Thread(Thread-1366, initial)>\n",
            "running thread  <Thread(Thread-1367, initial)>\n",
            "running thread  <Thread(Thread-1368, initial)>\n",
            "running thread  <Thread(Thread-1369, initial)>\n",
            "running thread  <Thread(Thread-1370, initial)>\n",
            "running thread  <Thread(Thread-1371, initial)>\n",
            "Running minibatch sequential-scan SGD with momentum (8 threads)\n"
          ]
        },
        {
          "output_type": "stream",
          "name": "stderr",
          "text": [
            "100%|██████████| 40/40 [00:02<00:00, 16.31it/s]\n"
          ]
        },
        {
          "output_type": "stream",
          "name": "stdout",
          "text": [
            "current loss: [[5.16136533e+42]]\n",
            "running thread  <Thread(Thread-1372, initial)>\n",
            "running thread  <Thread(Thread-1373, initial)>\n",
            "running thread  <Thread(Thread-1374, initial)>\n",
            "running thread  <Thread(Thread-1375, initial)>\n",
            "running thread  <Thread(Thread-1376, initial)>\n",
            "running thread  <Thread(Thread-1377, initial)>\n",
            "running thread  <Thread(Thread-1378, initial)>\n",
            "running thread  <Thread(Thread-1379, initial)>\n",
            "Running minibatch sequential-scan SGD with momentum (8 threads)\n"
          ]
        },
        {
          "output_type": "stream",
          "name": "stderr",
          "text": [
            "100%|██████████| 40/40 [00:02<00:00, 13.48it/s]\n"
          ]
        },
        {
          "output_type": "stream",
          "name": "stdout",
          "text": [
            "current loss: [[5.35534488e+129]]\n",
            "running thread  <Thread(Thread-1380, initial)>\n",
            "running thread  <Thread(Thread-1381, initial)>\n",
            "running thread  <Thread(Thread-1382, initial)>\n",
            "running thread  <Thread(Thread-1383, initial)>\n",
            "running thread  <Thread(Thread-1384, initial)>\n",
            "running thread  <Thread(Thread-1385, initial)>\n",
            "running thread  <Thread(Thread-1386, initial)>\n",
            "running thread  <Thread(Thread-1387, initial)>\n",
            "Running minibatch sequential-scan SGD with momentum (8 threads)\n"
          ]
        },
        {
          "output_type": "stream",
          "name": "stderr",
          "text": [
            "100%|██████████| 40/40 [00:02<00:00, 14.23it/s]\n"
          ]
        },
        {
          "output_type": "stream",
          "name": "stdout",
          "text": [
            "current loss: [[49.90052634]]\n",
            "running thread  <Thread(Thread-1388, initial)>\n",
            "running thread  <Thread(Thread-1389, initial)>\n",
            "running thread  <Thread(Thread-1390, initial)>\n",
            "running thread  <Thread(Thread-1391, initial)>\n",
            "running thread  <Thread(Thread-1392, initial)>\n",
            "running thread  <Thread(Thread-1393, initial)>\n",
            "running thread  <Thread(Thread-1394, initial)>\n",
            "running thread  <Thread(Thread-1395, initial)>\n",
            "Running minibatch sequential-scan SGD with momentum (8 threads)\n"
          ]
        },
        {
          "output_type": "stream",
          "name": "stderr",
          "text": [
            "100%|██████████| 40/40 [00:02<00:00, 17.11it/s]\n"
          ]
        },
        {
          "output_type": "stream",
          "name": "stdout",
          "text": [
            "current loss: [[nan]]\n",
            "running thread  <Thread(Thread-1396, initial)>\n",
            "running thread  <Thread(Thread-1397, initial)>\n",
            "running thread  <Thread(Thread-1398, initial)>\n",
            "running thread  <Thread(Thread-1399, initial)>\n",
            "running thread  <Thread(Thread-1400, initial)>\n",
            "running thread  <Thread(Thread-1401, initial)>\n",
            "running thread  <Thread(Thread-1402, initial)>\n",
            "running thread  <Thread(Thread-1403, initial)>\n",
            "Running minibatch sequential-scan SGD with momentum (8 threads)\n"
          ]
        },
        {
          "output_type": "stream",
          "name": "stderr",
          "text": [
            "100%|██████████| 40/40 [00:02<00:00, 16.52it/s]\n"
          ]
        },
        {
          "output_type": "stream",
          "name": "stdout",
          "text": [
            "current loss: [[3.0735033e+109]]\n",
            "running thread  <Thread(Thread-1404, initial)>\n",
            "running thread  <Thread(Thread-1405, initial)>\n",
            "running thread  <Thread(Thread-1406, initial)>\n",
            "running thread  <Thread(Thread-1407, initial)>\n",
            "running thread  <Thread(Thread-1408, initial)>\n",
            "running thread  <Thread(Thread-1409, initial)>\n",
            "running thread  <Thread(Thread-1410, initial)>\n",
            "running thread  <Thread(Thread-1411, initial)>\n",
            "Running minibatch sequential-scan SGD with momentum (8 threads)\n"
          ]
        },
        {
          "output_type": "stream",
          "name": "stderr",
          "text": [
            "100%|██████████| 40/40 [00:02<00:00, 17.25it/s]\n"
          ]
        },
        {
          "output_type": "stream",
          "name": "stdout",
          "text": [
            "current loss: [[1.31288836e+73]]\n",
            "running thread  <Thread(Thread-1412, initial)>\n",
            "running thread  <Thread(Thread-1413, initial)>\n",
            "running thread  <Thread(Thread-1414, initial)>\n",
            "running thread  <Thread(Thread-1415, initial)>\n",
            "running thread  <Thread(Thread-1416, initial)>\n",
            "running thread  <Thread(Thread-1417, initial)>\n",
            "running thread  <Thread(Thread-1418, initial)>\n",
            "running thread  <Thread(Thread-1419, initial)>\n",
            "Running minibatch sequential-scan SGD with momentum (8 threads)\n"
          ]
        },
        {
          "output_type": "stream",
          "name": "stderr",
          "text": [
            "100%|██████████| 40/40 [00:02<00:00, 16.42it/s]\n"
          ]
        },
        {
          "output_type": "stream",
          "name": "stdout",
          "text": [
            "current loss: [[47.47170419]]\n",
            "running thread  <Thread(Thread-1420, initial)>\n",
            "running thread  <Thread(Thread-1421, initial)>\n",
            "running thread  <Thread(Thread-1422, initial)>\n",
            "running thread  <Thread(Thread-1423, initial)>\n",
            "running thread  <Thread(Thread-1424, initial)>\n",
            "running thread  <Thread(Thread-1425, initial)>\n",
            "running thread  <Thread(Thread-1426, initial)>\n",
            "running thread  <Thread(Thread-1427, initial)>\n",
            "Running minibatch sequential-scan SGD with momentum (8 threads)\n"
          ]
        },
        {
          "output_type": "stream",
          "name": "stderr",
          "text": [
            "100%|██████████| 40/40 [00:03<00:00, 13.22it/s]\n"
          ]
        },
        {
          "output_type": "stream",
          "name": "stdout",
          "text": [
            "current loss: [[1.70592082e+63]]\n",
            "running thread  <Thread(Thread-1428, initial)>\n",
            "running thread  <Thread(Thread-1429, initial)>\n",
            "running thread  <Thread(Thread-1430, initial)>\n",
            "running thread  <Thread(Thread-1431, initial)>\n",
            "running thread  <Thread(Thread-1432, initial)>\n",
            "running thread  <Thread(Thread-1433, initial)>\n",
            "running thread  <Thread(Thread-1434, initial)>\n",
            "running thread  <Thread(Thread-1435, initial)>\n",
            "Running minibatch sequential-scan SGD with momentum (8 threads)\n"
          ]
        },
        {
          "output_type": "stream",
          "name": "stderr",
          "text": [
            "100%|██████████| 40/40 [00:02<00:00, 14.59it/s]\n"
          ]
        },
        {
          "output_type": "stream",
          "name": "stdout",
          "text": [
            "current loss: [[7.56284249e+147]]\n",
            "running thread  <Thread(Thread-1436, initial)>\n",
            "running thread  <Thread(Thread-1437, initial)>\n",
            "running thread  <Thread(Thread-1438, initial)>\n",
            "running thread  <Thread(Thread-1439, initial)>\n",
            "running thread  <Thread(Thread-1440, initial)>\n",
            "running thread  <Thread(Thread-1441, initial)>\n",
            "running thread  <Thread(Thread-1442, initial)>\n",
            "running thread  <Thread(Thread-1443, initial)>\n",
            "Running minibatch sequential-scan SGD with momentum (8 threads)\n"
          ]
        },
        {
          "output_type": "stream",
          "name": "stderr",
          "text": [
            "100%|██████████| 40/40 [00:02<00:00, 16.52it/s]\n"
          ]
        },
        {
          "output_type": "stream",
          "name": "stdout",
          "text": [
            "current loss: [[49.90130989]]\n",
            "running thread  <Thread(Thread-1444, initial)>\n",
            "running thread  <Thread(Thread-1445, initial)>\n",
            "running thread  <Thread(Thread-1446, initial)>\n",
            "running thread  <Thread(Thread-1447, initial)>\n",
            "running thread  <Thread(Thread-1448, initial)>\n",
            "running thread  <Thread(Thread-1449, initial)>\n",
            "running thread  <Thread(Thread-1450, initial)>\n",
            "running thread  <Thread(Thread-1451, initial)>\n",
            "Running minibatch sequential-scan SGD with momentum (8 threads)\n"
          ]
        },
        {
          "output_type": "stream",
          "name": "stderr",
          "text": [
            "100%|██████████| 40/40 [00:02<00:00, 16.54it/s]\n"
          ]
        },
        {
          "output_type": "stream",
          "name": "stdout",
          "text": [
            "current loss: [[1.37943582e+163]]\n",
            "running thread  <Thread(Thread-1452, initial)>\n",
            "running thread  <Thread(Thread-1453, initial)>\n",
            "running thread  <Thread(Thread-1454, initial)>\n",
            "running thread  <Thread(Thread-1455, initial)>\n",
            "running thread  <Thread(Thread-1456, initial)>\n",
            "running thread  <Thread(Thread-1457, initial)>\n",
            "running thread  <Thread(Thread-1458, initial)>\n",
            "running thread  <Thread(Thread-1459, initial)>\n",
            "Running minibatch sequential-scan SGD with momentum (8 threads)\n"
          ]
        },
        {
          "output_type": "stream",
          "name": "stderr",
          "text": [
            "100%|██████████| 40/40 [00:02<00:00, 16.47it/s]\n"
          ]
        },
        {
          "output_type": "stream",
          "name": "stdout",
          "text": [
            "current loss: [[nan]]\n",
            "running thread  <Thread(Thread-1460, initial)>\n",
            "running thread  <Thread(Thread-1461, initial)>\n",
            "running thread  <Thread(Thread-1462, initial)>\n",
            "running thread  <Thread(Thread-1463, initial)>\n",
            "running thread  <Thread(Thread-1464, initial)>\n",
            "running thread  <Thread(Thread-1465, initial)>\n",
            "running thread  <Thread(Thread-1466, initial)>\n",
            "running thread  <Thread(Thread-1467, initial)>\n",
            "Running minibatch sequential-scan SGD with momentum (8 threads)\n"
          ]
        },
        {
          "output_type": "stream",
          "name": "stderr",
          "text": [
            "100%|██████████| 40/40 [00:02<00:00, 14.47it/s]\n"
          ]
        },
        {
          "output_type": "stream",
          "name": "stdout",
          "text": [
            "current loss: [[45.03409775]]\n",
            "running thread  <Thread(Thread-1468, initial)>\n",
            "running thread  <Thread(Thread-1469, initial)>\n",
            "running thread  <Thread(Thread-1470, initial)>\n",
            "running thread  <Thread(Thread-1471, initial)>\n",
            "running thread  <Thread(Thread-1472, initial)>\n",
            "running thread  <Thread(Thread-1473, initial)>\n",
            "running thread  <Thread(Thread-1474, initial)>\n",
            "running thread  <Thread(Thread-1475, initial)>\n",
            "Running minibatch sequential-scan SGD with momentum (8 threads)\n"
          ]
        },
        {
          "output_type": "stream",
          "name": "stderr",
          "text": [
            "100%|██████████| 40/40 [00:02<00:00, 13.47it/s]\n"
          ]
        },
        {
          "output_type": "stream",
          "name": "stdout",
          "text": [
            "current loss: [[1.79843914e+214]]\n",
            "running thread  <Thread(Thread-1476, initial)>\n",
            "running thread  <Thread(Thread-1477, initial)>\n",
            "running thread  <Thread(Thread-1478, initial)>\n",
            "running thread  <Thread(Thread-1479, initial)>\n",
            "running thread  <Thread(Thread-1480, initial)>\n",
            "running thread  <Thread(Thread-1481, initial)>\n",
            "running thread  <Thread(Thread-1482, initial)>\n",
            "running thread  <Thread(Thread-1483, initial)>\n",
            "Running minibatch sequential-scan SGD with momentum (8 threads)\n"
          ]
        },
        {
          "output_type": "stream",
          "name": "stderr",
          "text": [
            "100%|██████████| 40/40 [00:02<00:00, 15.91it/s]\n"
          ]
        },
        {
          "output_type": "stream",
          "name": "stdout",
          "text": [
            "current loss: [[5.62074626e+36]]\n",
            "running thread  <Thread(Thread-1484, initial)>\n",
            "running thread  <Thread(Thread-1485, initial)>\n",
            "running thread  <Thread(Thread-1486, initial)>\n",
            "running thread  <Thread(Thread-1487, initial)>\n",
            "running thread  <Thread(Thread-1488, initial)>\n",
            "running thread  <Thread(Thread-1489, initial)>\n",
            "running thread  <Thread(Thread-1490, initial)>\n",
            "running thread  <Thread(Thread-1491, initial)>\n",
            "Running minibatch sequential-scan SGD with momentum (8 threads)\n"
          ]
        },
        {
          "output_type": "stream",
          "name": "stderr",
          "text": [
            "100%|██████████| 40/40 [00:02<00:00, 16.26it/s]\n"
          ]
        },
        {
          "output_type": "stream",
          "name": "stdout",
          "text": [
            "current loss: [[nan]]\n",
            "running thread  <Thread(Thread-1492, initial)>\n",
            "running thread  <Thread(Thread-1493, initial)>\n",
            "running thread  <Thread(Thread-1494, initial)>\n",
            "running thread  <Thread(Thread-1495, initial)>\n",
            "running thread  <Thread(Thread-1496, initial)>\n",
            "running thread  <Thread(Thread-1497, initial)>\n",
            "running thread  <Thread(Thread-1498, initial)>\n",
            "running thread  <Thread(Thread-1499, initial)>\n",
            "Running minibatch sequential-scan SGD with momentum (8 threads)\n"
          ]
        },
        {
          "output_type": "stream",
          "name": "stderr",
          "text": [
            "100%|██████████| 40/40 [00:02<00:00, 16.81it/s]\n"
          ]
        },
        {
          "output_type": "stream",
          "name": "stdout",
          "text": [
            "current loss: [[nan]]\n",
            "running thread  <Thread(Thread-1500, initial)>\n",
            "running thread  <Thread(Thread-1501, initial)>\n",
            "running thread  <Thread(Thread-1502, initial)>\n",
            "running thread  <Thread(Thread-1503, initial)>\n",
            "running thread  <Thread(Thread-1504, initial)>\n",
            "running thread  <Thread(Thread-1505, initial)>\n",
            "running thread  <Thread(Thread-1506, initial)>\n",
            "running thread  <Thread(Thread-1507, initial)>\n",
            "Running minibatch sequential-scan SGD with momentum (8 threads)\n"
          ]
        },
        {
          "output_type": "stream",
          "name": "stderr",
          "text": [
            "100%|██████████| 40/40 [00:02<00:00, 13.98it/s]\n"
          ]
        },
        {
          "output_type": "stream",
          "name": "stdout",
          "text": [
            "current loss: [[49.78194852]]\n",
            "running thread  <Thread(Thread-1508, initial)>\n",
            "running thread  <Thread(Thread-1509, initial)>\n",
            "running thread  <Thread(Thread-1510, initial)>\n",
            "running thread  <Thread(Thread-1511, initial)>\n",
            "running thread  <Thread(Thread-1512, initial)>\n",
            "running thread  <Thread(Thread-1513, initial)>\n",
            "running thread  <Thread(Thread-1514, initial)>\n",
            "running thread  <Thread(Thread-1515, initial)>\n",
            "Running minibatch sequential-scan SGD with momentum (8 threads)\n"
          ]
        },
        {
          "output_type": "stream",
          "name": "stderr",
          "text": [
            "100%|██████████| 40/40 [00:02<00:00, 13.79it/s]\n"
          ]
        },
        {
          "output_type": "stream",
          "name": "stdout",
          "text": [
            "current loss: [[46.27248502]]\n",
            "running thread  <Thread(Thread-1516, initial)>\n",
            "running thread  <Thread(Thread-1517, initial)>\n",
            "running thread  <Thread(Thread-1518, initial)>\n",
            "running thread  <Thread(Thread-1519, initial)>\n",
            "running thread  <Thread(Thread-1520, initial)>\n",
            "running thread  <Thread(Thread-1521, initial)>\n",
            "running thread  <Thread(Thread-1522, initial)>\n",
            "running thread  <Thread(Thread-1523, initial)>\n",
            "Running minibatch sequential-scan SGD with momentum (8 threads)\n"
          ]
        },
        {
          "output_type": "stream",
          "name": "stderr",
          "text": [
            "100%|██████████| 40/40 [00:02<00:00, 14.27it/s]\n"
          ]
        },
        {
          "output_type": "stream",
          "name": "stdout",
          "text": [
            "current loss: [[2.75054913e+175]]\n",
            "running thread  <Thread(Thread-1524, initial)>\n",
            "running thread  <Thread(Thread-1525, initial)>\n",
            "running thread  <Thread(Thread-1526, initial)>\n",
            "running thread  <Thread(Thread-1527, initial)>\n",
            "running thread  <Thread(Thread-1528, initial)>\n",
            "running thread  <Thread(Thread-1529, initial)>\n",
            "running thread  <Thread(Thread-1530, initial)>\n",
            "running thread  <Thread(Thread-1531, initial)>\n",
            "Running minibatch sequential-scan SGD with momentum (8 threads)\n"
          ]
        },
        {
          "output_type": "stream",
          "name": "stderr",
          "text": [
            "100%|██████████| 40/40 [00:02<00:00, 16.40it/s]\n"
          ]
        },
        {
          "output_type": "stream",
          "name": "stdout",
          "text": [
            "current loss: [[7.06514755e+122]]\n",
            "running thread  <Thread(Thread-1532, initial)>\n",
            "running thread  <Thread(Thread-1533, initial)>\n",
            "running thread  <Thread(Thread-1534, initial)>\n",
            "running thread  <Thread(Thread-1535, initial)>\n",
            "running thread  <Thread(Thread-1536, initial)>\n",
            "running thread  <Thread(Thread-1537, initial)>\n",
            "running thread  <Thread(Thread-1538, initial)>\n",
            "running thread  <Thread(Thread-1539, initial)>\n",
            "Running minibatch sequential-scan SGD with momentum (8 threads)\n"
          ]
        },
        {
          "output_type": "stream",
          "name": "stderr",
          "text": [
            "100%|██████████| 40/40 [00:02<00:00, 16.07it/s]\n"
          ]
        },
        {
          "output_type": "stream",
          "name": "stdout",
          "text": [
            "current loss: [[49.90130989]]\n",
            "running thread  <Thread(Thread-1540, initial)>\n",
            "running thread  <Thread(Thread-1541, initial)>\n",
            "running thread  <Thread(Thread-1542, initial)>\n",
            "running thread  <Thread(Thread-1543, initial)>\n",
            "running thread  <Thread(Thread-1544, initial)>\n",
            "running thread  <Thread(Thread-1545, initial)>\n",
            "running thread  <Thread(Thread-1546, initial)>\n",
            "running thread  <Thread(Thread-1547, initial)>\n",
            "Running minibatch sequential-scan SGD with momentum (8 threads)\n"
          ]
        },
        {
          "output_type": "stream",
          "name": "stderr",
          "text": [
            "100%|██████████| 40/40 [00:02<00:00, 16.66it/s]\n"
          ]
        },
        {
          "output_type": "stream",
          "name": "stdout",
          "text": [
            "current loss: [[8.72600814e+274]]\n",
            "running thread  <Thread(Thread-1548, initial)>\n",
            "running thread  <Thread(Thread-1549, initial)>\n",
            "running thread  <Thread(Thread-1550, initial)>\n",
            "running thread  <Thread(Thread-1551, initial)>\n",
            "running thread  <Thread(Thread-1552, initial)>\n",
            "running thread  <Thread(Thread-1553, initial)>\n",
            "running thread  <Thread(Thread-1554, initial)>\n",
            "running thread  <Thread(Thread-1555, initial)>\n",
            "Running minibatch sequential-scan SGD with momentum (8 threads)\n"
          ]
        },
        {
          "output_type": "stream",
          "name": "stderr",
          "text": [
            "100%|██████████| 40/40 [00:02<00:00, 14.71it/s]\n"
          ]
        },
        {
          "output_type": "stream",
          "name": "stdout",
          "text": [
            "current loss: [[1.73190156e+262]]\n",
            "running thread  <Thread(Thread-1556, initial)>\n",
            "running thread  <Thread(Thread-1557, initial)>\n",
            "running thread  <Thread(Thread-1558, initial)>\n",
            "running thread  <Thread(Thread-1559, initial)>\n",
            "running thread  <Thread(Thread-1560, initial)>\n",
            "running thread  <Thread(Thread-1561, initial)>\n",
            "running thread  <Thread(Thread-1562, initial)>\n",
            "running thread  <Thread(Thread-1563, initial)>\n",
            "Running minibatch sequential-scan SGD with momentum (8 threads)\n"
          ]
        },
        {
          "output_type": "stream",
          "name": "stderr",
          "text": [
            "100%|██████████| 40/40 [00:02<00:00, 13.53it/s]\n"
          ]
        },
        {
          "output_type": "stream",
          "name": "stdout",
          "text": [
            "current loss: [[2.75130112e+289]]\n",
            "running thread  <Thread(Thread-1564, initial)>\n",
            "running thread  <Thread(Thread-1565, initial)>\n",
            "running thread  <Thread(Thread-1566, initial)>\n",
            "running thread  <Thread(Thread-1567, initial)>\n",
            "running thread  <Thread(Thread-1568, initial)>\n",
            "running thread  <Thread(Thread-1569, initial)>\n",
            "running thread  <Thread(Thread-1570, initial)>\n",
            "running thread  <Thread(Thread-1571, initial)>\n",
            "Running minibatch sequential-scan SGD with momentum (8 threads)\n"
          ]
        },
        {
          "output_type": "stream",
          "name": "stderr",
          "text": [
            "100%|██████████| 40/40 [00:02<00:00, 16.22it/s]\n"
          ]
        },
        {
          "output_type": "stream",
          "name": "stdout",
          "text": [
            "current loss: [[49.76483237]]\n",
            "running thread  <Thread(Thread-1572, initial)>\n",
            "running thread  <Thread(Thread-1573, initial)>\n",
            "running thread  <Thread(Thread-1574, initial)>\n",
            "running thread  <Thread(Thread-1575, initial)>\n",
            "running thread  <Thread(Thread-1576, initial)>\n",
            "running thread  <Thread(Thread-1577, initial)>\n",
            "running thread  <Thread(Thread-1578, initial)>\n",
            "running thread  <Thread(Thread-1579, initial)>\n",
            "Running minibatch sequential-scan SGD with momentum (8 threads)\n"
          ]
        },
        {
          "output_type": "stream",
          "name": "stderr",
          "text": [
            "100%|██████████| 40/40 [00:02<00:00, 16.45it/s]\n"
          ]
        },
        {
          "output_type": "stream",
          "name": "stdout",
          "text": [
            "current loss: [[5.43154197e+280]]\n",
            "running thread  <Thread(Thread-1580, initial)>\n",
            "running thread  <Thread(Thread-1581, initial)>\n",
            "running thread  <Thread(Thread-1582, initial)>\n",
            "running thread  <Thread(Thread-1583, initial)>\n",
            "running thread  <Thread(Thread-1584, initial)>\n",
            "running thread  <Thread(Thread-1585, initial)>\n",
            "running thread  <Thread(Thread-1586, initial)>\n",
            "running thread  <Thread(Thread-1587, initial)>\n",
            "Running minibatch sequential-scan SGD with momentum (8 threads)\n"
          ]
        },
        {
          "output_type": "stream",
          "name": "stderr",
          "text": [
            "100%|██████████| 40/40 [00:02<00:00, 16.20it/s]\n"
          ]
        },
        {
          "output_type": "stream",
          "name": "stdout",
          "text": [
            "current loss: [[8.22167586e+230]]\n",
            "running thread  <Thread(Thread-1588, initial)>\n",
            "running thread  <Thread(Thread-1589, initial)>\n",
            "running thread  <Thread(Thread-1590, initial)>\n",
            "running thread  <Thread(Thread-1591, initial)>\n",
            "running thread  <Thread(Thread-1592, initial)>\n",
            "running thread  <Thread(Thread-1593, initial)>\n",
            "running thread  <Thread(Thread-1594, initial)>\n",
            "running thread  <Thread(Thread-1595, initial)>\n",
            "Running minibatch sequential-scan SGD with momentum (8 threads)\n"
          ]
        },
        {
          "output_type": "stream",
          "name": "stderr",
          "text": [
            "100%|██████████| 40/40 [00:02<00:00, 16.81it/s]\n"
          ]
        },
        {
          "output_type": "stream",
          "name": "stdout",
          "text": [
            "current loss: [[44.75546019]]\n",
            "running thread  <Thread(Thread-1596, initial)>\n",
            "running thread  <Thread(Thread-1597, initial)>\n",
            "running thread  <Thread(Thread-1598, initial)>\n",
            "running thread  <Thread(Thread-1599, initial)>\n",
            "running thread  <Thread(Thread-1600, initial)>\n",
            "running thread  <Thread(Thread-1601, initial)>\n",
            "running thread  <Thread(Thread-1602, initial)>\n",
            "running thread  <Thread(Thread-1603, initial)>\n",
            "Running minibatch sequential-scan SGD with momentum (8 threads)\n"
          ]
        },
        {
          "output_type": "stream",
          "name": "stderr",
          "text": [
            "100%|██████████| 40/40 [00:03<00:00, 13.22it/s]\n"
          ]
        },
        {
          "output_type": "stream",
          "name": "stdout",
          "text": [
            "current loss: [[50.67081582]]\n",
            "running thread  <Thread(Thread-1604, initial)>\n",
            "running thread  <Thread(Thread-1605, initial)>\n",
            "running thread  <Thread(Thread-1606, initial)>\n",
            "running thread  <Thread(Thread-1607, initial)>\n",
            "running thread  <Thread(Thread-1608, initial)>\n",
            "running thread  <Thread(Thread-1609, initial)>\n",
            "running thread  <Thread(Thread-1610, initial)>\n",
            "running thread  <Thread(Thread-1611, initial)>\n",
            "Running minibatch sequential-scan SGD with momentum (8 threads)\n"
          ]
        },
        {
          "output_type": "stream",
          "name": "stderr",
          "text": [
            "100%|██████████| 40/40 [00:02<00:00, 13.83it/s]\n"
          ]
        },
        {
          "output_type": "stream",
          "name": "stdout",
          "text": [
            "current loss: [[49.12834663]]\n",
            "running thread  <Thread(Thread-1612, initial)>\n",
            "running thread  <Thread(Thread-1613, initial)>\n",
            "running thread  <Thread(Thread-1614, initial)>\n",
            "running thread  <Thread(Thread-1615, initial)>\n",
            "running thread  <Thread(Thread-1616, initial)>\n",
            "running thread  <Thread(Thread-1617, initial)>\n",
            "running thread  <Thread(Thread-1618, initial)>\n",
            "running thread  <Thread(Thread-1619, initial)>\n",
            "Running minibatch sequential-scan SGD with momentum (8 threads)\n"
          ]
        },
        {
          "output_type": "stream",
          "name": "stderr",
          "text": [
            "100%|██████████| 40/40 [00:02<00:00, 16.56it/s]\n"
          ]
        },
        {
          "output_type": "stream",
          "name": "stdout",
          "text": [
            "current loss: [[nan]]\n",
            "running thread  <Thread(Thread-1620, initial)>\n",
            "running thread  <Thread(Thread-1621, initial)>\n",
            "running thread  <Thread(Thread-1622, initial)>\n",
            "running thread  <Thread(Thread-1623, initial)>\n",
            "running thread  <Thread(Thread-1624, initial)>\n",
            "running thread  <Thread(Thread-1625, initial)>\n",
            "running thread  <Thread(Thread-1626, initial)>\n",
            "running thread  <Thread(Thread-1627, initial)>\n",
            "Running minibatch sequential-scan SGD with momentum (8 threads)\n"
          ]
        },
        {
          "output_type": "stream",
          "name": "stderr",
          "text": [
            "100%|██████████| 40/40 [00:02<00:00, 15.82it/s]\n"
          ]
        },
        {
          "output_type": "stream",
          "name": "stdout",
          "text": [
            "current loss: [[49.90130989]]\n",
            "running thread  <Thread(Thread-1628, initial)>\n",
            "running thread  <Thread(Thread-1629, initial)>\n",
            "running thread  <Thread(Thread-1630, initial)>\n",
            "running thread  <Thread(Thread-1631, initial)>\n",
            "running thread  <Thread(Thread-1632, initial)>\n",
            "running thread  <Thread(Thread-1633, initial)>\n",
            "running thread  <Thread(Thread-1634, initial)>\n",
            "running thread  <Thread(Thread-1635, initial)>\n",
            "Running minibatch sequential-scan SGD with momentum (8 threads)\n"
          ]
        },
        {
          "output_type": "stream",
          "name": "stderr",
          "text": [
            "100%|██████████| 40/40 [00:02<00:00, 16.58it/s]\n"
          ]
        },
        {
          "output_type": "stream",
          "name": "stdout",
          "text": [
            "current loss: [[3.69712409e+99]]\n",
            "running thread  <Thread(Thread-1636, initial)>\n",
            "running thread  <Thread(Thread-1637, initial)>\n",
            "running thread  <Thread(Thread-1638, initial)>\n",
            "running thread  <Thread(Thread-1639, initial)>\n",
            "running thread  <Thread(Thread-1640, initial)>\n",
            "running thread  <Thread(Thread-1641, initial)>\n",
            "running thread  <Thread(Thread-1642, initial)>\n",
            "running thread  <Thread(Thread-1643, initial)>\n",
            "Running minibatch sequential-scan SGD with momentum (8 threads)\n"
          ]
        },
        {
          "output_type": "stream",
          "name": "stderr",
          "text": [
            "100%|██████████| 40/40 [00:02<00:00, 15.70it/s]\n"
          ]
        },
        {
          "output_type": "stream",
          "name": "stdout",
          "text": [
            "current loss: [[nan]]\n",
            "running thread  <Thread(Thread-1644, initial)>\n",
            "running thread  <Thread(Thread-1645, initial)>\n",
            "running thread  <Thread(Thread-1646, initial)>\n",
            "running thread  <Thread(Thread-1647, initial)>\n",
            "running thread  <Thread(Thread-1648, initial)>\n",
            "running thread  <Thread(Thread-1649, initial)>\n",
            "running thread  <Thread(Thread-1650, initial)>\n",
            "running thread  <Thread(Thread-1651, initial)>\n",
            "Running minibatch sequential-scan SGD with momentum (8 threads)\n"
          ]
        },
        {
          "output_type": "stream",
          "name": "stderr",
          "text": [
            "100%|██████████| 40/40 [00:03<00:00, 13.05it/s]\n"
          ]
        },
        {
          "output_type": "stream",
          "name": "stdout",
          "text": [
            "current loss: [[48.71036895]]\n",
            "running thread  <Thread(Thread-1652, initial)>\n",
            "running thread  <Thread(Thread-1653, initial)>\n",
            "running thread  <Thread(Thread-1654, initial)>\n",
            "running thread  <Thread(Thread-1655, initial)>\n",
            "running thread  <Thread(Thread-1656, initial)>\n",
            "running thread  <Thread(Thread-1657, initial)>\n",
            "running thread  <Thread(Thread-1658, initial)>\n",
            "running thread  <Thread(Thread-1659, initial)>\n",
            "Running minibatch sequential-scan SGD with momentum (8 threads)\n"
          ]
        },
        {
          "output_type": "stream",
          "name": "stderr",
          "text": [
            "100%|██████████| 40/40 [00:02<00:00, 15.31it/s]\n"
          ]
        },
        {
          "output_type": "stream",
          "name": "stdout",
          "text": [
            "current loss: [[6.21418623e+135]]\n",
            "running thread  <Thread(Thread-1660, initial)>\n",
            "running thread  <Thread(Thread-1661, initial)>\n",
            "running thread  <Thread(Thread-1662, initial)>\n",
            "running thread  <Thread(Thread-1663, initial)>\n",
            "running thread  <Thread(Thread-1664, initial)>\n",
            "running thread  <Thread(Thread-1665, initial)>\n",
            "running thread  <Thread(Thread-1666, initial)>\n",
            "running thread  <Thread(Thread-1667, initial)>\n",
            "Running minibatch sequential-scan SGD with momentum (8 threads)\n"
          ]
        },
        {
          "output_type": "stream",
          "name": "stderr",
          "text": [
            "100%|██████████| 40/40 [00:02<00:00, 16.96it/s]\n"
          ]
        },
        {
          "output_type": "stream",
          "name": "stdout",
          "text": [
            "current loss: [[nan]]\n",
            "running thread  <Thread(Thread-1668, initial)>\n",
            "running thread  <Thread(Thread-1669, initial)>\n",
            "running thread  <Thread(Thread-1670, initial)>\n",
            "running thread  <Thread(Thread-1671, initial)>\n",
            "running thread  <Thread(Thread-1672, initial)>\n",
            "running thread  <Thread(Thread-1673, initial)>\n",
            "running thread  <Thread(Thread-1674, initial)>\n",
            "running thread  <Thread(Thread-1675, initial)>\n",
            "Running minibatch sequential-scan SGD with momentum (8 threads)\n"
          ]
        },
        {
          "output_type": "stream",
          "name": "stderr",
          "text": [
            "100%|██████████| 40/40 [00:02<00:00, 16.39it/s]\n"
          ]
        },
        {
          "output_type": "stream",
          "name": "stdout",
          "text": [
            "current loss: [[nan]]\n",
            "running thread  <Thread(Thread-1676, initial)>\n",
            "running thread  <Thread(Thread-1677, initial)>\n",
            "running thread  <Thread(Thread-1678, initial)>\n",
            "running thread  <Thread(Thread-1679, initial)>\n",
            "running thread  <Thread(Thread-1680, initial)>\n",
            "running thread  <Thread(Thread-1681, initial)>\n",
            "running thread  <Thread(Thread-1682, initial)>\n",
            "running thread  <Thread(Thread-1683, initial)>\n",
            "Running minibatch sequential-scan SGD with momentum (8 threads)\n"
          ]
        },
        {
          "output_type": "stream",
          "name": "stderr",
          "text": [
            "100%|██████████| 40/40 [00:02<00:00, 17.57it/s]\n"
          ]
        },
        {
          "output_type": "stream",
          "name": "stdout",
          "text": [
            "current loss: [[48.91296695]]\n",
            "running thread  <Thread(Thread-1684, initial)>\n",
            "running thread  <Thread(Thread-1685, initial)>\n",
            "running thread  <Thread(Thread-1686, initial)>\n",
            "running thread  <Thread(Thread-1687, initial)>\n",
            "running thread  <Thread(Thread-1688, initial)>\n",
            "running thread  <Thread(Thread-1689, initial)>\n",
            "running thread  <Thread(Thread-1690, initial)>\n",
            "running thread  <Thread(Thread-1691, initial)>\n",
            "Running minibatch sequential-scan SGD with momentum (8 threads)\n"
          ]
        },
        {
          "output_type": "stream",
          "name": "stderr",
          "text": [
            "100%|██████████| 40/40 [00:02<00:00, 14.80it/s]\n"
          ]
        },
        {
          "output_type": "stream",
          "name": "stdout",
          "text": [
            "current loss: [[46.35718152]]\n",
            "running thread  <Thread(Thread-1692, initial)>\n",
            "running thread  <Thread(Thread-1693, initial)>\n",
            "running thread  <Thread(Thread-1694, initial)>\n",
            "running thread  <Thread(Thread-1695, initial)>\n",
            "running thread  <Thread(Thread-1696, initial)>\n",
            "running thread  <Thread(Thread-1697, initial)>\n",
            "running thread  <Thread(Thread-1698, initial)>\n",
            "running thread  <Thread(Thread-1699, initial)>\n",
            "Running minibatch sequential-scan SGD with momentum (8 threads)\n"
          ]
        },
        {
          "output_type": "stream",
          "name": "stderr",
          "text": [
            "100%|██████████| 40/40 [00:03<00:00, 13.33it/s]\n"
          ]
        },
        {
          "output_type": "stream",
          "name": "stdout",
          "text": [
            "current loss: [[nan]]\n",
            "running thread  <Thread(Thread-1700, initial)>\n",
            "running thread  <Thread(Thread-1701, initial)>\n",
            "running thread  <Thread(Thread-1702, initial)>\n",
            "running thread  <Thread(Thread-1703, initial)>\n",
            "running thread  <Thread(Thread-1704, initial)>\n",
            "running thread  <Thread(Thread-1705, initial)>\n",
            "running thread  <Thread(Thread-1706, initial)>\n",
            "running thread  <Thread(Thread-1707, initial)>\n",
            "Running minibatch sequential-scan SGD with momentum (8 threads)\n"
          ]
        },
        {
          "output_type": "stream",
          "name": "stderr",
          "text": [
            "100%|██████████| 40/40 [00:02<00:00, 16.53it/s]\n"
          ]
        },
        {
          "output_type": "stream",
          "name": "stdout",
          "text": [
            "current loss: [[4.78338679e+260]]\n",
            "running thread  <Thread(Thread-1708, initial)>\n",
            "running thread  <Thread(Thread-1709, initial)>\n",
            "running thread  <Thread(Thread-1710, initial)>\n",
            "running thread  <Thread(Thread-1711, initial)>\n",
            "running thread  <Thread(Thread-1712, initial)>\n",
            "running thread  <Thread(Thread-1713, initial)>\n",
            "running thread  <Thread(Thread-1714, initial)>\n",
            "running thread  <Thread(Thread-1715, initial)>\n",
            "Running minibatch sequential-scan SGD with momentum (8 threads)\n"
          ]
        },
        {
          "output_type": "stream",
          "name": "stderr",
          "text": [
            "100%|██████████| 40/40 [00:02<00:00, 16.74it/s]\n"
          ]
        },
        {
          "output_type": "stream",
          "name": "stdout",
          "text": [
            "current loss: [[nan]]\n",
            "running thread  <Thread(Thread-1716, initial)>\n",
            "running thread  <Thread(Thread-1717, initial)>\n",
            "running thread  <Thread(Thread-1718, initial)>\n",
            "running thread  <Thread(Thread-1719, initial)>\n",
            "running thread  <Thread(Thread-1720, initial)>\n",
            "running thread  <Thread(Thread-1721, initial)>\n",
            "running thread  <Thread(Thread-1722, initial)>\n",
            "running thread  <Thread(Thread-1723, initial)>\n",
            "Running minibatch sequential-scan SGD with momentum (8 threads)\n"
          ]
        },
        {
          "output_type": "stream",
          "name": "stderr",
          "text": [
            "100%|██████████| 40/40 [00:02<00:00, 17.23it/s]\n"
          ]
        },
        {
          "output_type": "stream",
          "name": "stdout",
          "text": [
            "current loss: [[48.48168272]]\n",
            "running thread  <Thread(Thread-1724, initial)>\n",
            "running thread  <Thread(Thread-1725, initial)>\n",
            "running thread  <Thread(Thread-1726, initial)>\n",
            "running thread  <Thread(Thread-1727, initial)>\n",
            "running thread  <Thread(Thread-1728, initial)>\n",
            "running thread  <Thread(Thread-1729, initial)>\n",
            "running thread  <Thread(Thread-1730, initial)>\n",
            "running thread  <Thread(Thread-1731, initial)>\n",
            "Running minibatch sequential-scan SGD with momentum (8 threads)\n"
          ]
        },
        {
          "output_type": "stream",
          "name": "stderr",
          "text": [
            "100%|██████████| 40/40 [00:02<00:00, 17.00it/s]\n"
          ]
        },
        {
          "output_type": "stream",
          "name": "stdout",
          "text": [
            "current loss: [[nan]]\n",
            "running thread  <Thread(Thread-1732, initial)>\n",
            "running thread  <Thread(Thread-1733, initial)>\n",
            "running thread  <Thread(Thread-1734, initial)>\n",
            "running thread  <Thread(Thread-1735, initial)>\n",
            "running thread  <Thread(Thread-1736, initial)>\n",
            "running thread  <Thread(Thread-1737, initial)>\n",
            "running thread  <Thread(Thread-1738, initial)>\n",
            "running thread  <Thread(Thread-1739, initial)>\n",
            "Running minibatch sequential-scan SGD with momentum (8 threads)\n"
          ]
        },
        {
          "output_type": "stream",
          "name": "stderr",
          "text": [
            "100%|██████████| 40/40 [00:03<00:00, 12.82it/s]\n"
          ]
        },
        {
          "output_type": "stream",
          "name": "stdout",
          "text": [
            "current loss: [[4.98072978e+303]]\n",
            "running thread  <Thread(Thread-1740, initial)>\n",
            "running thread  <Thread(Thread-1741, initial)>\n",
            "running thread  <Thread(Thread-1742, initial)>\n",
            "running thread  <Thread(Thread-1743, initial)>\n",
            "running thread  <Thread(Thread-1744, initial)>\n",
            "running thread  <Thread(Thread-1745, initial)>\n",
            "running thread  <Thread(Thread-1746, initial)>\n",
            "running thread  <Thread(Thread-1747, initial)>\n",
            "Running minibatch sequential-scan SGD with momentum (8 threads)\n"
          ]
        },
        {
          "output_type": "stream",
          "name": "stderr",
          "text": [
            "100%|██████████| 40/40 [00:02<00:00, 14.69it/s]\n"
          ]
        },
        {
          "output_type": "stream",
          "name": "stdout",
          "text": [
            "current loss: [[45.77639063]]\n",
            "running thread  <Thread(Thread-1748, initial)>\n",
            "running thread  <Thread(Thread-1749, initial)>\n",
            "running thread  <Thread(Thread-1750, initial)>\n",
            "running thread  <Thread(Thread-1751, initial)>\n",
            "running thread  <Thread(Thread-1752, initial)>\n",
            "running thread  <Thread(Thread-1753, initial)>\n",
            "running thread  <Thread(Thread-1754, initial)>\n",
            "running thread  <Thread(Thread-1755, initial)>\n",
            "Running minibatch sequential-scan SGD with momentum (8 threads)\n"
          ]
        },
        {
          "output_type": "stream",
          "name": "stderr",
          "text": [
            "100%|██████████| 40/40 [00:02<00:00, 17.30it/s]\n"
          ]
        },
        {
          "output_type": "stream",
          "name": "stdout",
          "text": [
            "current loss: [[3.89792075e+13]]\n",
            "running thread  <Thread(Thread-1756, initial)>\n",
            "running thread  <Thread(Thread-1757, initial)>\n",
            "running thread  <Thread(Thread-1758, initial)>\n",
            "running thread  <Thread(Thread-1759, initial)>\n",
            "running thread  <Thread(Thread-1760, initial)>\n",
            "running thread  <Thread(Thread-1761, initial)>\n",
            "running thread  <Thread(Thread-1762, initial)>\n",
            "running thread  <Thread(Thread-1763, initial)>\n",
            "Running minibatch sequential-scan SGD with momentum (8 threads)\n"
          ]
        },
        {
          "output_type": "stream",
          "name": "stderr",
          "text": [
            "100%|██████████| 40/40 [00:02<00:00, 16.88it/s]\n"
          ]
        },
        {
          "output_type": "stream",
          "name": "stdout",
          "text": [
            "current loss: [[46.33674605]]\n",
            "running thread  <Thread(Thread-1764, initial)>\n",
            "running thread  <Thread(Thread-1765, initial)>\n",
            "running thread  <Thread(Thread-1766, initial)>\n",
            "running thread  <Thread(Thread-1767, initial)>\n",
            "running thread  <Thread(Thread-1768, initial)>\n",
            "running thread  <Thread(Thread-1769, initial)>\n",
            "running thread  <Thread(Thread-1770, initial)>\n",
            "running thread  <Thread(Thread-1771, initial)>\n",
            "Running minibatch sequential-scan SGD with momentum (8 threads)\n"
          ]
        },
        {
          "output_type": "stream",
          "name": "stderr",
          "text": [
            "100%|██████████| 40/40 [00:02<00:00, 16.41it/s]\n"
          ]
        },
        {
          "output_type": "stream",
          "name": "stdout",
          "text": [
            "current loss: [[6.1429527e+244]]\n",
            "running thread  <Thread(Thread-1772, initial)>\n",
            "running thread  <Thread(Thread-1773, initial)>\n",
            "running thread  <Thread(Thread-1774, initial)>\n",
            "running thread  <Thread(Thread-1775, initial)>\n",
            "running thread  <Thread(Thread-1776, initial)>\n",
            "running thread  <Thread(Thread-1777, initial)>\n",
            "running thread  <Thread(Thread-1778, initial)>\n",
            "running thread  <Thread(Thread-1779, initial)>\n",
            "Running minibatch sequential-scan SGD with momentum (8 threads)\n"
          ]
        },
        {
          "output_type": "stream",
          "name": "stderr",
          "text": [
            "100%|██████████| 40/40 [00:02<00:00, 15.80it/s]\n"
          ]
        },
        {
          "output_type": "stream",
          "name": "stdout",
          "text": [
            "current loss: [[48.23291228]]\n",
            "running thread  <Thread(Thread-1780, initial)>\n",
            "running thread  <Thread(Thread-1781, initial)>\n",
            "running thread  <Thread(Thread-1782, initial)>\n",
            "running thread  <Thread(Thread-1783, initial)>\n",
            "running thread  <Thread(Thread-1784, initial)>\n",
            "running thread  <Thread(Thread-1785, initial)>\n",
            "running thread  <Thread(Thread-1786, initial)>\n",
            "running thread  <Thread(Thread-1787, initial)>\n",
            "Running minibatch sequential-scan SGD with momentum (8 threads)\n"
          ]
        },
        {
          "output_type": "stream",
          "name": "stderr",
          "text": [
            "100%|██████████| 40/40 [00:02<00:00, 13.86it/s]\n"
          ]
        },
        {
          "output_type": "stream",
          "name": "stdout",
          "text": [
            "current loss: [[47.10385302]]\n",
            "running thread  <Thread(Thread-1788, initial)>\n",
            "running thread  <Thread(Thread-1789, initial)>\n",
            "running thread  <Thread(Thread-1790, initial)>\n",
            "running thread  <Thread(Thread-1791, initial)>\n",
            "running thread  <Thread(Thread-1792, initial)>\n",
            "running thread  <Thread(Thread-1793, initial)>\n",
            "running thread  <Thread(Thread-1794, initial)>\n",
            "running thread  <Thread(Thread-1795, initial)>\n",
            "Running minibatch sequential-scan SGD with momentum (8 threads)\n"
          ]
        },
        {
          "output_type": "stream",
          "name": "stderr",
          "text": [
            "100%|██████████| 40/40 [00:02<00:00, 14.99it/s]\n"
          ]
        },
        {
          "output_type": "stream",
          "name": "stdout",
          "text": [
            "current loss: [[nan]]\n",
            "running thread  <Thread(Thread-1796, initial)>\n",
            "running thread  <Thread(Thread-1797, initial)>\n",
            "running thread  <Thread(Thread-1798, initial)>\n",
            "running thread  <Thread(Thread-1799, initial)>\n",
            "running thread  <Thread(Thread-1800, initial)>\n",
            "running thread  <Thread(Thread-1801, initial)>\n",
            "running thread  <Thread(Thread-1802, initial)>\n",
            "running thread  <Thread(Thread-1803, initial)>\n",
            "Running minibatch sequential-scan SGD with momentum (8 threads)\n"
          ]
        },
        {
          "output_type": "stream",
          "name": "stderr",
          "text": [
            "100%|██████████| 40/40 [00:02<00:00, 16.63it/s]\n"
          ]
        },
        {
          "output_type": "stream",
          "name": "stdout",
          "text": [
            "current loss: [[7.42173519e+228]]\n",
            "running thread  <Thread(Thread-1804, initial)>\n",
            "running thread  <Thread(Thread-1805, initial)>\n",
            "running thread  <Thread(Thread-1806, initial)>\n",
            "running thread  <Thread(Thread-1807, initial)>\n",
            "running thread  <Thread(Thread-1808, initial)>\n",
            "running thread  <Thread(Thread-1809, initial)>\n",
            "running thread  <Thread(Thread-1810, initial)>\n",
            "running thread  <Thread(Thread-1811, initial)>\n",
            "Running minibatch sequential-scan SGD with momentum (8 threads)\n"
          ]
        },
        {
          "output_type": "stream",
          "name": "stderr",
          "text": [
            "100%|██████████| 40/40 [00:02<00:00, 16.66it/s]\n"
          ]
        },
        {
          "output_type": "stream",
          "name": "stdout",
          "text": [
            "current loss: [[1.62786754e+130]]\n",
            "running thread  <Thread(Thread-1812, initial)>\n",
            "running thread  <Thread(Thread-1813, initial)>\n",
            "running thread  <Thread(Thread-1814, initial)>\n",
            "running thread  <Thread(Thread-1815, initial)>\n",
            "running thread  <Thread(Thread-1816, initial)>\n",
            "running thread  <Thread(Thread-1817, initial)>\n",
            "running thread  <Thread(Thread-1818, initial)>\n",
            "running thread  <Thread(Thread-1819, initial)>\n",
            "Running minibatch sequential-scan SGD with momentum (8 threads)\n"
          ]
        },
        {
          "output_type": "stream",
          "name": "stderr",
          "text": [
            "100%|██████████| 40/40 [00:02<00:00, 17.28it/s]\n"
          ]
        },
        {
          "output_type": "stream",
          "name": "stdout",
          "text": [
            "current loss: [[43.94055111]]\n",
            "running thread  <Thread(Thread-1820, initial)>\n",
            "running thread  <Thread(Thread-1821, initial)>\n",
            "running thread  <Thread(Thread-1822, initial)>\n",
            "running thread  <Thread(Thread-1823, initial)>\n",
            "running thread  <Thread(Thread-1824, initial)>\n",
            "running thread  <Thread(Thread-1825, initial)>\n",
            "running thread  <Thread(Thread-1826, initial)>\n",
            "running thread  <Thread(Thread-1827, initial)>\n",
            "Running minibatch sequential-scan SGD with momentum (8 threads)\n"
          ]
        },
        {
          "output_type": "stream",
          "name": "stderr",
          "text": [
            "100%|██████████| 40/40 [00:02<00:00, 14.49it/s]\n"
          ]
        },
        {
          "output_type": "stream",
          "name": "stdout",
          "text": [
            "current loss: [[44.87564114]]\n",
            "running thread  <Thread(Thread-1828, initial)>\n",
            "running thread  <Thread(Thread-1829, initial)>\n",
            "running thread  <Thread(Thread-1830, initial)>\n",
            "running thread  <Thread(Thread-1831, initial)>\n",
            "running thread  <Thread(Thread-1832, initial)>\n",
            "running thread  <Thread(Thread-1833, initial)>\n",
            "running thread  <Thread(Thread-1834, initial)>\n",
            "running thread  <Thread(Thread-1835, initial)>\n",
            "Running minibatch sequential-scan SGD with momentum (8 threads)\n"
          ]
        },
        {
          "output_type": "stream",
          "name": "stderr",
          "text": [
            "100%|██████████| 40/40 [00:03<00:00, 12.83it/s]\n"
          ]
        },
        {
          "output_type": "stream",
          "name": "stdout",
          "text": [
            "current loss: [[49.90130989]]\n",
            "running thread  <Thread(Thread-1836, initial)>\n",
            "running thread  <Thread(Thread-1837, initial)>\n",
            "running thread  <Thread(Thread-1838, initial)>\n",
            "running thread  <Thread(Thread-1839, initial)>\n",
            "running thread  <Thread(Thread-1840, initial)>\n",
            "running thread  <Thread(Thread-1841, initial)>\n",
            "running thread  <Thread(Thread-1842, initial)>\n",
            "running thread  <Thread(Thread-1843, initial)>\n",
            "Running minibatch sequential-scan SGD with momentum (8 threads)\n"
          ]
        },
        {
          "output_type": "stream",
          "name": "stderr",
          "text": [
            "100%|██████████| 40/40 [00:02<00:00, 17.02it/s]\n"
          ]
        },
        {
          "output_type": "stream",
          "name": "stdout",
          "text": [
            "current loss: [[46.39315164]]\n",
            "running thread  <Thread(Thread-1844, initial)>\n",
            "running thread  <Thread(Thread-1845, initial)>\n",
            "running thread  <Thread(Thread-1846, initial)>\n",
            "running thread  <Thread(Thread-1847, initial)>\n",
            "running thread  <Thread(Thread-1848, initial)>\n",
            "running thread  <Thread(Thread-1849, initial)>\n",
            "running thread  <Thread(Thread-1850, initial)>\n",
            "running thread  <Thread(Thread-1851, initial)>\n",
            "Running minibatch sequential-scan SGD with momentum (8 threads)\n"
          ]
        },
        {
          "output_type": "stream",
          "name": "stderr",
          "text": [
            "100%|██████████| 40/40 [00:02<00:00, 17.04it/s]\n"
          ]
        },
        {
          "output_type": "stream",
          "name": "stdout",
          "text": [
            "current loss: [[44.69163941]]\n",
            "running thread  <Thread(Thread-1852, initial)>\n",
            "running thread  <Thread(Thread-1853, initial)>\n",
            "running thread  <Thread(Thread-1854, initial)>\n",
            "running thread  <Thread(Thread-1855, initial)>\n",
            "running thread  <Thread(Thread-1856, initial)>\n",
            "running thread  <Thread(Thread-1857, initial)>\n",
            "running thread  <Thread(Thread-1858, initial)>\n",
            "running thread  <Thread(Thread-1859, initial)>\n",
            "Running minibatch sequential-scan SGD with momentum (8 threads)\n"
          ]
        },
        {
          "output_type": "stream",
          "name": "stderr",
          "text": [
            "100%|██████████| 40/40 [00:02<00:00, 16.78it/s]\n"
          ]
        },
        {
          "output_type": "stream",
          "name": "stdout",
          "text": [
            "current loss: [[nan]]\n",
            "running thread  <Thread(Thread-1860, initial)>\n",
            "running thread  <Thread(Thread-1861, initial)>\n",
            "running thread  <Thread(Thread-1862, initial)>\n",
            "running thread  <Thread(Thread-1863, initial)>\n",
            "running thread  <Thread(Thread-1864, initial)>\n",
            "running thread  <Thread(Thread-1865, initial)>\n",
            "running thread  <Thread(Thread-1866, initial)>\n",
            "running thread  <Thread(Thread-1867, initial)>\n",
            "Running minibatch sequential-scan SGD with momentum (8 threads)\n"
          ]
        },
        {
          "output_type": "stream",
          "name": "stderr",
          "text": [
            "100%|██████████| 40/40 [00:02<00:00, 16.30it/s]\n"
          ]
        },
        {
          "output_type": "stream",
          "name": "stdout",
          "text": [
            "current loss: [[49.43369433]]\n",
            "running thread  <Thread(Thread-1868, initial)>\n",
            "running thread  <Thread(Thread-1869, initial)>\n",
            "running thread  <Thread(Thread-1870, initial)>\n",
            "running thread  <Thread(Thread-1871, initial)>\n",
            "running thread  <Thread(Thread-1872, initial)>\n",
            "running thread  <Thread(Thread-1873, initial)>\n",
            "running thread  <Thread(Thread-1874, initial)>\n",
            "running thread  <Thread(Thread-1875, initial)>\n",
            "Running minibatch sequential-scan SGD with momentum (8 threads)\n"
          ]
        },
        {
          "output_type": "stream",
          "name": "stderr",
          "text": [
            "100%|██████████| 40/40 [00:03<00:00, 12.85it/s]\n"
          ]
        },
        {
          "output_type": "stream",
          "name": "stdout",
          "text": [
            "current loss: [[1.12465915e+37]]\n",
            "running thread  <Thread(Thread-1876, initial)>\n",
            "running thread  <Thread(Thread-1877, initial)>\n",
            "running thread  <Thread(Thread-1878, initial)>\n",
            "running thread  <Thread(Thread-1879, initial)>\n",
            "running thread  <Thread(Thread-1880, initial)>\n",
            "running thread  <Thread(Thread-1881, initial)>\n",
            "running thread  <Thread(Thread-1882, initial)>\n",
            "running thread  <Thread(Thread-1883, initial)>\n",
            "Running minibatch sequential-scan SGD with momentum (8 threads)\n"
          ]
        },
        {
          "output_type": "stream",
          "name": "stderr",
          "text": [
            "100%|██████████| 40/40 [00:02<00:00, 14.46it/s]\n"
          ]
        },
        {
          "output_type": "stream",
          "name": "stdout",
          "text": [
            "current loss: [[3.02614367e+144]]\n",
            "running thread  <Thread(Thread-1884, initial)>\n",
            "running thread  <Thread(Thread-1885, initial)>\n",
            "running thread  <Thread(Thread-1886, initial)>\n",
            "running thread  <Thread(Thread-1887, initial)>\n",
            "running thread  <Thread(Thread-1888, initial)>\n",
            "running thread  <Thread(Thread-1889, initial)>\n",
            "running thread  <Thread(Thread-1890, initial)>\n",
            "running thread  <Thread(Thread-1891, initial)>\n",
            "Running minibatch sequential-scan SGD with momentum (8 threads)\n"
          ]
        },
        {
          "output_type": "stream",
          "name": "stderr",
          "text": [
            "100%|██████████| 40/40 [00:02<00:00, 16.81it/s]\n"
          ]
        },
        {
          "output_type": "stream",
          "name": "stdout",
          "text": [
            "current loss: [[nan]]\n",
            "running thread  <Thread(Thread-1892, initial)>\n",
            "running thread  <Thread(Thread-1893, initial)>\n",
            "running thread  <Thread(Thread-1894, initial)>\n",
            "running thread  <Thread(Thread-1895, initial)>\n",
            "running thread  <Thread(Thread-1896, initial)>\n",
            "running thread  <Thread(Thread-1897, initial)>\n",
            "running thread  <Thread(Thread-1898, initial)>\n",
            "running thread  <Thread(Thread-1899, initial)>\n",
            "Running minibatch sequential-scan SGD with momentum (8 threads)\n"
          ]
        },
        {
          "output_type": "stream",
          "name": "stderr",
          "text": [
            "100%|██████████| 40/40 [00:03<00:00, 13.15it/s]\n"
          ]
        },
        {
          "output_type": "stream",
          "name": "stdout",
          "text": [
            "current loss: [[8.052314e+158]]\n",
            "running thread  <Thread(Thread-1900, initial)>\n",
            "running thread  <Thread(Thread-1901, initial)>\n",
            "running thread  <Thread(Thread-1902, initial)>\n",
            "running thread  <Thread(Thread-1903, initial)>\n",
            "running thread  <Thread(Thread-1904, initial)>\n",
            "running thread  <Thread(Thread-1905, initial)>\n",
            "running thread  <Thread(Thread-1906, initial)>\n",
            "running thread  <Thread(Thread-1907, initial)>\n",
            "Running minibatch sequential-scan SGD with momentum (8 threads)\n"
          ]
        },
        {
          "output_type": "stream",
          "name": "stderr",
          "text": [
            "100%|██████████| 40/40 [00:02<00:00, 14.11it/s]\n"
          ]
        },
        {
          "output_type": "stream",
          "name": "stdout",
          "text": [
            "current loss: [[8.95603867e+180]]\n",
            "running thread  <Thread(Thread-1908, initial)>\n",
            "running thread  <Thread(Thread-1909, initial)>\n",
            "running thread  <Thread(Thread-1910, initial)>\n",
            "running thread  <Thread(Thread-1911, initial)>\n",
            "running thread  <Thread(Thread-1912, initial)>\n",
            "running thread  <Thread(Thread-1913, initial)>\n",
            "running thread  <Thread(Thread-1914, initial)>\n",
            "running thread  <Thread(Thread-1915, initial)>\n",
            "Running minibatch sequential-scan SGD with momentum (8 threads)\n"
          ]
        },
        {
          "output_type": "stream",
          "name": "stderr",
          "text": [
            "100%|██████████| 40/40 [00:02<00:00, 13.74it/s]\n"
          ]
        },
        {
          "output_type": "stream",
          "name": "stdout",
          "text": [
            "current loss: [[48.52422209]]\n",
            "running thread  <Thread(Thread-1916, initial)>\n",
            "running thread  <Thread(Thread-1917, initial)>\n",
            "running thread  <Thread(Thread-1918, initial)>\n",
            "running thread  <Thread(Thread-1919, initial)>\n",
            "running thread  <Thread(Thread-1920, initial)>\n",
            "running thread  <Thread(Thread-1921, initial)>\n",
            "running thread  <Thread(Thread-1922, initial)>\n",
            "running thread  <Thread(Thread-1923, initial)>\n",
            "Running minibatch sequential-scan SGD with momentum (8 threads)\n"
          ]
        },
        {
          "output_type": "stream",
          "name": "stderr",
          "text": [
            "100%|██████████| 40/40 [00:02<00:00, 14.05it/s]\n"
          ]
        },
        {
          "output_type": "stream",
          "name": "stdout",
          "text": [
            "current loss: [[41.63906529]]\n",
            "running thread  <Thread(Thread-1924, initial)>\n",
            "running thread  <Thread(Thread-1925, initial)>\n",
            "running thread  <Thread(Thread-1926, initial)>\n",
            "running thread  <Thread(Thread-1927, initial)>\n",
            "running thread  <Thread(Thread-1928, initial)>\n",
            "running thread  <Thread(Thread-1929, initial)>\n",
            "running thread  <Thread(Thread-1930, initial)>\n",
            "running thread  <Thread(Thread-1931, initial)>\n",
            "Running minibatch sequential-scan SGD with momentum (8 threads)\n"
          ]
        },
        {
          "output_type": "stream",
          "name": "stderr",
          "text": [
            "100%|██████████| 40/40 [00:02<00:00, 17.13it/s]\n"
          ]
        },
        {
          "output_type": "stream",
          "name": "stdout",
          "text": [
            "current loss: [[45.92123626]]\n",
            "running thread  <Thread(Thread-1932, initial)>\n",
            "running thread  <Thread(Thread-1933, initial)>\n",
            "running thread  <Thread(Thread-1934, initial)>\n",
            "running thread  <Thread(Thread-1935, initial)>\n",
            "running thread  <Thread(Thread-1936, initial)>\n",
            "running thread  <Thread(Thread-1937, initial)>\n",
            "running thread  <Thread(Thread-1938, initial)>\n",
            "running thread  <Thread(Thread-1939, initial)>\n",
            "Running minibatch sequential-scan SGD with momentum (8 threads)\n"
          ]
        },
        {
          "output_type": "stream",
          "name": "stderr",
          "text": [
            "100%|██████████| 40/40 [00:02<00:00, 16.49it/s]\n"
          ]
        },
        {
          "output_type": "stream",
          "name": "stdout",
          "text": [
            "current loss: [[5.31672749e+26]]\n",
            "running thread  <Thread(Thread-1940, initial)>\n",
            "running thread  <Thread(Thread-1941, initial)>\n",
            "running thread  <Thread(Thread-1942, initial)>\n",
            "running thread  <Thread(Thread-1943, initial)>\n",
            "running thread  <Thread(Thread-1944, initial)>\n",
            "running thread  <Thread(Thread-1945, initial)>\n",
            "running thread  <Thread(Thread-1946, initial)>\n",
            "running thread  <Thread(Thread-1947, initial)>\n",
            "Running minibatch sequential-scan SGD with momentum (8 threads)\n"
          ]
        },
        {
          "output_type": "stream",
          "name": "stderr",
          "text": [
            "100%|██████████| 40/40 [00:02<00:00, 17.30it/s]\n"
          ]
        },
        {
          "output_type": "stream",
          "name": "stdout",
          "text": [
            "current loss: [[46.05586349]]\n",
            "running thread  <Thread(Thread-1948, initial)>\n",
            "running thread  <Thread(Thread-1949, initial)>\n",
            "running thread  <Thread(Thread-1950, initial)>\n",
            "running thread  <Thread(Thread-1951, initial)>\n",
            "running thread  <Thread(Thread-1952, initial)>\n",
            "running thread  <Thread(Thread-1953, initial)>\n",
            "running thread  <Thread(Thread-1954, initial)>\n",
            "running thread  <Thread(Thread-1955, initial)>\n",
            "Running minibatch sequential-scan SGD with momentum (8 threads)\n"
          ]
        },
        {
          "output_type": "stream",
          "name": "stderr",
          "text": [
            "100%|██████████| 40/40 [00:02<00:00, 15.81it/s]\n"
          ]
        },
        {
          "output_type": "stream",
          "name": "stdout",
          "text": [
            "current loss: [[46.97226908]]\n",
            "running thread  <Thread(Thread-1956, initial)>\n",
            "running thread  <Thread(Thread-1957, initial)>\n",
            "running thread  <Thread(Thread-1958, initial)>\n",
            "running thread  <Thread(Thread-1959, initial)>\n",
            "running thread  <Thread(Thread-1960, initial)>\n",
            "running thread  <Thread(Thread-1961, initial)>\n",
            "running thread  <Thread(Thread-1962, initial)>\n",
            "running thread  <Thread(Thread-1963, initial)>\n",
            "Running minibatch sequential-scan SGD with momentum (8 threads)\n"
          ]
        },
        {
          "output_type": "stream",
          "name": "stderr",
          "text": [
            "100%|██████████| 40/40 [00:03<00:00, 13.21it/s]\n"
          ]
        },
        {
          "output_type": "stream",
          "name": "stdout",
          "text": [
            "current loss: [[5.43643497e+123]]\n",
            "running thread  <Thread(Thread-1964, initial)>\n",
            "running thread  <Thread(Thread-1965, initial)>\n",
            "running thread  <Thread(Thread-1966, initial)>\n",
            "running thread  <Thread(Thread-1967, initial)>\n",
            "running thread  <Thread(Thread-1968, initial)>\n",
            "running thread  <Thread(Thread-1969, initial)>\n",
            "running thread  <Thread(Thread-1970, initial)>\n",
            "running thread  <Thread(Thread-1971, initial)>\n",
            "Running minibatch sequential-scan SGD with momentum (8 threads)\n"
          ]
        },
        {
          "output_type": "stream",
          "name": "stderr",
          "text": [
            "100%|██████████| 40/40 [00:02<00:00, 14.96it/s]\n"
          ]
        },
        {
          "output_type": "stream",
          "name": "stdout",
          "text": [
            "current loss: [[4.79481877e+254]]\n",
            "running thread  <Thread(Thread-1972, initial)>\n",
            "running thread  <Thread(Thread-1973, initial)>\n",
            "running thread  <Thread(Thread-1974, initial)>\n",
            "running thread  <Thread(Thread-1975, initial)>\n",
            "running thread  <Thread(Thread-1976, initial)>\n",
            "running thread  <Thread(Thread-1977, initial)>\n",
            "running thread  <Thread(Thread-1978, initial)>\n",
            "running thread  <Thread(Thread-1979, initial)>\n",
            "Running minibatch sequential-scan SGD with momentum (8 threads)\n"
          ]
        },
        {
          "output_type": "stream",
          "name": "stderr",
          "text": [
            "100%|██████████| 40/40 [00:02<00:00, 17.63it/s]\n"
          ]
        },
        {
          "output_type": "stream",
          "name": "stdout",
          "text": [
            "current loss: [[49.28929845]]\n",
            "running thread  <Thread(Thread-1980, initial)>\n",
            "running thread  <Thread(Thread-1981, initial)>\n",
            "running thread  <Thread(Thread-1982, initial)>\n",
            "running thread  <Thread(Thread-1983, initial)>\n",
            "running thread  <Thread(Thread-1984, initial)>\n",
            "running thread  <Thread(Thread-1985, initial)>\n",
            "running thread  <Thread(Thread-1986, initial)>\n",
            "running thread  <Thread(Thread-1987, initial)>\n",
            "Running minibatch sequential-scan SGD with momentum (8 threads)\n"
          ]
        },
        {
          "output_type": "stream",
          "name": "stderr",
          "text": [
            "100%|██████████| 40/40 [00:02<00:00, 15.80it/s]\n"
          ]
        },
        {
          "output_type": "stream",
          "name": "stdout",
          "text": [
            "current loss: [[7.70323084e+215]]\n",
            "running thread  <Thread(Thread-1988, initial)>\n",
            "running thread  <Thread(Thread-1989, initial)>\n",
            "running thread  <Thread(Thread-1990, initial)>\n",
            "running thread  <Thread(Thread-1991, initial)>\n",
            "running thread  <Thread(Thread-1992, initial)>\n",
            "running thread  <Thread(Thread-1993, initial)>\n",
            "running thread  <Thread(Thread-1994, initial)>\n",
            "running thread  <Thread(Thread-1995, initial)>\n",
            "Running minibatch sequential-scan SGD with momentum (8 threads)\n"
          ]
        },
        {
          "output_type": "stream",
          "name": "stderr",
          "text": [
            "100%|██████████| 40/40 [00:02<00:00, 16.56it/s]\n"
          ]
        },
        {
          "output_type": "stream",
          "name": "stdout",
          "text": [
            "current loss: [[1.69964724e+37]]\n",
            "running thread  <Thread(Thread-1996, initial)>\n",
            "running thread  <Thread(Thread-1997, initial)>\n",
            "running thread  <Thread(Thread-1998, initial)>\n",
            "running thread  <Thread(Thread-1999, initial)>\n",
            "running thread  <Thread(Thread-2000, initial)>\n",
            "running thread  <Thread(Thread-2001, initial)>\n",
            "running thread  <Thread(Thread-2002, initial)>\n",
            "running thread  <Thread(Thread-2003, initial)>\n",
            "Running minibatch sequential-scan SGD with momentum (8 threads)\n"
          ]
        },
        {
          "output_type": "stream",
          "name": "stderr",
          "text": [
            "100%|██████████| 40/40 [00:02<00:00, 14.47it/s]\n"
          ]
        },
        {
          "output_type": "stream",
          "name": "stdout",
          "text": [
            "current loss: [[9.06228183e+57]]\n",
            "running thread  <Thread(Thread-2004, initial)>\n",
            "running thread  <Thread(Thread-2005, initial)>\n",
            "running thread  <Thread(Thread-2006, initial)>\n",
            "running thread  <Thread(Thread-2007, initial)>\n",
            "running thread  <Thread(Thread-2008, initial)>\n",
            "running thread  <Thread(Thread-2009, initial)>\n",
            "running thread  <Thread(Thread-2010, initial)>\n",
            "running thread  <Thread(Thread-2011, initial)>\n",
            "Running minibatch sequential-scan SGD with momentum (8 threads)\n"
          ]
        },
        {
          "output_type": "stream",
          "name": "stderr",
          "text": [
            "100%|██████████| 40/40 [00:03<00:00, 12.74it/s]\n"
          ]
        },
        {
          "output_type": "stream",
          "name": "stdout",
          "text": [
            "current loss: [[2.51064359e+238]]\n",
            "running thread  <Thread(Thread-2012, initial)>\n",
            "running thread  <Thread(Thread-2013, initial)>\n",
            "running thread  <Thread(Thread-2014, initial)>\n",
            "running thread  <Thread(Thread-2015, initial)>\n",
            "running thread  <Thread(Thread-2016, initial)>\n",
            "running thread  <Thread(Thread-2017, initial)>\n",
            "running thread  <Thread(Thread-2018, initial)>\n",
            "running thread  <Thread(Thread-2019, initial)>\n",
            "Running minibatch sequential-scan SGD with momentum (8 threads)\n"
          ]
        },
        {
          "output_type": "stream",
          "name": "stderr",
          "text": [
            "100%|██████████| 40/40 [00:02<00:00, 17.15it/s]\n"
          ]
        },
        {
          "output_type": "stream",
          "name": "stdout",
          "text": [
            "current loss: [[45.26614465]]\n",
            "running thread  <Thread(Thread-2020, initial)>\n",
            "running thread  <Thread(Thread-2021, initial)>\n",
            "running thread  <Thread(Thread-2022, initial)>\n",
            "running thread  <Thread(Thread-2023, initial)>\n",
            "running thread  <Thread(Thread-2024, initial)>\n",
            "running thread  <Thread(Thread-2025, initial)>\n",
            "running thread  <Thread(Thread-2026, initial)>\n",
            "running thread  <Thread(Thread-2027, initial)>\n",
            "Running minibatch sequential-scan SGD with momentum (8 threads)\n"
          ]
        },
        {
          "output_type": "stream",
          "name": "stderr",
          "text": [
            "100%|██████████| 40/40 [00:02<00:00, 16.80it/s]\n"
          ]
        },
        {
          "output_type": "stream",
          "name": "stdout",
          "text": [
            "current loss: [[44.43521301]]\n",
            "running thread  <Thread(Thread-2028, initial)>\n",
            "running thread  <Thread(Thread-2029, initial)>\n",
            "running thread  <Thread(Thread-2030, initial)>\n",
            "running thread  <Thread(Thread-2031, initial)>\n",
            "running thread  <Thread(Thread-2032, initial)>\n",
            "running thread  <Thread(Thread-2033, initial)>\n",
            "running thread  <Thread(Thread-2034, initial)>\n",
            "running thread  <Thread(Thread-2035, initial)>\n",
            "Running minibatch sequential-scan SGD with momentum (8 threads)\n"
          ]
        },
        {
          "output_type": "stream",
          "name": "stderr",
          "text": [
            "100%|██████████| 40/40 [00:02<00:00, 16.44it/s]\n"
          ]
        },
        {
          "output_type": "stream",
          "name": "stdout",
          "text": [
            "current loss: [[2.37264402e+108]]\n",
            "running thread  <Thread(Thread-2036, initial)>\n",
            "running thread  <Thread(Thread-2037, initial)>\n",
            "running thread  <Thread(Thread-2038, initial)>\n",
            "running thread  <Thread(Thread-2039, initial)>\n",
            "running thread  <Thread(Thread-2040, initial)>\n",
            "running thread  <Thread(Thread-2041, initial)>\n",
            "running thread  <Thread(Thread-2042, initial)>\n",
            "running thread  <Thread(Thread-2043, initial)>\n",
            "Running minibatch sequential-scan SGD with momentum (8 threads)\n"
          ]
        },
        {
          "output_type": "stream",
          "name": "stderr",
          "text": [
            "100%|██████████| 40/40 [00:02<00:00, 16.32it/s]\n"
          ]
        },
        {
          "output_type": "stream",
          "name": "stdout",
          "text": [
            "current loss: [[1.85733863e+271]]\n",
            "running thread  <Thread(Thread-2044, initial)>\n",
            "running thread  <Thread(Thread-2045, initial)>\n",
            "running thread  <Thread(Thread-2046, initial)>\n",
            "running thread  <Thread(Thread-2047, initial)>\n",
            "running thread  <Thread(Thread-2048, initial)>\n",
            "running thread  <Thread(Thread-2049, initial)>\n",
            "running thread  <Thread(Thread-2050, initial)>\n",
            "running thread  <Thread(Thread-2051, initial)>\n",
            "Running minibatch sequential-scan SGD with momentum (8 threads)\n"
          ]
        },
        {
          "output_type": "stream",
          "name": "stderr",
          "text": [
            "100%|██████████| 40/40 [00:03<00:00, 12.75it/s]\n"
          ]
        },
        {
          "output_type": "stream",
          "name": "stdout",
          "text": [
            "current loss: [[2.17720037e+113]]\n",
            "running thread  <Thread(Thread-2052, initial)>\n",
            "running thread  <Thread(Thread-2053, initial)>\n",
            "running thread  <Thread(Thread-2054, initial)>\n",
            "running thread  <Thread(Thread-2055, initial)>\n",
            "running thread  <Thread(Thread-2056, initial)>\n",
            "running thread  <Thread(Thread-2057, initial)>\n",
            "running thread  <Thread(Thread-2058, initial)>\n",
            "running thread  <Thread(Thread-2059, initial)>\n",
            "Running minibatch sequential-scan SGD with momentum (8 threads)\n"
          ]
        },
        {
          "output_type": "stream",
          "name": "stderr",
          "text": [
            "100%|██████████| 40/40 [00:02<00:00, 13.52it/s]\n"
          ]
        },
        {
          "output_type": "stream",
          "name": "stdout",
          "text": [
            "current loss: [[5.55461998e+174]]\n",
            "running thread  <Thread(Thread-2060, initial)>\n",
            "running thread  <Thread(Thread-2061, initial)>\n",
            "running thread  <Thread(Thread-2062, initial)>\n",
            "running thread  <Thread(Thread-2063, initial)>\n",
            "running thread  <Thread(Thread-2064, initial)>\n",
            "running thread  <Thread(Thread-2065, initial)>\n",
            "running thread  <Thread(Thread-2066, initial)>\n",
            "running thread  <Thread(Thread-2067, initial)>\n",
            "Running minibatch sequential-scan SGD with momentum (8 threads)\n"
          ]
        },
        {
          "output_type": "stream",
          "name": "stderr",
          "text": [
            "100%|██████████| 40/40 [00:02<00:00, 16.76it/s]\n"
          ]
        },
        {
          "output_type": "stream",
          "name": "stdout",
          "text": [
            "current loss: [[1.09089361e+220]]\n",
            "running thread  <Thread(Thread-2068, initial)>\n",
            "running thread  <Thread(Thread-2069, initial)>\n",
            "running thread  <Thread(Thread-2070, initial)>\n",
            "running thread  <Thread(Thread-2071, initial)>\n",
            "running thread  <Thread(Thread-2072, initial)>\n",
            "running thread  <Thread(Thread-2073, initial)>\n",
            "running thread  <Thread(Thread-2074, initial)>\n",
            "running thread  <Thread(Thread-2075, initial)>\n",
            "Running minibatch sequential-scan SGD with momentum (8 threads)\n"
          ]
        },
        {
          "output_type": "stream",
          "name": "stderr",
          "text": [
            "100%|██████████| 40/40 [00:02<00:00, 15.90it/s]\n"
          ]
        },
        {
          "output_type": "stream",
          "name": "stdout",
          "text": [
            "current loss: [[2.33021972e+200]]\n",
            "running thread  <Thread(Thread-2076, initial)>\n",
            "running thread  <Thread(Thread-2077, initial)>\n",
            "running thread  <Thread(Thread-2078, initial)>\n",
            "running thread  <Thread(Thread-2079, initial)>\n",
            "running thread  <Thread(Thread-2080, initial)>\n",
            "running thread  <Thread(Thread-2081, initial)>\n",
            "running thread  <Thread(Thread-2082, initial)>\n",
            "running thread  <Thread(Thread-2083, initial)>\n",
            "Running minibatch sequential-scan SGD with momentum (8 threads)\n"
          ]
        },
        {
          "output_type": "stream",
          "name": "stderr",
          "text": [
            "100%|██████████| 40/40 [00:02<00:00, 15.95it/s]\n"
          ]
        },
        {
          "output_type": "stream",
          "name": "stdout",
          "text": [
            "current loss: [[1.7144237e+99]]\n",
            "running thread  <Thread(Thread-2084, initial)>\n",
            "running thread  <Thread(Thread-2085, initial)>\n",
            "running thread  <Thread(Thread-2086, initial)>\n",
            "running thread  <Thread(Thread-2087, initial)>\n",
            "running thread  <Thread(Thread-2088, initial)>\n",
            "running thread  <Thread(Thread-2089, initial)>\n",
            "running thread  <Thread(Thread-2090, initial)>\n",
            "running thread  <Thread(Thread-2091, initial)>\n",
            "Running minibatch sequential-scan SGD with momentum (8 threads)\n"
          ]
        },
        {
          "output_type": "stream",
          "name": "stderr",
          "text": [
            "100%|██████████| 40/40 [00:02<00:00, 13.65it/s]\n"
          ]
        },
        {
          "output_type": "stream",
          "name": "stdout",
          "text": [
            "current loss: [[1.86226073e+120]]\n",
            "running thread  <Thread(Thread-2092, initial)>\n",
            "running thread  <Thread(Thread-2093, initial)>\n",
            "running thread  <Thread(Thread-2094, initial)>\n",
            "running thread  <Thread(Thread-2095, initial)>\n",
            "running thread  <Thread(Thread-2096, initial)>\n",
            "running thread  <Thread(Thread-2097, initial)>\n",
            "running thread  <Thread(Thread-2098, initial)>\n",
            "running thread  <Thread(Thread-2099, initial)>\n",
            "Running minibatch sequential-scan SGD with momentum (8 threads)\n"
          ]
        },
        {
          "output_type": "stream",
          "name": "stderr",
          "text": [
            "100%|██████████| 40/40 [00:03<00:00, 13.31it/s]\n"
          ]
        },
        {
          "output_type": "stream",
          "name": "stdout",
          "text": [
            "current loss: [[46.76351004]]\n",
            "running thread  <Thread(Thread-2100, initial)>\n",
            "running thread  <Thread(Thread-2101, initial)>\n",
            "running thread  <Thread(Thread-2102, initial)>\n",
            "running thread  <Thread(Thread-2103, initial)>\n",
            "running thread  <Thread(Thread-2104, initial)>\n",
            "running thread  <Thread(Thread-2105, initial)>\n",
            "running thread  <Thread(Thread-2106, initial)>\n",
            "running thread  <Thread(Thread-2107, initial)>\n",
            "Running minibatch sequential-scan SGD with momentum (8 threads)\n"
          ]
        },
        {
          "output_type": "stream",
          "name": "stderr",
          "text": [
            "100%|██████████| 40/40 [00:02<00:00, 15.93it/s]\n"
          ]
        },
        {
          "output_type": "stream",
          "name": "stdout",
          "text": [
            "current loss: [[nan]]\n",
            "running thread  <Thread(Thread-2108, initial)>\n",
            "running thread  <Thread(Thread-2109, initial)>\n",
            "running thread  <Thread(Thread-2110, initial)>\n",
            "running thread  <Thread(Thread-2111, initial)>\n",
            "running thread  <Thread(Thread-2112, initial)>\n",
            "running thread  <Thread(Thread-2113, initial)>\n",
            "running thread  <Thread(Thread-2114, initial)>\n",
            "running thread  <Thread(Thread-2115, initial)>\n",
            "Running minibatch sequential-scan SGD with momentum (8 threads)\n"
          ]
        },
        {
          "output_type": "stream",
          "name": "stderr",
          "text": [
            "100%|██████████| 40/40 [00:02<00:00, 16.44it/s]\n"
          ]
        },
        {
          "output_type": "stream",
          "name": "stdout",
          "text": [
            "current loss: [[1.57940827e+282]]\n",
            "running thread  <Thread(Thread-2116, initial)>\n",
            "running thread  <Thread(Thread-2117, initial)>\n",
            "running thread  <Thread(Thread-2118, initial)>\n",
            "running thread  <Thread(Thread-2119, initial)>\n",
            "running thread  <Thread(Thread-2120, initial)>\n",
            "running thread  <Thread(Thread-2121, initial)>\n",
            "running thread  <Thread(Thread-2122, initial)>\n",
            "running thread  <Thread(Thread-2123, initial)>\n",
            "Running minibatch sequential-scan SGD with momentum (8 threads)\n"
          ]
        },
        {
          "output_type": "stream",
          "name": "stderr",
          "text": [
            "100%|██████████| 40/40 [00:02<00:00, 16.81it/s]\n"
          ]
        },
        {
          "output_type": "stream",
          "name": "stdout",
          "text": [
            "current loss: [[49.40034759]]\n",
            "running thread  <Thread(Thread-2124, initial)>\n",
            "running thread  <Thread(Thread-2125, initial)>\n",
            "running thread  <Thread(Thread-2126, initial)>\n",
            "running thread  <Thread(Thread-2127, initial)>\n",
            "running thread  <Thread(Thread-2128, initial)>\n",
            "running thread  <Thread(Thread-2129, initial)>\n",
            "running thread  <Thread(Thread-2130, initial)>\n",
            "running thread  <Thread(Thread-2131, initial)>\n",
            "Running minibatch sequential-scan SGD with momentum (8 threads)\n"
          ]
        },
        {
          "output_type": "stream",
          "name": "stderr",
          "text": [
            "100%|██████████| 40/40 [00:02<00:00, 16.53it/s]\n"
          ]
        },
        {
          "output_type": "stream",
          "name": "stdout",
          "text": [
            "current loss: [[43.99237303]]\n",
            "running thread  <Thread(Thread-2132, initial)>\n",
            "running thread  <Thread(Thread-2133, initial)>\n",
            "running thread  <Thread(Thread-2134, initial)>\n",
            "running thread  <Thread(Thread-2135, initial)>\n",
            "running thread  <Thread(Thread-2136, initial)>\n",
            "running thread  <Thread(Thread-2137, initial)>\n",
            "running thread  <Thread(Thread-2138, initial)>\n",
            "running thread  <Thread(Thread-2139, initial)>\n",
            "Running minibatch sequential-scan SGD with momentum (8 threads)\n"
          ]
        },
        {
          "output_type": "stream",
          "name": "stderr",
          "text": [
            "100%|██████████| 40/40 [00:03<00:00, 13.02it/s]\n"
          ]
        },
        {
          "output_type": "stream",
          "name": "stdout",
          "text": [
            "current loss: [[1.66882521e+199]]\n",
            "running thread  <Thread(Thread-2140, initial)>\n",
            "running thread  <Thread(Thread-2141, initial)>\n",
            "running thread  <Thread(Thread-2142, initial)>\n",
            "running thread  <Thread(Thread-2143, initial)>\n",
            "running thread  <Thread(Thread-2144, initial)>\n",
            "running thread  <Thread(Thread-2145, initial)>\n",
            "running thread  <Thread(Thread-2146, initial)>\n",
            "running thread  <Thread(Thread-2147, initial)>\n",
            "Running minibatch sequential-scan SGD with momentum (8 threads)\n"
          ]
        },
        {
          "output_type": "stream",
          "name": "stderr",
          "text": [
            "100%|██████████| 40/40 [00:02<00:00, 13.78it/s]\n"
          ]
        },
        {
          "output_type": "stream",
          "name": "stdout",
          "text": [
            "current loss: [[4.32551687e+146]]\n",
            "running thread  <Thread(Thread-2148, initial)>\n",
            "running thread  <Thread(Thread-2149, initial)>\n",
            "running thread  <Thread(Thread-2150, initial)>\n",
            "running thread  <Thread(Thread-2151, initial)>\n",
            "running thread  <Thread(Thread-2152, initial)>\n",
            "running thread  <Thread(Thread-2153, initial)>\n",
            "running thread  <Thread(Thread-2154, initial)>\n",
            "running thread  <Thread(Thread-2155, initial)>\n",
            "Running minibatch sequential-scan SGD with momentum (8 threads)\n"
          ]
        },
        {
          "output_type": "stream",
          "name": "stderr",
          "text": [
            "100%|██████████| 40/40 [00:02<00:00, 16.60it/s]\n"
          ]
        },
        {
          "output_type": "stream",
          "name": "stdout",
          "text": [
            "current loss: [[46.76181288]]\n",
            "running thread  <Thread(Thread-2156, initial)>\n",
            "running thread  <Thread(Thread-2157, initial)>\n",
            "running thread  <Thread(Thread-2158, initial)>\n",
            "running thread  <Thread(Thread-2159, initial)>\n",
            "running thread  <Thread(Thread-2160, initial)>\n",
            "running thread  <Thread(Thread-2161, initial)>\n",
            "running thread  <Thread(Thread-2162, initial)>\n",
            "running thread  <Thread(Thread-2163, initial)>\n",
            "Running minibatch sequential-scan SGD with momentum (8 threads)\n"
          ]
        },
        {
          "output_type": "stream",
          "name": "stderr",
          "text": [
            "100%|██████████| 40/40 [00:02<00:00, 17.05it/s]\n"
          ]
        },
        {
          "output_type": "stream",
          "name": "stdout",
          "text": [
            "current loss: [[49.45165687]]\n",
            "running thread  <Thread(Thread-2164, initial)>\n",
            "running thread  <Thread(Thread-2165, initial)>\n",
            "running thread  <Thread(Thread-2166, initial)>\n",
            "running thread  <Thread(Thread-2167, initial)>\n",
            "running thread  <Thread(Thread-2168, initial)>\n",
            "running thread  <Thread(Thread-2169, initial)>\n",
            "running thread  <Thread(Thread-2170, initial)>\n",
            "running thread  <Thread(Thread-2171, initial)>\n",
            "Running minibatch sequential-scan SGD with momentum (8 threads)\n"
          ]
        },
        {
          "output_type": "stream",
          "name": "stderr",
          "text": [
            "100%|██████████| 40/40 [00:02<00:00, 16.99it/s]\n"
          ]
        },
        {
          "output_type": "stream",
          "name": "stdout",
          "text": [
            "current loss: [[46.8517253]]\n",
            "running thread  <Thread(Thread-2172, initial)>\n",
            "running thread  <Thread(Thread-2173, initial)>\n",
            "running thread  <Thread(Thread-2174, initial)>\n",
            "running thread  <Thread(Thread-2175, initial)>\n",
            "running thread  <Thread(Thread-2176, initial)>\n",
            "running thread  <Thread(Thread-2177, initial)>\n",
            "running thread  <Thread(Thread-2178, initial)>\n",
            "running thread  <Thread(Thread-2179, initial)>\n",
            "Running minibatch sequential-scan SGD with momentum (8 threads)\n"
          ]
        },
        {
          "output_type": "stream",
          "name": "stderr",
          "text": [
            "100%|██████████| 40/40 [00:02<00:00, 14.73it/s]\n"
          ]
        },
        {
          "output_type": "stream",
          "name": "stdout",
          "text": [
            "current loss: [[nan]]\n",
            "running thread  <Thread(Thread-2180, initial)>\n",
            "running thread  <Thread(Thread-2181, initial)>\n",
            "running thread  <Thread(Thread-2182, initial)>\n",
            "running thread  <Thread(Thread-2183, initial)>\n",
            "running thread  <Thread(Thread-2184, initial)>\n",
            "running thread  <Thread(Thread-2185, initial)>\n",
            "running thread  <Thread(Thread-2186, initial)>\n",
            "running thread  <Thread(Thread-2187, initial)>\n",
            "Running minibatch sequential-scan SGD with momentum (8 threads)\n"
          ]
        },
        {
          "output_type": "stream",
          "name": "stderr",
          "text": [
            "100%|██████████| 40/40 [00:02<00:00, 13.40it/s]\n"
          ]
        },
        {
          "output_type": "stream",
          "name": "stdout",
          "text": [
            "current loss: [[48.42485919]]\n",
            "running thread  <Thread(Thread-2188, initial)>\n",
            "running thread  <Thread(Thread-2189, initial)>\n",
            "running thread  <Thread(Thread-2190, initial)>\n",
            "running thread  <Thread(Thread-2191, initial)>\n",
            "running thread  <Thread(Thread-2192, initial)>\n",
            "running thread  <Thread(Thread-2193, initial)>\n",
            "running thread  <Thread(Thread-2194, initial)>\n",
            "running thread  <Thread(Thread-2195, initial)>\n",
            "Running minibatch sequential-scan SGD with momentum (8 threads)\n"
          ]
        },
        {
          "output_type": "stream",
          "name": "stderr",
          "text": [
            "100%|██████████| 40/40 [00:02<00:00, 15.85it/s]\n"
          ]
        },
        {
          "output_type": "stream",
          "name": "stdout",
          "text": [
            "current loss: [[8.89960461e+288]]\n",
            "running thread  <Thread(Thread-2196, initial)>\n",
            "running thread  <Thread(Thread-2197, initial)>\n",
            "running thread  <Thread(Thread-2198, initial)>\n",
            "running thread  <Thread(Thread-2199, initial)>\n",
            "running thread  <Thread(Thread-2200, initial)>\n",
            "running thread  <Thread(Thread-2201, initial)>\n",
            "running thread  <Thread(Thread-2202, initial)>\n",
            "running thread  <Thread(Thread-2203, initial)>\n",
            "Running minibatch sequential-scan SGD with momentum (8 threads)\n"
          ]
        },
        {
          "output_type": "stream",
          "name": "stderr",
          "text": [
            "100%|██████████| 40/40 [00:02<00:00, 15.99it/s]\n"
          ]
        },
        {
          "output_type": "stream",
          "name": "stdout",
          "text": [
            "current loss: [[nan]]\n",
            "running thread  <Thread(Thread-2204, initial)>\n",
            "running thread  <Thread(Thread-2205, initial)>\n",
            "running thread  <Thread(Thread-2206, initial)>\n",
            "running thread  <Thread(Thread-2207, initial)>\n",
            "running thread  <Thread(Thread-2208, initial)>\n",
            "running thread  <Thread(Thread-2209, initial)>\n",
            "running thread  <Thread(Thread-2210, initial)>\n",
            "running thread  <Thread(Thread-2211, initial)>\n",
            "Running minibatch sequential-scan SGD with momentum (8 threads)\n"
          ]
        },
        {
          "output_type": "stream",
          "name": "stderr",
          "text": [
            "100%|██████████| 40/40 [00:02<00:00, 16.21it/s]\n"
          ]
        },
        {
          "output_type": "stream",
          "name": "stdout",
          "text": [
            "current loss: [[4.77171553e+200]]\n",
            "running thread  <Thread(Thread-2212, initial)>\n",
            "running thread  <Thread(Thread-2213, initial)>\n",
            "running thread  <Thread(Thread-2214, initial)>\n",
            "running thread  <Thread(Thread-2215, initial)>\n",
            "running thread  <Thread(Thread-2216, initial)>\n",
            "running thread  <Thread(Thread-2217, initial)>\n",
            "running thread  <Thread(Thread-2218, initial)>\n",
            "running thread  <Thread(Thread-2219, initial)>\n",
            "Running minibatch sequential-scan SGD with momentum (8 threads)\n"
          ]
        },
        {
          "output_type": "stream",
          "name": "stderr",
          "text": [
            "100%|██████████| 40/40 [00:02<00:00, 16.23it/s]\n"
          ]
        },
        {
          "output_type": "stream",
          "name": "stdout",
          "text": [
            "current loss: [[2.62783677e+112]]\n",
            "running thread  <Thread(Thread-2220, initial)>\n",
            "running thread  <Thread(Thread-2221, initial)>\n",
            "running thread  <Thread(Thread-2222, initial)>\n",
            "running thread  <Thread(Thread-2223, initial)>\n",
            "running thread  <Thread(Thread-2224, initial)>\n",
            "running thread  <Thread(Thread-2225, initial)>\n",
            "running thread  <Thread(Thread-2226, initial)>\n",
            "running thread  <Thread(Thread-2227, initial)>\n",
            "Running minibatch sequential-scan SGD with momentum (8 threads)\n"
          ]
        },
        {
          "output_type": "stream",
          "name": "stderr",
          "text": [
            "100%|██████████| 40/40 [00:03<00:00, 13.28it/s]\n"
          ]
        },
        {
          "output_type": "stream",
          "name": "stdout",
          "text": [
            "current loss: [[45.28937455]]\n",
            "running thread  <Thread(Thread-2228, initial)>\n",
            "running thread  <Thread(Thread-2229, initial)>\n",
            "running thread  <Thread(Thread-2230, initial)>\n",
            "running thread  <Thread(Thread-2231, initial)>\n",
            "running thread  <Thread(Thread-2232, initial)>\n",
            "running thread  <Thread(Thread-2233, initial)>\n",
            "running thread  <Thread(Thread-2234, initial)>\n",
            "running thread  <Thread(Thread-2235, initial)>\n",
            "Running minibatch sequential-scan SGD with momentum (8 threads)\n"
          ]
        },
        {
          "output_type": "stream",
          "name": "stderr",
          "text": [
            "100%|██████████| 40/40 [00:02<00:00, 13.57it/s]\n"
          ]
        },
        {
          "output_type": "stream",
          "name": "stdout",
          "text": [
            "current loss: [[7.09449416e+274]]\n",
            "running thread  <Thread(Thread-2236, initial)>\n",
            "running thread  <Thread(Thread-2237, initial)>\n",
            "running thread  <Thread(Thread-2238, initial)>\n",
            "running thread  <Thread(Thread-2239, initial)>\n",
            "running thread  <Thread(Thread-2240, initial)>\n",
            "running thread  <Thread(Thread-2241, initial)>\n",
            "running thread  <Thread(Thread-2242, initial)>\n",
            "running thread  <Thread(Thread-2243, initial)>\n",
            "Running minibatch sequential-scan SGD with momentum (8 threads)\n"
          ]
        },
        {
          "output_type": "stream",
          "name": "stderr",
          "text": [
            "100%|██████████| 40/40 [00:02<00:00, 15.70it/s]\n"
          ]
        },
        {
          "output_type": "stream",
          "name": "stdout",
          "text": [
            "current loss: [[3.89080826e+184]]\n",
            "running thread  <Thread(Thread-2244, initial)>\n",
            "running thread  <Thread(Thread-2245, initial)>\n",
            "running thread  <Thread(Thread-2246, initial)>\n",
            "running thread  <Thread(Thread-2247, initial)>\n",
            "running thread  <Thread(Thread-2248, initial)>\n",
            "running thread  <Thread(Thread-2249, initial)>\n",
            "running thread  <Thread(Thread-2250, initial)>\n",
            "running thread  <Thread(Thread-2251, initial)>\n",
            "Running minibatch sequential-scan SGD with momentum (8 threads)\n"
          ]
        },
        {
          "output_type": "stream",
          "name": "stderr",
          "text": [
            "100%|██████████| 40/40 [00:02<00:00, 16.63it/s]\n"
          ]
        },
        {
          "output_type": "stream",
          "name": "stdout",
          "text": [
            "current loss: [[49.44804815]]\n",
            "running thread  <Thread(Thread-2252, initial)>\n",
            "running thread  <Thread(Thread-2253, initial)>\n",
            "running thread  <Thread(Thread-2254, initial)>\n",
            "running thread  <Thread(Thread-2255, initial)>\n",
            "running thread  <Thread(Thread-2256, initial)>\n",
            "running thread  <Thread(Thread-2257, initial)>\n",
            "running thread  <Thread(Thread-2258, initial)>\n",
            "running thread  <Thread(Thread-2259, initial)>\n",
            "Running minibatch sequential-scan SGD with momentum (8 threads)\n"
          ]
        },
        {
          "output_type": "stream",
          "name": "stderr",
          "text": [
            "100%|██████████| 40/40 [00:02<00:00, 16.08it/s]\n"
          ]
        },
        {
          "output_type": "stream",
          "name": "stdout",
          "text": [
            "current loss: [[5.72676285e+137]]\n",
            "running thread  <Thread(Thread-2260, initial)>\n",
            "running thread  <Thread(Thread-2261, initial)>\n",
            "running thread  <Thread(Thread-2262, initial)>\n",
            "running thread  <Thread(Thread-2263, initial)>\n",
            "running thread  <Thread(Thread-2264, initial)>\n",
            "running thread  <Thread(Thread-2265, initial)>\n",
            "running thread  <Thread(Thread-2266, initial)>\n",
            "running thread  <Thread(Thread-2267, initial)>\n",
            "Running minibatch sequential-scan SGD with momentum (8 threads)\n"
          ]
        },
        {
          "output_type": "stream",
          "name": "stderr",
          "text": [
            "100%|██████████| 40/40 [00:02<00:00, 15.63it/s]\n"
          ]
        },
        {
          "output_type": "stream",
          "name": "stdout",
          "text": [
            "current loss: [[51.68352887]]\n",
            "running thread  <Thread(Thread-2268, initial)>\n",
            "running thread  <Thread(Thread-2269, initial)>\n",
            "running thread  <Thread(Thread-2270, initial)>\n",
            "running thread  <Thread(Thread-2271, initial)>\n",
            "running thread  <Thread(Thread-2272, initial)>\n",
            "running thread  <Thread(Thread-2273, initial)>\n",
            "running thread  <Thread(Thread-2274, initial)>\n",
            "running thread  <Thread(Thread-2275, initial)>\n",
            "Running minibatch sequential-scan SGD with momentum (8 threads)\n"
          ]
        },
        {
          "output_type": "stream",
          "name": "stderr",
          "text": [
            "100%|██████████| 40/40 [00:03<00:00, 13.15it/s]\n"
          ]
        },
        {
          "output_type": "stream",
          "name": "stdout",
          "text": [
            "current loss: [[9.84115204e+136]]\n",
            "running thread  <Thread(Thread-2276, initial)>\n",
            "running thread  <Thread(Thread-2277, initial)>\n",
            "running thread  <Thread(Thread-2278, initial)>\n",
            "running thread  <Thread(Thread-2279, initial)>\n",
            "running thread  <Thread(Thread-2280, initial)>\n",
            "running thread  <Thread(Thread-2281, initial)>\n",
            "running thread  <Thread(Thread-2282, initial)>\n",
            "running thread  <Thread(Thread-2283, initial)>\n",
            "Running minibatch sequential-scan SGD with momentum (8 threads)\n"
          ]
        },
        {
          "output_type": "stream",
          "name": "stderr",
          "text": [
            "100%|██████████| 40/40 [00:02<00:00, 15.21it/s]\n"
          ]
        },
        {
          "output_type": "stream",
          "name": "stdout",
          "text": [
            "current loss: [[47.37332442]]\n",
            "running thread  <Thread(Thread-2284, initial)>\n",
            "running thread  <Thread(Thread-2285, initial)>\n",
            "running thread  <Thread(Thread-2286, initial)>\n",
            "running thread  <Thread(Thread-2287, initial)>\n",
            "running thread  <Thread(Thread-2288, initial)>\n",
            "running thread  <Thread(Thread-2289, initial)>\n",
            "running thread  <Thread(Thread-2290, initial)>\n",
            "running thread  <Thread(Thread-2291, initial)>\n",
            "Running minibatch sequential-scan SGD with momentum (8 threads)\n"
          ]
        },
        {
          "output_type": "stream",
          "name": "stderr",
          "text": [
            "100%|██████████| 40/40 [00:02<00:00, 15.97it/s]\n"
          ]
        },
        {
          "output_type": "stream",
          "name": "stdout",
          "text": [
            "current loss: [[9.4003632e+106]]\n",
            "running thread  <Thread(Thread-2292, initial)>\n",
            "running thread  <Thread(Thread-2293, initial)>\n",
            "running thread  <Thread(Thread-2294, initial)>\n",
            "running thread  <Thread(Thread-2295, initial)>\n",
            "running thread  <Thread(Thread-2296, initial)>\n",
            "running thread  <Thread(Thread-2297, initial)>\n",
            "running thread  <Thread(Thread-2298, initial)>\n",
            "running thread  <Thread(Thread-2299, initial)>\n",
            "Running minibatch sequential-scan SGD with momentum (8 threads)\n"
          ]
        },
        {
          "output_type": "stream",
          "name": "stderr",
          "text": [
            "100%|██████████| 40/40 [00:02<00:00, 16.43it/s]\n"
          ]
        },
        {
          "output_type": "stream",
          "name": "stdout",
          "text": [
            "current loss: [[2.84558443e+103]]\n",
            "running thread  <Thread(Thread-2300, initial)>\n",
            "running thread  <Thread(Thread-2301, initial)>\n",
            "running thread  <Thread(Thread-2302, initial)>\n",
            "running thread  <Thread(Thread-2303, initial)>\n",
            "running thread  <Thread(Thread-2304, initial)>\n",
            "running thread  <Thread(Thread-2305, initial)>\n",
            "running thread  <Thread(Thread-2306, initial)>\n",
            "running thread  <Thread(Thread-2307, initial)>\n",
            "Running minibatch sequential-scan SGD with momentum (8 threads)\n"
          ]
        },
        {
          "output_type": "stream",
          "name": "stderr",
          "text": [
            "100%|██████████| 40/40 [00:02<00:00, 16.37it/s]\n"
          ]
        },
        {
          "output_type": "stream",
          "name": "stdout",
          "text": [
            "current loss: [[8.48760476e+114]]\n",
            "running thread  <Thread(Thread-2308, initial)>\n",
            "running thread  <Thread(Thread-2309, initial)>\n",
            "running thread  <Thread(Thread-2310, initial)>\n",
            "running thread  <Thread(Thread-2311, initial)>\n",
            "running thread  <Thread(Thread-2312, initial)>\n",
            "running thread  <Thread(Thread-2313, initial)>\n",
            "running thread  <Thread(Thread-2314, initial)>\n",
            "running thread  <Thread(Thread-2315, initial)>\n",
            "Running minibatch sequential-scan SGD with momentum (8 threads)\n"
          ]
        },
        {
          "output_type": "stream",
          "name": "stderr",
          "text": [
            "100%|██████████| 40/40 [00:02<00:00, 14.05it/s]\n"
          ]
        },
        {
          "output_type": "stream",
          "name": "stdout",
          "text": [
            "current loss: [[49.02913246]]\n",
            "running thread  <Thread(Thread-2316, initial)>\n",
            "running thread  <Thread(Thread-2317, initial)>\n",
            "running thread  <Thread(Thread-2318, initial)>\n",
            "running thread  <Thread(Thread-2319, initial)>\n",
            "running thread  <Thread(Thread-2320, initial)>\n",
            "running thread  <Thread(Thread-2321, initial)>\n",
            "running thread  <Thread(Thread-2322, initial)>\n",
            "running thread  <Thread(Thread-2323, initial)>\n",
            "Running minibatch sequential-scan SGD with momentum (8 threads)\n"
          ]
        },
        {
          "output_type": "stream",
          "name": "stderr",
          "text": [
            "100%|██████████| 40/40 [00:02<00:00, 13.55it/s]\n"
          ]
        },
        {
          "output_type": "stream",
          "name": "stdout",
          "text": [
            "current loss: [[nan]]\n",
            "running thread  <Thread(Thread-2324, initial)>\n",
            "running thread  <Thread(Thread-2325, initial)>\n",
            "running thread  <Thread(Thread-2326, initial)>\n",
            "running thread  <Thread(Thread-2327, initial)>\n",
            "running thread  <Thread(Thread-2328, initial)>\n",
            "running thread  <Thread(Thread-2329, initial)>\n",
            "running thread  <Thread(Thread-2330, initial)>\n",
            "running thread  <Thread(Thread-2331, initial)>\n",
            "Running minibatch sequential-scan SGD with momentum (8 threads)\n"
          ]
        },
        {
          "output_type": "stream",
          "name": "stderr",
          "text": [
            "100%|██████████| 40/40 [00:02<00:00, 16.38it/s]\n"
          ]
        },
        {
          "output_type": "stream",
          "name": "stdout",
          "text": [
            "current loss: [[48.64035105]]\n",
            "running thread  <Thread(Thread-2332, initial)>\n",
            "running thread  <Thread(Thread-2333, initial)>\n",
            "running thread  <Thread(Thread-2334, initial)>\n",
            "running thread  <Thread(Thread-2335, initial)>\n",
            "running thread  <Thread(Thread-2336, initial)>\n",
            "running thread  <Thread(Thread-2337, initial)>\n",
            "running thread  <Thread(Thread-2338, initial)>\n",
            "running thread  <Thread(Thread-2339, initial)>\n",
            "Running minibatch sequential-scan SGD with momentum (8 threads)\n"
          ]
        },
        {
          "output_type": "stream",
          "name": "stderr",
          "text": [
            "100%|██████████| 40/40 [00:02<00:00, 16.25it/s]\n"
          ]
        },
        {
          "output_type": "stream",
          "name": "stdout",
          "text": [
            "current loss: [[1.53334226e+300]]\n",
            "running thread  <Thread(Thread-2340, initial)>\n",
            "running thread  <Thread(Thread-2341, initial)>\n",
            "running thread  <Thread(Thread-2342, initial)>\n",
            "running thread  <Thread(Thread-2343, initial)>\n",
            "running thread  <Thread(Thread-2344, initial)>\n",
            "running thread  <Thread(Thread-2345, initial)>\n",
            "running thread  <Thread(Thread-2346, initial)>\n",
            "running thread  <Thread(Thread-2347, initial)>\n",
            "Running minibatch sequential-scan SGD with momentum (8 threads)\n"
          ]
        },
        {
          "output_type": "stream",
          "name": "stderr",
          "text": [
            "100%|██████████| 40/40 [00:02<00:00, 16.80it/s]\n"
          ]
        },
        {
          "output_type": "stream",
          "name": "stdout",
          "text": [
            "current loss: [[42.26321395]]\n",
            "running thread  <Thread(Thread-2348, initial)>\n",
            "running thread  <Thread(Thread-2349, initial)>\n",
            "running thread  <Thread(Thread-2350, initial)>\n",
            "running thread  <Thread(Thread-2351, initial)>\n",
            "running thread  <Thread(Thread-2352, initial)>\n",
            "running thread  <Thread(Thread-2353, initial)>\n",
            "running thread  <Thread(Thread-2354, initial)>\n",
            "running thread  <Thread(Thread-2355, initial)>\n",
            "Running minibatch sequential-scan SGD with momentum (8 threads)\n"
          ]
        },
        {
          "output_type": "stream",
          "name": "stderr",
          "text": [
            "100%|██████████| 40/40 [00:02<00:00, 15.29it/s]\n"
          ]
        },
        {
          "output_type": "stream",
          "name": "stdout",
          "text": [
            "current loss: [[4.83622314e+75]]\n",
            "running thread  <Thread(Thread-2356, initial)>\n",
            "running thread  <Thread(Thread-2357, initial)>\n",
            "running thread  <Thread(Thread-2358, initial)>\n",
            "running thread  <Thread(Thread-2359, initial)>\n",
            "running thread  <Thread(Thread-2360, initial)>\n",
            "running thread  <Thread(Thread-2361, initial)>\n",
            "running thread  <Thread(Thread-2362, initial)>\n",
            "running thread  <Thread(Thread-2363, initial)>\n",
            "Running minibatch sequential-scan SGD with momentum (8 threads)\n"
          ]
        },
        {
          "output_type": "stream",
          "name": "stderr",
          "text": [
            "100%|██████████| 40/40 [00:03<00:00, 12.47it/s]\n"
          ]
        },
        {
          "output_type": "stream",
          "name": "stdout",
          "text": [
            "current loss: [[49.90130989]]\n",
            "running thread  <Thread(Thread-2364, initial)>\n",
            "running thread  <Thread(Thread-2365, initial)>\n",
            "running thread  <Thread(Thread-2366, initial)>\n",
            "running thread  <Thread(Thread-2367, initial)>\n",
            "running thread  <Thread(Thread-2368, initial)>\n",
            "running thread  <Thread(Thread-2369, initial)>\n",
            "running thread  <Thread(Thread-2370, initial)>\n",
            "running thread  <Thread(Thread-2371, initial)>\n",
            "Running minibatch sequential-scan SGD with momentum (8 threads)\n"
          ]
        },
        {
          "output_type": "stream",
          "name": "stderr",
          "text": [
            "100%|██████████| 40/40 [00:02<00:00, 15.13it/s]\n"
          ]
        },
        {
          "output_type": "stream",
          "name": "stdout",
          "text": [
            "current loss: [[6.32230276e+182]]\n",
            "running thread  <Thread(Thread-2372, initial)>\n",
            "running thread  <Thread(Thread-2373, initial)>\n",
            "running thread  <Thread(Thread-2374, initial)>\n",
            "running thread  <Thread(Thread-2375, initial)>\n",
            "running thread  <Thread(Thread-2376, initial)>\n",
            "running thread  <Thread(Thread-2377, initial)>\n",
            "running thread  <Thread(Thread-2378, initial)>\n",
            "running thread  <Thread(Thread-2379, initial)>\n",
            "Running minibatch sequential-scan SGD with momentum (8 threads)\n"
          ]
        },
        {
          "output_type": "stream",
          "name": "stderr",
          "text": [
            "100%|██████████| 40/40 [00:02<00:00, 16.87it/s]\n"
          ]
        },
        {
          "output_type": "stream",
          "name": "stdout",
          "text": [
            "current loss: [[49.19729434]]\n",
            "running thread  <Thread(Thread-2380, initial)>\n",
            "running thread  <Thread(Thread-2381, initial)>\n",
            "running thread  <Thread(Thread-2382, initial)>\n",
            "running thread  <Thread(Thread-2383, initial)>\n",
            "running thread  <Thread(Thread-2384, initial)>\n",
            "running thread  <Thread(Thread-2385, initial)>\n",
            "running thread  <Thread(Thread-2386, initial)>\n",
            "running thread  <Thread(Thread-2387, initial)>\n",
            "Running minibatch sequential-scan SGD with momentum (8 threads)\n"
          ]
        },
        {
          "output_type": "stream",
          "name": "stderr",
          "text": [
            "100%|██████████| 40/40 [00:02<00:00, 16.49it/s]\n"
          ]
        },
        {
          "output_type": "stream",
          "name": "stdout",
          "text": [
            "current loss: [[4.42559965e+150]]\n",
            "running thread  <Thread(Thread-2388, initial)>\n",
            "running thread  <Thread(Thread-2389, initial)>\n",
            "running thread  <Thread(Thread-2390, initial)>\n",
            "running thread  <Thread(Thread-2391, initial)>\n",
            "running thread  <Thread(Thread-2392, initial)>\n",
            "running thread  <Thread(Thread-2393, initial)>\n",
            "running thread  <Thread(Thread-2394, initial)>\n",
            "running thread  <Thread(Thread-2395, initial)>\n",
            "Running minibatch sequential-scan SGD with momentum (8 threads)\n"
          ]
        },
        {
          "output_type": "stream",
          "name": "stderr",
          "text": [
            "100%|██████████| 40/40 [00:02<00:00, 17.05it/s]\n"
          ]
        },
        {
          "output_type": "stream",
          "name": "stdout",
          "text": [
            "current loss: [[nan]]\n",
            "running thread  <Thread(Thread-2396, initial)>\n",
            "running thread  <Thread(Thread-2397, initial)>\n",
            "running thread  <Thread(Thread-2398, initial)>\n",
            "running thread  <Thread(Thread-2399, initial)>\n",
            "running thread  <Thread(Thread-2400, initial)>\n",
            "running thread  <Thread(Thread-2401, initial)>\n",
            "running thread  <Thread(Thread-2402, initial)>\n",
            "running thread  <Thread(Thread-2403, initial)>\n",
            "Running minibatch sequential-scan SGD with momentum (8 threads)\n"
          ]
        },
        {
          "output_type": "stream",
          "name": "stderr",
          "text": [
            "100%|██████████| 40/40 [00:02<00:00, 14.14it/s]\n"
          ]
        },
        {
          "output_type": "stream",
          "name": "stdout",
          "text": [
            "current loss: [[2.61899886e+214]]\n",
            "running thread  <Thread(Thread-2404, initial)>\n",
            "running thread  <Thread(Thread-2405, initial)>\n",
            "running thread  <Thread(Thread-2406, initial)>\n",
            "running thread  <Thread(Thread-2407, initial)>\n",
            "running thread  <Thread(Thread-2408, initial)>\n",
            "running thread  <Thread(Thread-2409, initial)>\n",
            "running thread  <Thread(Thread-2410, initial)>\n",
            "running thread  <Thread(Thread-2411, initial)>\n",
            "Running minibatch sequential-scan SGD with momentum (8 threads)\n"
          ]
        },
        {
          "output_type": "stream",
          "name": "stderr",
          "text": [
            "100%|██████████| 40/40 [00:03<00:00, 12.93it/s]\n"
          ]
        },
        {
          "output_type": "stream",
          "name": "stdout",
          "text": [
            "current loss: [[1.03838246e+235]]\n",
            "running thread  <Thread(Thread-2412, initial)>\n",
            "running thread  <Thread(Thread-2413, initial)>\n",
            "running thread  <Thread(Thread-2414, initial)>\n",
            "running thread  <Thread(Thread-2415, initial)>\n",
            "running thread  <Thread(Thread-2416, initial)>\n",
            "running thread  <Thread(Thread-2417, initial)>\n",
            "running thread  <Thread(Thread-2418, initial)>\n",
            "running thread  <Thread(Thread-2419, initial)>\n",
            "Running minibatch sequential-scan SGD with momentum (8 threads)\n"
          ]
        },
        {
          "output_type": "stream",
          "name": "stderr",
          "text": [
            "100%|██████████| 40/40 [00:02<00:00, 17.43it/s]\n"
          ]
        },
        {
          "output_type": "stream",
          "name": "stdout",
          "text": [
            "current loss: [[48.21332852]]\n",
            "running thread  <Thread(Thread-2420, initial)>\n",
            "running thread  <Thread(Thread-2421, initial)>\n",
            "running thread  <Thread(Thread-2422, initial)>\n",
            "running thread  <Thread(Thread-2423, initial)>\n",
            "running thread  <Thread(Thread-2424, initial)>\n",
            "running thread  <Thread(Thread-2425, initial)>\n",
            "running thread  <Thread(Thread-2426, initial)>\n",
            "running thread  <Thread(Thread-2427, initial)>\n",
            "Running minibatch sequential-scan SGD with momentum (8 threads)\n"
          ]
        },
        {
          "output_type": "stream",
          "name": "stderr",
          "text": [
            "100%|██████████| 40/40 [00:02<00:00, 16.32it/s]\n"
          ]
        },
        {
          "output_type": "stream",
          "name": "stdout",
          "text": [
            "current loss: [[49.90130989]]\n",
            "running thread  <Thread(Thread-2428, initial)>\n",
            "running thread  <Thread(Thread-2429, initial)>\n",
            "running thread  <Thread(Thread-2430, initial)>\n",
            "running thread  <Thread(Thread-2431, initial)>\n",
            "running thread  <Thread(Thread-2432, initial)>\n",
            "running thread  <Thread(Thread-2433, initial)>\n",
            "running thread  <Thread(Thread-2434, initial)>\n",
            "running thread  <Thread(Thread-2435, initial)>\n",
            "Running minibatch sequential-scan SGD with momentum (8 threads)\n"
          ]
        },
        {
          "output_type": "stream",
          "name": "stderr",
          "text": [
            "100%|██████████| 40/40 [00:02<00:00, 16.70it/s]\n"
          ]
        },
        {
          "output_type": "stream",
          "name": "stdout",
          "text": [
            "current loss: [[2.00409895e+76]]\n",
            "running thread  <Thread(Thread-2436, initial)>\n",
            "running thread  <Thread(Thread-2437, initial)>\n",
            "running thread  <Thread(Thread-2438, initial)>\n",
            "running thread  <Thread(Thread-2439, initial)>\n",
            "running thread  <Thread(Thread-2440, initial)>\n",
            "running thread  <Thread(Thread-2441, initial)>\n",
            "running thread  <Thread(Thread-2442, initial)>\n",
            "running thread  <Thread(Thread-2443, initial)>\n",
            "Running minibatch sequential-scan SGD with momentum (8 threads)\n"
          ]
        },
        {
          "output_type": "stream",
          "name": "stderr",
          "text": [
            "100%|██████████| 40/40 [00:02<00:00, 17.19it/s]\n"
          ]
        },
        {
          "output_type": "stream",
          "name": "stdout",
          "text": [
            "current loss: [[47.26403141]]\n",
            "running thread  <Thread(Thread-2444, initial)>\n",
            "running thread  <Thread(Thread-2445, initial)>\n",
            "running thread  <Thread(Thread-2446, initial)>\n",
            "running thread  <Thread(Thread-2447, initial)>\n",
            "running thread  <Thread(Thread-2448, initial)>\n",
            "running thread  <Thread(Thread-2449, initial)>\n",
            "running thread  <Thread(Thread-2450, initial)>\n",
            "running thread  <Thread(Thread-2451, initial)>\n",
            "Running minibatch sequential-scan SGD with momentum (8 threads)\n"
          ]
        },
        {
          "output_type": "stream",
          "name": "stderr",
          "text": [
            "100%|██████████| 40/40 [00:03<00:00, 12.99it/s]\n"
          ]
        },
        {
          "output_type": "stream",
          "name": "stdout",
          "text": [
            "current loss: [[6.74447254e+45]]\n",
            "running thread  <Thread(Thread-2452, initial)>\n",
            "running thread  <Thread(Thread-2453, initial)>\n",
            "running thread  <Thread(Thread-2454, initial)>\n",
            "running thread  <Thread(Thread-2455, initial)>\n",
            "running thread  <Thread(Thread-2456, initial)>\n",
            "running thread  <Thread(Thread-2457, initial)>\n",
            "running thread  <Thread(Thread-2458, initial)>\n",
            "running thread  <Thread(Thread-2459, initial)>\n",
            "Running minibatch sequential-scan SGD with momentum (8 threads)\n"
          ]
        },
        {
          "output_type": "stream",
          "name": "stderr",
          "text": [
            "100%|██████████| 40/40 [00:02<00:00, 14.15it/s]\n"
          ]
        },
        {
          "output_type": "stream",
          "name": "stdout",
          "text": [
            "current loss: [[49.90130989]]\n",
            "running thread  <Thread(Thread-2460, initial)>\n",
            "running thread  <Thread(Thread-2461, initial)>\n",
            "running thread  <Thread(Thread-2462, initial)>\n",
            "running thread  <Thread(Thread-2463, initial)>\n",
            "running thread  <Thread(Thread-2464, initial)>\n",
            "running thread  <Thread(Thread-2465, initial)>\n",
            "running thread  <Thread(Thread-2466, initial)>\n",
            "running thread  <Thread(Thread-2467, initial)>\n",
            "Running minibatch sequential-scan SGD with momentum (8 threads)\n"
          ]
        },
        {
          "output_type": "stream",
          "name": "stderr",
          "text": [
            "100%|██████████| 40/40 [00:02<00:00, 16.81it/s]\n"
          ]
        },
        {
          "output_type": "stream",
          "name": "stdout",
          "text": [
            "current loss: [[nan]]\n",
            "running thread  <Thread(Thread-2468, initial)>\n",
            "running thread  <Thread(Thread-2469, initial)>\n",
            "running thread  <Thread(Thread-2470, initial)>\n",
            "running thread  <Thread(Thread-2471, initial)>\n",
            "running thread  <Thread(Thread-2472, initial)>\n",
            "running thread  <Thread(Thread-2473, initial)>\n",
            "running thread  <Thread(Thread-2474, initial)>\n",
            "running thread  <Thread(Thread-2475, initial)>\n",
            "Running minibatch sequential-scan SGD with momentum (8 threads)\n"
          ]
        },
        {
          "output_type": "stream",
          "name": "stderr",
          "text": [
            "100%|██████████| 40/40 [00:02<00:00, 16.44it/s]\n"
          ]
        },
        {
          "output_type": "stream",
          "name": "stdout",
          "text": [
            "current loss: [[nan]]\n",
            "running thread  <Thread(Thread-2476, initial)>\n",
            "running thread  <Thread(Thread-2477, initial)>\n",
            "running thread  <Thread(Thread-2478, initial)>\n",
            "running thread  <Thread(Thread-2479, initial)>\n",
            "running thread  <Thread(Thread-2480, initial)>\n",
            "running thread  <Thread(Thread-2481, initial)>\n",
            "running thread  <Thread(Thread-2482, initial)>\n",
            "running thread  <Thread(Thread-2483, initial)>\n",
            "Running minibatch sequential-scan SGD with momentum (8 threads)\n"
          ]
        },
        {
          "output_type": "stream",
          "name": "stderr",
          "text": [
            "100%|██████████| 40/40 [00:02<00:00, 16.53it/s]\n"
          ]
        },
        {
          "output_type": "stream",
          "name": "stdout",
          "text": [
            "current loss: [[2.42761955e+202]]\n",
            "running thread  <Thread(Thread-2484, initial)>\n",
            "running thread  <Thread(Thread-2485, initial)>\n",
            "running thread  <Thread(Thread-2486, initial)>\n",
            "running thread  <Thread(Thread-2487, initial)>\n",
            "running thread  <Thread(Thread-2488, initial)>\n",
            "running thread  <Thread(Thread-2489, initial)>\n",
            "running thread  <Thread(Thread-2490, initial)>\n",
            "running thread  <Thread(Thread-2491, initial)>\n",
            "Running minibatch sequential-scan SGD with momentum (8 threads)\n"
          ]
        },
        {
          "output_type": "stream",
          "name": "stderr",
          "text": [
            "100%|██████████| 40/40 [00:03<00:00, 11.29it/s]\n"
          ]
        },
        {
          "output_type": "stream",
          "name": "stdout",
          "text": [
            "current loss: [[nan]]\n",
            "running thread  <Thread(Thread-2492, initial)>\n",
            "running thread  <Thread(Thread-2493, initial)>\n",
            "running thread  <Thread(Thread-2494, initial)>\n",
            "running thread  <Thread(Thread-2495, initial)>\n",
            "running thread  <Thread(Thread-2496, initial)>\n",
            "running thread  <Thread(Thread-2497, initial)>\n",
            "running thread  <Thread(Thread-2498, initial)>\n",
            "running thread  <Thread(Thread-2499, initial)>\n",
            "Running minibatch sequential-scan SGD with momentum (8 threads)\n"
          ]
        },
        {
          "output_type": "stream",
          "name": "stderr",
          "text": [
            "100%|██████████| 40/40 [00:03<00:00, 11.04it/s]\n"
          ]
        },
        {
          "output_type": "stream",
          "name": "stdout",
          "text": [
            "current loss: [[476.70688028]]\n",
            "running thread  <Thread(Thread-2500, initial)>\n",
            "running thread  <Thread(Thread-2501, initial)>\n",
            "running thread  <Thread(Thread-2502, initial)>\n",
            "running thread  <Thread(Thread-2503, initial)>\n",
            "running thread  <Thread(Thread-2504, initial)>\n",
            "running thread  <Thread(Thread-2505, initial)>\n",
            "running thread  <Thread(Thread-2506, initial)>\n",
            "running thread  <Thread(Thread-2507, initial)>\n",
            "Running minibatch sequential-scan SGD with momentum (8 threads)\n"
          ]
        },
        {
          "output_type": "stream",
          "name": "stderr",
          "text": [
            "100%|██████████| 40/40 [00:03<00:00, 12.96it/s]\n"
          ]
        },
        {
          "output_type": "stream",
          "name": "stdout",
          "text": [
            "current loss: [[49.90130989]]\n",
            "running thread  <Thread(Thread-2508, initial)>\n",
            "running thread  <Thread(Thread-2509, initial)>\n",
            "running thread  <Thread(Thread-2510, initial)>\n",
            "running thread  <Thread(Thread-2511, initial)>\n",
            "running thread  <Thread(Thread-2512, initial)>\n",
            "running thread  <Thread(Thread-2513, initial)>\n",
            "running thread  <Thread(Thread-2514, initial)>\n",
            "running thread  <Thread(Thread-2515, initial)>\n",
            "Running minibatch sequential-scan SGD with momentum (8 threads)\n"
          ]
        },
        {
          "output_type": "stream",
          "name": "stderr",
          "text": [
            "100%|██████████| 40/40 [00:02<00:00, 17.00it/s]\n"
          ]
        },
        {
          "output_type": "stream",
          "name": "stdout",
          "text": [
            "current loss: [[6.65101194e+299]]\n",
            "running thread  <Thread(Thread-2516, initial)>\n",
            "running thread  <Thread(Thread-2517, initial)>\n",
            "running thread  <Thread(Thread-2518, initial)>\n",
            "running thread  <Thread(Thread-2519, initial)>\n",
            "running thread  <Thread(Thread-2520, initial)>\n",
            "running thread  <Thread(Thread-2521, initial)>\n",
            "running thread  <Thread(Thread-2522, initial)>\n",
            "running thread  <Thread(Thread-2523, initial)>\n",
            "Running minibatch sequential-scan SGD with momentum (8 threads)\n"
          ]
        },
        {
          "output_type": "stream",
          "name": "stderr",
          "text": [
            "100%|██████████| 40/40 [00:02<00:00, 16.85it/s]\n"
          ]
        },
        {
          "output_type": "stream",
          "name": "stdout",
          "text": [
            "current loss: [[5.68751471e+157]]\n",
            "running thread  <Thread(Thread-2524, initial)>\n",
            "running thread  <Thread(Thread-2525, initial)>\n",
            "running thread  <Thread(Thread-2526, initial)>\n",
            "running thread  <Thread(Thread-2527, initial)>\n",
            "running thread  <Thread(Thread-2528, initial)>\n",
            "running thread  <Thread(Thread-2529, initial)>\n",
            "running thread  <Thread(Thread-2530, initial)>\n",
            "running thread  <Thread(Thread-2531, initial)>\n",
            "Running minibatch sequential-scan SGD with momentum (8 threads)\n"
          ]
        },
        {
          "output_type": "stream",
          "name": "stderr",
          "text": [
            "100%|██████████| 40/40 [00:02<00:00, 16.96it/s]\n"
          ]
        },
        {
          "output_type": "stream",
          "name": "stdout",
          "text": [
            "current loss: [[45.07728206]]\n",
            "running thread  <Thread(Thread-2532, initial)>\n",
            "running thread  <Thread(Thread-2533, initial)>\n",
            "running thread  <Thread(Thread-2534, initial)>\n",
            "running thread  <Thread(Thread-2535, initial)>\n",
            "running thread  <Thread(Thread-2536, initial)>\n",
            "running thread  <Thread(Thread-2537, initial)>\n",
            "running thread  <Thread(Thread-2538, initial)>\n",
            "running thread  <Thread(Thread-2539, initial)>\n",
            "Running minibatch sequential-scan SGD with momentum (8 threads)\n"
          ]
        },
        {
          "output_type": "stream",
          "name": "stderr",
          "text": [
            "100%|██████████| 40/40 [00:02<00:00, 14.60it/s]\n"
          ]
        },
        {
          "output_type": "stream",
          "name": "stdout",
          "text": [
            "current loss: [[8.82804233e+147]]\n",
            "running thread  <Thread(Thread-2540, initial)>\n",
            "running thread  <Thread(Thread-2541, initial)>\n",
            "running thread  <Thread(Thread-2542, initial)>\n",
            "running thread  <Thread(Thread-2543, initial)>\n",
            "running thread  <Thread(Thread-2544, initial)>\n",
            "running thread  <Thread(Thread-2545, initial)>\n",
            "running thread  <Thread(Thread-2546, initial)>\n",
            "running thread  <Thread(Thread-2547, initial)>\n",
            "Running minibatch sequential-scan SGD with momentum (8 threads)\n"
          ]
        },
        {
          "output_type": "stream",
          "name": "stderr",
          "text": [
            "100%|██████████| 40/40 [00:03<00:00, 13.28it/s]\n"
          ]
        },
        {
          "output_type": "stream",
          "name": "stdout",
          "text": [
            "current loss: [[5.34586304e+127]]\n",
            "running thread  <Thread(Thread-2548, initial)>\n",
            "running thread  <Thread(Thread-2549, initial)>\n",
            "running thread  <Thread(Thread-2550, initial)>\n",
            "running thread  <Thread(Thread-2551, initial)>\n",
            "running thread  <Thread(Thread-2552, initial)>\n",
            "running thread  <Thread(Thread-2553, initial)>\n",
            "running thread  <Thread(Thread-2554, initial)>\n",
            "running thread  <Thread(Thread-2555, initial)>\n",
            "Running minibatch sequential-scan SGD with momentum (8 threads)\n"
          ]
        },
        {
          "output_type": "stream",
          "name": "stderr",
          "text": [
            "100%|██████████| 40/40 [00:02<00:00, 15.64it/s]\n"
          ]
        },
        {
          "output_type": "stream",
          "name": "stdout",
          "text": [
            "current loss: [[49.90130989]]\n",
            "running thread  <Thread(Thread-2556, initial)>\n",
            "running thread  <Thread(Thread-2557, initial)>\n",
            "running thread  <Thread(Thread-2558, initial)>\n",
            "running thread  <Thread(Thread-2559, initial)>\n",
            "running thread  <Thread(Thread-2560, initial)>\n",
            "running thread  <Thread(Thread-2561, initial)>\n",
            "running thread  <Thread(Thread-2562, initial)>\n",
            "running thread  <Thread(Thread-2563, initial)>\n",
            "Running minibatch sequential-scan SGD with momentum (8 threads)\n"
          ]
        },
        {
          "output_type": "stream",
          "name": "stderr",
          "text": [
            "100%|██████████| 40/40 [00:02<00:00, 17.02it/s]\n"
          ]
        },
        {
          "output_type": "stream",
          "name": "stdout",
          "text": [
            "current loss: [[43.69432721]]\n",
            "running thread  <Thread(Thread-2564, initial)>\n",
            "running thread  <Thread(Thread-2565, initial)>\n",
            "running thread  <Thread(Thread-2566, initial)>\n",
            "running thread  <Thread(Thread-2567, initial)>\n",
            "running thread  <Thread(Thread-2568, initial)>\n",
            "running thread  <Thread(Thread-2569, initial)>\n",
            "running thread  <Thread(Thread-2570, initial)>\n",
            "running thread  <Thread(Thread-2571, initial)>\n",
            "Running minibatch sequential-scan SGD with momentum (8 threads)\n"
          ]
        },
        {
          "output_type": "stream",
          "name": "stderr",
          "text": [
            "100%|██████████| 40/40 [00:02<00:00, 17.08it/s]\n"
          ]
        },
        {
          "output_type": "stream",
          "name": "stdout",
          "text": [
            "current loss: [[5.42241506e+245]]\n",
            "running thread  <Thread(Thread-2572, initial)>\n",
            "running thread  <Thread(Thread-2573, initial)>\n",
            "running thread  <Thread(Thread-2574, initial)>\n",
            "running thread  <Thread(Thread-2575, initial)>\n",
            "running thread  <Thread(Thread-2576, initial)>\n",
            "running thread  <Thread(Thread-2577, initial)>\n",
            "running thread  <Thread(Thread-2578, initial)>\n",
            "running thread  <Thread(Thread-2579, initial)>\n",
            "Running minibatch sequential-scan SGD with momentum (8 threads)\n"
          ]
        },
        {
          "output_type": "stream",
          "name": "stderr",
          "text": [
            "100%|██████████| 40/40 [00:02<00:00, 16.49it/s]\n"
          ]
        },
        {
          "output_type": "stream",
          "name": "stdout",
          "text": [
            "current loss: [[nan]]\n",
            "running thread  <Thread(Thread-2580, initial)>\n",
            "running thread  <Thread(Thread-2581, initial)>\n",
            "running thread  <Thread(Thread-2582, initial)>\n",
            "running thread  <Thread(Thread-2583, initial)>\n",
            "running thread  <Thread(Thread-2584, initial)>\n",
            "running thread  <Thread(Thread-2585, initial)>\n",
            "running thread  <Thread(Thread-2586, initial)>\n",
            "running thread  <Thread(Thread-2587, initial)>\n",
            "Running minibatch sequential-scan SGD with momentum (8 threads)\n"
          ]
        },
        {
          "output_type": "stream",
          "name": "stderr",
          "text": [
            "100%|██████████| 40/40 [00:02<00:00, 14.34it/s]\n"
          ]
        },
        {
          "output_type": "stream",
          "name": "stdout",
          "text": [
            "current loss: [[49.80750998]]\n",
            "running thread  <Thread(Thread-2588, initial)>\n",
            "running thread  <Thread(Thread-2589, initial)>\n",
            "running thread  <Thread(Thread-2590, initial)>\n",
            "running thread  <Thread(Thread-2591, initial)>\n",
            "running thread  <Thread(Thread-2592, initial)>\n",
            "running thread  <Thread(Thread-2593, initial)>\n",
            "running thread  <Thread(Thread-2594, initial)>\n",
            "running thread  <Thread(Thread-2595, initial)>\n",
            "Running minibatch sequential-scan SGD with momentum (8 threads)\n"
          ]
        },
        {
          "output_type": "stream",
          "name": "stderr",
          "text": [
            "100%|██████████| 40/40 [00:03<00:00, 12.63it/s]\n"
          ]
        },
        {
          "output_type": "stream",
          "name": "stdout",
          "text": [
            "current loss: [[5.78101462e+32]]\n",
            "running thread  <Thread(Thread-2596, initial)>\n",
            "running thread  <Thread(Thread-2597, initial)>\n",
            "running thread  <Thread(Thread-2598, initial)>\n",
            "running thread  <Thread(Thread-2599, initial)>\n",
            "running thread  <Thread(Thread-2600, initial)>\n",
            "running thread  <Thread(Thread-2601, initial)>\n",
            "running thread  <Thread(Thread-2602, initial)>\n",
            "running thread  <Thread(Thread-2603, initial)>\n",
            "Running minibatch sequential-scan SGD with momentum (8 threads)\n"
          ]
        },
        {
          "output_type": "stream",
          "name": "stderr",
          "text": [
            "100%|██████████| 40/40 [00:02<00:00, 16.40it/s]\n"
          ]
        },
        {
          "output_type": "stream",
          "name": "stdout",
          "text": [
            "current loss: [[1.18122655e+60]]\n",
            "running thread  <Thread(Thread-2604, initial)>\n",
            "running thread  <Thread(Thread-2605, initial)>\n",
            "running thread  <Thread(Thread-2606, initial)>\n",
            "running thread  <Thread(Thread-2607, initial)>\n",
            "running thread  <Thread(Thread-2608, initial)>\n",
            "running thread  <Thread(Thread-2609, initial)>\n",
            "running thread  <Thread(Thread-2610, initial)>\n",
            "running thread  <Thread(Thread-2611, initial)>\n",
            "Running minibatch sequential-scan SGD with momentum (8 threads)\n"
          ]
        },
        {
          "output_type": "stream",
          "name": "stderr",
          "text": [
            "100%|██████████| 40/40 [00:02<00:00, 16.33it/s]\n"
          ]
        },
        {
          "output_type": "stream",
          "name": "stdout",
          "text": [
            "current loss: [[7.45880754e+88]]\n",
            "running thread  <Thread(Thread-2612, initial)>\n",
            "running thread  <Thread(Thread-2613, initial)>\n",
            "running thread  <Thread(Thread-2614, initial)>\n",
            "running thread  <Thread(Thread-2615, initial)>\n",
            "running thread  <Thread(Thread-2616, initial)>\n",
            "running thread  <Thread(Thread-2617, initial)>\n",
            "running thread  <Thread(Thread-2618, initial)>\n",
            "running thread  <Thread(Thread-2619, initial)>\n",
            "Running minibatch sequential-scan SGD with momentum (8 threads)\n"
          ]
        },
        {
          "output_type": "stream",
          "name": "stderr",
          "text": [
            "100%|██████████| 40/40 [00:02<00:00, 16.87it/s]\n"
          ]
        },
        {
          "output_type": "stream",
          "name": "stdout",
          "text": [
            "current loss: [[nan]]\n",
            "running thread  <Thread(Thread-2620, initial)>\n",
            "running thread  <Thread(Thread-2621, initial)>\n",
            "running thread  <Thread(Thread-2622, initial)>\n",
            "running thread  <Thread(Thread-2623, initial)>\n",
            "running thread  <Thread(Thread-2624, initial)>\n",
            "running thread  <Thread(Thread-2625, initial)>\n",
            "running thread  <Thread(Thread-2626, initial)>\n",
            "running thread  <Thread(Thread-2627, initial)>\n",
            "Running minibatch sequential-scan SGD with momentum (8 threads)\n"
          ]
        },
        {
          "output_type": "stream",
          "name": "stderr",
          "text": [
            "100%|██████████| 40/40 [00:02<00:00, 15.65it/s]\n"
          ]
        },
        {
          "output_type": "stream",
          "name": "stdout",
          "text": [
            "current loss: [[1.30717389e+290]]\n",
            "running thread  <Thread(Thread-2628, initial)>\n",
            "running thread  <Thread(Thread-2629, initial)>\n",
            "running thread  <Thread(Thread-2630, initial)>\n",
            "running thread  <Thread(Thread-2631, initial)>\n",
            "running thread  <Thread(Thread-2632, initial)>\n",
            "running thread  <Thread(Thread-2633, initial)>\n",
            "running thread  <Thread(Thread-2634, initial)>\n",
            "running thread  <Thread(Thread-2635, initial)>\n",
            "Running minibatch sequential-scan SGD with momentum (8 threads)\n"
          ]
        },
        {
          "output_type": "stream",
          "name": "stderr",
          "text": [
            "100%|██████████| 40/40 [00:03<00:00, 13.08it/s]\n"
          ]
        },
        {
          "output_type": "stream",
          "name": "stdout",
          "text": [
            "current loss: [[1.26040173e+186]]\n",
            "running thread  <Thread(Thread-2636, initial)>\n",
            "running thread  <Thread(Thread-2637, initial)>\n",
            "running thread  <Thread(Thread-2638, initial)>\n",
            "running thread  <Thread(Thread-2639, initial)>\n",
            "running thread  <Thread(Thread-2640, initial)>\n",
            "running thread  <Thread(Thread-2641, initial)>\n",
            "running thread  <Thread(Thread-2642, initial)>\n",
            "running thread  <Thread(Thread-2643, initial)>\n",
            "Running minibatch sequential-scan SGD with momentum (8 threads)\n"
          ]
        },
        {
          "output_type": "stream",
          "name": "stderr",
          "text": [
            "100%|██████████| 40/40 [00:02<00:00, 15.01it/s]\n"
          ]
        },
        {
          "output_type": "stream",
          "name": "stdout",
          "text": [
            "current loss: [[nan]]\n",
            "running thread  <Thread(Thread-2644, initial)>\n",
            "running thread  <Thread(Thread-2645, initial)>\n",
            "running thread  <Thread(Thread-2646, initial)>\n",
            "running thread  <Thread(Thread-2647, initial)>\n",
            "running thread  <Thread(Thread-2648, initial)>\n",
            "running thread  <Thread(Thread-2649, initial)>\n",
            "running thread  <Thread(Thread-2650, initial)>\n",
            "running thread  <Thread(Thread-2651, initial)>\n",
            "Running minibatch sequential-scan SGD with momentum (8 threads)\n"
          ]
        },
        {
          "output_type": "stream",
          "name": "stderr",
          "text": [
            "100%|██████████| 40/40 [00:02<00:00, 15.74it/s]\n"
          ]
        },
        {
          "output_type": "stream",
          "name": "stdout",
          "text": [
            "current loss: [[1.27784336e+141]]\n",
            "running thread  <Thread(Thread-2652, initial)>\n",
            "running thread  <Thread(Thread-2653, initial)>\n",
            "running thread  <Thread(Thread-2654, initial)>\n",
            "running thread  <Thread(Thread-2655, initial)>\n",
            "running thread  <Thread(Thread-2656, initial)>\n",
            "running thread  <Thread(Thread-2657, initial)>\n",
            "running thread  <Thread(Thread-2658, initial)>\n",
            "running thread  <Thread(Thread-2659, initial)>\n",
            "Running minibatch sequential-scan SGD with momentum (8 threads)\n"
          ]
        },
        {
          "output_type": "stream",
          "name": "stderr",
          "text": [
            "100%|██████████| 40/40 [00:02<00:00, 16.94it/s]\n"
          ]
        },
        {
          "output_type": "stream",
          "name": "stdout",
          "text": [
            "current loss: [[nan]]\n",
            "running thread  <Thread(Thread-2660, initial)>\n",
            "running thread  <Thread(Thread-2661, initial)>\n",
            "running thread  <Thread(Thread-2662, initial)>\n",
            "running thread  <Thread(Thread-2663, initial)>\n",
            "running thread  <Thread(Thread-2664, initial)>\n",
            "running thread  <Thread(Thread-2665, initial)>\n",
            "running thread  <Thread(Thread-2666, initial)>\n",
            "running thread  <Thread(Thread-2667, initial)>\n",
            "Running minibatch sequential-scan SGD with momentum (8 threads)\n"
          ]
        },
        {
          "output_type": "stream",
          "name": "stderr",
          "text": [
            "100%|██████████| 40/40 [00:02<00:00, 16.96it/s]\n"
          ]
        },
        {
          "output_type": "stream",
          "name": "stdout",
          "text": [
            "current loss: [[44.92500207]]\n",
            "running thread  <Thread(Thread-2668, initial)>\n",
            "running thread  <Thread(Thread-2669, initial)>\n",
            "running thread  <Thread(Thread-2670, initial)>\n",
            "running thread  <Thread(Thread-2671, initial)>\n",
            "running thread  <Thread(Thread-2672, initial)>\n",
            "running thread  <Thread(Thread-2673, initial)>\n",
            "running thread  <Thread(Thread-2674, initial)>\n",
            "running thread  <Thread(Thread-2675, initial)>\n",
            "Running minibatch sequential-scan SGD with momentum (8 threads)\n"
          ]
        },
        {
          "output_type": "stream",
          "name": "stderr",
          "text": [
            "100%|██████████| 40/40 [00:02<00:00, 13.58it/s]\n"
          ]
        },
        {
          "output_type": "stream",
          "name": "stdout",
          "text": [
            "current loss: [[nan]]\n",
            "running thread  <Thread(Thread-2676, initial)>\n",
            "running thread  <Thread(Thread-2677, initial)>\n",
            "running thread  <Thread(Thread-2678, initial)>\n",
            "running thread  <Thread(Thread-2679, initial)>\n",
            "running thread  <Thread(Thread-2680, initial)>\n",
            "running thread  <Thread(Thread-2681, initial)>\n",
            "running thread  <Thread(Thread-2682, initial)>\n",
            "running thread  <Thread(Thread-2683, initial)>\n",
            "Running minibatch sequential-scan SGD with momentum (8 threads)\n"
          ]
        },
        {
          "output_type": "stream",
          "name": "stderr",
          "text": [
            "100%|██████████| 40/40 [00:03<00:00, 12.82it/s]\n"
          ]
        },
        {
          "output_type": "stream",
          "name": "stdout",
          "text": [
            "current loss: [[6.03121015e+50]]\n",
            "running thread  <Thread(Thread-2684, initial)>\n",
            "running thread  <Thread(Thread-2685, initial)>\n",
            "running thread  <Thread(Thread-2686, initial)>\n",
            "running thread  <Thread(Thread-2687, initial)>\n",
            "running thread  <Thread(Thread-2688, initial)>\n",
            "running thread  <Thread(Thread-2689, initial)>\n",
            "running thread  <Thread(Thread-2690, initial)>\n",
            "running thread  <Thread(Thread-2691, initial)>\n",
            "Running minibatch sequential-scan SGD with momentum (8 threads)\n"
          ]
        },
        {
          "output_type": "stream",
          "name": "stderr",
          "text": [
            "100%|██████████| 40/40 [00:02<00:00, 16.26it/s]\n"
          ]
        },
        {
          "output_type": "stream",
          "name": "stdout",
          "text": [
            "current loss: [[5.54556371e+88]]\n",
            "running thread  <Thread(Thread-2692, initial)>\n",
            "running thread  <Thread(Thread-2693, initial)>\n",
            "running thread  <Thread(Thread-2694, initial)>\n",
            "running thread  <Thread(Thread-2695, initial)>\n",
            "running thread  <Thread(Thread-2696, initial)>\n",
            "running thread  <Thread(Thread-2697, initial)>\n",
            "running thread  <Thread(Thread-2698, initial)>\n",
            "running thread  <Thread(Thread-2699, initial)>\n",
            "Running minibatch sequential-scan SGD with momentum (8 threads)\n"
          ]
        },
        {
          "output_type": "stream",
          "name": "stderr",
          "text": [
            "100%|██████████| 40/40 [00:02<00:00, 16.56it/s]\n"
          ]
        },
        {
          "output_type": "stream",
          "name": "stdout",
          "text": [
            "current loss: [[1.08601012e+246]]\n",
            "running thread  <Thread(Thread-2700, initial)>\n",
            "running thread  <Thread(Thread-2701, initial)>\n",
            "running thread  <Thread(Thread-2702, initial)>\n",
            "running thread  <Thread(Thread-2703, initial)>\n",
            "running thread  <Thread(Thread-2704, initial)>\n",
            "running thread  <Thread(Thread-2705, initial)>\n",
            "running thread  <Thread(Thread-2706, initial)>\n",
            "running thread  <Thread(Thread-2707, initial)>\n",
            "Running minibatch sequential-scan SGD with momentum (8 threads)\n"
          ]
        },
        {
          "output_type": "stream",
          "name": "stderr",
          "text": [
            "100%|██████████| 40/40 [00:02<00:00, 16.50it/s]\n"
          ]
        },
        {
          "output_type": "stream",
          "name": "stdout",
          "text": [
            "current loss: [[49.90130989]]\n",
            "running thread  <Thread(Thread-2708, initial)>\n",
            "running thread  <Thread(Thread-2709, initial)>\n",
            "running thread  <Thread(Thread-2710, initial)>\n",
            "running thread  <Thread(Thread-2711, initial)>\n",
            "running thread  <Thread(Thread-2712, initial)>\n",
            "running thread  <Thread(Thread-2713, initial)>\n",
            "running thread  <Thread(Thread-2714, initial)>\n",
            "running thread  <Thread(Thread-2715, initial)>\n",
            "Running minibatch sequential-scan SGD with momentum (8 threads)\n"
          ]
        },
        {
          "output_type": "stream",
          "name": "stderr",
          "text": [
            "100%|██████████| 40/40 [00:02<00:00, 14.88it/s]\n"
          ]
        },
        {
          "output_type": "stream",
          "name": "stdout",
          "text": [
            "current loss: [[4.14504651e+154]]\n",
            "running thread  <Thread(Thread-2716, initial)>\n",
            "running thread  <Thread(Thread-2717, initial)>\n",
            "running thread  <Thread(Thread-2718, initial)>\n",
            "running thread  <Thread(Thread-2719, initial)>\n",
            "running thread  <Thread(Thread-2720, initial)>\n",
            "running thread  <Thread(Thread-2721, initial)>\n",
            "running thread  <Thread(Thread-2722, initial)>\n",
            "running thread  <Thread(Thread-2723, initial)>\n",
            "Running minibatch sequential-scan SGD with momentum (8 threads)\n"
          ]
        },
        {
          "output_type": "stream",
          "name": "stderr",
          "text": [
            "100%|██████████| 40/40 [00:03<00:00, 12.76it/s]\n"
          ]
        },
        {
          "output_type": "stream",
          "name": "stdout",
          "text": [
            "current loss: [[1.33240494e+151]]\n",
            "running thread  <Thread(Thread-2724, initial)>\n",
            "running thread  <Thread(Thread-2725, initial)>\n",
            "running thread  <Thread(Thread-2726, initial)>\n",
            "running thread  <Thread(Thread-2727, initial)>\n",
            "running thread  <Thread(Thread-2728, initial)>\n",
            "running thread  <Thread(Thread-2729, initial)>\n",
            "running thread  <Thread(Thread-2730, initial)>\n",
            "running thread  <Thread(Thread-2731, initial)>\n",
            "Running minibatch sequential-scan SGD with momentum (8 threads)\n"
          ]
        },
        {
          "output_type": "stream",
          "name": "stderr",
          "text": [
            "100%|██████████| 40/40 [00:02<00:00, 14.41it/s]\n"
          ]
        },
        {
          "output_type": "stream",
          "name": "stdout",
          "text": [
            "current loss: [[49.90130989]]\n",
            "running thread  <Thread(Thread-2732, initial)>\n",
            "running thread  <Thread(Thread-2733, initial)>\n",
            "running thread  <Thread(Thread-2734, initial)>\n",
            "running thread  <Thread(Thread-2735, initial)>\n",
            "running thread  <Thread(Thread-2736, initial)>\n",
            "running thread  <Thread(Thread-2737, initial)>\n",
            "running thread  <Thread(Thread-2738, initial)>\n",
            "running thread  <Thread(Thread-2739, initial)>\n",
            "Running minibatch sequential-scan SGD with momentum (8 threads)\n"
          ]
        },
        {
          "output_type": "stream",
          "name": "stderr",
          "text": [
            "100%|██████████| 40/40 [00:02<00:00, 16.29it/s]\n"
          ]
        },
        {
          "output_type": "stream",
          "name": "stdout",
          "text": [
            "current loss: [[1.73500139e+76]]\n",
            "running thread  <Thread(Thread-2740, initial)>\n",
            "running thread  <Thread(Thread-2741, initial)>\n",
            "running thread  <Thread(Thread-2742, initial)>\n",
            "running thread  <Thread(Thread-2743, initial)>\n",
            "running thread  <Thread(Thread-2744, initial)>\n",
            "running thread  <Thread(Thread-2745, initial)>\n",
            "running thread  <Thread(Thread-2746, initial)>\n",
            "running thread  <Thread(Thread-2747, initial)>\n",
            "Running minibatch sequential-scan SGD with momentum (8 threads)\n"
          ]
        },
        {
          "output_type": "stream",
          "name": "stderr",
          "text": [
            "100%|██████████| 40/40 [00:02<00:00, 16.17it/s]\n"
          ]
        },
        {
          "output_type": "stream",
          "name": "stdout",
          "text": [
            "current loss: [[3.33500175e+194]]\n",
            "running thread  <Thread(Thread-2748, initial)>\n",
            "running thread  <Thread(Thread-2749, initial)>\n",
            "running thread  <Thread(Thread-2750, initial)>\n",
            "running thread  <Thread(Thread-2751, initial)>\n",
            "running thread  <Thread(Thread-2752, initial)>\n",
            "running thread  <Thread(Thread-2753, initial)>\n",
            "running thread  <Thread(Thread-2754, initial)>\n",
            "running thread  <Thread(Thread-2755, initial)>\n",
            "Running minibatch sequential-scan SGD with momentum (8 threads)\n"
          ]
        },
        {
          "output_type": "stream",
          "name": "stderr",
          "text": [
            "100%|██████████| 40/40 [00:02<00:00, 16.62it/s]\n"
          ]
        },
        {
          "output_type": "stream",
          "name": "stdout",
          "text": [
            "current loss: [[4.2311124e+145]]\n",
            "running thread  <Thread(Thread-2756, initial)>\n",
            "running thread  <Thread(Thread-2757, initial)>\n",
            "running thread  <Thread(Thread-2758, initial)>\n",
            "running thread  <Thread(Thread-2759, initial)>\n",
            "running thread  <Thread(Thread-2760, initial)>\n",
            "running thread  <Thread(Thread-2761, initial)>\n",
            "running thread  <Thread(Thread-2762, initial)>\n",
            "running thread  <Thread(Thread-2763, initial)>\n",
            "Running minibatch sequential-scan SGD with momentum (8 threads)\n"
          ]
        },
        {
          "output_type": "stream",
          "name": "stderr",
          "text": [
            "100%|██████████| 40/40 [00:03<00:00, 12.40it/s]\n"
          ]
        },
        {
          "output_type": "stream",
          "name": "stdout",
          "text": [
            "current loss: [[2.75771984e+123]]\n",
            "running thread  <Thread(Thread-2764, initial)>\n",
            "running thread  <Thread(Thread-2765, initial)>\n",
            "running thread  <Thread(Thread-2766, initial)>\n",
            "running thread  <Thread(Thread-2767, initial)>\n",
            "running thread  <Thread(Thread-2768, initial)>\n",
            "running thread  <Thread(Thread-2769, initial)>\n",
            "running thread  <Thread(Thread-2770, initial)>\n",
            "running thread  <Thread(Thread-2771, initial)>\n",
            "Running minibatch sequential-scan SGD with momentum (8 threads)\n"
          ]
        },
        {
          "output_type": "stream",
          "name": "stderr",
          "text": [
            "100%|██████████| 40/40 [00:02<00:00, 13.44it/s]"
          ]
        },
        {
          "output_type": "stream",
          "name": "stdout",
          "text": [
            "current loss: [[nan]]\n",
            "5319271672313898.0\n",
            "tensor([-1.0303,  0.3383,  1.0145])\n",
            "tensor([5.3257e+15, 5.3257e+15, 5.3257e+15, 5.3257e+15, 5.3257e+15, 5.3257e+15,\n",
            "        5.3257e+15, 5.3257e+15, 5.3257e+15, 5.3257e+15, 5.3257e+15, 5.3257e+15,\n",
            "        5.3257e+15, 5.3257e+15, 5.3257e+15, 5.3257e+15, 5.3257e+15, 5.3193e+15,\n",
            "        5.3257e+15, 5.3257e+15])\n",
            "tensor([[ 1.0000e-04,  1.0000e-04,  1.0000e-04, -1.3602e+00,  6.2964e-01,\n",
            "          8.4174e-01, -2.5236e-01,  6.0525e-01,  1.7894e+00,  6.1155e-02,\n",
            "          8.5220e-01, -1.7842e+00, -7.3041e-01,  1.1160e+00,  3.7798e-01,\n",
            "         -2.0286e+00, -5.3640e-01, -1.0303e+00, -5.8221e-02, -4.2254e-01],\n",
            "        [ 1.0000e-03,  1.0000e-03,  1.0000e-03,  6.7530e-01,  5.9039e-01,\n",
            "          5.6459e-01,  1.2596e+00,  6.7088e-01,  1.4162e+00,  9.2197e-01,\n",
            "          3.4475e-01,  7.6778e-01,  1.6476e+00,  2.6488e+00,  1.0802e+00,\n",
            "          1.9088e+00,  9.4263e-01,  3.3829e-01,  5.0835e-01,  2.4066e-01],\n",
            "        [ 9.0000e-01,  9.0000e-01,  9.0000e-01,  1.3761e-01,  5.5836e-01,\n",
            "          4.9805e-01, -7.3674e-02, -7.3447e-02, -8.5557e-01, -1.5571e-01,\n",
            "          7.1745e-01,  3.8683e-01, -9.5480e-01, -2.7508e-01,  1.6820e-01,\n",
            "         -5.2787e-01, -9.5558e-01,  1.0145e+00,  7.9967e-01,  8.6967e-01]])\n"
          ]
        },
        {
          "output_type": "stream",
          "name": "stderr",
          "text": [
            "\n"
          ]
        }
      ]
    },
    {
      "cell_type": "code",
      "source": [
        "# customized hyperparameter tryout\n",
        "W1, W2 =\\\n",
        "nn_sgd_mss_with_momentum_threaded(Xs=Xs_tr, Ys=Ys_tr, gamma=0.0001, W10=W10, W20=W20, alpha=0.001, beta=0.9, B=8, num_epochs=200, num_threads=8)"
      ],
      "metadata": {
        "colab": {
          "base_uri": "https://localhost:8080/"
        },
        "id": "C7Tdr5sCh8dI",
        "outputId": "75f3c179-4690-415c-fb87-f7c3462b991b"
      },
      "execution_count": 43,
      "outputs": [
        {
          "output_type": "stream",
          "name": "stdout",
          "text": [
            "running thread  <Thread(Thread-2772, initial)>\n",
            "running thread  <Thread(Thread-2773, initial)>\n",
            "running thread  <Thread(Thread-2774, initial)>\n",
            "running thread  <Thread(Thread-2775, initial)>\n",
            "running thread  <Thread(Thread-2776, initial)>\n",
            "running thread  <Thread(Thread-2777, initial)>\n",
            "running thread  <Thread(Thread-2778, initial)>\n",
            "running thread  <Thread(Thread-2779, initial)>\n",
            "Running minibatch sequential-scan SGD with momentum (8 threads)\n"
          ]
        },
        {
          "output_type": "stream",
          "name": "stderr",
          "text": [
            "100%|██████████| 200/200 [00:12<00:00, 16.16it/s]"
          ]
        },
        {
          "output_type": "stream",
          "name": "stdout",
          "text": [
            "current loss: [[49.42656076]]\n"
          ]
        },
        {
          "output_type": "stream",
          "name": "stderr",
          "text": [
            "\n"
          ]
        }
      ]
    },
    {
      "cell_type": "code",
      "source": [
        "W1 @ np.array([Receipt_Count[j] for j in range(364, 364 - day_range, -1)], dtype=float).reshape(30,)"
      ],
      "metadata": {
        "colab": {
          "base_uri": "https://localhost:8080/"
        },
        "id": "mPexSY6muy3B",
        "outputId": "c8ee6d2d-3b71-4543-f095-c079bd583b80"
      },
      "execution_count": 48,
      "outputs": [
        {
          "output_type": "execute_result",
          "data": {
            "text/plain": [
              "array([-90983.71200771, -90983.71200771, -90983.71200771, -90983.71200771,\n",
              "       -90983.71200771])"
            ]
          },
          "metadata": {},
          "execution_count": 48
        }
      ]
    },
    {
      "cell_type": "code",
      "source": [
        "# use the model to predict the approximate number of the scanned receipts for each day of 2022\n",
        "q = deque()\n",
        "warm_up = [Receipt_Count[j] for j in range(364, 364 - day_range, -1)]\n",
        "for count in warm_up:\n",
        "    q.append(count)\n",
        "predictions = []\n",
        "for _ in range(365):\n",
        "    X = np.array(q, dtype=float).reshape(30,)\n",
        "    predictions.append(((W2 @ sigmoid(W1 @ (X - mean) / std)) * std + mean).item())\n",
        "    q.popleft()\n",
        "    q.append(predictions[-1])\n",
        "# calculate the predicted number of the scanned receipts for each month of 2022\n",
        "df = pandas.DataFrame()\n",
        "df.index = pandas.date_range(start='1/1/2022', end='12/31/2022')\n",
        "df[\"count\"] = predictions\n",
        "monthSum = df.groupby(df.index.month).sum()"
      ],
      "metadata": {
        "id": "QQAVAE8qmQxJ"
      },
      "execution_count": 49,
      "outputs": []
    },
    {
      "cell_type": "code",
      "source": [
        "df # predicted data"
      ],
      "metadata": {
        "colab": {
          "base_uri": "https://localhost:8080/",
          "height": 424
        },
        "id": "i_0Rx3bMox2A",
        "outputId": "8bf3bb8d-bbc3-4d30-e038-742933f69d89"
      },
      "execution_count": 50,
      "outputs": [
        {
          "output_type": "execute_result",
          "data": {
            "text/plain": [
              "                   count\n",
              "2022-01-01  8.871687e+06\n",
              "2022-01-02  8.873233e+06\n",
              "2022-01-03  8.872166e+06\n",
              "2022-01-04  8.871940e+06\n",
              "2022-01-05  8.872501e+06\n",
              "...                  ...\n",
              "2022-12-27  8.872248e+06\n",
              "2022-12-28  8.872248e+06\n",
              "2022-12-29  8.872248e+06\n",
              "2022-12-30  8.872248e+06\n",
              "2022-12-31  8.872248e+06\n",
              "\n",
              "[365 rows x 1 columns]"
            ],
            "text/html": [
              "\n",
              "  <div id=\"df-f19f7690-803e-49af-b142-764405a5e26a\">\n",
              "    <div class=\"colab-df-container\">\n",
              "      <div>\n",
              "<style scoped>\n",
              "    .dataframe tbody tr th:only-of-type {\n",
              "        vertical-align: middle;\n",
              "    }\n",
              "\n",
              "    .dataframe tbody tr th {\n",
              "        vertical-align: top;\n",
              "    }\n",
              "\n",
              "    .dataframe thead th {\n",
              "        text-align: right;\n",
              "    }\n",
              "</style>\n",
              "<table border=\"1\" class=\"dataframe\">\n",
              "  <thead>\n",
              "    <tr style=\"text-align: right;\">\n",
              "      <th></th>\n",
              "      <th>count</th>\n",
              "    </tr>\n",
              "  </thead>\n",
              "  <tbody>\n",
              "    <tr>\n",
              "      <th>2022-01-01</th>\n",
              "      <td>8.871687e+06</td>\n",
              "    </tr>\n",
              "    <tr>\n",
              "      <th>2022-01-02</th>\n",
              "      <td>8.873233e+06</td>\n",
              "    </tr>\n",
              "    <tr>\n",
              "      <th>2022-01-03</th>\n",
              "      <td>8.872166e+06</td>\n",
              "    </tr>\n",
              "    <tr>\n",
              "      <th>2022-01-04</th>\n",
              "      <td>8.871940e+06</td>\n",
              "    </tr>\n",
              "    <tr>\n",
              "      <th>2022-01-05</th>\n",
              "      <td>8.872501e+06</td>\n",
              "    </tr>\n",
              "    <tr>\n",
              "      <th>...</th>\n",
              "      <td>...</td>\n",
              "    </tr>\n",
              "    <tr>\n",
              "      <th>2022-12-27</th>\n",
              "      <td>8.872248e+06</td>\n",
              "    </tr>\n",
              "    <tr>\n",
              "      <th>2022-12-28</th>\n",
              "      <td>8.872248e+06</td>\n",
              "    </tr>\n",
              "    <tr>\n",
              "      <th>2022-12-29</th>\n",
              "      <td>8.872248e+06</td>\n",
              "    </tr>\n",
              "    <tr>\n",
              "      <th>2022-12-30</th>\n",
              "      <td>8.872248e+06</td>\n",
              "    </tr>\n",
              "    <tr>\n",
              "      <th>2022-12-31</th>\n",
              "      <td>8.872248e+06</td>\n",
              "    </tr>\n",
              "  </tbody>\n",
              "</table>\n",
              "<p>365 rows × 1 columns</p>\n",
              "</div>\n",
              "      <button class=\"colab-df-convert\" onclick=\"convertToInteractive('df-f19f7690-803e-49af-b142-764405a5e26a')\"\n",
              "              title=\"Convert this dataframe to an interactive table.\"\n",
              "              style=\"display:none;\">\n",
              "        \n",
              "  <svg xmlns=\"http://www.w3.org/2000/svg\" height=\"24px\"viewBox=\"0 0 24 24\"\n",
              "       width=\"24px\">\n",
              "    <path d=\"M0 0h24v24H0V0z\" fill=\"none\"/>\n",
              "    <path d=\"M18.56 5.44l.94 2.06.94-2.06 2.06-.94-2.06-.94-.94-2.06-.94 2.06-2.06.94zm-11 1L8.5 8.5l.94-2.06 2.06-.94-2.06-.94L8.5 2.5l-.94 2.06-2.06.94zm10 10l.94 2.06.94-2.06 2.06-.94-2.06-.94-.94-2.06-.94 2.06-2.06.94z\"/><path d=\"M17.41 7.96l-1.37-1.37c-.4-.4-.92-.59-1.43-.59-.52 0-1.04.2-1.43.59L10.3 9.45l-7.72 7.72c-.78.78-.78 2.05 0 2.83L4 21.41c.39.39.9.59 1.41.59.51 0 1.02-.2 1.41-.59l7.78-7.78 2.81-2.81c.8-.78.8-2.07 0-2.86zM5.41 20L4 18.59l7.72-7.72 1.47 1.35L5.41 20z\"/>\n",
              "  </svg>\n",
              "      </button>\n",
              "      \n",
              "  <style>\n",
              "    .colab-df-container {\n",
              "      display:flex;\n",
              "      flex-wrap:wrap;\n",
              "      gap: 12px;\n",
              "    }\n",
              "\n",
              "    .colab-df-convert {\n",
              "      background-color: #E8F0FE;\n",
              "      border: none;\n",
              "      border-radius: 50%;\n",
              "      cursor: pointer;\n",
              "      display: none;\n",
              "      fill: #1967D2;\n",
              "      height: 32px;\n",
              "      padding: 0 0 0 0;\n",
              "      width: 32px;\n",
              "    }\n",
              "\n",
              "    .colab-df-convert:hover {\n",
              "      background-color: #E2EBFA;\n",
              "      box-shadow: 0px 1px 2px rgba(60, 64, 67, 0.3), 0px 1px 3px 1px rgba(60, 64, 67, 0.15);\n",
              "      fill: #174EA6;\n",
              "    }\n",
              "\n",
              "    [theme=dark] .colab-df-convert {\n",
              "      background-color: #3B4455;\n",
              "      fill: #D2E3FC;\n",
              "    }\n",
              "\n",
              "    [theme=dark] .colab-df-convert:hover {\n",
              "      background-color: #434B5C;\n",
              "      box-shadow: 0px 1px 3px 1px rgba(0, 0, 0, 0.15);\n",
              "      filter: drop-shadow(0px 1px 2px rgba(0, 0, 0, 0.3));\n",
              "      fill: #FFFFFF;\n",
              "    }\n",
              "  </style>\n",
              "\n",
              "      <script>\n",
              "        const buttonEl =\n",
              "          document.querySelector('#df-f19f7690-803e-49af-b142-764405a5e26a button.colab-df-convert');\n",
              "        buttonEl.style.display =\n",
              "          google.colab.kernel.accessAllowed ? 'block' : 'none';\n",
              "\n",
              "        async function convertToInteractive(key) {\n",
              "          const element = document.querySelector('#df-f19f7690-803e-49af-b142-764405a5e26a');\n",
              "          const dataTable =\n",
              "            await google.colab.kernel.invokeFunction('convertToInteractive',\n",
              "                                                     [key], {});\n",
              "          if (!dataTable) return;\n",
              "\n",
              "          const docLinkHtml = 'Like what you see? Visit the ' +\n",
              "            '<a target=\"_blank\" href=https://colab.research.google.com/notebooks/data_table.ipynb>data table notebook</a>'\n",
              "            + ' to learn more about interactive tables.';\n",
              "          element.innerHTML = '';\n",
              "          dataTable['output_type'] = 'display_data';\n",
              "          await google.colab.output.renderOutput(dataTable, element);\n",
              "          const docLink = document.createElement('div');\n",
              "          docLink.innerHTML = docLinkHtml;\n",
              "          element.appendChild(docLink);\n",
              "        }\n",
              "      </script>\n",
              "    </div>\n",
              "  </div>\n",
              "  "
            ]
          },
          "metadata": {},
          "execution_count": 50
        }
      ]
    }
  ]
}