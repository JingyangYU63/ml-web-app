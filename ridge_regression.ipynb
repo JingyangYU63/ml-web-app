{
  "nbformat": 4,
  "nbformat_minor": 0,
  "metadata": {
    "colab": {
      "provenance": []
    },
    "kernelspec": {
      "name": "python3",
      "display_name": "Python 3"
    },
    "language_info": {
      "name": "python"
    }
  },
  "cells": [
    {
      "cell_type": "code",
      "execution_count": 1,
      "metadata": {
        "id": "sT3riRf7-cKa"
      },
      "outputs": [],
      "source": [
        "#!/usr/bin/env python3\n",
        "import os\n",
        "import sys\n",
        "\n",
        "# BEGIN THREAD SETTINGS this sets the number of threads used by numpy in the program\n",
        "# (should be set to 1 to avoid implicit parallelism)\n",
        "implicit_num_threads = 1\n",
        "os.environ[\"OMP_NUM_THREADS\"] = str(implicit_num_threads)\n",
        "os.environ[\"MKL_NUM_THREADS\"] = str(implicit_num_threads)\n",
        "os.environ[\"OPENBLAS_NUM_THREADS\"] = str(implicit_num_threads)\n",
        "# END THREAD SETTINGS\n",
        "\n",
        "import numpy\n",
        "import torch\n",
        "from numpy import random\n",
        "import matplotlib\n",
        "import pickle\n",
        "matplotlib.use('agg')\n",
        "from matplotlib import pyplot as plt\n",
        "import threading\n",
        "import time\n",
        "import pandas\n",
        "from collections import deque\n",
        "\n",
        "from tqdm import tqdm\n",
        "from google.colab import files, drive"
      ]
    },
    {
      "cell_type": "code",
      "source": [
        "drive.mount('/content/gdrive')"
      ],
      "metadata": {
        "id": "EDcgzIq3ICeM",
        "colab": {
          "base_uri": "https://localhost:8080/"
        },
        "outputId": "32d2f4a1-03c4-419b-f643-6236ef0c5280"
      },
      "execution_count": 2,
      "outputs": [
        {
          "output_type": "stream",
          "name": "stdout",
          "text": [
            "Mounted at /content/gdrive\n"
          ]
        }
      ]
    },
    {
      "cell_type": "code",
      "source": [
        "path = \"/content/gdrive/MyDrive/data_daily.csv\"\n",
        "# reading the CSV file\n",
        "csvFile = pandas.read_csv(path)\n",
        " \n",
        "# displaying the contents of the CSV file\n",
        "print(csvFile)"
      ],
      "metadata": {
        "colab": {
          "base_uri": "https://localhost:8080/"
        },
        "id": "kTwlHyVtJBJL",
        "outputId": "39249103-ef07-429e-ff48-6e536b3ba485"
      },
      "execution_count": 3,
      "outputs": [
        {
          "output_type": "stream",
          "name": "stdout",
          "text": [
            "         # Date  Receipt_Count\n",
            "0    2021-01-01        7564766\n",
            "1    2021-01-02        7455524\n",
            "2    2021-01-03        7095414\n",
            "3    2021-01-04        7666163\n",
            "4    2021-01-05        7771289\n",
            "..          ...            ...\n",
            "360  2021-12-27       10350408\n",
            "361  2021-12-28       10219445\n",
            "362  2021-12-29       10313337\n",
            "363  2021-12-30       10310644\n",
            "364  2021-12-31       10211187\n",
            "\n",
            "[365 rows x 2 columns]\n"
          ]
        }
      ]
    },
    {
      "cell_type": "code",
      "source": [
        "def train_test_split(Xs, Ys, test_size, random_state):\n",
        "    random.seed(random_state)\n",
        "    random.shuffle(Xs)\n",
        "    random.shuffle(Ys)\n",
        "    test_set_size = int(test_size * len(Ys))\n",
        "    Xs_tr, Xs_va, Ys_tr, Ys_va = Xs[test_set_size:], Xs[:test_set_size], Ys[test_set_size:], Ys[:test_set_size]\n",
        "    return Xs_tr, Xs_va, Ys_tr, Ys_va"
      ],
      "metadata": {
        "id": "bzDcpiCRkXx8"
      },
      "execution_count": 10,
      "outputs": []
    },
    {
      "cell_type": "code",
      "source": [
        "# setting the days ahead range for predicting the approximate number of the scanned receipts for a future day\n",
        "day_range = 30 # using the data from day 0 to day 29 to predict day 30\n",
        "\n",
        "# constructing features and target variables\n",
        "Receipt_Count = csvFile[\"Receipt_Count\"].array.to_numpy()\n",
        "Xs = [[Receipt_Count[j] for j in range(i, i + day_range)] for i in range(335)]\n",
        "Ys = Receipt_Count[day_range:]\n",
        "assert len(Xs) == len(Ys)\n",
        "# perform train-validation (0.8 vs 0.2) split\n",
        "Xs_tr, Xs_va, Ys_tr, Ys_va = train_test_split(Xs, \n",
        "                                              Ys, \n",
        "                                              test_size = 0.2, \n",
        "                                              random_state = 123)"
      ],
      "metadata": {
        "id": "nOKAc780JeUh"
      },
      "execution_count": 11,
      "outputs": []
    },
    {
      "cell_type": "code",
      "source": [
        "# normalization of input data\n",
        "mean = numpy.mean(Receipt_Count)\n",
        "std = numpy.std(Receipt_Count)\n",
        "Xs_tr = numpy.array(Xs_tr, dtype=float).reshape(day_range, -1)\n",
        "Xs_va = numpy.array(Xs_va, dtype=float).reshape(day_range, -1)\n",
        "Ys_tr = numpy.array(Ys_tr, dtype=float).reshape(1, -1)\n",
        "Ys_va = numpy.array(Ys_va, dtype=float).reshape(1, -1)\n",
        "Xs_tr = (Xs_tr - mean) / std\n",
        "Ys_tr = (Ys_tr - mean) / std\n",
        "Xs_tr = (Xs_va - mean) / std\n",
        "Ys_tr = (Ys_va - mean) / std\n",
        "receipts_dataset = (Xs_tr, Xs_va, Ys_tr, Ys_va)\n",
        "print(Xs_tr.shape, Xs_va.shape, Ys_tr.shape, Ys_va.shape)"
      ],
      "metadata": {
        "colab": {
          "base_uri": "https://localhost:8080/"
        },
        "id": "AR4GnAXHM_f6",
        "outputId": "6bb507d1-cc74-48aa-cab8-d0dd8c844800"
      },
      "execution_count": 273,
      "outputs": [
        {
          "output_type": "stream",
          "name": "stdout",
          "text": [
            "(30, 67) (30, 67) (1, 67) (1, 67)\n"
          ]
        }
      ]
    },
    {
      "cell_type": "code",
      "source": [
        "# weight matrix initialization\n",
        "W0 = numpy.zeros((len(Ys_tr), len(Xs_tr)))\n",
        "print(W0.shape)"
      ],
      "metadata": {
        "colab": {
          "base_uri": "https://localhost:8080/"
        },
        "id": "UIO0M4wHNxZr",
        "outputId": "396c2bfa-d588-4e61-87fd-54d3cc7e9969"
      },
      "execution_count": 274,
      "outputs": [
        {
          "output_type": "stream",
          "name": "stdout",
          "text": [
            "(1, 30)\n"
          ]
        }
      ]
    },
    {
      "cell_type": "code",
      "source": [
        "# SGD + Momentum (threaded) for Ridge Regression\n",
        "#\n",
        "# Xs              training examples (d * n)\n",
        "# Ys              training labels   (c * n)\n",
        "# gamma           L2 regularization constant\n",
        "# W0              the initial value of the parameters (c * d)\n",
        "# alpha           step size/learning rate\n",
        "# beta            momentum hyperparameter\n",
        "# B               minibatch size\n",
        "# num_epochs      number of epochs (passes through the training set) to run\n",
        "# monitor_period  how frequently, in terms of batches (not epochs) to output the parameter vector\n",
        "# num_threads     how many threads to use\n",
        "#\n",
        "# returns         the final model arrived at at the end of training\n",
        "def ridge_sgd_mss_with_momentum_threaded(Xs, Ys, gamma, W0, alpha, beta, B, num_epochs, num_threads):\n",
        "    (d, n) = Xs.shape\n",
        "    (c, d) = W0.shape\n",
        "    # perform global setup/initialization/allocation\n",
        "    V = numpy.zeros(W0.shape)\n",
        "    W = numpy.copy(W0)\n",
        "    gradient = numpy.zeros(W0.shape)\n",
        "    Bt = int(B / num_threads)\n",
        "\n",
        "    # construct the barrier object\n",
        "    iter_barrier = threading.Barrier(num_threads + 1)\n",
        "\n",
        "    # a function for each thread to run\n",
        "    def thread_main(ithread):\n",
        "        # perform any per-thread allocations\n",
        "        # avoid memory allocation in the running of program by pre-allocating memories ahead\n",
        "        XdotX = numpy.zeros((d, d))\n",
        "        WdotXdotX = numpy.zeros(W0.shape)\n",
        "        YdotX = numpy.zeros(W0.shape)\n",
        "        gammaW = numpy.zeros(W0.shape)\n",
        "        multinomial_logreg_grad_i = numpy.zeros(W0.shape)\n",
        "\n",
        "        slices_X = []\n",
        "        slices_Y = []\n",
        "        for ibatch in range(int(n/B)):\n",
        "            ii = range(ibatch*B + ithread*Bt, ibatch*B + (ithread+1)*Bt)\n",
        "            slices_X.append(numpy.ascontiguousarray(Xs[:,ii]))\n",
        "            slices_Y.append(numpy.ascontiguousarray(Ys[:,ii]))\n",
        "        # gradint calculation (uses only pre-allocated memories to improve performance of SGD)\n",
        "        for it in range(num_epochs):\n",
        "            for ibatch in range(int(n/B)):\n",
        "                # work done by thread in each iteration;\n",
        "                # this section of code primarily uses numpy operations with the \"out=\" argument specified\n",
        "                numpy.dot(slices_X[ibatch], numpy.transpose(slices_X[ibatch]), out=XdotX)\n",
        "                numpy.dot(W, XdotX, out=WdotXdotX)\n",
        "                numpy.dot(slices_Y[ibatch], numpy.transpose(slices_X[ibatch]), out=YdotX)\n",
        "                numpy.multiply(gamma, W, out=gammaW)\n",
        "                numpy.subtract(WdotXdotX, YdotX, out=multinomial_logreg_grad_i)\n",
        "                numpy.add(multinomial_logreg_grad_i, gammaW, out=multinomial_logreg_grad_i)\n",
        "                \n",
        "                iter_barrier.wait() # wait for all threads to finish computation before moving up to next step\n",
        "                numpy.add(gradient, multinomial_logreg_grad_i, out=gradient)\n",
        "                \n",
        "                iter_barrier.wait()\n",
        "\n",
        "    worker_threads = [threading.Thread(target=thread_main, args=(it,)) for it in range(num_threads)]\n",
        "\n",
        "    for t in worker_threads:\n",
        "        print(\"running thread \", t)\n",
        "        t.start()\n",
        "\n",
        "    print(\"Running minibatch sequential-scan SGD with momentum (%d threads)\" % num_threads)\n",
        "    # gradient & momentum update:\n",
        "    # v <- beta * v - alpha * gradient\n",
        "    # w <- w + v\n",
        "    for it in tqdm(range(num_epochs)):\n",
        "        for ibatch in range(int(n/B)):\n",
        "            numpy.multiply(gradient, 0, out=gradient)\n",
        "            iter_barrier.wait()\n",
        "            # work done on a single thread at each iteration;\n",
        "            # this section of code primarily uses numpy operations with the \"out=\" argument specified\n",
        "            numpy.divide(gradient, B, out=gradient)\n",
        "            numpy.multiply(beta, V, out=V)\n",
        "            numpy.multiply(alpha, gradient, out=gradient)\n",
        "            numpy.subtract(V, gradient, out=V)\n",
        "            numpy.add(W, V, out=W)\n",
        "            iter_barrier.wait()\n",
        "\n",
        "    for t in worker_threads:\n",
        "        t.join()\n",
        "\n",
        "    print(\"current loss: \" + str((W @ Xs - Ys) @ (W @ Xs - Ys).T + gamma * W @ W.T)) # report current loss\n",
        "    # return the learned model\n",
        "    return W"
      ],
      "metadata": {
        "id": "86_6_COO-6tA"
      },
      "execution_count": 275,
      "outputs": []
    },
    {
      "cell_type": "code",
      "source": [
        "# customized hyperparameter tryout\n",
        "sgd_mss_with_momentum_threaded(Xs=Xs_tr, Ys=Ys_tr, gamma=0.0001, W0=W0, alpha=0.001, beta=0.9, B=8, num_epochs=200, num_threads=8)"
      ],
      "metadata": {
        "id": "VTKYS303H8-_",
        "colab": {
          "base_uri": "https://localhost:8080/"
        },
        "outputId": "67fdd9f9-9f56-4a2b-db73-4d19513b78a2"
      },
      "execution_count": 276,
      "outputs": [
        {
          "output_type": "stream",
          "name": "stdout",
          "text": [
            "running thread  <Thread(Thread-7785, initial)>\n",
            "running thread  <Thread(Thread-7786, initial)>\n",
            "running thread  <Thread(Thread-7787, initial)>\n",
            "running thread  <Thread(Thread-7788, initial)>\n",
            "running thread  <Thread(Thread-7789, initial)>\n",
            "running thread  <Thread(Thread-7790, initial)>\n",
            "running thread  <Thread(Thread-7791, initial)>\n",
            "running thread  <Thread(Thread-7792, initial)>\n",
            "Running minibatch sequential-scan SGD with momentum (8 threads)\n"
          ]
        },
        {
          "output_type": "stream",
          "name": "stderr",
          "text": [
            "100%|██████████| 200/200 [00:01<00:00, 114.38it/s]"
          ]
        },
        {
          "output_type": "stream",
          "name": "stdout",
          "text": [
            "current loss: [[37.16977821]]\n"
          ]
        },
        {
          "output_type": "stream",
          "name": "stderr",
          "text": [
            "\n"
          ]
        },
        {
          "output_type": "execute_result",
          "data": {
            "text/plain": [
              "array([[ 0.03756048,  0.12881889,  0.04096173,  0.25722494,  0.01240086,\n",
              "        -0.11211072, -0.25063236,  0.15831235,  0.39259807,  0.24949661,\n",
              "         0.13850566,  0.0515872 , -0.22609018, -0.02822651,  0.31771422,\n",
              "         0.17147773,  0.20633168, -0.10351718,  0.09662696,  0.20787569,\n",
              "         0.12132945, -0.12545416, -0.15158585, -0.06173128, -0.05760427,\n",
              "         0.13556961,  0.0443049 ,  0.2185531 , -0.27029242, -0.11574262]])"
            ]
          },
          "metadata": {},
          "execution_count": 276
        }
      ]
    },
    {
      "cell_type": "code",
      "source": [
        "# gradient descent to do the inner optimization step of Bayesian optimization\n",
        "#\n",
        "# objective     the objective function to minimize, as a function that takes a torch tensor and returns an expression\n",
        "# x0            initial value to assign to variable (torch tensor)\n",
        "# alpha         learning rate/step size\n",
        "# num_iters     number of iterations of gradient descent\n",
        "#\n",
        "# returns     (obj_min, x_min), where\n",
        "#       obj_min     the value of the objective after running iterations of gradient descent\n",
        "#       x_min       the value of x after running iterations of gradient descent\n",
        "def gradient_descent(objective, x0, alpha, num_iters):\n",
        "    x = x0.detach().clone()  # create a fresh copy of x0\n",
        "    x.requires_grad = True   # make it a target for differentiation\n",
        "    opt = torch.optim.SGD([x], alpha)\n",
        "    for it in range(num_iters):\n",
        "        opt.zero_grad()\n",
        "        f = objective(x)\n",
        "        f.backward()\n",
        "        opt.step()\n",
        "    x.requires_grad = False  # make x no longer require gradients\n",
        "    return (float(f.item()), x)"
      ],
      "metadata": {
        "id": "CtBgHt8kKpiM"
      },
      "execution_count": 161,
      "outputs": []
    },
    {
      "cell_type": "code",
      "source": [
        "# compute the Gaussian RBF kernel matrix for a vector of data points (in PyTorch)\n",
        "#\n",
        "# Xs        points at which to compute the kernel (size: d x m)\n",
        "# Zs        other points at which to compute the kernel (size: d x n)\n",
        "# gamma     gamma parameter for the RBF kernel\n",
        "#\n",
        "# returns   an (m x n) matrix Sigma where Sigma[i,j] = K(Xs[:,i], Zs[:,j])\n",
        "def rbf_kernel_matrix(Xs, Zs, gamma):\n",
        "    m = Xs.shape[1] if len(Xs.shape) > 1 else 1\n",
        "    n = Zs.shape[1] if len(Zs.shape) > 1 else 1\n",
        "    sigma = [[torch.exp(-gamma * torch.linalg.norm(Xs[:, i] - Zs[:, j])**2) for j in range(n)] for i in range(m)]\n",
        "    sigma = torch.tensor(sigma)\n",
        "    return sigma"
      ],
      "metadata": {
        "id": "qetRl40bK0xH"
      },
      "execution_count": 277,
      "outputs": []
    },
    {
      "cell_type": "code",
      "source": [
        "# compute the distribution predicted by a Gaussian process that uses an RBF kernel (in PyTorch)\n",
        "#\n",
        "# Xs            points at which to compute the kernel (size: d x n) where d is the number of parameters\n",
        "# Ys            observed value at those points (size: n)\n",
        "# gamma         gamma parameter for the RBF kernel\n",
        "# sigma2_noise  the variance sigma^2 of the additive gaussian noise used in the model\n",
        "#\n",
        "# returns   a function that takes a value Xtest (size: d) and returns a tuple (mean, variance)\n",
        "def gp_prediction(Xs, Ys, gamma, sigma2_noise):\n",
        "    # first, do any work that can be shared among predictions\n",
        "    sigma = rbf_kernel_matrix(Xs, Xs, gamma)\n",
        "    n = Xs.shape[1]\n",
        "    # next, define a nested function to return\n",
        "    def prediction_mean_and_variance(Xtest):\n",
        "        # construct mean and variance\n",
        "        k = [torch.exp(-gamma * torch.linalg.norm(Xs[:, i] - Xtest)) for i in range(n)]\n",
        "        k = torch.tensor(k)\n",
        "        \n",
        "        mean = k @ torch.linalg.inv(sigma + sigma2_noise * torch.eye(n)) @ Ys\n",
        "        variance = torch.exp(-gamma * torch.linalg.norm(Xtest - Xtest)) + sigma2_noise -\\\n",
        "        k @ torch.linalg.inv(sigma + sigma2_noise * torch.eye(n)) @ k.T\n",
        "        return (mean.reshape(()), variance.reshape(()))\n",
        "    #finally, return the nested function\n",
        "    return prediction_mean_and_variance"
      ],
      "metadata": {
        "id": "ZI-LRSDSKq9h"
      },
      "execution_count": 278,
      "outputs": []
    },
    {
      "cell_type": "code",
      "source": [
        "# run Bayesian optimization to minimize an objective\n",
        "#\n",
        "# objective     objective function; takes a torch tensor, returns a python float scalar\n",
        "# d             dimension to optimize over\n",
        "# gamma         gamma to use for RBF hyper-hyperparameter\n",
        "# sigma2_noise  additive Gaussian noise parameter for Gaussian Process\n",
        "# acquisition   acquisition function to use (e.g. ei_acquisition)\n",
        "# random_x      function that returns a random sample of the parameter we're optimizing over (a torch tensor, e.g. for use in warmup)\n",
        "# gd_nruns      number of random initializations we should use for gradient descent for the inner optimization step\n",
        "# gd_alpha      learning rate for gradient descent\n",
        "# gd_niters     number of iterations for gradient descent\n",
        "# n_warmup      number of initial warmup evaluations of the objective to use\n",
        "# num_iters     number of outer iterations of Bayes optimization to run (including warmup)\n",
        "#\n",
        "# returns       tuple of (y_best, x_best, Ys, Xs), where\n",
        "#   y_best          objective value of best point found\n",
        "#   x_best          best point found\n",
        "#   Ys              vector of objective values for all points searched (size: num_iters)\n",
        "#   Xs              matrix of all points searched (size: d x num_iters)\n",
        "def bayes_opt(objective, d, gamma, sigma2_noise, acquisition, random_x, gd_nruns, gd_alpha, gd_niters, n_warmup, num_iters):\n",
        "    y_best = float(\"inf\")\n",
        "    x_best = torch.zeros(size=(d,))\n",
        "    Xs = []\n",
        "    Ys = []\n",
        "    # warm-up to prepare prior information for Bayesian Optimization\n",
        "    for _ in range(n_warmup):\n",
        "        x_i = torch.tensor([0.0001, 0.001, 0.9])\n",
        "        y_i = objective(x_i)\n",
        "        Xs.append(x_i)\n",
        "        Ys.append(y_i)\n",
        "        if y_i <= y_best:\n",
        "            y_best = y_i\n",
        "            x_best = x_i\n",
        "    for _ in range(n_warmup, num_iters):\n",
        "        Xs_vec = torch.stack(tensors=Xs, dim=1)\n",
        "        Ys_vec = torch.tensor(Ys)\n",
        "        prediction_fn =  gp_prediction(Xs_vec, Ys_vec, gamma, sigma2_noise)\n",
        "        y = float(\"inf\")\n",
        "        x = torch.zeros(size=(d,))\n",
        "        for _ in range(gd_nruns):\n",
        "            x_0 = random_x(size=(d,))\n",
        "            _, x_i = gradient_descent(objective=lambda x: acquisition(y_best, prediction_fn(x)[0], torch.sqrt(prediction_fn(x)[1])),\\\n",
        "                x0=x_0, alpha=gd_alpha, num_iters=gd_niters)\n",
        "            y_i = objective(x_i)\n",
        "            if y_i <= y:\n",
        "                y = y_i\n",
        "                x = x_i\n",
        "        Xs.append(x)\n",
        "        Ys.append(y)\n",
        "        if y <= y_best:\n",
        "            y_best = y\n",
        "            x_best = x\n",
        "    Xs_vec = torch.stack(tensors=Xs, dim=1)\n",
        "    Ys_vec = torch.tensor(Ys)\n",
        "    return y_best, x_best, Ys_vec, Xs_vec"
      ],
      "metadata": {
        "id": "KjEu4npsN5oc"
      },
      "execution_count": 279,
      "outputs": []
    },
    {
      "cell_type": "code",
      "source": [
        "# return a function that computes the lower confidence bound (LCB) acquisition function\n",
        "#\n",
        "# kappa     parameter for LCB\n",
        "#\n",
        "# returns   function that computes the LCB acquisition function\n",
        "def lcb_acquisition(kappa):\n",
        "    def A_lcb(Ybest, mean, stdev):\n",
        "        return mean - kappa * stdev\n",
        "    return A_lcb"
      ],
      "metadata": {
        "id": "wM-7GR3uKjuj"
      },
      "execution_count": 280,
      "outputs": []
    },
    {
      "cell_type": "code",
      "source": [
        "# produce a function that runs SGD+Momentum on the receipts dataset, initializing the weights to zero\n",
        "#\n",
        "# mnist_dataset         the MNIST dataset, as returned by load_MNIST_dataset_with_validation_split\n",
        "# num_epochs            number of epochs to run for\n",
        "# B                     the batch size\n",
        "#\n",
        "# returns               a function that takes parameters\n",
        "#   params                  a numpy vector of shape (3,) with entries that determine the hyperparameters, where\n",
        "#       gamma = params[0]\n",
        "#       alpha = params[1]\n",
        "#       beta = params[2]\n",
        "#                       and returns (the validation error of the final trained model after all the epochs) minus 0.9.\n",
        "#                       if training diverged (i.e. any of the weights are non-finite) then return 0.1, which corresponds to an error of 1.\n",
        "def receipts_dataset_sgd_mss_with_momentum(receipts_dataset, B, num_epochs, num_threads):\n",
        "    def objective(params):\n",
        "        Xs_tr, Xs_va, Ys_tr, Ys_va = receipts_dataset\n",
        "        d = Xs_tr.shape[0]\n",
        "        c = Ys_tr.shape[0]\n",
        "        if torch.is_tensor(Xs_tr):\n",
        "            Xs_tr = Xs_tr.numpy()\n",
        "        if torch.is_tensor(Ys_tr):\n",
        "            Ys_tr = Ys_tr.numpy()\n",
        "        if torch.is_tensor(Xs_va):\n",
        "            Xs_va = Xs_va.numpy()\n",
        "        if torch.is_tensor(Ys_va):\n",
        "            Ys_va = Ys_va.numpy()\n",
        "        gamma, alpha, beta, W_0 = float(params[0].item()), float(params[1].item()), float(params[2].item()), numpy.zeros(shape=(c,d))\n",
        "        W = sgd_mss_with_momentum_threaded(Xs=Xs_tr, Ys=Ys_tr, gamma=gamma, W0=W0, alpha=alpha, beta=beta,\\\n",
        "                                           B=B, num_epochs=num_epochs, num_threads=num_threads)\n",
        "        Ys_pr = W @ Xs_va\n",
        "        error = (numpy.sum((Ys_va - Ys_pr)**2) / numpy.sum((numpy.mean(Ys_va) - Ys_va)**2)) # use 1 - R^2 as error to select hyperparameters\n",
        "        return float(error)\n",
        "    return objective"
      ],
      "metadata": {
        "id": "QVF-K9JeMHTN"
      },
      "execution_count": 286,
      "outputs": []
    },
    {
      "cell_type": "code",
      "source": [
        "# perform Bayesian Optimization to find optimal hyperparameters\n",
        "obj = receipts_dataset_sgd_mss_with_momentum(receipts_dataset, B=8, num_epochs=40, num_threads=8)\n",
        "(y_best, x_best, Ys_vec, Xs_vec) = bayes_opt(objective=obj, d=3, gamma=10, sigma2_noise=0.001, acquisition=lcb_acquisition(kappa=2.0),\\\n",
        "                                     random_x=torch.randn, gd_nruns=20, gd_alpha=0.01, gd_niters=20, n_warmup=3, num_iters=20)\n",
        "print(y_best) # best R^2 score\n",
        "print(x_best) # best hyperparameter set\n",
        "print(Ys_vec) # R^2 score history\n",
        "print(Xs_vec) # hyperparameter set history"
      ],
      "metadata": {
        "colab": {
          "base_uri": "https://localhost:8080/"
        },
        "id": "oSvTrEtZLFDW",
        "outputId": "758dd9b7-0a7b-4799-8c43-fb05681ec8c5"
      },
      "execution_count": 287,
      "outputs": [
        {
          "output_type": "stream",
          "name": "stdout",
          "text": [
            "running thread  <Thread(Thread-13289, initial)>\n",
            "running thread  <Thread(Thread-13290, initial)>\n",
            "running thread  <Thread(Thread-13291, initial)>\n",
            "running thread  <Thread(Thread-13292, initial)>\n",
            "running thread  <Thread(Thread-13293, initial)>\n",
            "running thread  <Thread(Thread-13294, initial)>\n",
            "running thread  <Thread(Thread-13295, initial)>\n",
            "running thread  <Thread(Thread-13296, initial)>\n",
            "Running minibatch sequential-scan SGD with momentum (8 threads)\n"
          ]
        },
        {
          "output_type": "stream",
          "name": "stderr",
          "text": [
            "100%|██████████| 40/40 [00:00<00:00, 96.85it/s]\n"
          ]
        },
        {
          "output_type": "stream",
          "name": "stdout",
          "text": [
            "current loss: [[46.81227667]]\n",
            "running thread  <Thread(Thread-13297, initial)>\n",
            "running thread  <Thread(Thread-13298, initial)>\n",
            "running thread  <Thread(Thread-13299, initial)>\n",
            "running thread  <Thread(Thread-13300, initial)>\n",
            "running thread  <Thread(Thread-13301, initial)>\n",
            "running thread  <Thread(Thread-13302, initial)>\n",
            "running thread  <Thread(Thread-13303, initial)>\n",
            "running thread  <Thread(Thread-13304, initial)>\n",
            "Running minibatch sequential-scan SGD with momentum (8 threads)\n"
          ]
        },
        {
          "output_type": "stream",
          "name": "stderr",
          "text": [
            "100%|██████████| 40/40 [00:00<00:00, 118.15it/s]\n"
          ]
        },
        {
          "output_type": "stream",
          "name": "stdout",
          "text": [
            "current loss: [[48.52777061]]\n",
            "running thread  <Thread(Thread-13305, initial)>\n",
            "running thread  <Thread(Thread-13306, initial)>\n",
            "running thread  <Thread(Thread-13307, initial)>\n",
            "running thread  <Thread(Thread-13308, initial)>\n",
            "running thread  <Thread(Thread-13309, initial)>\n",
            "running thread  <Thread(Thread-13310, initial)>\n",
            "running thread  <Thread(Thread-13311, initial)>\n",
            "running thread  <Thread(Thread-13312, initial)>\n",
            "Running minibatch sequential-scan SGD with momentum (8 threads)\n"
          ]
        },
        {
          "output_type": "stream",
          "name": "stderr",
          "text": [
            "100%|██████████| 40/40 [00:00<00:00, 108.54it/s]\n"
          ]
        },
        {
          "output_type": "stream",
          "name": "stdout",
          "text": [
            "current loss: [[46.23667966]]\n",
            "running thread  <Thread(Thread-13313, initial)>\n",
            "running thread  <Thread(Thread-13314, initial)>\n",
            "running thread  <Thread(Thread-13315, initial)>\n",
            "running thread  <Thread(Thread-13316, initial)>\n",
            "running thread  <Thread(Thread-13317, initial)>\n",
            "running thread  <Thread(Thread-13318, initial)>\n",
            "running thread  <Thread(Thread-13319, initial)>\n",
            "running thread  <Thread(Thread-13320, initial)>\n",
            "Running minibatch sequential-scan SGD with momentum (8 threads)\n"
          ]
        },
        {
          "output_type": "stream",
          "name": "stderr",
          "text": [
            "100%|██████████| 40/40 [00:00<00:00, 112.74it/s]\n",
            "<ipython-input-275-6971b519ab5c>:81: RuntimeWarning: overflow encountered in matmul\n",
            "  print(\"current loss: \" + str((W @ Xs - Ys) @ (W @ Xs - Ys).T + gamma * W @ W.T)) # report current loss\n",
            "<ipython-input-275-6971b519ab5c>:81: RuntimeWarning: invalid value encountered in add\n",
            "  print(\"current loss: \" + str((W @ Xs - Ys) @ (W @ Xs - Ys).T + gamma * W @ W.T)) # report current loss\n",
            "<ipython-input-286-031cdcdfd2ab>:31: RuntimeWarning: overflow encountered in square\n",
            "  error = (numpy.sum((Ys_va - Ys_pr)**2) / numpy.sum((numpy.mean(Ys_va) - Ys_va)**2)) # use 1 - R^2 as error to select hyperparameters\n"
          ]
        },
        {
          "output_type": "stream",
          "name": "stdout",
          "text": [
            "current loss: [[nan]]\n",
            "running thread  <Thread(Thread-13321, initial)>\n",
            "running thread  <Thread(Thread-13322, initial)>\n",
            "running thread  <Thread(Thread-13323, initial)>\n",
            "running thread  <Thread(Thread-13324, initial)>\n",
            "running thread  <Thread(Thread-13325, initial)>\n",
            "running thread  <Thread(Thread-13326, initial)>\n",
            "running thread  <Thread(Thread-13327, initial)>\n",
            "running thread  <Thread(Thread-13328, initial)>\n",
            "Running minibatch sequential-scan SGD with momentum (8 threads)\n"
          ]
        },
        {
          "output_type": "stream",
          "name": "stderr",
          "text": [
            "100%|██████████| 40/40 [00:00<00:00, 112.57it/s]\n"
          ]
        },
        {
          "output_type": "stream",
          "name": "stdout",
          "text": [
            "current loss: [[4.19915757e+108]]\n",
            "running thread  <Thread(Thread-13329, initial)>\n",
            "running thread  <Thread(Thread-13330, initial)>\n",
            "running thread  <Thread(Thread-13331, initial)>\n",
            "running thread  <Thread(Thread-13332, initial)>\n",
            "running thread  <Thread(Thread-13333, initial)>\n",
            "running thread  <Thread(Thread-13334, initial)>\n",
            "running thread  <Thread(Thread-13335, initial)>\n",
            "running thread  <Thread(Thread-13336, initial)>\n",
            "Running minibatch sequential-scan SGD with momentum (8 threads)\n"
          ]
        },
        {
          "output_type": "stream",
          "name": "stderr",
          "text": [
            "100%|██████████| 40/40 [00:00<00:00, 101.21it/s]\n"
          ]
        },
        {
          "output_type": "stream",
          "name": "stdout",
          "text": [
            "current loss: [[inf]]\n",
            "running thread  <Thread(Thread-13337, initial)>\n",
            "running thread  <Thread(Thread-13338, initial)>\n",
            "running thread  <Thread(Thread-13339, initial)>\n",
            "running thread  <Thread(Thread-13340, initial)>\n",
            "running thread  <Thread(Thread-13341, initial)>\n",
            "running thread  <Thread(Thread-13342, initial)>\n",
            "running thread  <Thread(Thread-13343, initial)>\n",
            "running thread  <Thread(Thread-13344, initial)>\n",
            "Running minibatch sequential-scan SGD with momentum (8 threads)\n"
          ]
        },
        {
          "output_type": "stream",
          "name": "stderr",
          "text": [
            "100%|██████████| 40/40 [00:00<00:00, 116.38it/s]\n"
          ]
        },
        {
          "output_type": "stream",
          "name": "stdout",
          "text": [
            "current loss: [[inf]]\n",
            "running thread  <Thread(Thread-13345, initial)>\n",
            "running thread  <Thread(Thread-13346, initial)>\n",
            "running thread  <Thread(Thread-13347, initial)>\n",
            "running thread  <Thread(Thread-13348, initial)>\n",
            "running thread  <Thread(Thread-13349, initial)>\n",
            "running thread  <Thread(Thread-13350, initial)>\n",
            "running thread  <Thread(Thread-13351, initial)>\n",
            "running thread  <Thread(Thread-13352, initial)>\n",
            "Running minibatch sequential-scan SGD with momentum (8 threads)\n"
          ]
        },
        {
          "output_type": "stream",
          "name": "stderr",
          "text": [
            "100%|██████████| 40/40 [00:00<00:00, 119.69it/s]\n"
          ]
        },
        {
          "output_type": "stream",
          "name": "stdout",
          "text": [
            "current loss: [[2.02158371e+131]]\n",
            "running thread  <Thread(Thread-13353, initial)>\n",
            "running thread  <Thread(Thread-13354, initial)>\n",
            "running thread  <Thread(Thread-13355, initial)>\n",
            "running thread  <Thread(Thread-13356, initial)>\n",
            "running thread  <Thread(Thread-13357, initial)>\n",
            "running thread  <Thread(Thread-13358, initial)>\n",
            "running thread  <Thread(Thread-13359, initial)>\n",
            "running thread  <Thread(Thread-13360, initial)>\n",
            "Running minibatch sequential-scan SGD with momentum (8 threads)\n"
          ]
        },
        {
          "output_type": "stream",
          "name": "stderr",
          "text": [
            "100%|██████████| 40/40 [00:00<00:00, 103.41it/s]\n"
          ]
        },
        {
          "output_type": "stream",
          "name": "stdout",
          "text": [
            "current loss: [[nan]]\n",
            "running thread  <Thread(Thread-13361, initial)>\n",
            "running thread  <Thread(Thread-13362, initial)>\n",
            "running thread  <Thread(Thread-13363, initial)>\n",
            "running thread  <Thread(Thread-13364, initial)>\n",
            "running thread  <Thread(Thread-13365, initial)>\n",
            "running thread  <Thread(Thread-13366, initial)>\n",
            "running thread  <Thread(Thread-13367, initial)>\n",
            "running thread  <Thread(Thread-13368, initial)>\n",
            "Running minibatch sequential-scan SGD with momentum (8 threads)\n"
          ]
        },
        {
          "output_type": "stream",
          "name": "stderr",
          "text": [
            "100%|██████████| 40/40 [00:00<00:00, 107.26it/s]\n"
          ]
        },
        {
          "output_type": "stream",
          "name": "stdout",
          "text": [
            "current loss: [[1.95649057e+291]]\n",
            "running thread  <Thread(Thread-13369, initial)>\n",
            "running thread  <Thread(Thread-13370, initial)>\n",
            "running thread  <Thread(Thread-13371, initial)>\n",
            "running thread  <Thread(Thread-13372, initial)>\n",
            "running thread  <Thread(Thread-13373, initial)>\n",
            "running thread  <Thread(Thread-13374, initial)>\n",
            "running thread  <Thread(Thread-13375, initial)>\n",
            "running thread  <Thread(Thread-13376, initial)>\n",
            "Running minibatch sequential-scan SGD with momentum (8 threads)\n"
          ]
        },
        {
          "output_type": "stream",
          "name": "stderr",
          "text": [
            "100%|██████████| 40/40 [00:00<00:00, 99.11it/s] \n"
          ]
        },
        {
          "output_type": "stream",
          "name": "stdout",
          "text": [
            "current loss: [[4.98025134e+120]]\n",
            "running thread  <Thread(Thread-13377, initial)>\n",
            "running thread  <Thread(Thread-13378, initial)>\n",
            "running thread  <Thread(Thread-13379, initial)>\n",
            "running thread  <Thread(Thread-13380, initial)>\n",
            "running thread  <Thread(Thread-13381, initial)>\n",
            "running thread  <Thread(Thread-13382, initial)>\n",
            "running thread  <Thread(Thread-13383, initial)>\n",
            "running thread  <Thread(Thread-13384, initial)>\n",
            "Running minibatch sequential-scan SGD with momentum (8 threads)\n"
          ]
        },
        {
          "output_type": "stream",
          "name": "stderr",
          "text": [
            "100%|██████████| 40/40 [00:00<00:00, 105.03it/s]\n"
          ]
        },
        {
          "output_type": "stream",
          "name": "stdout",
          "text": [
            "current loss: [[1.65202974e+111]]\n",
            "running thread  <Thread(Thread-13385, initial)>\n",
            "running thread  <Thread(Thread-13386, initial)>\n",
            "running thread  <Thread(Thread-13387, initial)>\n",
            "running thread  <Thread(Thread-13388, initial)>\n",
            "running thread  <Thread(Thread-13389, initial)>\n",
            "running thread  <Thread(Thread-13390, initial)>\n",
            "running thread  <Thread(Thread-13391, initial)>\n",
            "running thread  <Thread(Thread-13392, initial)>\n",
            "Running minibatch sequential-scan SGD with momentum (8 threads)\n"
          ]
        },
        {
          "output_type": "stream",
          "name": "stderr",
          "text": [
            "100%|██████████| 40/40 [00:00<00:00, 104.17it/s]\n"
          ]
        },
        {
          "output_type": "stream",
          "name": "stdout",
          "text": [
            "current loss: [[3.30006067e+175]]\n",
            "running thread  <Thread(Thread-13393, initial)>\n",
            "running thread  <Thread(Thread-13394, initial)>\n",
            "running thread  <Thread(Thread-13395, initial)>\n",
            "running thread  <Thread(Thread-13396, initial)>\n",
            "running thread  <Thread(Thread-13397, initial)>\n",
            "running thread  <Thread(Thread-13398, initial)>\n",
            "running thread  <Thread(Thread-13399, initial)>\n",
            "running thread  <Thread(Thread-13400, initial)>\n",
            "Running minibatch sequential-scan SGD with momentum (8 threads)\n"
          ]
        },
        {
          "output_type": "stream",
          "name": "stderr",
          "text": [
            "100%|██████████| 40/40 [00:00<00:00, 103.94it/s]\n"
          ]
        },
        {
          "output_type": "stream",
          "name": "stdout",
          "text": [
            "current loss: [[nan]]\n",
            "running thread  <Thread(Thread-13401, initial)>\n",
            "running thread  <Thread(Thread-13402, initial)>\n",
            "running thread  <Thread(Thread-13403, initial)>\n",
            "running thread  <Thread(Thread-13404, initial)>\n",
            "running thread  <Thread(Thread-13405, initial)>\n",
            "running thread  <Thread(Thread-13406, initial)>\n",
            "running thread  <Thread(Thread-13407, initial)>\n",
            "running thread  <Thread(Thread-13408, initial)>\n",
            "Running minibatch sequential-scan SGD with momentum (8 threads)\n"
          ]
        },
        {
          "output_type": "stream",
          "name": "stderr",
          "text": [
            "100%|██████████| 40/40 [00:00<00:00, 112.59it/s]\n"
          ]
        },
        {
          "output_type": "stream",
          "name": "stdout",
          "text": [
            "current loss: [[nan]]\n",
            "running thread  <Thread(Thread-13409, initial)>\n",
            "running thread  <Thread(Thread-13410, initial)>\n",
            "running thread  <Thread(Thread-13411, initial)>\n",
            "running thread  <Thread(Thread-13412, initial)>\n",
            "running thread  <Thread(Thread-13413, initial)>\n",
            "running thread  <Thread(Thread-13414, initial)>\n",
            "running thread  <Thread(Thread-13415, initial)>\n",
            "running thread  <Thread(Thread-13416, initial)>\n",
            "Running minibatch sequential-scan SGD with momentum (8 threads)\n"
          ]
        },
        {
          "output_type": "stream",
          "name": "stderr",
          "text": [
            "100%|██████████| 40/40 [00:00<00:00, 101.28it/s]\n"
          ]
        },
        {
          "output_type": "stream",
          "name": "stdout",
          "text": [
            "current loss: [[inf]]\n",
            "running thread  <Thread(Thread-13417, initial)>\n",
            "running thread  <Thread(Thread-13418, initial)>\n",
            "running thread  <Thread(Thread-13419, initial)>\n",
            "running thread  <Thread(Thread-13420, initial)>\n",
            "running thread  <Thread(Thread-13421, initial)>\n",
            "running thread  <Thread(Thread-13422, initial)>\n",
            "running thread  <Thread(Thread-13423, initial)>\n",
            "running thread  <Thread(Thread-13424, initial)>\n",
            "Running minibatch sequential-scan SGD with momentum (8 threads)\n"
          ]
        },
        {
          "output_type": "stream",
          "name": "stderr",
          "text": [
            "100%|██████████| 40/40 [00:00<00:00, 114.15it/s]\n"
          ]
        },
        {
          "output_type": "stream",
          "name": "stdout",
          "text": [
            "current loss: [[2.12480731e+293]]\n",
            "running thread  <Thread(Thread-13425, initial)>\n",
            "running thread  <Thread(Thread-13426, initial)>\n",
            "running thread  <Thread(Thread-13427, initial)>\n",
            "running thread  <Thread(Thread-13428, initial)>\n",
            "running thread  <Thread(Thread-13429, initial)>\n",
            "running thread  <Thread(Thread-13430, initial)>\n",
            "running thread  <Thread(Thread-13431, initial)>\n",
            "running thread  <Thread(Thread-13432, initial)>\n",
            "Running minibatch sequential-scan SGD with momentum (8 threads)\n"
          ]
        },
        {
          "output_type": "stream",
          "name": "stderr",
          "text": [
            "100%|██████████| 40/40 [00:00<00:00, 99.38it/s]\n"
          ]
        },
        {
          "output_type": "stream",
          "name": "stdout",
          "text": [
            "current loss: [[1.12657782e+176]]\n",
            "running thread  <Thread(Thread-13433, initial)>\n",
            "running thread  <Thread(Thread-13434, initial)>\n",
            "running thread  <Thread(Thread-13435, initial)>\n",
            "running thread  <Thread(Thread-13436, initial)>\n",
            "running thread  <Thread(Thread-13437, initial)>\n",
            "running thread  <Thread(Thread-13438, initial)>\n",
            "running thread  <Thread(Thread-13439, initial)>\n",
            "running thread  <Thread(Thread-13440, initial)>\n",
            "Running minibatch sequential-scan SGD with momentum (8 threads)\n"
          ]
        },
        {
          "output_type": "stream",
          "name": "stderr",
          "text": [
            "100%|██████████| 40/40 [00:00<00:00, 111.94it/s]\n"
          ]
        },
        {
          "output_type": "stream",
          "name": "stdout",
          "text": [
            "current loss: [[3.57876929e+121]]\n",
            "running thread  <Thread(Thread-13441, initial)>\n",
            "running thread  <Thread(Thread-13442, initial)>\n",
            "running thread  <Thread(Thread-13443, initial)>\n",
            "running thread  <Thread(Thread-13444, initial)>\n",
            "running thread  <Thread(Thread-13445, initial)>\n",
            "running thread  <Thread(Thread-13446, initial)>\n",
            "running thread  <Thread(Thread-13447, initial)>\n",
            "running thread  <Thread(Thread-13448, initial)>\n",
            "Running minibatch sequential-scan SGD with momentum (8 threads)\n"
          ]
        },
        {
          "output_type": "stream",
          "name": "stderr",
          "text": [
            "100%|██████████| 40/40 [00:00<00:00, 105.25it/s]\n"
          ]
        },
        {
          "output_type": "stream",
          "name": "stdout",
          "text": [
            "current loss: [[3.7852154e+83]]\n",
            "running thread  <Thread(Thread-13449, initial)>\n",
            "running thread  <Thread(Thread-13450, initial)>\n",
            "running thread  <Thread(Thread-13451, initial)>\n",
            "running thread  <Thread(Thread-13452, initial)>\n",
            "running thread  <Thread(Thread-13453, initial)>\n",
            "running thread  <Thread(Thread-13454, initial)>\n",
            "running thread  <Thread(Thread-13455, initial)>\n",
            "running thread  <Thread(Thread-13456, initial)>\n",
            "Running minibatch sequential-scan SGD with momentum (8 threads)\n"
          ]
        },
        {
          "output_type": "stream",
          "name": "stderr",
          "text": [
            "100%|██████████| 40/40 [00:00<00:00, 105.87it/s]\n"
          ]
        },
        {
          "output_type": "stream",
          "name": "stdout",
          "text": [
            "current loss: [[49.73982632]]\n",
            "running thread  <Thread(Thread-13457, initial)>\n",
            "running thread  <Thread(Thread-13458, initial)>\n",
            "running thread  <Thread(Thread-13459, initial)>\n",
            "running thread  <Thread(Thread-13460, initial)>\n",
            "running thread  <Thread(Thread-13461, initial)>\n",
            "running thread  <Thread(Thread-13462, initial)>\n",
            "running thread  <Thread(Thread-13463, initial)>\n",
            "running thread  <Thread(Thread-13464, initial)>\n",
            "Running minibatch sequential-scan SGD with momentum (8 threads)\n"
          ]
        },
        {
          "output_type": "stream",
          "name": "stderr",
          "text": [
            "100%|██████████| 40/40 [00:00<00:00, 111.07it/s]\n"
          ]
        },
        {
          "output_type": "stream",
          "name": "stdout",
          "text": [
            "current loss: [[3.00215506e+171]]\n",
            "running thread  <Thread(Thread-13465, initial)>\n",
            "running thread  <Thread(Thread-13466, initial)>\n",
            "running thread  <Thread(Thread-13467, initial)>\n",
            "running thread  <Thread(Thread-13468, initial)>\n",
            "running thread  <Thread(Thread-13469, initial)>\n",
            "running thread  <Thread(Thread-13470, initial)>\n",
            "running thread  <Thread(Thread-13471, initial)>\n",
            "running thread  <Thread(Thread-13472, initial)>\n",
            "Running minibatch sequential-scan SGD with momentum (8 threads)\n"
          ]
        },
        {
          "output_type": "stream",
          "name": "stderr",
          "text": [
            "100%|██████████| 40/40 [00:00<00:00, 100.13it/s]\n"
          ]
        },
        {
          "output_type": "stream",
          "name": "stdout",
          "text": [
            "current loss: [[inf]]\n",
            "running thread  <Thread(Thread-13473, initial)>\n",
            "running thread  <Thread(Thread-13474, initial)>\n",
            "running thread  <Thread(Thread-13475, initial)>\n",
            "running thread  <Thread(Thread-13476, initial)>\n",
            "running thread  <Thread(Thread-13477, initial)>\n",
            "running thread  <Thread(Thread-13478, initial)>\n",
            "running thread  <Thread(Thread-13479, initial)>\n",
            "running thread  <Thread(Thread-13480, initial)>\n",
            "Running minibatch sequential-scan SGD with momentum (8 threads)\n"
          ]
        },
        {
          "output_type": "stream",
          "name": "stderr",
          "text": [
            "100%|██████████| 40/40 [00:00<00:00, 111.42it/s]\n"
          ]
        },
        {
          "output_type": "stream",
          "name": "stdout",
          "text": [
            "current loss: [[2.56603748e+122]]\n",
            "running thread  <Thread(Thread-13481, initial)>\n",
            "running thread  <Thread(Thread-13482, initial)>\n",
            "running thread  <Thread(Thread-13483, initial)>\n",
            "running thread  <Thread(Thread-13484, initial)>\n",
            "running thread  <Thread(Thread-13485, initial)>\n",
            "running thread  <Thread(Thread-13486, initial)>\n",
            "running thread  <Thread(Thread-13487, initial)>\n",
            "running thread  <Thread(Thread-13488, initial)>\n",
            "Running minibatch sequential-scan SGD with momentum (8 threads)\n"
          ]
        },
        {
          "output_type": "stream",
          "name": "stderr",
          "text": [
            "100%|██████████| 40/40 [00:00<00:00, 101.56it/s]\n"
          ]
        },
        {
          "output_type": "stream",
          "name": "stdout",
          "text": [
            "current loss: [[inf]]\n",
            "running thread  <Thread(Thread-13489, initial)>\n",
            "running thread  <Thread(Thread-13490, initial)>\n",
            "running thread  <Thread(Thread-13491, initial)>\n",
            "running thread  <Thread(Thread-13492, initial)>\n",
            "running thread  <Thread(Thread-13493, initial)>\n",
            "running thread  <Thread(Thread-13494, initial)>\n",
            "running thread  <Thread(Thread-13495, initial)>\n",
            "running thread  <Thread(Thread-13496, initial)>\n",
            "Running minibatch sequential-scan SGD with momentum (8 threads)\n"
          ]
        },
        {
          "output_type": "stream",
          "name": "stderr",
          "text": [
            "100%|██████████| 40/40 [00:00<00:00, 114.73it/s]\n"
          ]
        },
        {
          "output_type": "stream",
          "name": "stdout",
          "text": [
            "current loss: [[5.07074692e+93]]\n",
            "running thread  <Thread(Thread-13497, initial)>\n",
            "running thread  <Thread(Thread-13498, initial)>\n",
            "running thread  <Thread(Thread-13499, initial)>\n",
            "running thread  <Thread(Thread-13500, initial)>\n",
            "running thread  <Thread(Thread-13501, initial)>\n",
            "running thread  <Thread(Thread-13502, initial)>\n",
            "running thread  <Thread(Thread-13503, initial)>\n",
            "running thread  <Thread(Thread-13504, initial)>\n",
            "Running minibatch sequential-scan SGD with momentum (8 threads)\n"
          ]
        },
        {
          "output_type": "stream",
          "name": "stderr",
          "text": [
            "100%|██████████| 40/40 [00:00<00:00, 106.58it/s]\n"
          ]
        },
        {
          "output_type": "stream",
          "name": "stdout",
          "text": [
            "current loss: [[nan]]\n",
            "running thread  <Thread(Thread-13505, initial)>\n",
            "running thread  <Thread(Thread-13506, initial)>\n",
            "running thread  <Thread(Thread-13507, initial)>\n",
            "running thread  <Thread(Thread-13508, initial)>\n",
            "running thread  <Thread(Thread-13509, initial)>\n",
            "running thread  <Thread(Thread-13510, initial)>\n",
            "running thread  <Thread(Thread-13511, initial)>\n",
            "running thread  <Thread(Thread-13512, initial)>\n",
            "Running minibatch sequential-scan SGD with momentum (8 threads)\n"
          ]
        },
        {
          "output_type": "stream",
          "name": "stderr",
          "text": [
            "100%|██████████| 40/40 [00:00<00:00, 106.88it/s]\n"
          ]
        },
        {
          "output_type": "stream",
          "name": "stdout",
          "text": [
            "current loss: [[7.17483946e+246]]\n",
            "running thread  <Thread(Thread-13513, initial)>\n",
            "running thread  <Thread(Thread-13514, initial)>\n",
            "running thread  <Thread(Thread-13515, initial)>\n",
            "running thread  <Thread(Thread-13516, initial)>\n",
            "running thread  <Thread(Thread-13517, initial)>\n",
            "running thread  <Thread(Thread-13518, initial)>\n",
            "running thread  <Thread(Thread-13519, initial)>\n",
            "running thread  <Thread(Thread-13520, initial)>\n",
            "Running minibatch sequential-scan SGD with momentum (8 threads)\n"
          ]
        },
        {
          "output_type": "stream",
          "name": "stderr",
          "text": [
            "100%|██████████| 40/40 [00:00<00:00, 111.70it/s]\n"
          ]
        },
        {
          "output_type": "stream",
          "name": "stdout",
          "text": [
            "current loss: [[nan]]\n",
            "running thread  <Thread(Thread-13521, initial)>\n",
            "running thread  <Thread(Thread-13522, initial)>\n",
            "running thread  <Thread(Thread-13523, initial)>\n",
            "running thread  <Thread(Thread-13524, initial)>\n",
            "running thread  <Thread(Thread-13525, initial)>\n",
            "running thread  <Thread(Thread-13526, initial)>\n",
            "running thread  <Thread(Thread-13527, initial)>\n",
            "running thread  <Thread(Thread-13528, initial)>\n",
            "Running minibatch sequential-scan SGD with momentum (8 threads)\n"
          ]
        },
        {
          "output_type": "stream",
          "name": "stderr",
          "text": [
            "100%|██████████| 40/40 [00:00<00:00, 96.27it/s]\n"
          ]
        },
        {
          "output_type": "stream",
          "name": "stdout",
          "text": [
            "current loss: [[inf]]\n",
            "running thread  <Thread(Thread-13529, initial)>\n",
            "running thread  <Thread(Thread-13530, initial)>\n",
            "running thread  <Thread(Thread-13531, initial)>\n",
            "running thread  <Thread(Thread-13532, initial)>\n",
            "running thread  <Thread(Thread-13533, initial)>\n",
            "running thread  <Thread(Thread-13534, initial)>\n",
            "running thread  <Thread(Thread-13535, initial)>\n",
            "running thread  <Thread(Thread-13536, initial)>\n",
            "Running minibatch sequential-scan SGD with momentum (8 threads)\n"
          ]
        },
        {
          "output_type": "stream",
          "name": "stderr",
          "text": [
            "100%|██████████| 40/40 [00:00<00:00, 123.46it/s]\n"
          ]
        },
        {
          "output_type": "stream",
          "name": "stdout",
          "text": [
            "current loss: [[2.52966939e+211]]\n",
            "running thread  <Thread(Thread-13537, initial)>\n",
            "running thread  <Thread(Thread-13538, initial)>\n",
            "running thread  <Thread(Thread-13539, initial)>\n",
            "running thread  <Thread(Thread-13540, initial)>\n",
            "running thread  <Thread(Thread-13541, initial)>\n",
            "running thread  <Thread(Thread-13542, initial)>\n",
            "running thread  <Thread(Thread-13543, initial)>\n",
            "running thread  <Thread(Thread-13544, initial)>\n",
            "Running minibatch sequential-scan SGD with momentum (8 threads)\n"
          ]
        },
        {
          "output_type": "stream",
          "name": "stderr",
          "text": [
            "100%|██████████| 40/40 [00:00<00:00, 103.24it/s]\n"
          ]
        },
        {
          "output_type": "stream",
          "name": "stdout",
          "text": [
            "current loss: [[32334.53833229]]\n",
            "running thread  <Thread(Thread-13545, initial)>\n",
            "running thread  <Thread(Thread-13546, initial)>\n",
            "running thread  <Thread(Thread-13547, initial)>\n",
            "running thread  <Thread(Thread-13548, initial)>\n",
            "running thread  <Thread(Thread-13549, initial)>\n",
            "running thread  <Thread(Thread-13550, initial)>\n",
            "running thread  <Thread(Thread-13551, initial)>\n",
            "running thread  <Thread(Thread-13552, initial)>\n",
            "Running minibatch sequential-scan SGD with momentum (8 threads)\n"
          ]
        },
        {
          "output_type": "stream",
          "name": "stderr",
          "text": [
            "100%|██████████| 40/40 [00:00<00:00, 120.91it/s]\n"
          ]
        },
        {
          "output_type": "stream",
          "name": "stdout",
          "text": [
            "current loss: [[inf]]\n",
            "running thread  <Thread(Thread-13553, initial)>\n",
            "running thread  <Thread(Thread-13554, initial)>\n",
            "running thread  <Thread(Thread-13555, initial)>\n",
            "running thread  <Thread(Thread-13556, initial)>\n",
            "running thread  <Thread(Thread-13557, initial)>\n",
            "running thread  <Thread(Thread-13558, initial)>\n",
            "running thread  <Thread(Thread-13559, initial)>\n",
            "running thread  <Thread(Thread-13560, initial)>\n",
            "Running minibatch sequential-scan SGD with momentum (8 threads)\n"
          ]
        },
        {
          "output_type": "stream",
          "name": "stderr",
          "text": [
            "100%|██████████| 40/40 [00:00<00:00, 112.98it/s]\n"
          ]
        },
        {
          "output_type": "stream",
          "name": "stdout",
          "text": [
            "current loss: [[1.32472121e+208]]\n",
            "running thread  <Thread(Thread-13561, initial)>\n",
            "running thread  <Thread(Thread-13562, initial)>\n",
            "running thread  <Thread(Thread-13563, initial)>\n",
            "running thread  <Thread(Thread-13564, initial)>\n",
            "running thread  <Thread(Thread-13565, initial)>\n",
            "running thread  <Thread(Thread-13566, initial)>\n",
            "running thread  <Thread(Thread-13567, initial)>\n",
            "running thread  <Thread(Thread-13568, initial)>\n",
            "Running minibatch sequential-scan SGD with momentum (8 threads)\n"
          ]
        },
        {
          "output_type": "stream",
          "name": "stderr",
          "text": [
            "100%|██████████| 40/40 [00:00<00:00, 102.89it/s]\n"
          ]
        },
        {
          "output_type": "stream",
          "name": "stdout",
          "text": [
            "current loss: [[1.5456189e+09]]\n",
            "running thread  <Thread(Thread-13569, initial)>\n",
            "running thread  <Thread(Thread-13570, initial)>\n",
            "running thread  <Thread(Thread-13571, initial)>\n",
            "running thread  <Thread(Thread-13572, initial)>\n",
            "running thread  <Thread(Thread-13573, initial)>\n",
            "running thread  <Thread(Thread-13574, initial)>\n",
            "running thread  <Thread(Thread-13575, initial)>\n",
            "running thread  <Thread(Thread-13576, initial)>\n",
            "Running minibatch sequential-scan SGD with momentum (8 threads)\n"
          ]
        },
        {
          "output_type": "stream",
          "name": "stderr",
          "text": [
            "100%|██████████| 40/40 [00:00<00:00, 107.10it/s]\n"
          ]
        },
        {
          "output_type": "stream",
          "name": "stdout",
          "text": [
            "current loss: [[2.56955742e+24]]\n",
            "running thread  <Thread(Thread-13577, initial)>\n",
            "running thread  <Thread(Thread-13578, initial)>\n",
            "running thread  <Thread(Thread-13579, initial)>\n",
            "running thread  <Thread(Thread-13580, initial)>\n",
            "running thread  <Thread(Thread-13581, initial)>\n",
            "running thread  <Thread(Thread-13582, initial)>\n",
            "running thread  <Thread(Thread-13583, initial)>\n",
            "running thread  <Thread(Thread-13584, initial)>\n",
            "Running minibatch sequential-scan SGD with momentum (8 threads)\n"
          ]
        },
        {
          "output_type": "stream",
          "name": "stderr",
          "text": [
            "100%|██████████| 40/40 [00:00<00:00, 107.05it/s]\n"
          ]
        },
        {
          "output_type": "stream",
          "name": "stdout",
          "text": [
            "current loss: [[6.43403427e+59]]\n",
            "running thread  <Thread(Thread-13585, initial)>\n",
            "running thread  <Thread(Thread-13586, initial)>\n",
            "running thread  <Thread(Thread-13587, initial)>\n",
            "running thread  <Thread(Thread-13588, initial)>\n",
            "running thread  <Thread(Thread-13589, initial)>\n",
            "running thread  <Thread(Thread-13590, initial)>\n",
            "running thread  <Thread(Thread-13591, initial)>\n",
            "running thread  <Thread(Thread-13592, initial)>\n",
            "Running minibatch sequential-scan SGD with momentum (8 threads)\n"
          ]
        },
        {
          "output_type": "stream",
          "name": "stderr",
          "text": [
            "100%|██████████| 40/40 [00:00<00:00, 106.02it/s]\n"
          ]
        },
        {
          "output_type": "stream",
          "name": "stdout",
          "text": [
            "current loss: [[inf]]\n",
            "running thread  <Thread(Thread-13593, initial)>\n",
            "running thread  <Thread(Thread-13594, initial)>\n",
            "running thread  <Thread(Thread-13595, initial)>\n",
            "running thread  <Thread(Thread-13596, initial)>\n",
            "running thread  <Thread(Thread-13597, initial)>\n",
            "running thread  <Thread(Thread-13598, initial)>\n",
            "running thread  <Thread(Thread-13599, initial)>\n",
            "running thread  <Thread(Thread-13600, initial)>\n",
            "Running minibatch sequential-scan SGD with momentum (8 threads)\n"
          ]
        },
        {
          "output_type": "stream",
          "name": "stderr",
          "text": [
            "100%|██████████| 40/40 [00:00<00:00, 111.79it/s]\n"
          ]
        },
        {
          "output_type": "stream",
          "name": "stdout",
          "text": [
            "current loss: [[nan]]\n",
            "running thread  <Thread(Thread-13601, initial)>\n",
            "running thread  <Thread(Thread-13602, initial)>\n",
            "running thread  <Thread(Thread-13603, initial)>\n",
            "running thread  <Thread(Thread-13604, initial)>\n",
            "running thread  <Thread(Thread-13605, initial)>\n",
            "running thread  <Thread(Thread-13606, initial)>\n",
            "running thread  <Thread(Thread-13607, initial)>\n",
            "running thread  <Thread(Thread-13608, initial)>\n",
            "Running minibatch sequential-scan SGD with momentum (8 threads)\n"
          ]
        },
        {
          "output_type": "stream",
          "name": "stderr",
          "text": [
            "100%|██████████| 40/40 [00:00<00:00, 99.76it/s] \n"
          ]
        },
        {
          "output_type": "stream",
          "name": "stdout",
          "text": [
            "current loss: [[inf]]\n",
            "running thread  <Thread(Thread-13609, initial)>\n",
            "running thread  <Thread(Thread-13610, initial)>\n",
            "running thread  <Thread(Thread-13611, initial)>\n",
            "running thread  <Thread(Thread-13612, initial)>\n",
            "running thread  <Thread(Thread-13613, initial)>\n",
            "running thread  <Thread(Thread-13614, initial)>\n",
            "running thread  <Thread(Thread-13615, initial)>\n",
            "running thread  <Thread(Thread-13616, initial)>\n",
            "Running minibatch sequential-scan SGD with momentum (8 threads)\n"
          ]
        },
        {
          "output_type": "stream",
          "name": "stderr",
          "text": [
            "100%|██████████| 40/40 [00:00<00:00, 128.87it/s]\n"
          ]
        },
        {
          "output_type": "stream",
          "name": "stdout",
          "text": [
            "current loss: [[inf]]\n",
            "running thread  <Thread(Thread-13617, initial)>\n",
            "running thread  <Thread(Thread-13618, initial)>\n",
            "running thread  <Thread(Thread-13619, initial)>\n",
            "running thread  <Thread(Thread-13620, initial)>\n",
            "running thread  <Thread(Thread-13621, initial)>\n",
            "running thread  <Thread(Thread-13622, initial)>\n",
            "running thread  <Thread(Thread-13623, initial)>\n",
            "running thread  <Thread(Thread-13624, initial)>\n",
            "Running minibatch sequential-scan SGD with momentum (8 threads)\n"
          ]
        },
        {
          "output_type": "stream",
          "name": "stderr",
          "text": [
            "100%|██████████| 40/40 [00:00<00:00, 107.08it/s]\n"
          ]
        },
        {
          "output_type": "stream",
          "name": "stdout",
          "text": [
            "current loss: [[inf]]\n",
            "running thread  <Thread(Thread-13625, initial)>\n",
            "running thread  <Thread(Thread-13626, initial)>\n",
            "running thread  <Thread(Thread-13627, initial)>\n",
            "running thread  <Thread(Thread-13628, initial)>\n",
            "running thread  <Thread(Thread-13629, initial)>\n",
            "running thread  <Thread(Thread-13630, initial)>\n",
            "running thread  <Thread(Thread-13631, initial)>\n",
            "running thread  <Thread(Thread-13632, initial)>\n",
            "Running minibatch sequential-scan SGD with momentum (8 threads)\n"
          ]
        },
        {
          "output_type": "stream",
          "name": "stderr",
          "text": [
            "100%|██████████| 40/40 [00:00<00:00, 105.53it/s]\n"
          ]
        },
        {
          "output_type": "stream",
          "name": "stdout",
          "text": [
            "current loss: [[5.08474822e+39]]\n",
            "running thread  <Thread(Thread-13633, initial)>\n",
            "running thread  <Thread(Thread-13634, initial)>\n",
            "running thread  <Thread(Thread-13635, initial)>\n",
            "running thread  <Thread(Thread-13636, initial)>\n",
            "running thread  <Thread(Thread-13637, initial)>\n",
            "running thread  <Thread(Thread-13638, initial)>\n",
            "running thread  <Thread(Thread-13639, initial)>\n",
            "running thread  <Thread(Thread-13640, initial)>\n",
            "Running minibatch sequential-scan SGD with momentum (8 threads)\n"
          ]
        },
        {
          "output_type": "stream",
          "name": "stderr",
          "text": [
            "100%|██████████| 40/40 [00:00<00:00, 102.35it/s]\n"
          ]
        },
        {
          "output_type": "stream",
          "name": "stdout",
          "text": [
            "current loss: [[inf]]\n",
            "running thread  <Thread(Thread-13641, initial)>\n",
            "running thread  <Thread(Thread-13642, initial)>\n",
            "running thread  <Thread(Thread-13643, initial)>\n",
            "running thread  <Thread(Thread-13644, initial)>\n",
            "running thread  <Thread(Thread-13645, initial)>\n",
            "running thread  <Thread(Thread-13646, initial)>\n",
            "running thread  <Thread(Thread-13647, initial)>\n",
            "running thread  <Thread(Thread-13648, initial)>\n",
            "Running minibatch sequential-scan SGD with momentum (8 threads)\n"
          ]
        },
        {
          "output_type": "stream",
          "name": "stderr",
          "text": [
            "100%|██████████| 40/40 [00:00<00:00, 106.33it/s]\n"
          ]
        },
        {
          "output_type": "stream",
          "name": "stdout",
          "text": [
            "current loss: [[7.22707435e+195]]\n",
            "running thread  <Thread(Thread-13649, initial)>\n",
            "running thread  <Thread(Thread-13650, initial)>\n",
            "running thread  <Thread(Thread-13651, initial)>\n",
            "running thread  <Thread(Thread-13652, initial)>\n",
            "running thread  <Thread(Thread-13653, initial)>\n",
            "running thread  <Thread(Thread-13654, initial)>\n",
            "running thread  <Thread(Thread-13655, initial)>\n",
            "running thread  <Thread(Thread-13656, initial)>\n",
            "Running minibatch sequential-scan SGD with momentum (8 threads)\n"
          ]
        },
        {
          "output_type": "stream",
          "name": "stderr",
          "text": [
            "100%|██████████| 40/40 [00:00<00:00, 99.93it/s] \n"
          ]
        },
        {
          "output_type": "stream",
          "name": "stdout",
          "text": [
            "current loss: [[nan]]\n",
            "running thread  <Thread(Thread-13657, initial)>\n",
            "running thread  <Thread(Thread-13658, initial)>\n",
            "running thread  <Thread(Thread-13659, initial)>\n",
            "running thread  <Thread(Thread-13660, initial)>\n",
            "running thread  <Thread(Thread-13661, initial)>\n",
            "running thread  <Thread(Thread-13662, initial)>\n",
            "running thread  <Thread(Thread-13663, initial)>\n",
            "running thread  <Thread(Thread-13664, initial)>\n",
            "Running minibatch sequential-scan SGD with momentum (8 threads)\n"
          ]
        },
        {
          "output_type": "stream",
          "name": "stderr",
          "text": [
            "100%|██████████| 40/40 [00:00<00:00, 101.47it/s]\n",
            "<ipython-input-286-031cdcdfd2ab>:30: RuntimeWarning: overflow encountered in matmul\n",
            "  Ys_pr = W @ Xs_va\n",
            "<ipython-input-286-031cdcdfd2ab>:30: RuntimeWarning: invalid value encountered in matmul\n",
            "  Ys_pr = W @ Xs_va\n"
          ]
        },
        {
          "output_type": "stream",
          "name": "stdout",
          "text": [
            "current loss: [[nan]]\n",
            "running thread  <Thread(Thread-13665, initial)>\n",
            "running thread  <Thread(Thread-13666, initial)>\n",
            "running thread  <Thread(Thread-13667, initial)>\n",
            "running thread  <Thread(Thread-13668, initial)>\n",
            "running thread  <Thread(Thread-13669, initial)>\n",
            "running thread  <Thread(Thread-13670, initial)>\n",
            "running thread  <Thread(Thread-13671, initial)>\n",
            "running thread  <Thread(Thread-13672, initial)>\n",
            "Running minibatch sequential-scan SGD with momentum (8 threads)\n"
          ]
        },
        {
          "output_type": "stream",
          "name": "stderr",
          "text": [
            " 57%|█████▊    | 23/40 [00:00<00:00, 112.85it/s]<ipython-input-275-6971b519ab5c>:51: RuntimeWarning: overflow encountered in add\n",
            "  numpy.add(multinomial_logreg_grad_i, gammaW, out=multinomial_logreg_grad_i)\n",
            "<ipython-input-275-6971b519ab5c>:54: RuntimeWarning: overflow encountered in add\n",
            "  numpy.add(gradient, multinomial_logreg_grad_i, out=gradient)\n",
            "<ipython-input-275-6971b519ab5c>:54: RuntimeWarning: invalid value encountered in add\n",
            "  numpy.add(gradient, multinomial_logreg_grad_i, out=gradient)\n",
            "<ipython-input-275-6971b519ab5c>:67: RuntimeWarning: invalid value encountered in multiply\n",
            "  numpy.multiply(gradient, 0, out=gradient)\n",
            "100%|██████████| 40/40 [00:00<00:00, 134.65it/s]\n"
          ]
        },
        {
          "output_type": "stream",
          "name": "stdout",
          "text": [
            "current loss: [[nan]]\n",
            "running thread  <Thread(Thread-13673, initial)>\n",
            "running thread  <Thread(Thread-13674, initial)>\n",
            "running thread  <Thread(Thread-13675, initial)>\n",
            "running thread  <Thread(Thread-13676, initial)>\n",
            "running thread  <Thread(Thread-13677, initial)>\n",
            "running thread  <Thread(Thread-13678, initial)>\n",
            "running thread  <Thread(Thread-13679, initial)>\n",
            "running thread  <Thread(Thread-13680, initial)>\n",
            "Running minibatch sequential-scan SGD with momentum (8 threads)\n"
          ]
        },
        {
          "output_type": "stream",
          "name": "stderr",
          "text": [
            "100%|██████████| 40/40 [00:00<00:00, 99.02it/s] \n"
          ]
        },
        {
          "output_type": "stream",
          "name": "stdout",
          "text": [
            "current loss: [[1.00645659e+51]]\n",
            "running thread  <Thread(Thread-13681, initial)>\n",
            "running thread  <Thread(Thread-13682, initial)>\n",
            "running thread  <Thread(Thread-13683, initial)>\n",
            "running thread  <Thread(Thread-13684, initial)>\n",
            "running thread  <Thread(Thread-13685, initial)>\n",
            "running thread  <Thread(Thread-13686, initial)>\n",
            "running thread  <Thread(Thread-13687, initial)>\n",
            "running thread  <Thread(Thread-13688, initial)>\n",
            "Running minibatch sequential-scan SGD with momentum (8 threads)\n"
          ]
        },
        {
          "output_type": "stream",
          "name": "stderr",
          "text": [
            "100%|██████████| 40/40 [00:00<00:00, 109.78it/s]\n"
          ]
        },
        {
          "output_type": "stream",
          "name": "stdout",
          "text": [
            "current loss: [[2.56264984e+206]]\n",
            "running thread  <Thread(Thread-13689, initial)>\n",
            "running thread  <Thread(Thread-13690, initial)>\n",
            "running thread  <Thread(Thread-13691, initial)>\n",
            "running thread  <Thread(Thread-13692, initial)>\n",
            "running thread  <Thread(Thread-13693, initial)>\n",
            "running thread  <Thread(Thread-13694, initial)>\n",
            "running thread  <Thread(Thread-13695, initial)>\n",
            "running thread  <Thread(Thread-13696, initial)>\n",
            "Running minibatch sequential-scan SGD with momentum (8 threads)\n"
          ]
        },
        {
          "output_type": "stream",
          "name": "stderr",
          "text": [
            "100%|██████████| 40/40 [00:00<00:00, 102.97it/s]\n"
          ]
        },
        {
          "output_type": "stream",
          "name": "stdout",
          "text": [
            "current loss: [[inf]]\n",
            "running thread  <Thread(Thread-13697, initial)>\n",
            "running thread  <Thread(Thread-13698, initial)>\n",
            "running thread  <Thread(Thread-13699, initial)>\n",
            "running thread  <Thread(Thread-13700, initial)>\n",
            "running thread  <Thread(Thread-13701, initial)>\n",
            "running thread  <Thread(Thread-13702, initial)>\n",
            "running thread  <Thread(Thread-13703, initial)>\n",
            "running thread  <Thread(Thread-13704, initial)>\n",
            "Running minibatch sequential-scan SGD with momentum (8 threads)\n"
          ]
        },
        {
          "output_type": "stream",
          "name": "stderr",
          "text": [
            "100%|██████████| 40/40 [00:00<00:00, 111.08it/s]\n"
          ]
        },
        {
          "output_type": "stream",
          "name": "stdout",
          "text": [
            "current loss: [[7.30016428e+168]]\n",
            "running thread  <Thread(Thread-13705, initial)>\n",
            "running thread  <Thread(Thread-13706, initial)>\n",
            "running thread  <Thread(Thread-13707, initial)>\n",
            "running thread  <Thread(Thread-13708, initial)>\n",
            "running thread  <Thread(Thread-13709, initial)>\n",
            "running thread  <Thread(Thread-13710, initial)>\n",
            "running thread  <Thread(Thread-13711, initial)>\n",
            "running thread  <Thread(Thread-13712, initial)>\n",
            "Running minibatch sequential-scan SGD with momentum (8 threads)\n"
          ]
        },
        {
          "output_type": "stream",
          "name": "stderr",
          "text": [
            "100%|██████████| 40/40 [00:00<00:00, 112.67it/s]\n"
          ]
        },
        {
          "output_type": "stream",
          "name": "stdout",
          "text": [
            "current loss: [[1.45856347e+280]]\n",
            "running thread  <Thread(Thread-13713, initial)>\n",
            "running thread  <Thread(Thread-13714, initial)>\n",
            "running thread  <Thread(Thread-13715, initial)>\n",
            "running thread  <Thread(Thread-13716, initial)>\n",
            "running thread  <Thread(Thread-13717, initial)>\n",
            "running thread  <Thread(Thread-13718, initial)>\n",
            "running thread  <Thread(Thread-13719, initial)>\n",
            "running thread  <Thread(Thread-13720, initial)>\n",
            "Running minibatch sequential-scan SGD with momentum (8 threads)\n"
          ]
        },
        {
          "output_type": "stream",
          "name": "stderr",
          "text": [
            "100%|██████████| 40/40 [00:00<00:00, 112.53it/s]\n"
          ]
        },
        {
          "output_type": "stream",
          "name": "stdout",
          "text": [
            "current loss: [[nan]]\n",
            "running thread  <Thread(Thread-13721, initial)>\n",
            "running thread  <Thread(Thread-13722, initial)>\n",
            "running thread  <Thread(Thread-13723, initial)>\n",
            "running thread  <Thread(Thread-13724, initial)>\n",
            "running thread  <Thread(Thread-13725, initial)>\n",
            "running thread  <Thread(Thread-13726, initial)>\n",
            "running thread  <Thread(Thread-13727, initial)>\n",
            "running thread  <Thread(Thread-13728, initial)>\n",
            "Running minibatch sequential-scan SGD with momentum (8 threads)\n"
          ]
        },
        {
          "output_type": "stream",
          "name": "stderr",
          "text": [
            "100%|██████████| 40/40 [00:00<00:00, 108.47it/s]\n"
          ]
        },
        {
          "output_type": "stream",
          "name": "stdout",
          "text": [
            "current loss: [[inf]]\n",
            "running thread  <Thread(Thread-13729, initial)>\n",
            "running thread  <Thread(Thread-13730, initial)>\n",
            "running thread  <Thread(Thread-13731, initial)>\n",
            "running thread  <Thread(Thread-13732, initial)>\n",
            "running thread  <Thread(Thread-13733, initial)>\n",
            "running thread  <Thread(Thread-13734, initial)>\n",
            "running thread  <Thread(Thread-13735, initial)>\n",
            "running thread  <Thread(Thread-13736, initial)>\n",
            "Running minibatch sequential-scan SGD with momentum (8 threads)\n"
          ]
        },
        {
          "output_type": "stream",
          "name": "stderr",
          "text": [
            "100%|██████████| 40/40 [00:00<00:00, 101.47it/s]\n"
          ]
        },
        {
          "output_type": "stream",
          "name": "stdout",
          "text": [
            "current loss: [[9.36092991e+82]]\n",
            "running thread  <Thread(Thread-13737, initial)>\n",
            "running thread  <Thread(Thread-13738, initial)>\n",
            "running thread  <Thread(Thread-13739, initial)>\n",
            "running thread  <Thread(Thread-13740, initial)>\n",
            "running thread  <Thread(Thread-13741, initial)>\n",
            "running thread  <Thread(Thread-13742, initial)>\n",
            "running thread  <Thread(Thread-13743, initial)>\n",
            "running thread  <Thread(Thread-13744, initial)>\n",
            "Running minibatch sequential-scan SGD with momentum (8 threads)\n"
          ]
        },
        {
          "output_type": "stream",
          "name": "stderr",
          "text": [
            "100%|██████████| 40/40 [00:00<00:00, 108.91it/s]\n"
          ]
        },
        {
          "output_type": "stream",
          "name": "stdout",
          "text": [
            "current loss: [[inf]]\n",
            "running thread  <Thread(Thread-13745, initial)>\n",
            "running thread  <Thread(Thread-13746, initial)>\n",
            "running thread  <Thread(Thread-13747, initial)>\n",
            "running thread  <Thread(Thread-13748, initial)>\n",
            "running thread  <Thread(Thread-13749, initial)>\n",
            "running thread  <Thread(Thread-13750, initial)>\n",
            "running thread  <Thread(Thread-13751, initial)>\n",
            "running thread  <Thread(Thread-13752, initial)>\n",
            "Running minibatch sequential-scan SGD with momentum (8 threads)\n"
          ]
        },
        {
          "output_type": "stream",
          "name": "stderr",
          "text": [
            "100%|██████████| 40/40 [00:00<00:00, 104.23it/s]\n"
          ]
        },
        {
          "output_type": "stream",
          "name": "stdout",
          "text": [
            "current loss: [[6.99632209e+211]]\n",
            "running thread  <Thread(Thread-13753, initial)>\n",
            "running thread  <Thread(Thread-13754, initial)>\n",
            "running thread  <Thread(Thread-13755, initial)>\n",
            "running thread  <Thread(Thread-13756, initial)>\n",
            "running thread  <Thread(Thread-13757, initial)>\n",
            "running thread  <Thread(Thread-13758, initial)>\n",
            "running thread  <Thread(Thread-13759, initial)>\n",
            "running thread  <Thread(Thread-13760, initial)>\n",
            "Running minibatch sequential-scan SGD with momentum (8 threads)\n"
          ]
        },
        {
          "output_type": "stream",
          "name": "stderr",
          "text": [
            "100%|██████████| 40/40 [00:00<00:00, 91.94it/s]\n"
          ]
        },
        {
          "output_type": "stream",
          "name": "stdout",
          "text": [
            "current loss: [[inf]]\n",
            "running thread  <Thread(Thread-13761, initial)>\n",
            "running thread  <Thread(Thread-13762, initial)>\n",
            "running thread  <Thread(Thread-13763, initial)>\n",
            "running thread  <Thread(Thread-13764, initial)>\n",
            "running thread  <Thread(Thread-13765, initial)>\n",
            "running thread  <Thread(Thread-13766, initial)>\n",
            "running thread  <Thread(Thread-13767, initial)>\n",
            "running thread  <Thread(Thread-13768, initial)>\n",
            "Running minibatch sequential-scan SGD with momentum (8 threads)\n"
          ]
        },
        {
          "output_type": "stream",
          "name": "stderr",
          "text": [
            "100%|██████████| 40/40 [00:00<00:00, 106.35it/s]\n"
          ]
        },
        {
          "output_type": "stream",
          "name": "stdout",
          "text": [
            "current loss: [[inf]]\n",
            "running thread  <Thread(Thread-13769, initial)>\n",
            "running thread  <Thread(Thread-13770, initial)>\n",
            "running thread  <Thread(Thread-13771, initial)>\n",
            "running thread  <Thread(Thread-13772, initial)>\n",
            "running thread  <Thread(Thread-13773, initial)>\n",
            "running thread  <Thread(Thread-13774, initial)>\n",
            "running thread  <Thread(Thread-13775, initial)>\n",
            "running thread  <Thread(Thread-13776, initial)>\n",
            "Running minibatch sequential-scan SGD with momentum (8 threads)\n"
          ]
        },
        {
          "output_type": "stream",
          "name": "stderr",
          "text": [
            "100%|██████████| 40/40 [00:00<00:00, 97.46it/s]\n"
          ]
        },
        {
          "output_type": "stream",
          "name": "stdout",
          "text": [
            "current loss: [[1.02848036e+208]]\n",
            "running thread  <Thread(Thread-13777, initial)>\n",
            "running thread  <Thread(Thread-13778, initial)>\n",
            "running thread  <Thread(Thread-13779, initial)>\n",
            "running thread  <Thread(Thread-13780, initial)>\n",
            "running thread  <Thread(Thread-13781, initial)>\n",
            "running thread  <Thread(Thread-13782, initial)>\n",
            "running thread  <Thread(Thread-13783, initial)>\n",
            "running thread  <Thread(Thread-13784, initial)>\n",
            "Running minibatch sequential-scan SGD with momentum (8 threads)\n"
          ]
        },
        {
          "output_type": "stream",
          "name": "stderr",
          "text": [
            "100%|██████████| 40/40 [00:00<00:00, 128.23it/s]\n"
          ]
        },
        {
          "output_type": "stream",
          "name": "stdout",
          "text": [
            "current loss: [[2.22209368e+60]]\n",
            "running thread  <Thread(Thread-13785, initial)>\n",
            "running thread  <Thread(Thread-13786, initial)>\n",
            "running thread  <Thread(Thread-13787, initial)>\n",
            "running thread  <Thread(Thread-13788, initial)>\n",
            "running thread  <Thread(Thread-13789, initial)>\n",
            "running thread  <Thread(Thread-13790, initial)>\n",
            "running thread  <Thread(Thread-13791, initial)>\n",
            "running thread  <Thread(Thread-13792, initial)>\n",
            "Running minibatch sequential-scan SGD with momentum (8 threads)\n"
          ]
        },
        {
          "output_type": "stream",
          "name": "stderr",
          "text": [
            "100%|██████████| 40/40 [00:00<00:00, 94.83it/s]\n"
          ]
        },
        {
          "output_type": "stream",
          "name": "stdout",
          "text": [
            "current loss: [[34089234.7332238]]\n",
            "running thread  <Thread(Thread-13793, initial)>\n",
            "running thread  <Thread(Thread-13794, initial)>\n",
            "running thread  <Thread(Thread-13795, initial)>\n",
            "running thread  <Thread(Thread-13796, initial)>\n",
            "running thread  <Thread(Thread-13797, initial)>\n",
            "running thread  <Thread(Thread-13798, initial)>\n",
            "running thread  <Thread(Thread-13799, initial)>\n",
            "running thread  <Thread(Thread-13800, initial)>\n",
            "Running minibatch sequential-scan SGD with momentum (8 threads)\n"
          ]
        },
        {
          "output_type": "stream",
          "name": "stderr",
          "text": [
            "100%|██████████| 40/40 [00:00<00:00, 106.55it/s]\n"
          ]
        },
        {
          "output_type": "stream",
          "name": "stdout",
          "text": [
            "current loss: [[2.78880769e+233]]\n",
            "running thread  <Thread(Thread-13801, initial)>\n",
            "running thread  <Thread(Thread-13802, initial)>\n",
            "running thread  <Thread(Thread-13803, initial)>\n",
            "running thread  <Thread(Thread-13804, initial)>\n",
            "running thread  <Thread(Thread-13805, initial)>\n",
            "running thread  <Thread(Thread-13806, initial)>\n",
            "running thread  <Thread(Thread-13807, initial)>\n",
            "running thread  <Thread(Thread-13808, initial)>\n",
            "Running minibatch sequential-scan SGD with momentum (8 threads)\n"
          ]
        },
        {
          "output_type": "stream",
          "name": "stderr",
          "text": [
            "100%|██████████| 40/40 [00:00<00:00, 101.10it/s]\n"
          ]
        },
        {
          "output_type": "stream",
          "name": "stdout",
          "text": [
            "current loss: [[9.58128032e+183]]\n",
            "running thread  <Thread(Thread-13809, initial)>\n",
            "running thread  <Thread(Thread-13810, initial)>\n",
            "running thread  <Thread(Thread-13811, initial)>\n",
            "running thread  <Thread(Thread-13812, initial)>\n",
            "running thread  <Thread(Thread-13813, initial)>\n",
            "running thread  <Thread(Thread-13814, initial)>\n",
            "running thread  <Thread(Thread-13815, initial)>\n",
            "running thread  <Thread(Thread-13816, initial)>\n",
            "Running minibatch sequential-scan SGD with momentum (8 threads)\n"
          ]
        },
        {
          "output_type": "stream",
          "name": "stderr",
          "text": [
            "100%|██████████| 40/40 [00:00<00:00, 99.04it/s]\n"
          ]
        },
        {
          "output_type": "stream",
          "name": "stdout",
          "text": [
            "current loss: [[inf]]\n",
            "running thread  <Thread(Thread-13817, initial)>\n",
            "running thread  <Thread(Thread-13818, initial)>\n",
            "running thread  <Thread(Thread-13819, initial)>\n",
            "running thread  <Thread(Thread-13820, initial)>\n",
            "running thread  <Thread(Thread-13821, initial)>\n",
            "running thread  <Thread(Thread-13822, initial)>\n",
            "running thread  <Thread(Thread-13823, initial)>\n",
            "running thread  <Thread(Thread-13824, initial)>\n",
            "Running minibatch sequential-scan SGD with momentum (8 threads)\n"
          ]
        },
        {
          "output_type": "stream",
          "name": "stderr",
          "text": [
            "100%|██████████| 40/40 [00:00<00:00, 105.06it/s]\n"
          ]
        },
        {
          "output_type": "stream",
          "name": "stdout",
          "text": [
            "current loss: [[nan]]\n",
            "running thread  <Thread(Thread-13825, initial)>\n",
            "running thread  <Thread(Thread-13826, initial)>\n",
            "running thread  <Thread(Thread-13827, initial)>\n",
            "running thread  <Thread(Thread-13828, initial)>\n",
            "running thread  <Thread(Thread-13829, initial)>\n",
            "running thread  <Thread(Thread-13830, initial)>\n",
            "running thread  <Thread(Thread-13831, initial)>\n",
            "running thread  <Thread(Thread-13832, initial)>\n",
            "Running minibatch sequential-scan SGD with momentum (8 threads)\n"
          ]
        },
        {
          "output_type": "stream",
          "name": "stderr",
          "text": [
            "100%|██████████| 40/40 [00:00<00:00, 101.45it/s]\n"
          ]
        },
        {
          "output_type": "stream",
          "name": "stdout",
          "text": [
            "current loss: [[inf]]\n",
            "running thread  <Thread(Thread-13833, initial)>\n",
            "running thread  <Thread(Thread-13834, initial)>\n",
            "running thread  <Thread(Thread-13835, initial)>\n",
            "running thread  <Thread(Thread-13836, initial)>\n",
            "running thread  <Thread(Thread-13837, initial)>\n",
            "running thread  <Thread(Thread-13838, initial)>\n",
            "running thread  <Thread(Thread-13839, initial)>\n",
            "running thread  <Thread(Thread-13840, initial)>\n",
            "Running minibatch sequential-scan SGD with momentum (8 threads)\n"
          ]
        },
        {
          "output_type": "stream",
          "name": "stderr",
          "text": [
            "100%|██████████| 40/40 [00:00<00:00, 113.13it/s]\n"
          ]
        },
        {
          "output_type": "stream",
          "name": "stdout",
          "text": [
            "current loss: [[nan]]\n",
            "running thread  <Thread(Thread-13841, initial)>\n",
            "running thread  <Thread(Thread-13842, initial)>\n",
            "running thread  <Thread(Thread-13843, initial)>\n",
            "running thread  <Thread(Thread-13844, initial)>\n",
            "running thread  <Thread(Thread-13845, initial)>\n",
            "running thread  <Thread(Thread-13846, initial)>\n",
            "running thread  <Thread(Thread-13847, initial)>\n",
            "running thread  <Thread(Thread-13848, initial)>\n",
            "Running minibatch sequential-scan SGD with momentum (8 threads)\n"
          ]
        },
        {
          "output_type": "stream",
          "name": "stderr",
          "text": [
            "100%|██████████| 40/40 [00:00<00:00, 106.82it/s]\n"
          ]
        },
        {
          "output_type": "stream",
          "name": "stdout",
          "text": [
            "current loss: [[2.18456266e+224]]\n",
            "running thread  <Thread(Thread-13849, initial)>\n",
            "running thread  <Thread(Thread-13850, initial)>\n",
            "running thread  <Thread(Thread-13851, initial)>\n",
            "running thread  <Thread(Thread-13852, initial)>\n",
            "running thread  <Thread(Thread-13853, initial)>\n",
            "running thread  <Thread(Thread-13854, initial)>\n",
            "running thread  <Thread(Thread-13855, initial)>\n",
            "running thread  <Thread(Thread-13856, initial)>\n",
            "Running minibatch sequential-scan SGD with momentum (8 threads)\n"
          ]
        },
        {
          "output_type": "stream",
          "name": "stderr",
          "text": [
            "100%|██████████| 40/40 [00:00<00:00, 103.95it/s]\n"
          ]
        },
        {
          "output_type": "stream",
          "name": "stdout",
          "text": [
            "current loss: [[5.09351623e+304]]\n",
            "running thread  <Thread(Thread-13857, initial)>\n",
            "running thread  <Thread(Thread-13858, initial)>\n",
            "running thread  <Thread(Thread-13859, initial)>\n",
            "running thread  <Thread(Thread-13860, initial)>\n",
            "running thread  <Thread(Thread-13861, initial)>\n",
            "running thread  <Thread(Thread-13862, initial)>\n",
            "running thread  <Thread(Thread-13863, initial)>\n",
            "running thread  <Thread(Thread-13864, initial)>\n",
            "Running minibatch sequential-scan SGD with momentum (8 threads)\n"
          ]
        },
        {
          "output_type": "stream",
          "name": "stderr",
          "text": [
            "100%|██████████| 40/40 [00:00<00:00, 107.54it/s]\n"
          ]
        },
        {
          "output_type": "stream",
          "name": "stdout",
          "text": [
            "current loss: [[371196.84636616]]\n",
            "running thread  <Thread(Thread-13865, initial)>\n",
            "running thread  <Thread(Thread-13866, initial)>\n",
            "running thread  <Thread(Thread-13867, initial)>\n",
            "running thread  <Thread(Thread-13868, initial)>\n",
            "running thread  <Thread(Thread-13869, initial)>\n",
            "running thread  <Thread(Thread-13870, initial)>\n",
            "running thread  <Thread(Thread-13871, initial)>\n",
            "running thread  <Thread(Thread-13872, initial)>\n",
            "Running minibatch sequential-scan SGD with momentum (8 threads)\n"
          ]
        },
        {
          "output_type": "stream",
          "name": "stderr",
          "text": [
            "100%|██████████| 40/40 [00:00<00:00, 107.17it/s]\n"
          ]
        },
        {
          "output_type": "stream",
          "name": "stdout",
          "text": [
            "current loss: [[392.09875496]]\n",
            "running thread  <Thread(Thread-13873, initial)>\n",
            "running thread  <Thread(Thread-13874, initial)>\n",
            "running thread  <Thread(Thread-13875, initial)>\n",
            "running thread  <Thread(Thread-13876, initial)>\n",
            "running thread  <Thread(Thread-13877, initial)>\n",
            "running thread  <Thread(Thread-13878, initial)>\n",
            "running thread  <Thread(Thread-13879, initial)>\n",
            "running thread  <Thread(Thread-13880, initial)>\n",
            "Running minibatch sequential-scan SGD with momentum (8 threads)\n"
          ]
        },
        {
          "output_type": "stream",
          "name": "stderr",
          "text": [
            "100%|██████████| 40/40 [00:00<00:00, 127.41it/s]\n"
          ]
        },
        {
          "output_type": "stream",
          "name": "stdout",
          "text": [
            "current loss: [[3.63048817e+169]]\n",
            "running thread  <Thread(Thread-13881, initial)>\n",
            "running thread  <Thread(Thread-13882, initial)>\n",
            "running thread  <Thread(Thread-13883, initial)>\n",
            "running thread  <Thread(Thread-13884, initial)>\n",
            "running thread  <Thread(Thread-13885, initial)>\n",
            "running thread  <Thread(Thread-13886, initial)>\n",
            "running thread  <Thread(Thread-13887, initial)>\n",
            "running thread  <Thread(Thread-13888, initial)>\n",
            "Running minibatch sequential-scan SGD with momentum (8 threads)\n"
          ]
        },
        {
          "output_type": "stream",
          "name": "stderr",
          "text": [
            "100%|██████████| 40/40 [00:00<00:00, 104.73it/s]\n"
          ]
        },
        {
          "output_type": "stream",
          "name": "stdout",
          "text": [
            "current loss: [[9.32304706e+296]]\n",
            "running thread  <Thread(Thread-13889, initial)>\n",
            "running thread  <Thread(Thread-13890, initial)>\n",
            "running thread  <Thread(Thread-13891, initial)>\n",
            "running thread  <Thread(Thread-13892, initial)>\n",
            "running thread  <Thread(Thread-13893, initial)>\n",
            "running thread  <Thread(Thread-13894, initial)>\n",
            "running thread  <Thread(Thread-13895, initial)>\n",
            "running thread  <Thread(Thread-13896, initial)>\n",
            "Running minibatch sequential-scan SGD with momentum (8 threads)\n"
          ]
        },
        {
          "output_type": "stream",
          "name": "stderr",
          "text": [
            "100%|██████████| 40/40 [00:00<00:00, 116.30it/s]\n"
          ]
        },
        {
          "output_type": "stream",
          "name": "stdout",
          "text": [
            "current loss: [[1.44456187e+104]]\n",
            "running thread  <Thread(Thread-13897, initial)>\n",
            "running thread  <Thread(Thread-13898, initial)>\n",
            "running thread  <Thread(Thread-13899, initial)>\n",
            "running thread  <Thread(Thread-13900, initial)>\n",
            "running thread  <Thread(Thread-13901, initial)>\n",
            "running thread  <Thread(Thread-13902, initial)>\n",
            "running thread  <Thread(Thread-13903, initial)>\n",
            "running thread  <Thread(Thread-13904, initial)>\n",
            "Running minibatch sequential-scan SGD with momentum (8 threads)\n"
          ]
        },
        {
          "output_type": "stream",
          "name": "stderr",
          "text": [
            "100%|██████████| 40/40 [00:00<00:00, 113.28it/s]\n"
          ]
        },
        {
          "output_type": "stream",
          "name": "stdout",
          "text": [
            "current loss: [[2.54196191e+163]]\n",
            "running thread  <Thread(Thread-13905, initial)>\n",
            "running thread  <Thread(Thread-13906, initial)>\n",
            "running thread  <Thread(Thread-13907, initial)>\n",
            "running thread  <Thread(Thread-13908, initial)>\n",
            "running thread  <Thread(Thread-13909, initial)>\n",
            "running thread  <Thread(Thread-13910, initial)>\n",
            "running thread  <Thread(Thread-13911, initial)>\n",
            "running thread  <Thread(Thread-13912, initial)>\n",
            "Running minibatch sequential-scan SGD with momentum (8 threads)\n"
          ]
        },
        {
          "output_type": "stream",
          "name": "stderr",
          "text": [
            "100%|██████████| 40/40 [00:00<00:00, 102.12it/s]\n"
          ]
        },
        {
          "output_type": "stream",
          "name": "stdout",
          "text": [
            "current loss: [[2.83356892e+83]]\n",
            "running thread  <Thread(Thread-13913, initial)>\n",
            "running thread  <Thread(Thread-13914, initial)>\n",
            "running thread  <Thread(Thread-13915, initial)>\n",
            "running thread  <Thread(Thread-13916, initial)>\n",
            "running thread  <Thread(Thread-13917, initial)>\n",
            "running thread  <Thread(Thread-13918, initial)>\n",
            "running thread  <Thread(Thread-13919, initial)>\n",
            "running thread  <Thread(Thread-13920, initial)>\n",
            "Running minibatch sequential-scan SGD with momentum (8 threads)\n"
          ]
        },
        {
          "output_type": "stream",
          "name": "stderr",
          "text": [
            "100%|██████████| 40/40 [00:00<00:00, 126.08it/s]\n"
          ]
        },
        {
          "output_type": "stream",
          "name": "stdout",
          "text": [
            "current loss: [[186006.7515509]]\n",
            "running thread  <Thread(Thread-13921, initial)>\n",
            "running thread  <Thread(Thread-13922, initial)>\n",
            "running thread  <Thread(Thread-13923, initial)>\n",
            "running thread  <Thread(Thread-13924, initial)>\n",
            "running thread  <Thread(Thread-13925, initial)>\n",
            "running thread  <Thread(Thread-13926, initial)>\n",
            "running thread  <Thread(Thread-13927, initial)>\n",
            "running thread  <Thread(Thread-13928, initial)>\n",
            "Running minibatch sequential-scan SGD with momentum (8 threads)\n"
          ]
        },
        {
          "output_type": "stream",
          "name": "stderr",
          "text": [
            "100%|██████████| 40/40 [00:00<00:00, 96.59it/s]\n"
          ]
        },
        {
          "output_type": "stream",
          "name": "stdout",
          "text": [
            "current loss: [[inf]]\n",
            "running thread  <Thread(Thread-13929, initial)>\n",
            "running thread  <Thread(Thread-13930, initial)>\n",
            "running thread  <Thread(Thread-13931, initial)>\n",
            "running thread  <Thread(Thread-13932, initial)>\n",
            "running thread  <Thread(Thread-13933, initial)>\n",
            "running thread  <Thread(Thread-13934, initial)>\n",
            "running thread  <Thread(Thread-13935, initial)>\n",
            "running thread  <Thread(Thread-13936, initial)>\n",
            "Running minibatch sequential-scan SGD with momentum (8 threads)\n"
          ]
        },
        {
          "output_type": "stream",
          "name": "stderr",
          "text": [
            "100%|██████████| 40/40 [00:00<00:00, 128.47it/s]\n"
          ]
        },
        {
          "output_type": "stream",
          "name": "stdout",
          "text": [
            "current loss: [[1.63470992e+162]]\n",
            "running thread  <Thread(Thread-13937, initial)>\n",
            "running thread  <Thread(Thread-13938, initial)>\n",
            "running thread  <Thread(Thread-13939, initial)>\n",
            "running thread  <Thread(Thread-13940, initial)>\n",
            "running thread  <Thread(Thread-13941, initial)>\n",
            "running thread  <Thread(Thread-13942, initial)>\n",
            "running thread  <Thread(Thread-13943, initial)>\n",
            "running thread  <Thread(Thread-13944, initial)>\n",
            "Running minibatch sequential-scan SGD with momentum (8 threads)\n"
          ]
        },
        {
          "output_type": "stream",
          "name": "stderr",
          "text": [
            "100%|██████████| 40/40 [00:00<00:00, 109.68it/s]\n"
          ]
        },
        {
          "output_type": "stream",
          "name": "stdout",
          "text": [
            "current loss: [[9.69922678e+302]]\n",
            "running thread  <Thread(Thread-13945, initial)>\n",
            "running thread  <Thread(Thread-13946, initial)>\n",
            "running thread  <Thread(Thread-13947, initial)>\n",
            "running thread  <Thread(Thread-13948, initial)>\n",
            "running thread  <Thread(Thread-13949, initial)>\n",
            "running thread  <Thread(Thread-13950, initial)>\n",
            "running thread  <Thread(Thread-13951, initial)>\n",
            "running thread  <Thread(Thread-13952, initial)>\n",
            "Running minibatch sequential-scan SGD with momentum (8 threads)\n"
          ]
        },
        {
          "output_type": "stream",
          "name": "stderr",
          "text": [
            "100%|██████████| 40/40 [00:00<00:00, 109.05it/s]\n"
          ]
        },
        {
          "output_type": "stream",
          "name": "stdout",
          "text": [
            "current loss: [[inf]]\n",
            "running thread  <Thread(Thread-13953, initial)>\n",
            "running thread  <Thread(Thread-13954, initial)>\n",
            "running thread  <Thread(Thread-13955, initial)>\n",
            "running thread  <Thread(Thread-13956, initial)>\n",
            "running thread  <Thread(Thread-13957, initial)>\n",
            "running thread  <Thread(Thread-13958, initial)>\n",
            "running thread  <Thread(Thread-13959, initial)>\n",
            "running thread  <Thread(Thread-13960, initial)>\n",
            "Running minibatch sequential-scan SGD with momentum (8 threads)\n"
          ]
        },
        {
          "output_type": "stream",
          "name": "stderr",
          "text": [
            "100%|██████████| 40/40 [00:00<00:00, 118.40it/s]\n"
          ]
        },
        {
          "output_type": "stream",
          "name": "stdout",
          "text": [
            "current loss: [[1.28657559e+123]]\n",
            "running thread  <Thread(Thread-13961, initial)>\n",
            "running thread  <Thread(Thread-13962, initial)>\n",
            "running thread  <Thread(Thread-13963, initial)>\n",
            "running thread  <Thread(Thread-13964, initial)>\n",
            "running thread  <Thread(Thread-13965, initial)>\n",
            "running thread  <Thread(Thread-13966, initial)>\n",
            "running thread  <Thread(Thread-13967, initial)>\n",
            "running thread  <Thread(Thread-13968, initial)>\n",
            "Running minibatch sequential-scan SGD with momentum (8 threads)\n"
          ]
        },
        {
          "output_type": "stream",
          "name": "stderr",
          "text": [
            "100%|██████████| 40/40 [00:00<00:00, 134.97it/s]\n"
          ]
        },
        {
          "output_type": "stream",
          "name": "stdout",
          "text": [
            "current loss: [[5.98335006e+88]]\n",
            "running thread  <Thread(Thread-13969, initial)>\n",
            "running thread  <Thread(Thread-13970, initial)>\n",
            "running thread  <Thread(Thread-13971, initial)>\n",
            "running thread  <Thread(Thread-13972, initial)>\n",
            "running thread  <Thread(Thread-13973, initial)>\n",
            "running thread  <Thread(Thread-13974, initial)>\n",
            "running thread  <Thread(Thread-13975, initial)>\n",
            "running thread  <Thread(Thread-13976, initial)>\n",
            "Running minibatch sequential-scan SGD with momentum (8 threads)\n"
          ]
        },
        {
          "output_type": "stream",
          "name": "stderr",
          "text": [
            "100%|██████████| 40/40 [00:00<00:00, 143.59it/s]\n"
          ]
        },
        {
          "output_type": "stream",
          "name": "stdout",
          "text": [
            "current loss: [[nan]]\n",
            "running thread  <Thread(Thread-13977, initial)>\n",
            "running thread  <Thread(Thread-13978, initial)>\n",
            "running thread  <Thread(Thread-13979, initial)>\n",
            "running thread  <Thread(Thread-13980, initial)>\n",
            "running thread  <Thread(Thread-13981, initial)>\n",
            "running thread  <Thread(Thread-13982, initial)>\n",
            "running thread  <Thread(Thread-13983, initial)>\n",
            "running thread  <Thread(Thread-13984, initial)>\n",
            "Running minibatch sequential-scan SGD with momentum (8 threads)\n"
          ]
        },
        {
          "output_type": "stream",
          "name": "stderr",
          "text": [
            "100%|██████████| 40/40 [00:00<00:00, 152.17it/s]\n"
          ]
        },
        {
          "output_type": "stream",
          "name": "stdout",
          "text": [
            "current loss: [[2.07348817e+41]]\n",
            "running thread  <Thread(Thread-13985, initial)>\n",
            "running thread  <Thread(Thread-13986, initial)>\n",
            "running thread  <Thread(Thread-13987, initial)>\n",
            "running thread  <Thread(Thread-13988, initial)>\n",
            "running thread  <Thread(Thread-13989, initial)>\n",
            "running thread  <Thread(Thread-13990, initial)>\n",
            "running thread  <Thread(Thread-13991, initial)>\n",
            "running thread  <Thread(Thread-13992, initial)>\n",
            "Running minibatch sequential-scan SGD with momentum (8 threads)\n"
          ]
        },
        {
          "output_type": "stream",
          "name": "stderr",
          "text": [
            "100%|██████████| 40/40 [00:00<00:00, 159.22it/s]\n"
          ]
        },
        {
          "output_type": "stream",
          "name": "stdout",
          "text": [
            "current loss: [[nan]]\n",
            "running thread  <Thread(Thread-13993, initial)>\n",
            "running thread  <Thread(Thread-13994, initial)>\n",
            "running thread  <Thread(Thread-13995, initial)>\n",
            "running thread  <Thread(Thread-13996, initial)>\n",
            "running thread  <Thread(Thread-13997, initial)>\n",
            "running thread  <Thread(Thread-13998, initial)>\n",
            "running thread  <Thread(Thread-13999, initial)>\n",
            "running thread  <Thread(Thread-14000, initial)>\n",
            "Running minibatch sequential-scan SGD with momentum (8 threads)\n"
          ]
        },
        {
          "output_type": "stream",
          "name": "stderr",
          "text": [
            "100%|██████████| 40/40 [00:00<00:00, 138.07it/s]\n"
          ]
        },
        {
          "output_type": "stream",
          "name": "stdout",
          "text": [
            "current loss: [[1.785726e+33]]\n",
            "running thread  <Thread(Thread-14001, initial)>\n",
            "running thread  <Thread(Thread-14002, initial)>\n",
            "running thread  <Thread(Thread-14003, initial)>\n",
            "running thread  <Thread(Thread-14004, initial)>\n",
            "running thread  <Thread(Thread-14005, initial)>\n",
            "running thread  <Thread(Thread-14006, initial)>\n",
            "running thread  <Thread(Thread-14007, initial)>\n",
            "running thread  <Thread(Thread-14008, initial)>\n",
            "Running minibatch sequential-scan SGD with momentum (8 threads)\n"
          ]
        },
        {
          "output_type": "stream",
          "name": "stderr",
          "text": [
            "100%|██████████| 40/40 [00:00<00:00, 133.76it/s]\n"
          ]
        },
        {
          "output_type": "stream",
          "name": "stdout",
          "text": [
            "current loss: [[nan]]\n",
            "running thread  <Thread(Thread-14009, initial)>\n",
            "running thread  <Thread(Thread-14010, initial)>\n",
            "running thread  <Thread(Thread-14011, initial)>\n",
            "running thread  <Thread(Thread-14012, initial)>\n",
            "running thread  <Thread(Thread-14013, initial)>\n",
            "running thread  <Thread(Thread-14014, initial)>\n",
            "running thread  <Thread(Thread-14015, initial)>\n",
            "running thread  <Thread(Thread-14016, initial)>\n",
            "Running minibatch sequential-scan SGD with momentum (8 threads)\n"
          ]
        },
        {
          "output_type": "stream",
          "name": "stderr",
          "text": [
            " 75%|███████▌  | 30/40 [00:00<00:00, 145.56it/s]<ipython-input-275-6971b519ab5c>:51: RuntimeWarning: invalid value encountered in add\n",
            "  numpy.add(multinomial_logreg_grad_i, gammaW, out=multinomial_logreg_grad_i)\n",
            "100%|██████████| 40/40 [00:00<00:00, 144.44it/s]\n"
          ]
        },
        {
          "output_type": "stream",
          "name": "stdout",
          "text": [
            "current loss: [[nan]]\n",
            "running thread  <Thread(Thread-14017, initial)>\n",
            "running thread  <Thread(Thread-14018, initial)>\n",
            "running thread  <Thread(Thread-14019, initial)>\n",
            "running thread  <Thread(Thread-14020, initial)>\n",
            "running thread  <Thread(Thread-14021, initial)>\n",
            "running thread  <Thread(Thread-14022, initial)>\n",
            "running thread  <Thread(Thread-14023, initial)>\n",
            "running thread  <Thread(Thread-14024, initial)>\n",
            "Running minibatch sequential-scan SGD with momentum (8 threads)\n"
          ]
        },
        {
          "output_type": "stream",
          "name": "stderr",
          "text": [
            "100%|██████████| 40/40 [00:00<00:00, 146.67it/s]\n"
          ]
        },
        {
          "output_type": "stream",
          "name": "stdout",
          "text": [
            "current loss: [[nan]]\n",
            "running thread  <Thread(Thread-14025, initial)>\n",
            "running thread  <Thread(Thread-14026, initial)>\n",
            "running thread  <Thread(Thread-14027, initial)>\n",
            "running thread  <Thread(Thread-14028, initial)>\n",
            "running thread  <Thread(Thread-14029, initial)>\n",
            "running thread  <Thread(Thread-14030, initial)>\n",
            "running thread  <Thread(Thread-14031, initial)>\n",
            "running thread  <Thread(Thread-14032, initial)>\n",
            "Running minibatch sequential-scan SGD with momentum (8 threads)\n"
          ]
        },
        {
          "output_type": "stream",
          "name": "stderr",
          "text": [
            "100%|██████████| 40/40 [00:00<00:00, 136.71it/s]\n"
          ]
        },
        {
          "output_type": "stream",
          "name": "stdout",
          "text": [
            "current loss: [[3.78323104e+206]]\n",
            "running thread  <Thread(Thread-14033, initial)>\n",
            "running thread  <Thread(Thread-14034, initial)>\n",
            "running thread  <Thread(Thread-14035, initial)>\n",
            "running thread  <Thread(Thread-14036, initial)>\n",
            "running thread  <Thread(Thread-14037, initial)>\n",
            "running thread  <Thread(Thread-14038, initial)>\n",
            "running thread  <Thread(Thread-14039, initial)>\n",
            "running thread  <Thread(Thread-14040, initial)>\n",
            "Running minibatch sequential-scan SGD with momentum (8 threads)\n"
          ]
        },
        {
          "output_type": "stream",
          "name": "stderr",
          "text": [
            "100%|██████████| 40/40 [00:00<00:00, 155.33it/s]\n"
          ]
        },
        {
          "output_type": "stream",
          "name": "stdout",
          "text": [
            "current loss: [[inf]]\n",
            "running thread  <Thread(Thread-14041, initial)>\n",
            "running thread  <Thread(Thread-14042, initial)>\n",
            "running thread  <Thread(Thread-14043, initial)>\n",
            "running thread  <Thread(Thread-14044, initial)>\n",
            "running thread  <Thread(Thread-14045, initial)>\n",
            "running thread  <Thread(Thread-14046, initial)>\n",
            "running thread  <Thread(Thread-14047, initial)>\n",
            "running thread  <Thread(Thread-14048, initial)>\n",
            "Running minibatch sequential-scan SGD with momentum (8 threads)\n"
          ]
        },
        {
          "output_type": "stream",
          "name": "stderr",
          "text": [
            "100%|██████████| 40/40 [00:00<00:00, 160.24it/s]\n"
          ]
        },
        {
          "output_type": "stream",
          "name": "stdout",
          "text": [
            "current loss: [[inf]]\n",
            "running thread  <Thread(Thread-14049, initial)>\n",
            "running thread  <Thread(Thread-14050, initial)>\n",
            "running thread  <Thread(Thread-14051, initial)>\n",
            "running thread  <Thread(Thread-14052, initial)>\n",
            "running thread  <Thread(Thread-14053, initial)>\n",
            "running thread  <Thread(Thread-14054, initial)>\n",
            "running thread  <Thread(Thread-14055, initial)>\n",
            "running thread  <Thread(Thread-14056, initial)>\n",
            "Running minibatch sequential-scan SGD with momentum (8 threads)\n"
          ]
        },
        {
          "output_type": "stream",
          "name": "stderr",
          "text": [
            "100%|██████████| 40/40 [00:00<00:00, 134.19it/s]\n"
          ]
        },
        {
          "output_type": "stream",
          "name": "stdout",
          "text": [
            "current loss: [[nan]]\n",
            "running thread  <Thread(Thread-14057, initial)>\n",
            "running thread  <Thread(Thread-14058, initial)>\n",
            "running thread  <Thread(Thread-14059, initial)>\n",
            "running thread  <Thread(Thread-14060, initial)>\n",
            "running thread  <Thread(Thread-14061, initial)>\n",
            "running thread  <Thread(Thread-14062, initial)>\n",
            "running thread  <Thread(Thread-14063, initial)>\n",
            "running thread  <Thread(Thread-14064, initial)>\n",
            "Running minibatch sequential-scan SGD with momentum (8 threads)\n"
          ]
        },
        {
          "output_type": "stream",
          "name": "stderr",
          "text": [
            "100%|██████████| 40/40 [00:00<00:00, 135.36it/s]\n"
          ]
        },
        {
          "output_type": "stream",
          "name": "stdout",
          "text": [
            "current loss: [[2.63599985e+298]]\n",
            "running thread  <Thread(Thread-14065, initial)>\n",
            "running thread  <Thread(Thread-14066, initial)>\n",
            "running thread  <Thread(Thread-14067, initial)>\n",
            "running thread  <Thread(Thread-14068, initial)>\n",
            "running thread  <Thread(Thread-14069, initial)>\n",
            "running thread  <Thread(Thread-14070, initial)>\n",
            "running thread  <Thread(Thread-14071, initial)>\n",
            "running thread  <Thread(Thread-14072, initial)>\n",
            "Running minibatch sequential-scan SGD with momentum (8 threads)\n"
          ]
        },
        {
          "output_type": "stream",
          "name": "stderr",
          "text": [
            "100%|██████████| 40/40 [00:00<00:00, 104.87it/s]\n"
          ]
        },
        {
          "output_type": "stream",
          "name": "stdout",
          "text": [
            "current loss: [[1.41681204e+206]]\n",
            "running thread  <Thread(Thread-14073, initial)>\n",
            "running thread  <Thread(Thread-14074, initial)>\n",
            "running thread  <Thread(Thread-14075, initial)>\n",
            "running thread  <Thread(Thread-14076, initial)>\n",
            "running thread  <Thread(Thread-14077, initial)>\n",
            "running thread  <Thread(Thread-14078, initial)>\n",
            "running thread  <Thread(Thread-14079, initial)>\n",
            "running thread  <Thread(Thread-14080, initial)>\n",
            "Running minibatch sequential-scan SGD with momentum (8 threads)\n"
          ]
        },
        {
          "output_type": "stream",
          "name": "stderr",
          "text": [
            "100%|██████████| 40/40 [00:00<00:00, 117.17it/s]\n"
          ]
        },
        {
          "output_type": "stream",
          "name": "stdout",
          "text": [
            "current loss: [[inf]]\n",
            "running thread  <Thread(Thread-14081, initial)>\n",
            "running thread  <Thread(Thread-14082, initial)>\n",
            "running thread  <Thread(Thread-14083, initial)>\n",
            "running thread  <Thread(Thread-14084, initial)>\n",
            "running thread  <Thread(Thread-14085, initial)>\n",
            "running thread  <Thread(Thread-14086, initial)>\n",
            "running thread  <Thread(Thread-14087, initial)>\n",
            "running thread  <Thread(Thread-14088, initial)>\n",
            "Running minibatch sequential-scan SGD with momentum (8 threads)\n"
          ]
        },
        {
          "output_type": "stream",
          "name": "stderr",
          "text": [
            "100%|██████████| 40/40 [00:00<00:00, 109.78it/s]\n"
          ]
        },
        {
          "output_type": "stream",
          "name": "stdout",
          "text": [
            "current loss: [[inf]]\n",
            "running thread  <Thread(Thread-14089, initial)>\n",
            "running thread  <Thread(Thread-14090, initial)>\n",
            "running thread  <Thread(Thread-14091, initial)>\n",
            "running thread  <Thread(Thread-14092, initial)>\n",
            "running thread  <Thread(Thread-14093, initial)>\n",
            "running thread  <Thread(Thread-14094, initial)>\n",
            "running thread  <Thread(Thread-14095, initial)>\n",
            "running thread  <Thread(Thread-14096, initial)>\n",
            "Running minibatch sequential-scan SGD with momentum (8 threads)\n"
          ]
        },
        {
          "output_type": "stream",
          "name": "stderr",
          "text": [
            "100%|██████████| 40/40 [00:00<00:00, 115.24it/s]\n"
          ]
        },
        {
          "output_type": "stream",
          "name": "stdout",
          "text": [
            "current loss: [[2.0695895e+133]]\n",
            "running thread  <Thread(Thread-14097, initial)>\n",
            "running thread  <Thread(Thread-14098, initial)>\n",
            "running thread  <Thread(Thread-14099, initial)>\n",
            "running thread  <Thread(Thread-14100, initial)>\n",
            "running thread  <Thread(Thread-14101, initial)>\n",
            "running thread  <Thread(Thread-14102, initial)>\n",
            "running thread  <Thread(Thread-14103, initial)>\n",
            "running thread  <Thread(Thread-14104, initial)>\n",
            "Running minibatch sequential-scan SGD with momentum (8 threads)\n"
          ]
        },
        {
          "output_type": "stream",
          "name": "stderr",
          "text": [
            "100%|██████████| 40/40 [00:00<00:00, 103.27it/s]\n"
          ]
        },
        {
          "output_type": "stream",
          "name": "stdout",
          "text": [
            "current loss: [[inf]]\n",
            "running thread  <Thread(Thread-14105, initial)>\n",
            "running thread  <Thread(Thread-14106, initial)>\n",
            "running thread  <Thread(Thread-14107, initial)>\n",
            "running thread  <Thread(Thread-14108, initial)>\n",
            "running thread  <Thread(Thread-14109, initial)>\n",
            "running thread  <Thread(Thread-14110, initial)>\n",
            "running thread  <Thread(Thread-14111, initial)>\n",
            "running thread  <Thread(Thread-14112, initial)>\n",
            "Running minibatch sequential-scan SGD with momentum (8 threads)\n"
          ]
        },
        {
          "output_type": "stream",
          "name": "stderr",
          "text": [
            "100%|██████████| 40/40 [00:00<00:00, 104.88it/s]\n"
          ]
        },
        {
          "output_type": "stream",
          "name": "stdout",
          "text": [
            "current loss: [[1.16322867e+59]]\n",
            "running thread  <Thread(Thread-14113, initial)>\n",
            "running thread  <Thread(Thread-14114, initial)>\n",
            "running thread  <Thread(Thread-14115, initial)>\n",
            "running thread  <Thread(Thread-14116, initial)>\n",
            "running thread  <Thread(Thread-14117, initial)>\n",
            "running thread  <Thread(Thread-14118, initial)>\n",
            "running thread  <Thread(Thread-14119, initial)>\n",
            "running thread  <Thread(Thread-14120, initial)>\n",
            "Running minibatch sequential-scan SGD with momentum (8 threads)\n"
          ]
        },
        {
          "output_type": "stream",
          "name": "stderr",
          "text": [
            "100%|██████████| 40/40 [00:00<00:00, 108.55it/s]\n"
          ]
        },
        {
          "output_type": "stream",
          "name": "stdout",
          "text": [
            "current loss: [[4.24961139e+110]]\n",
            "running thread  <Thread(Thread-14121, initial)>\n",
            "running thread  <Thread(Thread-14122, initial)>\n",
            "running thread  <Thread(Thread-14123, initial)>\n",
            "running thread  <Thread(Thread-14124, initial)>\n",
            "running thread  <Thread(Thread-14125, initial)>\n",
            "running thread  <Thread(Thread-14126, initial)>\n",
            "running thread  <Thread(Thread-14127, initial)>\n",
            "running thread  <Thread(Thread-14128, initial)>\n",
            "Running minibatch sequential-scan SGD with momentum (8 threads)\n"
          ]
        },
        {
          "output_type": "stream",
          "name": "stderr",
          "text": [
            "100%|██████████| 40/40 [00:00<00:00, 99.66it/s]\n"
          ]
        },
        {
          "output_type": "stream",
          "name": "stdout",
          "text": [
            "current loss: [[inf]]\n",
            "running thread  <Thread(Thread-14129, initial)>\n",
            "running thread  <Thread(Thread-14130, initial)>\n",
            "running thread  <Thread(Thread-14131, initial)>\n",
            "running thread  <Thread(Thread-14132, initial)>\n",
            "running thread  <Thread(Thread-14133, initial)>\n",
            "running thread  <Thread(Thread-14134, initial)>\n",
            "running thread  <Thread(Thread-14135, initial)>\n",
            "running thread  <Thread(Thread-14136, initial)>\n",
            "Running minibatch sequential-scan SGD with momentum (8 threads)\n"
          ]
        },
        {
          "output_type": "stream",
          "name": "stderr",
          "text": [
            "100%|██████████| 40/40 [00:00<00:00, 101.78it/s]\n"
          ]
        },
        {
          "output_type": "stream",
          "name": "stdout",
          "text": [
            "current loss: [[inf]]\n",
            "running thread  <Thread(Thread-14137, initial)>\n",
            "running thread  <Thread(Thread-14138, initial)>\n",
            "running thread  <Thread(Thread-14139, initial)>\n",
            "running thread  <Thread(Thread-14140, initial)>\n",
            "running thread  <Thread(Thread-14141, initial)>\n",
            "running thread  <Thread(Thread-14142, initial)>\n",
            "running thread  <Thread(Thread-14143, initial)>\n",
            "running thread  <Thread(Thread-14144, initial)>\n",
            "Running minibatch sequential-scan SGD with momentum (8 threads)\n"
          ]
        },
        {
          "output_type": "stream",
          "name": "stderr",
          "text": [
            "100%|██████████| 40/40 [00:00<00:00, 108.27it/s]\n"
          ]
        },
        {
          "output_type": "stream",
          "name": "stdout",
          "text": [
            "current loss: [[nan]]\n",
            "running thread  <Thread(Thread-14145, initial)>\n",
            "running thread  <Thread(Thread-14146, initial)>\n",
            "running thread  <Thread(Thread-14147, initial)>\n",
            "running thread  <Thread(Thread-14148, initial)>\n",
            "running thread  <Thread(Thread-14149, initial)>\n",
            "running thread  <Thread(Thread-14150, initial)>\n",
            "running thread  <Thread(Thread-14151, initial)>\n",
            "running thread  <Thread(Thread-14152, initial)>\n",
            "Running minibatch sequential-scan SGD with momentum (8 threads)\n"
          ]
        },
        {
          "output_type": "stream",
          "name": "stderr",
          "text": [
            "100%|██████████| 40/40 [00:00<00:00, 111.61it/s]\n"
          ]
        },
        {
          "output_type": "stream",
          "name": "stdout",
          "text": [
            "current loss: [[35.4606125]]\n",
            "running thread  <Thread(Thread-14153, initial)>\n",
            "running thread  <Thread(Thread-14154, initial)>\n",
            "running thread  <Thread(Thread-14155, initial)>\n",
            "running thread  <Thread(Thread-14156, initial)>\n",
            "running thread  <Thread(Thread-14157, initial)>\n",
            "running thread  <Thread(Thread-14158, initial)>\n",
            "running thread  <Thread(Thread-14159, initial)>\n",
            "running thread  <Thread(Thread-14160, initial)>\n",
            "Running minibatch sequential-scan SGD with momentum (8 threads)\n"
          ]
        },
        {
          "output_type": "stream",
          "name": "stderr",
          "text": [
            "100%|██████████| 40/40 [00:00<00:00, 112.66it/s]\n"
          ]
        },
        {
          "output_type": "stream",
          "name": "stdout",
          "text": [
            "current loss: [[1.30074695e+98]]\n",
            "running thread  <Thread(Thread-14161, initial)>\n",
            "running thread  <Thread(Thread-14162, initial)>\n",
            "running thread  <Thread(Thread-14163, initial)>\n",
            "running thread  <Thread(Thread-14164, initial)>\n",
            "running thread  <Thread(Thread-14165, initial)>\n",
            "running thread  <Thread(Thread-14166, initial)>\n",
            "running thread  <Thread(Thread-14167, initial)>\n",
            "running thread  <Thread(Thread-14168, initial)>\n",
            "Running minibatch sequential-scan SGD with momentum (8 threads)\n"
          ]
        },
        {
          "output_type": "stream",
          "name": "stderr",
          "text": [
            "100%|██████████| 40/40 [00:00<00:00, 114.52it/s]\n"
          ]
        },
        {
          "output_type": "stream",
          "name": "stdout",
          "text": [
            "current loss: [[nan]]\n",
            "running thread  <Thread(Thread-14169, initial)>\n",
            "running thread  <Thread(Thread-14170, initial)>\n",
            "running thread  <Thread(Thread-14171, initial)>\n",
            "running thread  <Thread(Thread-14172, initial)>\n",
            "running thread  <Thread(Thread-14173, initial)>\n",
            "running thread  <Thread(Thread-14174, initial)>\n",
            "running thread  <Thread(Thread-14175, initial)>\n",
            "running thread  <Thread(Thread-14176, initial)>\n",
            "Running minibatch sequential-scan SGD with momentum (8 threads)\n"
          ]
        },
        {
          "output_type": "stream",
          "name": "stderr",
          "text": [
            "100%|██████████| 40/40 [00:00<00:00, 97.35it/s]\n"
          ]
        },
        {
          "output_type": "stream",
          "name": "stdout",
          "text": [
            "current loss: [[nan]]\n",
            "running thread  <Thread(Thread-14177, initial)>\n",
            "running thread  <Thread(Thread-14178, initial)>\n",
            "running thread  <Thread(Thread-14179, initial)>\n",
            "running thread  <Thread(Thread-14180, initial)>\n",
            "running thread  <Thread(Thread-14181, initial)>\n",
            "running thread  <Thread(Thread-14182, initial)>\n",
            "running thread  <Thread(Thread-14183, initial)>\n",
            "running thread  <Thread(Thread-14184, initial)>\n",
            "Running minibatch sequential-scan SGD with momentum (8 threads)\n"
          ]
        },
        {
          "output_type": "stream",
          "name": "stderr",
          "text": [
            "100%|██████████| 40/40 [00:00<00:00, 100.31it/s]\n"
          ]
        },
        {
          "output_type": "stream",
          "name": "stdout",
          "text": [
            "current loss: [[nan]]\n",
            "running thread  <Thread(Thread-14185, initial)>\n",
            "running thread  <Thread(Thread-14186, initial)>\n",
            "running thread  <Thread(Thread-14187, initial)>\n",
            "running thread  <Thread(Thread-14188, initial)>\n",
            "running thread  <Thread(Thread-14189, initial)>\n",
            "running thread  <Thread(Thread-14190, initial)>\n",
            "running thread  <Thread(Thread-14191, initial)>\n",
            "running thread  <Thread(Thread-14192, initial)>\n",
            "Running minibatch sequential-scan SGD with momentum (8 threads)\n"
          ]
        },
        {
          "output_type": "stream",
          "name": "stderr",
          "text": [
            "100%|██████████| 40/40 [00:00<00:00, 104.77it/s]\n"
          ]
        },
        {
          "output_type": "stream",
          "name": "stdout",
          "text": [
            "current loss: [[47.57121436]]\n",
            "running thread  <Thread(Thread-14193, initial)>\n",
            "running thread  <Thread(Thread-14194, initial)>\n",
            "running thread  <Thread(Thread-14195, initial)>\n",
            "running thread  <Thread(Thread-14196, initial)>\n",
            "running thread  <Thread(Thread-14197, initial)>\n",
            "running thread  <Thread(Thread-14198, initial)>\n",
            "running thread  <Thread(Thread-14199, initial)>\n",
            "running thread  <Thread(Thread-14200, initial)>\n",
            "Running minibatch sequential-scan SGD with momentum (8 threads)\n"
          ]
        },
        {
          "output_type": "stream",
          "name": "stderr",
          "text": [
            "100%|██████████| 40/40 [00:00<00:00, 101.08it/s]\n"
          ]
        },
        {
          "output_type": "stream",
          "name": "stdout",
          "text": [
            "current loss: [[inf]]\n",
            "running thread  <Thread(Thread-14201, initial)>\n",
            "running thread  <Thread(Thread-14202, initial)>\n",
            "running thread  <Thread(Thread-14203, initial)>\n",
            "running thread  <Thread(Thread-14204, initial)>\n",
            "running thread  <Thread(Thread-14205, initial)>\n",
            "running thread  <Thread(Thread-14206, initial)>\n",
            "running thread  <Thread(Thread-14207, initial)>\n",
            "running thread  <Thread(Thread-14208, initial)>\n",
            "Running minibatch sequential-scan SGD with momentum (8 threads)\n"
          ]
        },
        {
          "output_type": "stream",
          "name": "stderr",
          "text": [
            "100%|██████████| 40/40 [00:00<00:00, 110.03it/s]\n"
          ]
        },
        {
          "output_type": "stream",
          "name": "stdout",
          "text": [
            "current loss: [[inf]]\n",
            "running thread  <Thread(Thread-14209, initial)>\n",
            "running thread  <Thread(Thread-14210, initial)>\n",
            "running thread  <Thread(Thread-14211, initial)>\n",
            "running thread  <Thread(Thread-14212, initial)>\n",
            "running thread  <Thread(Thread-14213, initial)>\n",
            "running thread  <Thread(Thread-14214, initial)>\n",
            "running thread  <Thread(Thread-14215, initial)>\n",
            "running thread  <Thread(Thread-14216, initial)>\n",
            "Running minibatch sequential-scan SGD with momentum (8 threads)\n"
          ]
        },
        {
          "output_type": "stream",
          "name": "stderr",
          "text": [
            "100%|██████████| 40/40 [00:00<00:00, 100.92it/s]\n"
          ]
        },
        {
          "output_type": "stream",
          "name": "stdout",
          "text": [
            "current loss: [[nan]]\n",
            "running thread  <Thread(Thread-14217, initial)>\n",
            "running thread  <Thread(Thread-14218, initial)>\n",
            "running thread  <Thread(Thread-14219, initial)>\n",
            "running thread  <Thread(Thread-14220, initial)>\n",
            "running thread  <Thread(Thread-14221, initial)>\n",
            "running thread  <Thread(Thread-14222, initial)>\n",
            "running thread  <Thread(Thread-14223, initial)>\n",
            "running thread  <Thread(Thread-14224, initial)>\n",
            "Running minibatch sequential-scan SGD with momentum (8 threads)\n"
          ]
        },
        {
          "output_type": "stream",
          "name": "stderr",
          "text": [
            "100%|██████████| 40/40 [00:00<00:00, 103.28it/s]\n"
          ]
        },
        {
          "output_type": "stream",
          "name": "stdout",
          "text": [
            "current loss: [[nan]]\n",
            "running thread  <Thread(Thread-14225, initial)>\n",
            "running thread  <Thread(Thread-14226, initial)>\n",
            "running thread  <Thread(Thread-14227, initial)>\n",
            "running thread  <Thread(Thread-14228, initial)>\n",
            "running thread  <Thread(Thread-14229, initial)>\n",
            "running thread  <Thread(Thread-14230, initial)>\n",
            "running thread  <Thread(Thread-14231, initial)>\n",
            "running thread  <Thread(Thread-14232, initial)>\n",
            "Running minibatch sequential-scan SGD with momentum (8 threads)\n"
          ]
        },
        {
          "output_type": "stream",
          "name": "stderr",
          "text": [
            "100%|██████████| 40/40 [00:00<00:00, 108.90it/s]\n"
          ]
        },
        {
          "output_type": "stream",
          "name": "stdout",
          "text": [
            "current loss: [[2.80201766e+230]]\n",
            "running thread  <Thread(Thread-14233, initial)>\n",
            "running thread  <Thread(Thread-14234, initial)>\n",
            "running thread  <Thread(Thread-14235, initial)>\n",
            "running thread  <Thread(Thread-14236, initial)>\n",
            "running thread  <Thread(Thread-14237, initial)>\n",
            "running thread  <Thread(Thread-14238, initial)>\n",
            "running thread  <Thread(Thread-14239, initial)>\n",
            "running thread  <Thread(Thread-14240, initial)>\n",
            "Running minibatch sequential-scan SGD with momentum (8 threads)\n"
          ]
        },
        {
          "output_type": "stream",
          "name": "stderr",
          "text": [
            "100%|██████████| 40/40 [00:00<00:00, 104.76it/s]\n"
          ]
        },
        {
          "output_type": "stream",
          "name": "stdout",
          "text": [
            "current loss: [[inf]]\n",
            "running thread  <Thread(Thread-14241, initial)>\n",
            "running thread  <Thread(Thread-14242, initial)>\n",
            "running thread  <Thread(Thread-14243, initial)>\n",
            "running thread  <Thread(Thread-14244, initial)>\n",
            "running thread  <Thread(Thread-14245, initial)>\n",
            "running thread  <Thread(Thread-14246, initial)>\n",
            "running thread  <Thread(Thread-14247, initial)>\n",
            "running thread  <Thread(Thread-14248, initial)>\n",
            "Running minibatch sequential-scan SGD with momentum (8 threads)\n"
          ]
        },
        {
          "output_type": "stream",
          "name": "stderr",
          "text": [
            "100%|██████████| 40/40 [00:00<00:00, 98.69it/s]\n"
          ]
        },
        {
          "output_type": "stream",
          "name": "stdout",
          "text": [
            "current loss: [[2.6339386e+254]]\n",
            "running thread  <Thread(Thread-14249, initial)>\n",
            "running thread  <Thread(Thread-14250, initial)>\n",
            "running thread  <Thread(Thread-14251, initial)>\n",
            "running thread  <Thread(Thread-14252, initial)>\n",
            "running thread  <Thread(Thread-14253, initial)>\n",
            "running thread  <Thread(Thread-14254, initial)>\n",
            "running thread  <Thread(Thread-14255, initial)>\n",
            "running thread  <Thread(Thread-14256, initial)>\n",
            "Running minibatch sequential-scan SGD with momentum (8 threads)\n"
          ]
        },
        {
          "output_type": "stream",
          "name": "stderr",
          "text": [
            "100%|██████████| 40/40 [00:00<00:00, 100.69it/s]\n"
          ]
        },
        {
          "output_type": "stream",
          "name": "stdout",
          "text": [
            "current loss: [[inf]]\n",
            "running thread  <Thread(Thread-14257, initial)>\n",
            "running thread  <Thread(Thread-14258, initial)>\n",
            "running thread  <Thread(Thread-14259, initial)>\n",
            "running thread  <Thread(Thread-14260, initial)>\n",
            "running thread  <Thread(Thread-14261, initial)>\n",
            "running thread  <Thread(Thread-14262, initial)>\n",
            "running thread  <Thread(Thread-14263, initial)>\n",
            "running thread  <Thread(Thread-14264, initial)>\n",
            "Running minibatch sequential-scan SGD with momentum (8 threads)\n"
          ]
        },
        {
          "output_type": "stream",
          "name": "stderr",
          "text": [
            "100%|██████████| 40/40 [00:00<00:00, 107.92it/s]\n"
          ]
        },
        {
          "output_type": "stream",
          "name": "stdout",
          "text": [
            "current loss: [[1.41717607e+238]]\n",
            "running thread  <Thread(Thread-14265, initial)>\n",
            "running thread  <Thread(Thread-14266, initial)>\n",
            "running thread  <Thread(Thread-14267, initial)>\n",
            "running thread  <Thread(Thread-14268, initial)>\n",
            "running thread  <Thread(Thread-14269, initial)>\n",
            "running thread  <Thread(Thread-14270, initial)>\n",
            "running thread  <Thread(Thread-14271, initial)>\n",
            "running thread  <Thread(Thread-14272, initial)>\n",
            "Running minibatch sequential-scan SGD with momentum (8 threads)\n"
          ]
        },
        {
          "output_type": "stream",
          "name": "stderr",
          "text": [
            "100%|██████████| 40/40 [00:00<00:00, 102.27it/s]\n"
          ]
        },
        {
          "output_type": "stream",
          "name": "stdout",
          "text": [
            "current loss: [[1.62733872e+117]]\n",
            "running thread  <Thread(Thread-14273, initial)>\n",
            "running thread  <Thread(Thread-14274, initial)>\n",
            "running thread  <Thread(Thread-14275, initial)>\n",
            "running thread  <Thread(Thread-14276, initial)>\n",
            "running thread  <Thread(Thread-14277, initial)>\n",
            "running thread  <Thread(Thread-14278, initial)>\n",
            "running thread  <Thread(Thread-14279, initial)>\n",
            "running thread  <Thread(Thread-14280, initial)>\n",
            "Running minibatch sequential-scan SGD with momentum (8 threads)\n"
          ]
        },
        {
          "output_type": "stream",
          "name": "stderr",
          "text": [
            "100%|██████████| 40/40 [00:00<00:00, 108.04it/s]\n"
          ]
        },
        {
          "output_type": "stream",
          "name": "stdout",
          "text": [
            "current loss: [[nan]]\n",
            "running thread  <Thread(Thread-14281, initial)>\n",
            "running thread  <Thread(Thread-14282, initial)>\n",
            "running thread  <Thread(Thread-14283, initial)>\n",
            "running thread  <Thread(Thread-14284, initial)>\n",
            "running thread  <Thread(Thread-14285, initial)>\n",
            "running thread  <Thread(Thread-14286, initial)>\n",
            "running thread  <Thread(Thread-14287, initial)>\n",
            "running thread  <Thread(Thread-14288, initial)>\n",
            "Running minibatch sequential-scan SGD with momentum (8 threads)\n"
          ]
        },
        {
          "output_type": "stream",
          "name": "stderr",
          "text": [
            "100%|██████████| 40/40 [00:00<00:00, 108.05it/s]\n"
          ]
        },
        {
          "output_type": "stream",
          "name": "stdout",
          "text": [
            "current loss: [[nan]]\n",
            "running thread  <Thread(Thread-14289, initial)>\n",
            "running thread  <Thread(Thread-14290, initial)>\n",
            "running thread  <Thread(Thread-14291, initial)>\n",
            "running thread  <Thread(Thread-14292, initial)>\n",
            "running thread  <Thread(Thread-14293, initial)>\n",
            "running thread  <Thread(Thread-14294, initial)>\n",
            "running thread  <Thread(Thread-14295, initial)>\n",
            "running thread  <Thread(Thread-14296, initial)>\n",
            "Running minibatch sequential-scan SGD with momentum (8 threads)\n"
          ]
        },
        {
          "output_type": "stream",
          "name": "stderr",
          "text": [
            "100%|██████████| 40/40 [00:00<00:00, 121.43it/s]\n"
          ]
        },
        {
          "output_type": "stream",
          "name": "stdout",
          "text": [
            "current loss: [[inf]]\n",
            "running thread  <Thread(Thread-14297, initial)>\n",
            "running thread  <Thread(Thread-14298, initial)>\n",
            "running thread  <Thread(Thread-14299, initial)>\n",
            "running thread  <Thread(Thread-14300, initial)>\n",
            "running thread  <Thread(Thread-14301, initial)>\n",
            "running thread  <Thread(Thread-14302, initial)>\n",
            "running thread  <Thread(Thread-14303, initial)>\n",
            "running thread  <Thread(Thread-14304, initial)>\n",
            "Running minibatch sequential-scan SGD with momentum (8 threads)\n"
          ]
        },
        {
          "output_type": "stream",
          "name": "stderr",
          "text": [
            "100%|██████████| 40/40 [00:00<00:00, 111.22it/s]\n"
          ]
        },
        {
          "output_type": "stream",
          "name": "stdout",
          "text": [
            "current loss: [[nan]]\n",
            "running thread  <Thread(Thread-14305, initial)>\n",
            "running thread  <Thread(Thread-14306, initial)>\n",
            "running thread  <Thread(Thread-14307, initial)>\n",
            "running thread  <Thread(Thread-14308, initial)>\n",
            "running thread  <Thread(Thread-14309, initial)>\n",
            "running thread  <Thread(Thread-14310, initial)>\n",
            "running thread  <Thread(Thread-14311, initial)>\n",
            "running thread  <Thread(Thread-14312, initial)>\n",
            "Running minibatch sequential-scan SGD with momentum (8 threads)\n"
          ]
        },
        {
          "output_type": "stream",
          "name": "stderr",
          "text": [
            "100%|██████████| 40/40 [00:00<00:00, 97.33it/s]\n"
          ]
        },
        {
          "output_type": "stream",
          "name": "stdout",
          "text": [
            "current loss: [[nan]]\n",
            "running thread  <Thread(Thread-14313, initial)>\n",
            "running thread  <Thread(Thread-14314, initial)>\n",
            "running thread  <Thread(Thread-14315, initial)>\n",
            "running thread  <Thread(Thread-14316, initial)>\n",
            "running thread  <Thread(Thread-14317, initial)>\n",
            "running thread  <Thread(Thread-14318, initial)>\n",
            "running thread  <Thread(Thread-14319, initial)>\n",
            "running thread  <Thread(Thread-14320, initial)>\n",
            "Running minibatch sequential-scan SGD with momentum (8 threads)\n"
          ]
        },
        {
          "output_type": "stream",
          "name": "stderr",
          "text": [
            "100%|██████████| 40/40 [00:00<00:00, 96.46it/s]\n"
          ]
        },
        {
          "output_type": "stream",
          "name": "stdout",
          "text": [
            "current loss: [[3.93389363e+65]]\n",
            "running thread  <Thread(Thread-14321, initial)>\n",
            "running thread  <Thread(Thread-14322, initial)>\n",
            "running thread  <Thread(Thread-14323, initial)>\n",
            "running thread  <Thread(Thread-14324, initial)>\n",
            "running thread  <Thread(Thread-14325, initial)>\n",
            "running thread  <Thread(Thread-14326, initial)>\n",
            "running thread  <Thread(Thread-14327, initial)>\n",
            "running thread  <Thread(Thread-14328, initial)>\n",
            "Running minibatch sequential-scan SGD with momentum (8 threads)\n"
          ]
        },
        {
          "output_type": "stream",
          "name": "stderr",
          "text": [
            "100%|██████████| 40/40 [00:00<00:00, 102.53it/s]\n"
          ]
        },
        {
          "output_type": "stream",
          "name": "stdout",
          "text": [
            "current loss: [[2.65900815e+129]]\n",
            "running thread  <Thread(Thread-14329, initial)>\n",
            "running thread  <Thread(Thread-14330, initial)>\n",
            "running thread  <Thread(Thread-14331, initial)>\n",
            "running thread  <Thread(Thread-14332, initial)>\n",
            "running thread  <Thread(Thread-14333, initial)>\n",
            "running thread  <Thread(Thread-14334, initial)>\n",
            "running thread  <Thread(Thread-14335, initial)>\n",
            "running thread  <Thread(Thread-14336, initial)>\n",
            "Running minibatch sequential-scan SGD with momentum (8 threads)\n"
          ]
        },
        {
          "output_type": "stream",
          "name": "stderr",
          "text": [
            "100%|██████████| 40/40 [00:00<00:00, 105.57it/s]\n"
          ]
        },
        {
          "output_type": "stream",
          "name": "stdout",
          "text": [
            "current loss: [[7.49858927e+142]]\n",
            "running thread  <Thread(Thread-14337, initial)>\n",
            "running thread  <Thread(Thread-14338, initial)>\n",
            "running thread  <Thread(Thread-14339, initial)>\n",
            "running thread  <Thread(Thread-14340, initial)>\n",
            "running thread  <Thread(Thread-14341, initial)>\n",
            "running thread  <Thread(Thread-14342, initial)>\n",
            "running thread  <Thread(Thread-14343, initial)>\n",
            "running thread  <Thread(Thread-14344, initial)>\n",
            "Running minibatch sequential-scan SGD with momentum (8 threads)\n"
          ]
        },
        {
          "output_type": "stream",
          "name": "stderr",
          "text": [
            "100%|██████████| 40/40 [00:00<00:00, 104.62it/s]\n"
          ]
        },
        {
          "output_type": "stream",
          "name": "stdout",
          "text": [
            "current loss: [[6.14895422e+97]]\n",
            "running thread  <Thread(Thread-14345, initial)>\n",
            "running thread  <Thread(Thread-14346, initial)>\n",
            "running thread  <Thread(Thread-14347, initial)>\n",
            "running thread  <Thread(Thread-14348, initial)>\n",
            "running thread  <Thread(Thread-14349, initial)>\n",
            "running thread  <Thread(Thread-14350, initial)>\n",
            "running thread  <Thread(Thread-14351, initial)>\n",
            "running thread  <Thread(Thread-14352, initial)>\n",
            "Running minibatch sequential-scan SGD with momentum (8 threads)\n"
          ]
        },
        {
          "output_type": "stream",
          "name": "stderr",
          "text": [
            "100%|██████████| 40/40 [00:00<00:00, 130.13it/s]\n"
          ]
        },
        {
          "output_type": "stream",
          "name": "stdout",
          "text": [
            "current loss: [[2.1538707e+267]]\n",
            "running thread  <Thread(Thread-14353, initial)>\n",
            "running thread  <Thread(Thread-14354, initial)>\n",
            "running thread  <Thread(Thread-14355, initial)>\n",
            "running thread  <Thread(Thread-14356, initial)>\n",
            "running thread  <Thread(Thread-14357, initial)>\n",
            "running thread  <Thread(Thread-14358, initial)>\n",
            "running thread  <Thread(Thread-14359, initial)>\n",
            "running thread  <Thread(Thread-14360, initial)>\n",
            "Running minibatch sequential-scan SGD with momentum (8 threads)\n"
          ]
        },
        {
          "output_type": "stream",
          "name": "stderr",
          "text": [
            "100%|██████████| 40/40 [00:00<00:00, 109.88it/s]\n"
          ]
        },
        {
          "output_type": "stream",
          "name": "stdout",
          "text": [
            "current loss: [[nan]]\n",
            "running thread  <Thread(Thread-14361, initial)>\n",
            "running thread  <Thread(Thread-14362, initial)>\n",
            "running thread  <Thread(Thread-14363, initial)>\n",
            "running thread  <Thread(Thread-14364, initial)>\n",
            "running thread  <Thread(Thread-14365, initial)>\n",
            "running thread  <Thread(Thread-14366, initial)>\n",
            "running thread  <Thread(Thread-14367, initial)>\n",
            "running thread  <Thread(Thread-14368, initial)>\n",
            "Running minibatch sequential-scan SGD with momentum (8 threads)\n"
          ]
        },
        {
          "output_type": "stream",
          "name": "stderr",
          "text": [
            "100%|██████████| 40/40 [00:00<00:00, 99.72it/s]\n"
          ]
        },
        {
          "output_type": "stream",
          "name": "stdout",
          "text": [
            "current loss: [[nan]]\n",
            "running thread  <Thread(Thread-14369, initial)>\n",
            "running thread  <Thread(Thread-14370, initial)>\n",
            "running thread  <Thread(Thread-14371, initial)>\n",
            "running thread  <Thread(Thread-14372, initial)>\n",
            "running thread  <Thread(Thread-14373, initial)>\n",
            "running thread  <Thread(Thread-14374, initial)>\n",
            "running thread  <Thread(Thread-14375, initial)>\n",
            "running thread  <Thread(Thread-14376, initial)>\n",
            "Running minibatch sequential-scan SGD with momentum (8 threads)\n"
          ]
        },
        {
          "output_type": "stream",
          "name": "stderr",
          "text": [
            "100%|██████████| 40/40 [00:00<00:00, 122.37it/s]\n"
          ]
        },
        {
          "output_type": "stream",
          "name": "stdout",
          "text": [
            "current loss: [[inf]]\n",
            "running thread  <Thread(Thread-14377, initial)>\n",
            "running thread  <Thread(Thread-14378, initial)>\n",
            "running thread  <Thread(Thread-14379, initial)>\n",
            "running thread  <Thread(Thread-14380, initial)>\n",
            "running thread  <Thread(Thread-14381, initial)>\n",
            "running thread  <Thread(Thread-14382, initial)>\n",
            "running thread  <Thread(Thread-14383, initial)>\n",
            "running thread  <Thread(Thread-14384, initial)>\n",
            "Running minibatch sequential-scan SGD with momentum (8 threads)\n"
          ]
        },
        {
          "output_type": "stream",
          "name": "stderr",
          "text": [
            "100%|██████████| 40/40 [00:00<00:00, 97.87it/s]\n"
          ]
        },
        {
          "output_type": "stream",
          "name": "stdout",
          "text": [
            "current loss: [[4.53333771e+143]]\n",
            "running thread  <Thread(Thread-14385, initial)>\n",
            "running thread  <Thread(Thread-14386, initial)>\n",
            "running thread  <Thread(Thread-14387, initial)>\n",
            "running thread  <Thread(Thread-14388, initial)>\n",
            "running thread  <Thread(Thread-14389, initial)>\n",
            "running thread  <Thread(Thread-14390, initial)>\n",
            "running thread  <Thread(Thread-14391, initial)>\n",
            "running thread  <Thread(Thread-14392, initial)>\n",
            "Running minibatch sequential-scan SGD with momentum (8 threads)\n"
          ]
        },
        {
          "output_type": "stream",
          "name": "stderr",
          "text": [
            "100%|██████████| 40/40 [00:00<00:00, 107.28it/s]\n"
          ]
        },
        {
          "output_type": "stream",
          "name": "stdout",
          "text": [
            "current loss: [[2.66018258e+166]]\n",
            "running thread  <Thread(Thread-14393, initial)>\n",
            "running thread  <Thread(Thread-14394, initial)>\n",
            "running thread  <Thread(Thread-14395, initial)>\n",
            "running thread  <Thread(Thread-14396, initial)>\n",
            "running thread  <Thread(Thread-14397, initial)>\n",
            "running thread  <Thread(Thread-14398, initial)>\n",
            "running thread  <Thread(Thread-14399, initial)>\n",
            "running thread  <Thread(Thread-14400, initial)>\n",
            "Running minibatch sequential-scan SGD with momentum (8 threads)\n"
          ]
        },
        {
          "output_type": "stream",
          "name": "stderr",
          "text": [
            "100%|██████████| 40/40 [00:00<00:00, 97.67it/s]\n"
          ]
        },
        {
          "output_type": "stream",
          "name": "stdout",
          "text": [
            "current loss: [[2.67978288e+230]]\n",
            "running thread  <Thread(Thread-14401, initial)>\n",
            "running thread  <Thread(Thread-14402, initial)>\n",
            "running thread  <Thread(Thread-14403, initial)>\n",
            "running thread  <Thread(Thread-14404, initial)>\n",
            "running thread  <Thread(Thread-14405, initial)>\n",
            "running thread  <Thread(Thread-14406, initial)>\n",
            "running thread  <Thread(Thread-14407, initial)>\n",
            "running thread  <Thread(Thread-14408, initial)>\n",
            "Running minibatch sequential-scan SGD with momentum (8 threads)\n"
          ]
        },
        {
          "output_type": "stream",
          "name": "stderr",
          "text": [
            "100%|██████████| 40/40 [00:00<00:00, 109.01it/s]\n"
          ]
        },
        {
          "output_type": "stream",
          "name": "stdout",
          "text": [
            "current loss: [[1.10603057e+196]]\n",
            "running thread  <Thread(Thread-14409, initial)>\n",
            "running thread  <Thread(Thread-14410, initial)>\n",
            "running thread  <Thread(Thread-14411, initial)>\n",
            "running thread  <Thread(Thread-14412, initial)>\n",
            "running thread  <Thread(Thread-14413, initial)>\n",
            "running thread  <Thread(Thread-14414, initial)>\n",
            "running thread  <Thread(Thread-14415, initial)>\n",
            "running thread  <Thread(Thread-14416, initial)>\n",
            "Running minibatch sequential-scan SGD with momentum (8 threads)\n"
          ]
        },
        {
          "output_type": "stream",
          "name": "stderr",
          "text": [
            "100%|██████████| 40/40 [00:00<00:00, 105.67it/s]\n"
          ]
        },
        {
          "output_type": "stream",
          "name": "stdout",
          "text": [
            "current loss: [[2.0852998e+223]]\n",
            "running thread  <Thread(Thread-14417, initial)>\n",
            "running thread  <Thread(Thread-14418, initial)>\n",
            "running thread  <Thread(Thread-14419, initial)>\n",
            "running thread  <Thread(Thread-14420, initial)>\n",
            "running thread  <Thread(Thread-14421, initial)>\n",
            "running thread  <Thread(Thread-14422, initial)>\n",
            "running thread  <Thread(Thread-14423, initial)>\n",
            "running thread  <Thread(Thread-14424, initial)>\n",
            "Running minibatch sequential-scan SGD with momentum (8 threads)\n"
          ]
        },
        {
          "output_type": "stream",
          "name": "stderr",
          "text": [
            "100%|██████████| 40/40 [00:00<00:00, 97.98it/s] \n"
          ]
        },
        {
          "output_type": "stream",
          "name": "stdout",
          "text": [
            "current loss: [[7.31740925e+270]]\n",
            "running thread  <Thread(Thread-14425, initial)>\n",
            "running thread  <Thread(Thread-14426, initial)>\n",
            "running thread  <Thread(Thread-14427, initial)>\n",
            "running thread  <Thread(Thread-14428, initial)>\n",
            "running thread  <Thread(Thread-14429, initial)>\n",
            "running thread  <Thread(Thread-14430, initial)>\n",
            "running thread  <Thread(Thread-14431, initial)>\n",
            "running thread  <Thread(Thread-14432, initial)>\n",
            "Running minibatch sequential-scan SGD with momentum (8 threads)\n"
          ]
        },
        {
          "output_type": "stream",
          "name": "stderr",
          "text": [
            "100%|██████████| 40/40 [00:00<00:00, 99.31it/s]\n"
          ]
        },
        {
          "output_type": "stream",
          "name": "stdout",
          "text": [
            "current loss: [[inf]]\n",
            "running thread  <Thread(Thread-14433, initial)>\n",
            "running thread  <Thread(Thread-14434, initial)>\n",
            "running thread  <Thread(Thread-14435, initial)>\n",
            "running thread  <Thread(Thread-14436, initial)>\n",
            "running thread  <Thread(Thread-14437, initial)>\n",
            "running thread  <Thread(Thread-14438, initial)>\n",
            "running thread  <Thread(Thread-14439, initial)>\n",
            "running thread  <Thread(Thread-14440, initial)>\n",
            "Running minibatch sequential-scan SGD with momentum (8 threads)\n"
          ]
        },
        {
          "output_type": "stream",
          "name": "stderr",
          "text": [
            "100%|██████████| 40/40 [00:00<00:00, 104.72it/s]\n"
          ]
        },
        {
          "output_type": "stream",
          "name": "stdout",
          "text": [
            "current loss: [[nan]]\n",
            "running thread  <Thread(Thread-14441, initial)>\n",
            "running thread  <Thread(Thread-14442, initial)>\n",
            "running thread  <Thread(Thread-14443, initial)>\n",
            "running thread  <Thread(Thread-14444, initial)>\n",
            "running thread  <Thread(Thread-14445, initial)>\n",
            "running thread  <Thread(Thread-14446, initial)>\n",
            "running thread  <Thread(Thread-14447, initial)>\n",
            "running thread  <Thread(Thread-14448, initial)>\n",
            "Running minibatch sequential-scan SGD with momentum (8 threads)\n"
          ]
        },
        {
          "output_type": "stream",
          "name": "stderr",
          "text": [
            "100%|██████████| 40/40 [00:00<00:00, 111.57it/s]\n"
          ]
        },
        {
          "output_type": "stream",
          "name": "stdout",
          "text": [
            "current loss: [[3.37710606e+139]]\n",
            "running thread  <Thread(Thread-14449, initial)>\n",
            "running thread  <Thread(Thread-14450, initial)>\n",
            "running thread  <Thread(Thread-14451, initial)>\n",
            "running thread  <Thread(Thread-14452, initial)>\n",
            "running thread  <Thread(Thread-14453, initial)>\n",
            "running thread  <Thread(Thread-14454, initial)>\n",
            "running thread  <Thread(Thread-14455, initial)>\n",
            "running thread  <Thread(Thread-14456, initial)>\n",
            "Running minibatch sequential-scan SGD with momentum (8 threads)\n"
          ]
        },
        {
          "output_type": "stream",
          "name": "stderr",
          "text": [
            "100%|██████████| 40/40 [00:00<00:00, 99.31it/s] \n"
          ]
        },
        {
          "output_type": "stream",
          "name": "stdout",
          "text": [
            "current loss: [[6.36444452e+63]]\n",
            "running thread  <Thread(Thread-14457, initial)>\n",
            "running thread  <Thread(Thread-14458, initial)>\n",
            "running thread  <Thread(Thread-14459, initial)>\n",
            "running thread  <Thread(Thread-14460, initial)>\n",
            "running thread  <Thread(Thread-14461, initial)>\n",
            "running thread  <Thread(Thread-14462, initial)>\n",
            "running thread  <Thread(Thread-14463, initial)>\n",
            "running thread  <Thread(Thread-14464, initial)>\n",
            "Running minibatch sequential-scan SGD with momentum (8 threads)\n"
          ]
        },
        {
          "output_type": "stream",
          "name": "stderr",
          "text": [
            "100%|██████████| 40/40 [00:00<00:00, 119.94it/s]\n"
          ]
        },
        {
          "output_type": "stream",
          "name": "stdout",
          "text": [
            "current loss: [[8.0628779e+274]]\n",
            "running thread  <Thread(Thread-14465, initial)>\n",
            "running thread  <Thread(Thread-14466, initial)>\n",
            "running thread  <Thread(Thread-14467, initial)>\n",
            "running thread  <Thread(Thread-14468, initial)>\n",
            "running thread  <Thread(Thread-14469, initial)>\n",
            "running thread  <Thread(Thread-14470, initial)>\n",
            "running thread  <Thread(Thread-14471, initial)>\n",
            "running thread  <Thread(Thread-14472, initial)>\n",
            "Running minibatch sequential-scan SGD with momentum (8 threads)\n"
          ]
        },
        {
          "output_type": "stream",
          "name": "stderr",
          "text": [
            "100%|██████████| 40/40 [00:00<00:00, 96.17it/s]\n"
          ]
        },
        {
          "output_type": "stream",
          "name": "stdout",
          "text": [
            "current loss: [[nan]]\n",
            "running thread  <Thread(Thread-14473, initial)>\n",
            "running thread  <Thread(Thread-14474, initial)>\n",
            "running thread  <Thread(Thread-14475, initial)>\n",
            "running thread  <Thread(Thread-14476, initial)>\n",
            "running thread  <Thread(Thread-14477, initial)>\n",
            "running thread  <Thread(Thread-14478, initial)>\n",
            "running thread  <Thread(Thread-14479, initial)>\n",
            "running thread  <Thread(Thread-14480, initial)>\n",
            "Running minibatch sequential-scan SGD with momentum (8 threads)\n"
          ]
        },
        {
          "output_type": "stream",
          "name": "stderr",
          "text": [
            "100%|██████████| 40/40 [00:00<00:00, 103.85it/s]\n"
          ]
        },
        {
          "output_type": "stream",
          "name": "stdout",
          "text": [
            "current loss: [[6.94556331e+77]]\n",
            "running thread  <Thread(Thread-14481, initial)>\n",
            "running thread  <Thread(Thread-14482, initial)>\n",
            "running thread  <Thread(Thread-14483, initial)>\n",
            "running thread  <Thread(Thread-14484, initial)>\n",
            "running thread  <Thread(Thread-14485, initial)>\n",
            "running thread  <Thread(Thread-14486, initial)>\n",
            "running thread  <Thread(Thread-14487, initial)>\n",
            "running thread  <Thread(Thread-14488, initial)>\n",
            "Running minibatch sequential-scan SGD with momentum (8 threads)\n"
          ]
        },
        {
          "output_type": "stream",
          "name": "stderr",
          "text": [
            "100%|██████████| 40/40 [00:00<00:00, 112.13it/s]\n"
          ]
        },
        {
          "output_type": "stream",
          "name": "stdout",
          "text": [
            "current loss: [[nan]]\n",
            "running thread  <Thread(Thread-14489, initial)>\n",
            "running thread  <Thread(Thread-14490, initial)>\n",
            "running thread  <Thread(Thread-14491, initial)>\n",
            "running thread  <Thread(Thread-14492, initial)>\n",
            "running thread  <Thread(Thread-14493, initial)>\n",
            "running thread  <Thread(Thread-14494, initial)>\n",
            "running thread  <Thread(Thread-14495, initial)>\n",
            "running thread  <Thread(Thread-14496, initial)>\n",
            "Running minibatch sequential-scan SGD with momentum (8 threads)\n"
          ]
        },
        {
          "output_type": "stream",
          "name": "stderr",
          "text": [
            "100%|██████████| 40/40 [00:00<00:00, 106.27it/s]\n"
          ]
        },
        {
          "output_type": "stream",
          "name": "stdout",
          "text": [
            "current loss: [[5.07198865e+225]]\n",
            "running thread  <Thread(Thread-14497, initial)>\n",
            "running thread  <Thread(Thread-14498, initial)>\n",
            "running thread  <Thread(Thread-14499, initial)>\n",
            "running thread  <Thread(Thread-14500, initial)>\n",
            "running thread  <Thread(Thread-14501, initial)>\n",
            "running thread  <Thread(Thread-14502, initial)>\n",
            "running thread  <Thread(Thread-14503, initial)>\n",
            "running thread  <Thread(Thread-14504, initial)>\n",
            "Running minibatch sequential-scan SGD with momentum (8 threads)\n"
          ]
        },
        {
          "output_type": "stream",
          "name": "stderr",
          "text": [
            "100%|██████████| 40/40 [00:00<00:00, 110.73it/s]\n"
          ]
        },
        {
          "output_type": "stream",
          "name": "stdout",
          "text": [
            "current loss: [[1.23233256e+100]]\n",
            "running thread  <Thread(Thread-14505, initial)>\n",
            "running thread  <Thread(Thread-14506, initial)>\n",
            "running thread  <Thread(Thread-14507, initial)>\n",
            "running thread  <Thread(Thread-14508, initial)>\n",
            "running thread  <Thread(Thread-14509, initial)>\n",
            "running thread  <Thread(Thread-14510, initial)>\n",
            "running thread  <Thread(Thread-14511, initial)>\n",
            "running thread  <Thread(Thread-14512, initial)>\n",
            "Running minibatch sequential-scan SGD with momentum (8 threads)\n"
          ]
        },
        {
          "output_type": "stream",
          "name": "stderr",
          "text": [
            "100%|██████████| 40/40 [00:00<00:00, 106.56it/s]\n"
          ]
        },
        {
          "output_type": "stream",
          "name": "stdout",
          "text": [
            "current loss: [[47.82476361]]\n",
            "running thread  <Thread(Thread-14513, initial)>\n",
            "running thread  <Thread(Thread-14514, initial)>\n",
            "running thread  <Thread(Thread-14515, initial)>\n",
            "running thread  <Thread(Thread-14516, initial)>\n",
            "running thread  <Thread(Thread-14517, initial)>\n",
            "running thread  <Thread(Thread-14518, initial)>\n",
            "running thread  <Thread(Thread-14519, initial)>\n",
            "running thread  <Thread(Thread-14520, initial)>\n",
            "Running minibatch sequential-scan SGD with momentum (8 threads)\n"
          ]
        },
        {
          "output_type": "stream",
          "name": "stderr",
          "text": [
            "100%|██████████| 40/40 [00:00<00:00, 118.37it/s]\n"
          ]
        },
        {
          "output_type": "stream",
          "name": "stdout",
          "text": [
            "current loss: [[inf]]\n",
            "running thread  <Thread(Thread-14521, initial)>\n",
            "running thread  <Thread(Thread-14522, initial)>\n",
            "running thread  <Thread(Thread-14523, initial)>\n",
            "running thread  <Thread(Thread-14524, initial)>\n",
            "running thread  <Thread(Thread-14525, initial)>\n",
            "running thread  <Thread(Thread-14526, initial)>\n",
            "running thread  <Thread(Thread-14527, initial)>\n",
            "running thread  <Thread(Thread-14528, initial)>\n",
            "Running minibatch sequential-scan SGD with momentum (8 threads)\n"
          ]
        },
        {
          "output_type": "stream",
          "name": "stderr",
          "text": [
            "100%|██████████| 40/40 [00:00<00:00, 103.24it/s]\n"
          ]
        },
        {
          "output_type": "stream",
          "name": "stdout",
          "text": [
            "current loss: [[1.17611925e+159]]\n",
            "running thread  <Thread(Thread-14529, initial)>\n",
            "running thread  <Thread(Thread-14530, initial)>\n",
            "running thread  <Thread(Thread-14531, initial)>\n",
            "running thread  <Thread(Thread-14532, initial)>\n",
            "running thread  <Thread(Thread-14533, initial)>\n",
            "running thread  <Thread(Thread-14534, initial)>\n",
            "running thread  <Thread(Thread-14535, initial)>\n",
            "running thread  <Thread(Thread-14536, initial)>\n",
            "Running minibatch sequential-scan SGD with momentum (8 threads)\n"
          ]
        },
        {
          "output_type": "stream",
          "name": "stderr",
          "text": [
            "100%|██████████| 40/40 [00:00<00:00, 97.80it/s]\n"
          ]
        },
        {
          "output_type": "stream",
          "name": "stdout",
          "text": [
            "current loss: [[1.86526471e+137]]\n",
            "running thread  <Thread(Thread-14537, initial)>\n",
            "running thread  <Thread(Thread-14538, initial)>\n",
            "running thread  <Thread(Thread-14539, initial)>\n",
            "running thread  <Thread(Thread-14540, initial)>\n",
            "running thread  <Thread(Thread-14541, initial)>\n",
            "running thread  <Thread(Thread-14542, initial)>\n",
            "running thread  <Thread(Thread-14543, initial)>\n",
            "running thread  <Thread(Thread-14544, initial)>\n",
            "Running minibatch sequential-scan SGD with momentum (8 threads)\n"
          ]
        },
        {
          "output_type": "stream",
          "name": "stderr",
          "text": [
            "100%|██████████| 40/40 [00:00<00:00, 110.61it/s]\n"
          ]
        },
        {
          "output_type": "stream",
          "name": "stdout",
          "text": [
            "current loss: [[6.96174585e+208]]\n",
            "running thread  <Thread(Thread-14545, initial)>\n",
            "running thread  <Thread(Thread-14546, initial)>\n",
            "running thread  <Thread(Thread-14547, initial)>\n",
            "running thread  <Thread(Thread-14548, initial)>\n",
            "running thread  <Thread(Thread-14549, initial)>\n",
            "running thread  <Thread(Thread-14550, initial)>\n",
            "running thread  <Thread(Thread-14551, initial)>\n",
            "running thread  <Thread(Thread-14552, initial)>\n",
            "Running minibatch sequential-scan SGD with momentum (8 threads)\n"
          ]
        },
        {
          "output_type": "stream",
          "name": "stderr",
          "text": [
            "100%|██████████| 40/40 [00:00<00:00, 102.76it/s]\n"
          ]
        },
        {
          "output_type": "stream",
          "name": "stdout",
          "text": [
            "current loss: [[7.70083292e+226]]\n",
            "running thread  <Thread(Thread-14553, initial)>\n",
            "running thread  <Thread(Thread-14554, initial)>\n",
            "running thread  <Thread(Thread-14555, initial)>\n",
            "running thread  <Thread(Thread-14556, initial)>\n",
            "running thread  <Thread(Thread-14557, initial)>\n",
            "running thread  <Thread(Thread-14558, initial)>\n",
            "running thread  <Thread(Thread-14559, initial)>\n",
            "running thread  <Thread(Thread-14560, initial)>\n",
            "Running minibatch sequential-scan SGD with momentum (8 threads)\n"
          ]
        },
        {
          "output_type": "stream",
          "name": "stderr",
          "text": [
            "100%|██████████| 40/40 [00:00<00:00, 110.31it/s]\n"
          ]
        },
        {
          "output_type": "stream",
          "name": "stdout",
          "text": [
            "current loss: [[5.04747866e+290]]\n",
            "running thread  <Thread(Thread-14561, initial)>\n",
            "running thread  <Thread(Thread-14562, initial)>\n",
            "running thread  <Thread(Thread-14563, initial)>\n",
            "running thread  <Thread(Thread-14564, initial)>\n",
            "running thread  <Thread(Thread-14565, initial)>\n",
            "running thread  <Thread(Thread-14566, initial)>\n",
            "running thread  <Thread(Thread-14567, initial)>\n",
            "running thread  <Thread(Thread-14568, initial)>\n",
            "Running minibatch sequential-scan SGD with momentum (8 threads)\n"
          ]
        },
        {
          "output_type": "stream",
          "name": "stderr",
          "text": [
            "100%|██████████| 40/40 [00:00<00:00, 101.55it/s]\n"
          ]
        },
        {
          "output_type": "stream",
          "name": "stdout",
          "text": [
            "current loss: [[4.83978784e+153]]\n",
            "running thread  <Thread(Thread-14569, initial)>\n",
            "running thread  <Thread(Thread-14570, initial)>\n",
            "running thread  <Thread(Thread-14571, initial)>\n",
            "running thread  <Thread(Thread-14572, initial)>\n",
            "running thread  <Thread(Thread-14573, initial)>\n",
            "running thread  <Thread(Thread-14574, initial)>\n",
            "running thread  <Thread(Thread-14575, initial)>\n",
            "running thread  <Thread(Thread-14576, initial)>\n",
            "Running minibatch sequential-scan SGD with momentum (8 threads)\n"
          ]
        },
        {
          "output_type": "stream",
          "name": "stderr",
          "text": [
            "100%|██████████| 40/40 [00:00<00:00, 105.45it/s]\n"
          ]
        },
        {
          "output_type": "stream",
          "name": "stdout",
          "text": [
            "current loss: [[nan]]\n",
            "running thread  <Thread(Thread-14577, initial)>\n",
            "running thread  <Thread(Thread-14578, initial)>\n",
            "running thread  <Thread(Thread-14579, initial)>\n",
            "running thread  <Thread(Thread-14580, initial)>\n",
            "running thread  <Thread(Thread-14581, initial)>\n",
            "running thread  <Thread(Thread-14582, initial)>\n",
            "running thread  <Thread(Thread-14583, initial)>\n",
            "running thread  <Thread(Thread-14584, initial)>\n",
            "Running minibatch sequential-scan SGD with momentum (8 threads)\n"
          ]
        },
        {
          "output_type": "stream",
          "name": "stderr",
          "text": [
            "100%|██████████| 40/40 [00:00<00:00, 96.92it/s]\n"
          ]
        },
        {
          "output_type": "stream",
          "name": "stdout",
          "text": [
            "current loss: [[nan]]\n",
            "running thread  <Thread(Thread-14585, initial)>\n",
            "running thread  <Thread(Thread-14586, initial)>\n",
            "running thread  <Thread(Thread-14587, initial)>\n",
            "running thread  <Thread(Thread-14588, initial)>\n",
            "running thread  <Thread(Thread-14589, initial)>\n",
            "running thread  <Thread(Thread-14590, initial)>\n",
            "running thread  <Thread(Thread-14591, initial)>\n",
            "running thread  <Thread(Thread-14592, initial)>\n",
            "Running minibatch sequential-scan SGD with momentum (8 threads)\n"
          ]
        },
        {
          "output_type": "stream",
          "name": "stderr",
          "text": [
            "100%|██████████| 40/40 [00:00<00:00, 110.20it/s]\n"
          ]
        },
        {
          "output_type": "stream",
          "name": "stdout",
          "text": [
            "current loss: [[2.73890389e+239]]\n",
            "running thread  <Thread(Thread-14593, initial)>\n",
            "running thread  <Thread(Thread-14594, initial)>\n",
            "running thread  <Thread(Thread-14595, initial)>\n",
            "running thread  <Thread(Thread-14596, initial)>\n",
            "running thread  <Thread(Thread-14597, initial)>\n",
            "running thread  <Thread(Thread-14598, initial)>\n",
            "running thread  <Thread(Thread-14599, initial)>\n",
            "running thread  <Thread(Thread-14600, initial)>\n",
            "Running minibatch sequential-scan SGD with momentum (8 threads)\n"
          ]
        },
        {
          "output_type": "stream",
          "name": "stderr",
          "text": [
            "100%|██████████| 40/40 [00:00<00:00, 99.21it/s]\n"
          ]
        },
        {
          "output_type": "stream",
          "name": "stdout",
          "text": [
            "current loss: [[inf]]\n",
            "running thread  <Thread(Thread-14601, initial)>\n",
            "running thread  <Thread(Thread-14602, initial)>\n",
            "running thread  <Thread(Thread-14603, initial)>\n",
            "running thread  <Thread(Thread-14604, initial)>\n",
            "running thread  <Thread(Thread-14605, initial)>\n",
            "running thread  <Thread(Thread-14606, initial)>\n",
            "running thread  <Thread(Thread-14607, initial)>\n",
            "running thread  <Thread(Thread-14608, initial)>\n",
            "Running minibatch sequential-scan SGD with momentum (8 threads)\n"
          ]
        },
        {
          "output_type": "stream",
          "name": "stderr",
          "text": [
            "100%|██████████| 40/40 [00:00<00:00, 106.77it/s]\n"
          ]
        },
        {
          "output_type": "stream",
          "name": "stdout",
          "text": [
            "current loss: [[nan]]\n",
            "running thread  <Thread(Thread-14609, initial)>\n",
            "running thread  <Thread(Thread-14610, initial)>\n",
            "running thread  <Thread(Thread-14611, initial)>\n",
            "running thread  <Thread(Thread-14612, initial)>\n",
            "running thread  <Thread(Thread-14613, initial)>\n",
            "running thread  <Thread(Thread-14614, initial)>\n",
            "running thread  <Thread(Thread-14615, initial)>\n",
            "running thread  <Thread(Thread-14616, initial)>\n",
            "Running minibatch sequential-scan SGD with momentum (8 threads)\n"
          ]
        },
        {
          "output_type": "stream",
          "name": "stderr",
          "text": [
            "100%|██████████| 40/40 [00:00<00:00, 101.91it/s]\n"
          ]
        },
        {
          "output_type": "stream",
          "name": "stdout",
          "text": [
            "current loss: [[inf]]\n",
            "running thread  <Thread(Thread-14617, initial)>\n",
            "running thread  <Thread(Thread-14618, initial)>\n",
            "running thread  <Thread(Thread-14619, initial)>\n",
            "running thread  <Thread(Thread-14620, initial)>\n",
            "running thread  <Thread(Thread-14621, initial)>\n",
            "running thread  <Thread(Thread-14622, initial)>\n",
            "running thread  <Thread(Thread-14623, initial)>\n",
            "running thread  <Thread(Thread-14624, initial)>\n",
            "Running minibatch sequential-scan SGD with momentum (8 threads)\n"
          ]
        },
        {
          "output_type": "stream",
          "name": "stderr",
          "text": [
            "100%|██████████| 40/40 [00:00<00:00, 100.65it/s]\n"
          ]
        },
        {
          "output_type": "stream",
          "name": "stdout",
          "text": [
            "current loss: [[nan]]\n",
            "running thread  <Thread(Thread-14625, initial)>\n",
            "running thread  <Thread(Thread-14626, initial)>\n",
            "running thread  <Thread(Thread-14627, initial)>\n",
            "running thread  <Thread(Thread-14628, initial)>\n",
            "running thread  <Thread(Thread-14629, initial)>\n",
            "running thread  <Thread(Thread-14630, initial)>\n",
            "running thread  <Thread(Thread-14631, initial)>\n",
            "running thread  <Thread(Thread-14632, initial)>\n",
            "Running minibatch sequential-scan SGD with momentum (8 threads)\n"
          ]
        },
        {
          "output_type": "stream",
          "name": "stderr",
          "text": [
            "100%|██████████| 40/40 [00:00<00:00, 105.50it/s]\n"
          ]
        },
        {
          "output_type": "stream",
          "name": "stdout",
          "text": [
            "current loss: [[inf]]\n",
            "running thread  <Thread(Thread-14633, initial)>\n",
            "running thread  <Thread(Thread-14634, initial)>\n",
            "running thread  <Thread(Thread-14635, initial)>\n",
            "running thread  <Thread(Thread-14636, initial)>\n",
            "running thread  <Thread(Thread-14637, initial)>\n",
            "running thread  <Thread(Thread-14638, initial)>\n",
            "running thread  <Thread(Thread-14639, initial)>\n",
            "running thread  <Thread(Thread-14640, initial)>\n",
            "Running minibatch sequential-scan SGD with momentum (8 threads)\n"
          ]
        },
        {
          "output_type": "stream",
          "name": "stderr",
          "text": [
            "100%|██████████| 40/40 [00:00<00:00, 101.46it/s]\n"
          ]
        },
        {
          "output_type": "stream",
          "name": "stdout",
          "text": [
            "current loss: [[5.22065304e+27]]\n",
            "running thread  <Thread(Thread-14641, initial)>\n",
            "running thread  <Thread(Thread-14642, initial)>\n",
            "running thread  <Thread(Thread-14643, initial)>\n",
            "running thread  <Thread(Thread-14644, initial)>\n",
            "running thread  <Thread(Thread-14645, initial)>\n",
            "running thread  <Thread(Thread-14646, initial)>\n",
            "running thread  <Thread(Thread-14647, initial)>\n",
            "running thread  <Thread(Thread-14648, initial)>\n",
            "Running minibatch sequential-scan SGD with momentum (8 threads)\n"
          ]
        },
        {
          "output_type": "stream",
          "name": "stderr",
          "text": [
            "100%|██████████| 40/40 [00:00<00:00, 118.42it/s]\n"
          ]
        },
        {
          "output_type": "stream",
          "name": "stdout",
          "text": [
            "current loss: [[5.97108281e+263]]\n",
            "running thread  <Thread(Thread-14649, initial)>\n",
            "running thread  <Thread(Thread-14650, initial)>\n",
            "running thread  <Thread(Thread-14651, initial)>\n",
            "running thread  <Thread(Thread-14652, initial)>\n",
            "running thread  <Thread(Thread-14653, initial)>\n",
            "running thread  <Thread(Thread-14654, initial)>\n",
            "running thread  <Thread(Thread-14655, initial)>\n",
            "running thread  <Thread(Thread-14656, initial)>\n",
            "Running minibatch sequential-scan SGD with momentum (8 threads)\n"
          ]
        },
        {
          "output_type": "stream",
          "name": "stderr",
          "text": [
            "100%|██████████| 40/40 [00:00<00:00, 92.74it/s]\n"
          ]
        },
        {
          "output_type": "stream",
          "name": "stdout",
          "text": [
            "current loss: [[inf]]\n",
            "running thread  <Thread(Thread-14657, initial)>\n",
            "running thread  <Thread(Thread-14658, initial)>\n",
            "running thread  <Thread(Thread-14659, initial)>\n",
            "running thread  <Thread(Thread-14660, initial)>\n",
            "running thread  <Thread(Thread-14661, initial)>\n",
            "running thread  <Thread(Thread-14662, initial)>\n",
            "running thread  <Thread(Thread-14663, initial)>\n",
            "running thread  <Thread(Thread-14664, initial)>\n",
            "Running minibatch sequential-scan SGD with momentum (8 threads)\n"
          ]
        },
        {
          "output_type": "stream",
          "name": "stderr",
          "text": [
            "100%|██████████| 40/40 [00:00<00:00, 119.78it/s]\n"
          ]
        },
        {
          "output_type": "stream",
          "name": "stdout",
          "text": [
            "current loss: [[nan]]\n",
            "running thread  <Thread(Thread-14665, initial)>\n",
            "running thread  <Thread(Thread-14666, initial)>\n",
            "running thread  <Thread(Thread-14667, initial)>\n",
            "running thread  <Thread(Thread-14668, initial)>\n",
            "running thread  <Thread(Thread-14669, initial)>\n",
            "running thread  <Thread(Thread-14670, initial)>\n",
            "running thread  <Thread(Thread-14671, initial)>\n",
            "running thread  <Thread(Thread-14672, initial)>\n",
            "Running minibatch sequential-scan SGD with momentum (8 threads)\n"
          ]
        },
        {
          "output_type": "stream",
          "name": "stderr",
          "text": [
            "100%|██████████| 40/40 [00:00<00:00, 101.58it/s]\n"
          ]
        },
        {
          "output_type": "stream",
          "name": "stdout",
          "text": [
            "current loss: [[inf]]\n",
            "running thread  <Thread(Thread-14673, initial)>\n",
            "running thread  <Thread(Thread-14674, initial)>\n",
            "running thread  <Thread(Thread-14675, initial)>\n",
            "running thread  <Thread(Thread-14676, initial)>\n",
            "running thread  <Thread(Thread-14677, initial)>\n",
            "running thread  <Thread(Thread-14678, initial)>\n",
            "running thread  <Thread(Thread-14679, initial)>\n",
            "running thread  <Thread(Thread-14680, initial)>\n",
            "Running minibatch sequential-scan SGD with momentum (8 threads)\n"
          ]
        },
        {
          "output_type": "stream",
          "name": "stderr",
          "text": [
            "100%|██████████| 40/40 [00:00<00:00, 102.92it/s]\n"
          ]
        },
        {
          "output_type": "stream",
          "name": "stdout",
          "text": [
            "current loss: [[inf]]\n",
            "running thread  <Thread(Thread-14681, initial)>\n",
            "running thread  <Thread(Thread-14682, initial)>\n",
            "running thread  <Thread(Thread-14683, initial)>\n",
            "running thread  <Thread(Thread-14684, initial)>\n",
            "running thread  <Thread(Thread-14685, initial)>\n",
            "running thread  <Thread(Thread-14686, initial)>\n",
            "running thread  <Thread(Thread-14687, initial)>\n",
            "running thread  <Thread(Thread-14688, initial)>\n",
            "Running minibatch sequential-scan SGD with momentum (8 threads)\n"
          ]
        },
        {
          "output_type": "stream",
          "name": "stderr",
          "text": [
            "100%|██████████| 40/40 [00:00<00:00, 115.14it/s]\n"
          ]
        },
        {
          "output_type": "stream",
          "name": "stdout",
          "text": [
            "current loss: [[inf]]\n",
            "running thread  <Thread(Thread-14689, initial)>\n",
            "running thread  <Thread(Thread-14690, initial)>\n",
            "running thread  <Thread(Thread-14691, initial)>\n",
            "running thread  <Thread(Thread-14692, initial)>\n",
            "running thread  <Thread(Thread-14693, initial)>\n",
            "running thread  <Thread(Thread-14694, initial)>\n",
            "running thread  <Thread(Thread-14695, initial)>\n",
            "running thread  <Thread(Thread-14696, initial)>\n",
            "Running minibatch sequential-scan SGD with momentum (8 threads)\n"
          ]
        },
        {
          "output_type": "stream",
          "name": "stderr",
          "text": [
            "100%|██████████| 40/40 [00:00<00:00, 115.46it/s]\n"
          ]
        },
        {
          "output_type": "stream",
          "name": "stdout",
          "text": [
            "current loss: [[inf]]\n",
            "running thread  <Thread(Thread-14697, initial)>\n",
            "running thread  <Thread(Thread-14698, initial)>\n",
            "running thread  <Thread(Thread-14699, initial)>\n",
            "running thread  <Thread(Thread-14700, initial)>\n",
            "running thread  <Thread(Thread-14701, initial)>\n",
            "running thread  <Thread(Thread-14702, initial)>\n",
            "running thread  <Thread(Thread-14703, initial)>\n",
            "running thread  <Thread(Thread-14704, initial)>\n",
            "Running minibatch sequential-scan SGD with momentum (8 threads)\n"
          ]
        },
        {
          "output_type": "stream",
          "name": "stderr",
          "text": [
            "100%|██████████| 40/40 [00:00<00:00, 104.24it/s]\n"
          ]
        },
        {
          "output_type": "stream",
          "name": "stdout",
          "text": [
            "current loss: [[5.72497838e+173]]\n",
            "running thread  <Thread(Thread-14705, initial)>\n",
            "running thread  <Thread(Thread-14706, initial)>\n",
            "running thread  <Thread(Thread-14707, initial)>\n",
            "running thread  <Thread(Thread-14708, initial)>\n",
            "running thread  <Thread(Thread-14709, initial)>\n",
            "running thread  <Thread(Thread-14710, initial)>\n",
            "running thread  <Thread(Thread-14711, initial)>\n",
            "running thread  <Thread(Thread-14712, initial)>\n",
            "Running minibatch sequential-scan SGD with momentum (8 threads)\n"
          ]
        },
        {
          "output_type": "stream",
          "name": "stderr",
          "text": [
            "100%|██████████| 40/40 [00:00<00:00, 95.84it/s]\n"
          ]
        },
        {
          "output_type": "stream",
          "name": "stdout",
          "text": [
            "current loss: [[inf]]\n",
            "running thread  <Thread(Thread-14713, initial)>\n",
            "running thread  <Thread(Thread-14714, initial)>\n",
            "running thread  <Thread(Thread-14715, initial)>\n",
            "running thread  <Thread(Thread-14716, initial)>\n",
            "running thread  <Thread(Thread-14717, initial)>\n",
            "running thread  <Thread(Thread-14718, initial)>\n",
            "running thread  <Thread(Thread-14719, initial)>\n",
            "running thread  <Thread(Thread-14720, initial)>\n",
            "Running minibatch sequential-scan SGD with momentum (8 threads)\n"
          ]
        },
        {
          "output_type": "stream",
          "name": "stderr",
          "text": [
            "100%|██████████| 40/40 [00:00<00:00, 107.23it/s]\n"
          ]
        },
        {
          "output_type": "stream",
          "name": "stdout",
          "text": [
            "current loss: [[4.61482001e+180]]\n",
            "running thread  <Thread(Thread-14721, initial)>\n",
            "running thread  <Thread(Thread-14722, initial)>\n",
            "running thread  <Thread(Thread-14723, initial)>\n",
            "running thread  <Thread(Thread-14724, initial)>\n",
            "running thread  <Thread(Thread-14725, initial)>\n",
            "running thread  <Thread(Thread-14726, initial)>\n",
            "running thread  <Thread(Thread-14727, initial)>\n",
            "running thread  <Thread(Thread-14728, initial)>\n",
            "Running minibatch sequential-scan SGD with momentum (8 threads)\n"
          ]
        },
        {
          "output_type": "stream",
          "name": "stderr",
          "text": [
            "100%|██████████| 40/40 [00:00<00:00, 99.44it/s] \n"
          ]
        },
        {
          "output_type": "stream",
          "name": "stdout",
          "text": [
            "current loss: [[1.47859107e+113]]\n",
            "running thread  <Thread(Thread-14729, initial)>\n",
            "running thread  <Thread(Thread-14730, initial)>\n",
            "running thread  <Thread(Thread-14731, initial)>\n",
            "running thread  <Thread(Thread-14732, initial)>\n",
            "running thread  <Thread(Thread-14733, initial)>\n",
            "running thread  <Thread(Thread-14734, initial)>\n",
            "running thread  <Thread(Thread-14735, initial)>\n",
            "running thread  <Thread(Thread-14736, initial)>\n",
            "Running minibatch sequential-scan SGD with momentum (8 threads)\n"
          ]
        },
        {
          "output_type": "stream",
          "name": "stderr",
          "text": [
            "100%|██████████| 40/40 [00:00<00:00, 92.14it/s]\n"
          ]
        },
        {
          "output_type": "stream",
          "name": "stdout",
          "text": [
            "current loss: [[nan]]\n",
            "running thread  <Thread(Thread-14737, initial)>\n",
            "running thread  <Thread(Thread-14738, initial)>\n",
            "running thread  <Thread(Thread-14739, initial)>\n",
            "running thread  <Thread(Thread-14740, initial)>\n",
            "running thread  <Thread(Thread-14741, initial)>\n",
            "running thread  <Thread(Thread-14742, initial)>\n",
            "running thread  <Thread(Thread-14743, initial)>\n",
            "running thread  <Thread(Thread-14744, initial)>\n",
            "Running minibatch sequential-scan SGD with momentum (8 threads)\n"
          ]
        },
        {
          "output_type": "stream",
          "name": "stderr",
          "text": [
            "100%|██████████| 40/40 [00:00<00:00, 103.96it/s]\n"
          ]
        },
        {
          "output_type": "stream",
          "name": "stdout",
          "text": [
            "current loss: [[inf]]\n",
            "running thread  <Thread(Thread-14745, initial)>\n",
            "running thread  <Thread(Thread-14746, initial)>\n",
            "running thread  <Thread(Thread-14747, initial)>\n",
            "running thread  <Thread(Thread-14748, initial)>\n",
            "running thread  <Thread(Thread-14749, initial)>\n",
            "running thread  <Thread(Thread-14750, initial)>\n",
            "running thread  <Thread(Thread-14751, initial)>\n",
            "running thread  <Thread(Thread-14752, initial)>\n",
            "Running minibatch sequential-scan SGD with momentum (8 threads)\n"
          ]
        },
        {
          "output_type": "stream",
          "name": "stderr",
          "text": [
            "100%|██████████| 40/40 [00:00<00:00, 103.20it/s]\n"
          ]
        },
        {
          "output_type": "stream",
          "name": "stdout",
          "text": [
            "current loss: [[nan]]\n",
            "running thread  <Thread(Thread-14753, initial)>\n",
            "running thread  <Thread(Thread-14754, initial)>\n",
            "running thread  <Thread(Thread-14755, initial)>\n",
            "running thread  <Thread(Thread-14756, initial)>\n",
            "running thread  <Thread(Thread-14757, initial)>\n",
            "running thread  <Thread(Thread-14758, initial)>\n",
            "running thread  <Thread(Thread-14759, initial)>\n",
            "running thread  <Thread(Thread-14760, initial)>\n",
            "Running minibatch sequential-scan SGD with momentum (8 threads)\n"
          ]
        },
        {
          "output_type": "stream",
          "name": "stderr",
          "text": [
            "100%|██████████| 40/40 [00:00<00:00, 111.62it/s]\n"
          ]
        },
        {
          "output_type": "stream",
          "name": "stdout",
          "text": [
            "current loss: [[inf]]\n",
            "running thread  <Thread(Thread-14761, initial)>\n",
            "running thread  <Thread(Thread-14762, initial)>\n",
            "running thread  <Thread(Thread-14763, initial)>\n",
            "running thread  <Thread(Thread-14764, initial)>\n",
            "running thread  <Thread(Thread-14765, initial)>\n",
            "running thread  <Thread(Thread-14766, initial)>\n",
            "running thread  <Thread(Thread-14767, initial)>\n",
            "running thread  <Thread(Thread-14768, initial)>\n",
            "Running minibatch sequential-scan SGD with momentum (8 threads)\n"
          ]
        },
        {
          "output_type": "stream",
          "name": "stderr",
          "text": [
            "100%|██████████| 40/40 [00:00<00:00, 95.52it/s]\n"
          ]
        },
        {
          "output_type": "stream",
          "name": "stdout",
          "text": [
            "current loss: [[inf]]\n",
            "running thread  <Thread(Thread-14769, initial)>\n",
            "running thread  <Thread(Thread-14770, initial)>\n",
            "running thread  <Thread(Thread-14771, initial)>\n",
            "running thread  <Thread(Thread-14772, initial)>\n",
            "running thread  <Thread(Thread-14773, initial)>\n",
            "running thread  <Thread(Thread-14774, initial)>\n",
            "running thread  <Thread(Thread-14775, initial)>\n",
            "running thread  <Thread(Thread-14776, initial)>\n",
            "Running minibatch sequential-scan SGD with momentum (8 threads)\n"
          ]
        },
        {
          "output_type": "stream",
          "name": "stderr",
          "text": [
            "100%|██████████| 40/40 [00:00<00:00, 101.01it/s]\n"
          ]
        },
        {
          "output_type": "stream",
          "name": "stdout",
          "text": [
            "current loss: [[3.63262379e+262]]\n",
            "running thread  <Thread(Thread-14777, initial)>\n",
            "running thread  <Thread(Thread-14778, initial)>\n",
            "running thread  <Thread(Thread-14779, initial)>\n",
            "running thread  <Thread(Thread-14780, initial)>\n",
            "running thread  <Thread(Thread-14781, initial)>\n",
            "running thread  <Thread(Thread-14782, initial)>\n",
            "running thread  <Thread(Thread-14783, initial)>\n",
            "running thread  <Thread(Thread-14784, initial)>\n",
            "Running minibatch sequential-scan SGD with momentum (8 threads)\n"
          ]
        },
        {
          "output_type": "stream",
          "name": "stderr",
          "text": [
            "100%|██████████| 40/40 [00:00<00:00, 112.83it/s]\n"
          ]
        },
        {
          "output_type": "stream",
          "name": "stdout",
          "text": [
            "current loss: [[1.04997171e+188]]\n",
            "running thread  <Thread(Thread-14785, initial)>\n",
            "running thread  <Thread(Thread-14786, initial)>\n",
            "running thread  <Thread(Thread-14787, initial)>\n",
            "running thread  <Thread(Thread-14788, initial)>\n",
            "running thread  <Thread(Thread-14789, initial)>\n",
            "running thread  <Thread(Thread-14790, initial)>\n",
            "running thread  <Thread(Thread-14791, initial)>\n",
            "running thread  <Thread(Thread-14792, initial)>\n",
            "Running minibatch sequential-scan SGD with momentum (8 threads)\n"
          ]
        },
        {
          "output_type": "stream",
          "name": "stderr",
          "text": [
            "100%|██████████| 40/40 [00:00<00:00, 101.33it/s]\n"
          ]
        },
        {
          "output_type": "stream",
          "name": "stdout",
          "text": [
            "current loss: [[inf]]\n",
            "running thread  <Thread(Thread-14793, initial)>\n",
            "running thread  <Thread(Thread-14794, initial)>\n",
            "running thread  <Thread(Thread-14795, initial)>\n",
            "running thread  <Thread(Thread-14796, initial)>\n",
            "running thread  <Thread(Thread-14797, initial)>\n",
            "running thread  <Thread(Thread-14798, initial)>\n",
            "running thread  <Thread(Thread-14799, initial)>\n",
            "running thread  <Thread(Thread-14800, initial)>\n",
            "Running minibatch sequential-scan SGD with momentum (8 threads)\n"
          ]
        },
        {
          "output_type": "stream",
          "name": "stderr",
          "text": [
            "100%|██████████| 40/40 [00:00<00:00, 100.84it/s]\n"
          ]
        },
        {
          "output_type": "stream",
          "name": "stdout",
          "text": [
            "current loss: [[inf]]\n",
            "running thread  <Thread(Thread-14801, initial)>\n",
            "running thread  <Thread(Thread-14802, initial)>\n",
            "running thread  <Thread(Thread-14803, initial)>\n",
            "running thread  <Thread(Thread-14804, initial)>\n",
            "running thread  <Thread(Thread-14805, initial)>\n",
            "running thread  <Thread(Thread-14806, initial)>\n",
            "running thread  <Thread(Thread-14807, initial)>\n",
            "running thread  <Thread(Thread-14808, initial)>\n",
            "Running minibatch sequential-scan SGD with momentum (8 threads)\n"
          ]
        },
        {
          "output_type": "stream",
          "name": "stderr",
          "text": [
            "100%|██████████| 40/40 [00:00<00:00, 105.61it/s]\n"
          ]
        },
        {
          "output_type": "stream",
          "name": "stdout",
          "text": [
            "current loss: [[2.45420566e+96]]\n",
            "running thread  <Thread(Thread-14809, initial)>\n",
            "running thread  <Thread(Thread-14810, initial)>\n",
            "running thread  <Thread(Thread-14811, initial)>\n",
            "running thread  <Thread(Thread-14812, initial)>\n",
            "running thread  <Thread(Thread-14813, initial)>\n",
            "running thread  <Thread(Thread-14814, initial)>\n",
            "running thread  <Thread(Thread-14815, initial)>\n",
            "running thread  <Thread(Thread-14816, initial)>\n",
            "Running minibatch sequential-scan SGD with momentum (8 threads)\n"
          ]
        },
        {
          "output_type": "stream",
          "name": "stderr",
          "text": [
            "100%|██████████| 40/40 [00:00<00:00, 105.09it/s]\n"
          ]
        },
        {
          "output_type": "stream",
          "name": "stdout",
          "text": [
            "current loss: [[1.01988265e+109]]\n",
            "running thread  <Thread(Thread-14817, initial)>\n",
            "running thread  <Thread(Thread-14818, initial)>\n",
            "running thread  <Thread(Thread-14819, initial)>\n",
            "running thread  <Thread(Thread-14820, initial)>\n",
            "running thread  <Thread(Thread-14821, initial)>\n",
            "running thread  <Thread(Thread-14822, initial)>\n",
            "running thread  <Thread(Thread-14823, initial)>\n",
            "running thread  <Thread(Thread-14824, initial)>\n",
            "Running minibatch sequential-scan SGD with momentum (8 threads)\n"
          ]
        },
        {
          "output_type": "stream",
          "name": "stderr",
          "text": [
            "100%|██████████| 40/40 [00:00<00:00, 113.18it/s]\n"
          ]
        },
        {
          "output_type": "stream",
          "name": "stdout",
          "text": [
            "current loss: [[nan]]\n",
            "running thread  <Thread(Thread-14825, initial)>\n",
            "running thread  <Thread(Thread-14826, initial)>\n",
            "running thread  <Thread(Thread-14827, initial)>\n",
            "running thread  <Thread(Thread-14828, initial)>\n",
            "running thread  <Thread(Thread-14829, initial)>\n",
            "running thread  <Thread(Thread-14830, initial)>\n",
            "running thread  <Thread(Thread-14831, initial)>\n",
            "running thread  <Thread(Thread-14832, initial)>\n",
            "Running minibatch sequential-scan SGD with momentum (8 threads)\n"
          ]
        },
        {
          "output_type": "stream",
          "name": "stderr",
          "text": [
            "100%|██████████| 40/40 [00:00<00:00, 124.30it/s]\n"
          ]
        },
        {
          "output_type": "stream",
          "name": "stdout",
          "text": [
            "current loss: [[nan]]\n",
            "running thread  <Thread(Thread-14833, initial)>\n",
            "running thread  <Thread(Thread-14834, initial)>\n",
            "running thread  <Thread(Thread-14835, initial)>\n",
            "running thread  <Thread(Thread-14836, initial)>\n",
            "running thread  <Thread(Thread-14837, initial)>\n",
            "running thread  <Thread(Thread-14838, initial)>\n",
            "running thread  <Thread(Thread-14839, initial)>\n",
            "running thread  <Thread(Thread-14840, initial)>\n",
            "Running minibatch sequential-scan SGD with momentum (8 threads)\n"
          ]
        },
        {
          "output_type": "stream",
          "name": "stderr",
          "text": [
            "100%|██████████| 40/40 [00:00<00:00, 107.99it/s]\n"
          ]
        },
        {
          "output_type": "stream",
          "name": "stdout",
          "text": [
            "current loss: [[nan]]\n",
            "running thread  <Thread(Thread-14841, initial)>\n",
            "running thread  <Thread(Thread-14842, initial)>\n",
            "running thread  <Thread(Thread-14843, initial)>\n",
            "running thread  <Thread(Thread-14844, initial)>\n",
            "running thread  <Thread(Thread-14845, initial)>\n",
            "running thread  <Thread(Thread-14846, initial)>\n",
            "running thread  <Thread(Thread-14847, initial)>\n",
            "running thread  <Thread(Thread-14848, initial)>\n",
            "Running minibatch sequential-scan SGD with momentum (8 threads)\n"
          ]
        },
        {
          "output_type": "stream",
          "name": "stderr",
          "text": [
            "100%|██████████| 40/40 [00:00<00:00, 114.97it/s]\n"
          ]
        },
        {
          "output_type": "stream",
          "name": "stdout",
          "text": [
            "current loss: [[3.31498727e+22]]\n",
            "running thread  <Thread(Thread-14849, initial)>\n",
            "running thread  <Thread(Thread-14850, initial)>\n",
            "running thread  <Thread(Thread-14851, initial)>\n",
            "running thread  <Thread(Thread-14852, initial)>\n",
            "running thread  <Thread(Thread-14853, initial)>\n",
            "running thread  <Thread(Thread-14854, initial)>\n",
            "running thread  <Thread(Thread-14855, initial)>\n",
            "running thread  <Thread(Thread-14856, initial)>\n",
            "Running minibatch sequential-scan SGD with momentum (8 threads)\n"
          ]
        },
        {
          "output_type": "stream",
          "name": "stderr",
          "text": [
            "100%|██████████| 40/40 [00:00<00:00, 106.02it/s]\n"
          ]
        },
        {
          "output_type": "stream",
          "name": "stdout",
          "text": [
            "current loss: [[42.01866796]]\n",
            "running thread  <Thread(Thread-14857, initial)>\n",
            "running thread  <Thread(Thread-14858, initial)>\n",
            "running thread  <Thread(Thread-14859, initial)>\n",
            "running thread  <Thread(Thread-14860, initial)>\n",
            "running thread  <Thread(Thread-14861, initial)>\n",
            "running thread  <Thread(Thread-14862, initial)>\n",
            "running thread  <Thread(Thread-14863, initial)>\n",
            "running thread  <Thread(Thread-14864, initial)>\n",
            "Running minibatch sequential-scan SGD with momentum (8 threads)\n"
          ]
        },
        {
          "output_type": "stream",
          "name": "stderr",
          "text": [
            "100%|██████████| 40/40 [00:00<00:00, 114.92it/s]\n"
          ]
        },
        {
          "output_type": "stream",
          "name": "stdout",
          "text": [
            "current loss: [[5.99831275e+140]]\n",
            "running thread  <Thread(Thread-14865, initial)>\n",
            "running thread  <Thread(Thread-14866, initial)>\n",
            "running thread  <Thread(Thread-14867, initial)>\n",
            "running thread  <Thread(Thread-14868, initial)>\n",
            "running thread  <Thread(Thread-14869, initial)>\n",
            "running thread  <Thread(Thread-14870, initial)>\n",
            "running thread  <Thread(Thread-14871, initial)>\n",
            "running thread  <Thread(Thread-14872, initial)>\n",
            "Running minibatch sequential-scan SGD with momentum (8 threads)\n"
          ]
        },
        {
          "output_type": "stream",
          "name": "stderr",
          "text": [
            "100%|██████████| 40/40 [00:00<00:00, 118.86it/s]\n"
          ]
        },
        {
          "output_type": "stream",
          "name": "stdout",
          "text": [
            "current loss: [[7.82473427e+280]]\n",
            "running thread  <Thread(Thread-14873, initial)>\n",
            "running thread  <Thread(Thread-14874, initial)>\n",
            "running thread  <Thread(Thread-14875, initial)>\n",
            "running thread  <Thread(Thread-14876, initial)>\n",
            "running thread  <Thread(Thread-14877, initial)>\n",
            "running thread  <Thread(Thread-14878, initial)>\n",
            "running thread  <Thread(Thread-14879, initial)>\n",
            "running thread  <Thread(Thread-14880, initial)>\n",
            "Running minibatch sequential-scan SGD with momentum (8 threads)\n"
          ]
        },
        {
          "output_type": "stream",
          "name": "stderr",
          "text": [
            "100%|██████████| 40/40 [00:00<00:00, 110.53it/s]\n"
          ]
        },
        {
          "output_type": "stream",
          "name": "stdout",
          "text": [
            "current loss: [[nan]]\n",
            "running thread  <Thread(Thread-14881, initial)>\n",
            "running thread  <Thread(Thread-14882, initial)>\n",
            "running thread  <Thread(Thread-14883, initial)>\n",
            "running thread  <Thread(Thread-14884, initial)>\n",
            "running thread  <Thread(Thread-14885, initial)>\n",
            "running thread  <Thread(Thread-14886, initial)>\n",
            "running thread  <Thread(Thread-14887, initial)>\n",
            "running thread  <Thread(Thread-14888, initial)>\n",
            "Running minibatch sequential-scan SGD with momentum (8 threads)\n"
          ]
        },
        {
          "output_type": "stream",
          "name": "stderr",
          "text": [
            "100%|██████████| 40/40 [00:00<00:00, 106.15it/s]\n"
          ]
        },
        {
          "output_type": "stream",
          "name": "stdout",
          "text": [
            "current loss: [[1.33021803e+195]]\n",
            "running thread  <Thread(Thread-14889, initial)>\n",
            "running thread  <Thread(Thread-14890, initial)>\n",
            "running thread  <Thread(Thread-14891, initial)>\n",
            "running thread  <Thread(Thread-14892, initial)>\n",
            "running thread  <Thread(Thread-14893, initial)>\n",
            "running thread  <Thread(Thread-14894, initial)>\n",
            "running thread  <Thread(Thread-14895, initial)>\n",
            "running thread  <Thread(Thread-14896, initial)>\n",
            "Running minibatch sequential-scan SGD with momentum (8 threads)\n"
          ]
        },
        {
          "output_type": "stream",
          "name": "stderr",
          "text": [
            "100%|██████████| 40/40 [00:00<00:00, 97.76it/s]\n"
          ]
        },
        {
          "output_type": "stream",
          "name": "stdout",
          "text": [
            "current loss: [[inf]]\n",
            "running thread  <Thread(Thread-14897, initial)>\n",
            "running thread  <Thread(Thread-14898, initial)>\n",
            "running thread  <Thread(Thread-14899, initial)>\n",
            "running thread  <Thread(Thread-14900, initial)>\n",
            "running thread  <Thread(Thread-14901, initial)>\n",
            "running thread  <Thread(Thread-14902, initial)>\n",
            "running thread  <Thread(Thread-14903, initial)>\n",
            "running thread  <Thread(Thread-14904, initial)>\n",
            "Running minibatch sequential-scan SGD with momentum (8 threads)\n"
          ]
        },
        {
          "output_type": "stream",
          "name": "stderr",
          "text": [
            "100%|██████████| 40/40 [00:00<00:00, 95.00it/s]\n"
          ]
        },
        {
          "output_type": "stream",
          "name": "stdout",
          "text": [
            "current loss: [[inf]]\n",
            "running thread  <Thread(Thread-14905, initial)>\n",
            "running thread  <Thread(Thread-14906, initial)>\n",
            "running thread  <Thread(Thread-14907, initial)>\n",
            "running thread  <Thread(Thread-14908, initial)>\n",
            "running thread  <Thread(Thread-14909, initial)>\n",
            "running thread  <Thread(Thread-14910, initial)>\n",
            "running thread  <Thread(Thread-14911, initial)>\n",
            "running thread  <Thread(Thread-14912, initial)>\n",
            "Running minibatch sequential-scan SGD with momentum (8 threads)\n"
          ]
        },
        {
          "output_type": "stream",
          "name": "stderr",
          "text": [
            "100%|██████████| 40/40 [00:00<00:00, 100.70it/s]\n"
          ]
        },
        {
          "output_type": "stream",
          "name": "stdout",
          "text": [
            "current loss: [[inf]]\n",
            "running thread  <Thread(Thread-14913, initial)>\n",
            "running thread  <Thread(Thread-14914, initial)>\n",
            "running thread  <Thread(Thread-14915, initial)>\n",
            "running thread  <Thread(Thread-14916, initial)>\n",
            "running thread  <Thread(Thread-14917, initial)>\n",
            "running thread  <Thread(Thread-14918, initial)>\n",
            "running thread  <Thread(Thread-14919, initial)>\n",
            "running thread  <Thread(Thread-14920, initial)>\n",
            "Running minibatch sequential-scan SGD with momentum (8 threads)\n"
          ]
        },
        {
          "output_type": "stream",
          "name": "stderr",
          "text": [
            "100%|██████████| 40/40 [00:00<00:00, 116.56it/s]\n"
          ]
        },
        {
          "output_type": "stream",
          "name": "stdout",
          "text": [
            "current loss: [[6.60169442e+207]]\n",
            "running thread  <Thread(Thread-14921, initial)>\n",
            "running thread  <Thread(Thread-14922, initial)>\n",
            "running thread  <Thread(Thread-14923, initial)>\n",
            "running thread  <Thread(Thread-14924, initial)>\n",
            "running thread  <Thread(Thread-14925, initial)>\n",
            "running thread  <Thread(Thread-14926, initial)>\n",
            "running thread  <Thread(Thread-14927, initial)>\n",
            "running thread  <Thread(Thread-14928, initial)>\n",
            "Running minibatch sequential-scan SGD with momentum (8 threads)\n"
          ]
        },
        {
          "output_type": "stream",
          "name": "stderr",
          "text": [
            "100%|██████████| 40/40 [00:00<00:00, 109.17it/s]\n"
          ]
        },
        {
          "output_type": "stream",
          "name": "stdout",
          "text": [
            "current loss: [[2.59062654e+16]]\n",
            "running thread  <Thread(Thread-14929, initial)>\n",
            "running thread  <Thread(Thread-14930, initial)>\n",
            "running thread  <Thread(Thread-14931, initial)>\n",
            "running thread  <Thread(Thread-14932, initial)>\n",
            "running thread  <Thread(Thread-14933, initial)>\n",
            "running thread  <Thread(Thread-14934, initial)>\n",
            "running thread  <Thread(Thread-14935, initial)>\n",
            "running thread  <Thread(Thread-14936, initial)>\n",
            "Running minibatch sequential-scan SGD with momentum (8 threads)\n"
          ]
        },
        {
          "output_type": "stream",
          "name": "stderr",
          "text": [
            "100%|██████████| 40/40 [00:00<00:00, 103.62it/s]\n"
          ]
        },
        {
          "output_type": "stream",
          "name": "stdout",
          "text": [
            "current loss: [[inf]]\n",
            "running thread  <Thread(Thread-14937, initial)>\n",
            "running thread  <Thread(Thread-14938, initial)>\n",
            "running thread  <Thread(Thread-14939, initial)>\n",
            "running thread  <Thread(Thread-14940, initial)>\n",
            "running thread  <Thread(Thread-14941, initial)>\n",
            "running thread  <Thread(Thread-14942, initial)>\n",
            "running thread  <Thread(Thread-14943, initial)>\n",
            "running thread  <Thread(Thread-14944, initial)>\n",
            "Running minibatch sequential-scan SGD with momentum (8 threads)\n"
          ]
        },
        {
          "output_type": "stream",
          "name": "stderr",
          "text": [
            "100%|██████████| 40/40 [00:00<00:00, 107.60it/s]\n"
          ]
        },
        {
          "output_type": "stream",
          "name": "stdout",
          "text": [
            "current loss: [[1.31698031e+196]]\n",
            "running thread  <Thread(Thread-14945, initial)>\n",
            "running thread  <Thread(Thread-14946, initial)>\n",
            "running thread  <Thread(Thread-14947, initial)>\n",
            "running thread  <Thread(Thread-14948, initial)>\n",
            "running thread  <Thread(Thread-14949, initial)>\n",
            "running thread  <Thread(Thread-14950, initial)>\n",
            "running thread  <Thread(Thread-14951, initial)>\n",
            "running thread  <Thread(Thread-14952, initial)>\n",
            "Running minibatch sequential-scan SGD with momentum (8 threads)\n"
          ]
        },
        {
          "output_type": "stream",
          "name": "stderr",
          "text": [
            "100%|██████████| 40/40 [00:00<00:00, 113.59it/s]\n"
          ]
        },
        {
          "output_type": "stream",
          "name": "stdout",
          "text": [
            "current loss: [[1.33836817e+42]]\n",
            "running thread  <Thread(Thread-14953, initial)>\n",
            "running thread  <Thread(Thread-14954, initial)>\n",
            "running thread  <Thread(Thread-14955, initial)>\n",
            "running thread  <Thread(Thread-14956, initial)>\n",
            "running thread  <Thread(Thread-14957, initial)>\n",
            "running thread  <Thread(Thread-14958, initial)>\n",
            "running thread  <Thread(Thread-14959, initial)>\n",
            "running thread  <Thread(Thread-14960, initial)>\n",
            "Running minibatch sequential-scan SGD with momentum (8 threads)\n"
          ]
        },
        {
          "output_type": "stream",
          "name": "stderr",
          "text": [
            "100%|██████████| 40/40 [00:00<00:00, 97.72it/s]\n"
          ]
        },
        {
          "output_type": "stream",
          "name": "stdout",
          "text": [
            "current loss: [[nan]]\n",
            "running thread  <Thread(Thread-14961, initial)>\n",
            "running thread  <Thread(Thread-14962, initial)>\n",
            "running thread  <Thread(Thread-14963, initial)>\n",
            "running thread  <Thread(Thread-14964, initial)>\n",
            "running thread  <Thread(Thread-14965, initial)>\n",
            "running thread  <Thread(Thread-14966, initial)>\n",
            "running thread  <Thread(Thread-14967, initial)>\n",
            "running thread  <Thread(Thread-14968, initial)>\n",
            "Running minibatch sequential-scan SGD with momentum (8 threads)\n"
          ]
        },
        {
          "output_type": "stream",
          "name": "stderr",
          "text": [
            "100%|██████████| 40/40 [00:00<00:00, 112.87it/s]\n"
          ]
        },
        {
          "output_type": "stream",
          "name": "stdout",
          "text": [
            "current loss: [[inf]]\n",
            "running thread  <Thread(Thread-14969, initial)>\n",
            "running thread  <Thread(Thread-14970, initial)>\n",
            "running thread  <Thread(Thread-14971, initial)>\n",
            "running thread  <Thread(Thread-14972, initial)>\n",
            "running thread  <Thread(Thread-14973, initial)>\n",
            "running thread  <Thread(Thread-14974, initial)>\n",
            "running thread  <Thread(Thread-14975, initial)>\n",
            "running thread  <Thread(Thread-14976, initial)>\n",
            "Running minibatch sequential-scan SGD with momentum (8 threads)\n"
          ]
        },
        {
          "output_type": "stream",
          "name": "stderr",
          "text": [
            "100%|██████████| 40/40 [00:00<00:00, 101.08it/s]\n"
          ]
        },
        {
          "output_type": "stream",
          "name": "stdout",
          "text": [
            "current loss: [[8.5625037e+141]]\n",
            "running thread  <Thread(Thread-14977, initial)>\n",
            "running thread  <Thread(Thread-14978, initial)>\n",
            "running thread  <Thread(Thread-14979, initial)>\n",
            "running thread  <Thread(Thread-14980, initial)>\n",
            "running thread  <Thread(Thread-14981, initial)>\n",
            "running thread  <Thread(Thread-14982, initial)>\n",
            "running thread  <Thread(Thread-14983, initial)>\n",
            "running thread  <Thread(Thread-14984, initial)>\n",
            "Running minibatch sequential-scan SGD with momentum (8 threads)\n"
          ]
        },
        {
          "output_type": "stream",
          "name": "stderr",
          "text": [
            "100%|██████████| 40/40 [00:00<00:00, 95.33it/s]\n"
          ]
        },
        {
          "output_type": "stream",
          "name": "stdout",
          "text": [
            "current loss: [[nan]]\n",
            "running thread  <Thread(Thread-14985, initial)>\n",
            "running thread  <Thread(Thread-14986, initial)>\n",
            "running thread  <Thread(Thread-14987, initial)>\n",
            "running thread  <Thread(Thread-14988, initial)>\n",
            "running thread  <Thread(Thread-14989, initial)>\n",
            "running thread  <Thread(Thread-14990, initial)>\n",
            "running thread  <Thread(Thread-14991, initial)>\n",
            "running thread  <Thread(Thread-14992, initial)>\n",
            "Running minibatch sequential-scan SGD with momentum (8 threads)\n"
          ]
        },
        {
          "output_type": "stream",
          "name": "stderr",
          "text": [
            "100%|██████████| 40/40 [00:00<00:00, 105.16it/s]\n"
          ]
        },
        {
          "output_type": "stream",
          "name": "stdout",
          "text": [
            "current loss: [[nan]]\n",
            "running thread  <Thread(Thread-14993, initial)>\n",
            "running thread  <Thread(Thread-14994, initial)>\n",
            "running thread  <Thread(Thread-14995, initial)>\n",
            "running thread  <Thread(Thread-14996, initial)>\n",
            "running thread  <Thread(Thread-14997, initial)>\n",
            "running thread  <Thread(Thread-14998, initial)>\n",
            "running thread  <Thread(Thread-14999, initial)>\n",
            "running thread  <Thread(Thread-15000, initial)>\n",
            "Running minibatch sequential-scan SGD with momentum (8 threads)\n"
          ]
        },
        {
          "output_type": "stream",
          "name": "stderr",
          "text": [
            "100%|██████████| 40/40 [00:00<00:00, 95.84it/s]\n"
          ]
        },
        {
          "output_type": "stream",
          "name": "stdout",
          "text": [
            "current loss: [[1.14406252e+103]]\n",
            "running thread  <Thread(Thread-15001, initial)>\n",
            "running thread  <Thread(Thread-15002, initial)>\n",
            "running thread  <Thread(Thread-15003, initial)>\n",
            "running thread  <Thread(Thread-15004, initial)>\n",
            "running thread  <Thread(Thread-15005, initial)>\n",
            "running thread  <Thread(Thread-15006, initial)>\n",
            "running thread  <Thread(Thread-15007, initial)>\n",
            "running thread  <Thread(Thread-15008, initial)>\n",
            "Running minibatch sequential-scan SGD with momentum (8 threads)\n"
          ]
        },
        {
          "output_type": "stream",
          "name": "stderr",
          "text": [
            "100%|██████████| 40/40 [00:00<00:00, 116.30it/s]\n"
          ]
        },
        {
          "output_type": "stream",
          "name": "stdout",
          "text": [
            "current loss: [[inf]]\n",
            "running thread  <Thread(Thread-15009, initial)>\n",
            "running thread  <Thread(Thread-15010, initial)>\n",
            "running thread  <Thread(Thread-15011, initial)>\n",
            "running thread  <Thread(Thread-15012, initial)>\n",
            "running thread  <Thread(Thread-15013, initial)>\n",
            "running thread  <Thread(Thread-15014, initial)>\n",
            "running thread  <Thread(Thread-15015, initial)>\n",
            "running thread  <Thread(Thread-15016, initial)>\n",
            "Running minibatch sequential-scan SGD with momentum (8 threads)\n"
          ]
        },
        {
          "output_type": "stream",
          "name": "stderr",
          "text": [
            "100%|██████████| 40/40 [00:00<00:00, 115.07it/s]\n"
          ]
        },
        {
          "output_type": "stream",
          "name": "stdout",
          "text": [
            "current loss: [[9.91486854e+79]]\n",
            "running thread  <Thread(Thread-15017, initial)>\n",
            "running thread  <Thread(Thread-15018, initial)>\n",
            "running thread  <Thread(Thread-15019, initial)>\n",
            "running thread  <Thread(Thread-15020, initial)>\n",
            "running thread  <Thread(Thread-15021, initial)>\n",
            "running thread  <Thread(Thread-15022, initial)>\n",
            "running thread  <Thread(Thread-15023, initial)>\n",
            "running thread  <Thread(Thread-15024, initial)>\n",
            "Running minibatch sequential-scan SGD with momentum (8 threads)\n"
          ]
        },
        {
          "output_type": "stream",
          "name": "stderr",
          "text": [
            "100%|██████████| 40/40 [00:00<00:00, 111.13it/s]\n"
          ]
        },
        {
          "output_type": "stream",
          "name": "stdout",
          "text": [
            "current loss: [[nan]]\n",
            "running thread  <Thread(Thread-15025, initial)>\n",
            "running thread  <Thread(Thread-15026, initial)>\n",
            "running thread  <Thread(Thread-15027, initial)>\n",
            "running thread  <Thread(Thread-15028, initial)>\n",
            "running thread  <Thread(Thread-15029, initial)>\n",
            "running thread  <Thread(Thread-15030, initial)>\n",
            "running thread  <Thread(Thread-15031, initial)>\n",
            "running thread  <Thread(Thread-15032, initial)>\n",
            "Running minibatch sequential-scan SGD with momentum (8 threads)\n"
          ]
        },
        {
          "output_type": "stream",
          "name": "stderr",
          "text": [
            "100%|██████████| 40/40 [00:00<00:00, 102.29it/s]\n"
          ]
        },
        {
          "output_type": "stream",
          "name": "stdout",
          "text": [
            "current loss: [[4.81459986e+122]]\n",
            "running thread  <Thread(Thread-15033, initial)>\n",
            "running thread  <Thread(Thread-15034, initial)>\n",
            "running thread  <Thread(Thread-15035, initial)>\n",
            "running thread  <Thread(Thread-15036, initial)>\n",
            "running thread  <Thread(Thread-15037, initial)>\n",
            "running thread  <Thread(Thread-15038, initial)>\n",
            "running thread  <Thread(Thread-15039, initial)>\n",
            "running thread  <Thread(Thread-15040, initial)>\n",
            "Running minibatch sequential-scan SGD with momentum (8 threads)\n"
          ]
        },
        {
          "output_type": "stream",
          "name": "stderr",
          "text": [
            "100%|██████████| 40/40 [00:00<00:00, 123.83it/s]\n"
          ]
        },
        {
          "output_type": "stream",
          "name": "stdout",
          "text": [
            "current loss: [[nan]]\n",
            "running thread  <Thread(Thread-15041, initial)>\n",
            "running thread  <Thread(Thread-15042, initial)>\n",
            "running thread  <Thread(Thread-15043, initial)>\n",
            "running thread  <Thread(Thread-15044, initial)>\n",
            "running thread  <Thread(Thread-15045, initial)>\n",
            "running thread  <Thread(Thread-15046, initial)>\n",
            "running thread  <Thread(Thread-15047, initial)>\n",
            "running thread  <Thread(Thread-15048, initial)>\n",
            "Running minibatch sequential-scan SGD with momentum (8 threads)\n"
          ]
        },
        {
          "output_type": "stream",
          "name": "stderr",
          "text": [
            "100%|██████████| 40/40 [00:00<00:00, 126.80it/s]\n"
          ]
        },
        {
          "output_type": "stream",
          "name": "stdout",
          "text": [
            "current loss: [[2.55898304e+173]]\n",
            "running thread  <Thread(Thread-15049, initial)>\n",
            "running thread  <Thread(Thread-15050, initial)>\n",
            "running thread  <Thread(Thread-15051, initial)>\n",
            "running thread  <Thread(Thread-15052, initial)>\n",
            "running thread  <Thread(Thread-15053, initial)>\n",
            "running thread  <Thread(Thread-15054, initial)>\n",
            "running thread  <Thread(Thread-15055, initial)>\n",
            "running thread  <Thread(Thread-15056, initial)>\n",
            "Running minibatch sequential-scan SGD with momentum (8 threads)\n"
          ]
        },
        {
          "output_type": "stream",
          "name": "stderr",
          "text": [
            "100%|██████████| 40/40 [00:00<00:00, 101.50it/s]\n"
          ]
        },
        {
          "output_type": "stream",
          "name": "stdout",
          "text": [
            "current loss: [[nan]]\n",
            "running thread  <Thread(Thread-15057, initial)>\n",
            "running thread  <Thread(Thread-15058, initial)>\n",
            "running thread  <Thread(Thread-15059, initial)>\n",
            "running thread  <Thread(Thread-15060, initial)>\n",
            "running thread  <Thread(Thread-15061, initial)>\n",
            "running thread  <Thread(Thread-15062, initial)>\n",
            "running thread  <Thread(Thread-15063, initial)>\n",
            "running thread  <Thread(Thread-15064, initial)>\n",
            "Running minibatch sequential-scan SGD with momentum (8 threads)\n"
          ]
        },
        {
          "output_type": "stream",
          "name": "stderr",
          "text": [
            "100%|██████████| 40/40 [00:00<00:00, 108.21it/s]\n"
          ]
        },
        {
          "output_type": "stream",
          "name": "stdout",
          "text": [
            "current loss: [[inf]]\n",
            "running thread  <Thread(Thread-15065, initial)>\n",
            "running thread  <Thread(Thread-15066, initial)>\n",
            "running thread  <Thread(Thread-15067, initial)>\n",
            "running thread  <Thread(Thread-15068, initial)>\n",
            "running thread  <Thread(Thread-15069, initial)>\n",
            "running thread  <Thread(Thread-15070, initial)>\n",
            "running thread  <Thread(Thread-15071, initial)>\n",
            "running thread  <Thread(Thread-15072, initial)>\n",
            "Running minibatch sequential-scan SGD with momentum (8 threads)\n"
          ]
        },
        {
          "output_type": "stream",
          "name": "stderr",
          "text": [
            "100%|██████████| 40/40 [00:00<00:00, 112.20it/s]\n"
          ]
        },
        {
          "output_type": "stream",
          "name": "stdout",
          "text": [
            "current loss: [[inf]]\n",
            "running thread  <Thread(Thread-15073, initial)>\n",
            "running thread  <Thread(Thread-15074, initial)>\n",
            "running thread  <Thread(Thread-15075, initial)>\n",
            "running thread  <Thread(Thread-15076, initial)>\n",
            "running thread  <Thread(Thread-15077, initial)>\n",
            "running thread  <Thread(Thread-15078, initial)>\n",
            "running thread  <Thread(Thread-15079, initial)>\n",
            "running thread  <Thread(Thread-15080, initial)>\n",
            "Running minibatch sequential-scan SGD with momentum (8 threads)\n"
          ]
        },
        {
          "output_type": "stream",
          "name": "stderr",
          "text": [
            "100%|██████████| 40/40 [00:00<00:00, 113.90it/s]\n"
          ]
        },
        {
          "output_type": "stream",
          "name": "stdout",
          "text": [
            "current loss: [[inf]]\n",
            "running thread  <Thread(Thread-15081, initial)>\n",
            "running thread  <Thread(Thread-15082, initial)>\n",
            "running thread  <Thread(Thread-15083, initial)>\n",
            "running thread  <Thread(Thread-15084, initial)>\n",
            "running thread  <Thread(Thread-15085, initial)>\n",
            "running thread  <Thread(Thread-15086, initial)>\n",
            "running thread  <Thread(Thread-15087, initial)>\n",
            "running thread  <Thread(Thread-15088, initial)>\n",
            "Running minibatch sequential-scan SGD with momentum (8 threads)\n"
          ]
        },
        {
          "output_type": "stream",
          "name": "stderr",
          "text": [
            "100%|██████████| 40/40 [00:00<00:00, 93.88it/s]\n"
          ]
        },
        {
          "output_type": "stream",
          "name": "stdout",
          "text": [
            "current loss: [[inf]]\n",
            "running thread  <Thread(Thread-15089, initial)>\n",
            "running thread  <Thread(Thread-15090, initial)>\n",
            "running thread  <Thread(Thread-15091, initial)>\n",
            "running thread  <Thread(Thread-15092, initial)>\n",
            "running thread  <Thread(Thread-15093, initial)>\n",
            "running thread  <Thread(Thread-15094, initial)>\n",
            "running thread  <Thread(Thread-15095, initial)>\n",
            "running thread  <Thread(Thread-15096, initial)>\n",
            "Running minibatch sequential-scan SGD with momentum (8 threads)\n"
          ]
        },
        {
          "output_type": "stream",
          "name": "stderr",
          "text": [
            "100%|██████████| 40/40 [00:00<00:00, 113.11it/s]\n"
          ]
        },
        {
          "output_type": "stream",
          "name": "stdout",
          "text": [
            "current loss: [[nan]]\n",
            "running thread  <Thread(Thread-15097, initial)>\n",
            "running thread  <Thread(Thread-15098, initial)>\n",
            "running thread  <Thread(Thread-15099, initial)>\n",
            "running thread  <Thread(Thread-15100, initial)>\n",
            "running thread  <Thread(Thread-15101, initial)>\n",
            "running thread  <Thread(Thread-15102, initial)>\n",
            "running thread  <Thread(Thread-15103, initial)>\n",
            "running thread  <Thread(Thread-15104, initial)>\n",
            "Running minibatch sequential-scan SGD with momentum (8 threads)\n"
          ]
        },
        {
          "output_type": "stream",
          "name": "stderr",
          "text": [
            "100%|██████████| 40/40 [00:00<00:00, 111.20it/s]\n"
          ]
        },
        {
          "output_type": "stream",
          "name": "stdout",
          "text": [
            "current loss: [[nan]]\n",
            "running thread  <Thread(Thread-15105, initial)>\n",
            "running thread  <Thread(Thread-15106, initial)>\n",
            "running thread  <Thread(Thread-15107, initial)>\n",
            "running thread  <Thread(Thread-15108, initial)>\n",
            "running thread  <Thread(Thread-15109, initial)>\n",
            "running thread  <Thread(Thread-15110, initial)>\n",
            "running thread  <Thread(Thread-15111, initial)>\n",
            "running thread  <Thread(Thread-15112, initial)>\n",
            "Running minibatch sequential-scan SGD with momentum (8 threads)\n"
          ]
        },
        {
          "output_type": "stream",
          "name": "stderr",
          "text": [
            "100%|██████████| 40/40 [00:00<00:00, 108.86it/s]\n"
          ]
        },
        {
          "output_type": "stream",
          "name": "stdout",
          "text": [
            "current loss: [[nan]]\n",
            "running thread  <Thread(Thread-15113, initial)>\n",
            "running thread  <Thread(Thread-15114, initial)>\n",
            "running thread  <Thread(Thread-15115, initial)>\n",
            "running thread  <Thread(Thread-15116, initial)>\n",
            "running thread  <Thread(Thread-15117, initial)>\n",
            "running thread  <Thread(Thread-15118, initial)>\n",
            "running thread  <Thread(Thread-15119, initial)>\n",
            "running thread  <Thread(Thread-15120, initial)>\n",
            "Running minibatch sequential-scan SGD with momentum (8 threads)\n"
          ]
        },
        {
          "output_type": "stream",
          "name": "stderr",
          "text": [
            "100%|██████████| 40/40 [00:00<00:00, 116.28it/s]\n"
          ]
        },
        {
          "output_type": "stream",
          "name": "stdout",
          "text": [
            "current loss: [[nan]]\n",
            "running thread  <Thread(Thread-15121, initial)>\n",
            "running thread  <Thread(Thread-15122, initial)>\n",
            "running thread  <Thread(Thread-15123, initial)>\n",
            "running thread  <Thread(Thread-15124, initial)>\n",
            "running thread  <Thread(Thread-15125, initial)>\n",
            "running thread  <Thread(Thread-15126, initial)>\n",
            "running thread  <Thread(Thread-15127, initial)>\n",
            "running thread  <Thread(Thread-15128, initial)>\n",
            "Running minibatch sequential-scan SGD with momentum (8 threads)\n"
          ]
        },
        {
          "output_type": "stream",
          "name": "stderr",
          "text": [
            "100%|██████████| 40/40 [00:00<00:00, 97.55it/s]\n"
          ]
        },
        {
          "output_type": "stream",
          "name": "stdout",
          "text": [
            "current loss: [[8.73690767e+298]]\n",
            "running thread  <Thread(Thread-15129, initial)>\n",
            "running thread  <Thread(Thread-15130, initial)>\n",
            "running thread  <Thread(Thread-15131, initial)>\n",
            "running thread  <Thread(Thread-15132, initial)>\n",
            "running thread  <Thread(Thread-15133, initial)>\n",
            "running thread  <Thread(Thread-15134, initial)>\n",
            "running thread  <Thread(Thread-15135, initial)>\n",
            "running thread  <Thread(Thread-15136, initial)>\n",
            "Running minibatch sequential-scan SGD with momentum (8 threads)\n"
          ]
        },
        {
          "output_type": "stream",
          "name": "stderr",
          "text": [
            "100%|██████████| 40/40 [00:00<00:00, 112.67it/s]\n"
          ]
        },
        {
          "output_type": "stream",
          "name": "stdout",
          "text": [
            "current loss: [[7.2955241e+224]]\n",
            "running thread  <Thread(Thread-15137, initial)>\n",
            "running thread  <Thread(Thread-15138, initial)>\n",
            "running thread  <Thread(Thread-15139, initial)>\n",
            "running thread  <Thread(Thread-15140, initial)>\n",
            "running thread  <Thread(Thread-15141, initial)>\n",
            "running thread  <Thread(Thread-15142, initial)>\n",
            "running thread  <Thread(Thread-15143, initial)>\n",
            "running thread  <Thread(Thread-15144, initial)>\n",
            "Running minibatch sequential-scan SGD with momentum (8 threads)\n"
          ]
        },
        {
          "output_type": "stream",
          "name": "stderr",
          "text": [
            "100%|██████████| 40/40 [00:00<00:00, 110.12it/s]\n"
          ]
        },
        {
          "output_type": "stream",
          "name": "stdout",
          "text": [
            "current loss: [[inf]]\n",
            "running thread  <Thread(Thread-15145, initial)>\n",
            "running thread  <Thread(Thread-15146, initial)>\n",
            "running thread  <Thread(Thread-15147, initial)>\n",
            "running thread  <Thread(Thread-15148, initial)>\n",
            "running thread  <Thread(Thread-15149, initial)>\n",
            "running thread  <Thread(Thread-15150, initial)>\n",
            "running thread  <Thread(Thread-15151, initial)>\n",
            "running thread  <Thread(Thread-15152, initial)>\n",
            "Running minibatch sequential-scan SGD with momentum (8 threads)\n"
          ]
        },
        {
          "output_type": "stream",
          "name": "stderr",
          "text": [
            "100%|██████████| 40/40 [00:00<00:00, 100.44it/s]\n"
          ]
        },
        {
          "output_type": "stream",
          "name": "stdout",
          "text": [
            "current loss: [[nan]]\n",
            "running thread  <Thread(Thread-15153, initial)>\n",
            "running thread  <Thread(Thread-15154, initial)>\n",
            "running thread  <Thread(Thread-15155, initial)>\n",
            "running thread  <Thread(Thread-15156, initial)>\n",
            "running thread  <Thread(Thread-15157, initial)>\n",
            "running thread  <Thread(Thread-15158, initial)>\n",
            "running thread  <Thread(Thread-15159, initial)>\n",
            "running thread  <Thread(Thread-15160, initial)>\n",
            "Running minibatch sequential-scan SGD with momentum (8 threads)\n"
          ]
        },
        {
          "output_type": "stream",
          "name": "stderr",
          "text": [
            "100%|██████████| 40/40 [00:00<00:00, 101.09it/s]\n"
          ]
        },
        {
          "output_type": "stream",
          "name": "stdout",
          "text": [
            "current loss: [[4697.29239219]]\n",
            "running thread  <Thread(Thread-15161, initial)>\n",
            "running thread  <Thread(Thread-15162, initial)>\n",
            "running thread  <Thread(Thread-15163, initial)>\n",
            "running thread  <Thread(Thread-15164, initial)>\n",
            "running thread  <Thread(Thread-15165, initial)>\n",
            "running thread  <Thread(Thread-15166, initial)>\n",
            "running thread  <Thread(Thread-15167, initial)>\n",
            "running thread  <Thread(Thread-15168, initial)>\n",
            "Running minibatch sequential-scan SGD with momentum (8 threads)\n"
          ]
        },
        {
          "output_type": "stream",
          "name": "stderr",
          "text": [
            "100%|██████████| 40/40 [00:00<00:00, 104.60it/s]\n"
          ]
        },
        {
          "output_type": "stream",
          "name": "stdout",
          "text": [
            "current loss: [[1.94109318e+32]]\n",
            "running thread  <Thread(Thread-15169, initial)>\n",
            "running thread  <Thread(Thread-15170, initial)>\n",
            "running thread  <Thread(Thread-15171, initial)>\n",
            "running thread  <Thread(Thread-15172, initial)>\n",
            "running thread  <Thread(Thread-15173, initial)>\n",
            "running thread  <Thread(Thread-15174, initial)>\n",
            "running thread  <Thread(Thread-15175, initial)>\n",
            "running thread  <Thread(Thread-15176, initial)>\n",
            "Running minibatch sequential-scan SGD with momentum (8 threads)\n"
          ]
        },
        {
          "output_type": "stream",
          "name": "stderr",
          "text": [
            "100%|██████████| 40/40 [00:00<00:00, 104.36it/s]\n"
          ]
        },
        {
          "output_type": "stream",
          "name": "stdout",
          "text": [
            "current loss: [[2.95189352e+136]]\n",
            "running thread  <Thread(Thread-15177, initial)>\n",
            "running thread  <Thread(Thread-15178, initial)>\n",
            "running thread  <Thread(Thread-15179, initial)>\n",
            "running thread  <Thread(Thread-15180, initial)>\n",
            "running thread  <Thread(Thread-15181, initial)>\n",
            "running thread  <Thread(Thread-15182, initial)>\n",
            "running thread  <Thread(Thread-15183, initial)>\n",
            "running thread  <Thread(Thread-15184, initial)>\n",
            "Running minibatch sequential-scan SGD with momentum (8 threads)\n"
          ]
        },
        {
          "output_type": "stream",
          "name": "stderr",
          "text": [
            "100%|██████████| 40/40 [00:00<00:00, 109.06it/s]\n"
          ]
        },
        {
          "output_type": "stream",
          "name": "stdout",
          "text": [
            "current loss: [[nan]]\n",
            "running thread  <Thread(Thread-15185, initial)>\n",
            "running thread  <Thread(Thread-15186, initial)>\n",
            "running thread  <Thread(Thread-15187, initial)>\n",
            "running thread  <Thread(Thread-15188, initial)>\n",
            "running thread  <Thread(Thread-15189, initial)>\n",
            "running thread  <Thread(Thread-15190, initial)>\n",
            "running thread  <Thread(Thread-15191, initial)>\n",
            "running thread  <Thread(Thread-15192, initial)>\n",
            "Running minibatch sequential-scan SGD with momentum (8 threads)\n"
          ]
        },
        {
          "output_type": "stream",
          "name": "stderr",
          "text": [
            "100%|██████████| 40/40 [00:00<00:00, 94.30it/s] \n"
          ]
        },
        {
          "output_type": "stream",
          "name": "stdout",
          "text": [
            "current loss: [[2.41879885e+108]]\n",
            "running thread  <Thread(Thread-15193, initial)>\n",
            "running thread  <Thread(Thread-15194, initial)>\n",
            "running thread  <Thread(Thread-15195, initial)>\n",
            "running thread  <Thread(Thread-15196, initial)>\n",
            "running thread  <Thread(Thread-15197, initial)>\n",
            "running thread  <Thread(Thread-15198, initial)>\n",
            "running thread  <Thread(Thread-15199, initial)>\n",
            "running thread  <Thread(Thread-15200, initial)>\n",
            "Running minibatch sequential-scan SGD with momentum (8 threads)\n"
          ]
        },
        {
          "output_type": "stream",
          "name": "stderr",
          "text": [
            "100%|██████████| 40/40 [00:00<00:00, 105.96it/s]\n"
          ]
        },
        {
          "output_type": "stream",
          "name": "stdout",
          "text": [
            "current loss: [[5.34385229e+266]]\n",
            "running thread  <Thread(Thread-15201, initial)>\n",
            "running thread  <Thread(Thread-15202, initial)>\n",
            "running thread  <Thread(Thread-15203, initial)>\n",
            "running thread  <Thread(Thread-15204, initial)>\n",
            "running thread  <Thread(Thread-15205, initial)>\n",
            "running thread  <Thread(Thread-15206, initial)>\n",
            "running thread  <Thread(Thread-15207, initial)>\n",
            "running thread  <Thread(Thread-15208, initial)>\n",
            "Running minibatch sequential-scan SGD with momentum (8 threads)\n"
          ]
        },
        {
          "output_type": "stream",
          "name": "stderr",
          "text": [
            "100%|██████████| 40/40 [00:00<00:00, 123.86it/s]\n"
          ]
        },
        {
          "output_type": "stream",
          "name": "stdout",
          "text": [
            "current loss: [[7.22160175e+122]]\n",
            "running thread  <Thread(Thread-15209, initial)>\n",
            "running thread  <Thread(Thread-15210, initial)>\n",
            "running thread  <Thread(Thread-15211, initial)>\n",
            "running thread  <Thread(Thread-15212, initial)>\n",
            "running thread  <Thread(Thread-15213, initial)>\n",
            "running thread  <Thread(Thread-15214, initial)>\n",
            "running thread  <Thread(Thread-15215, initial)>\n",
            "running thread  <Thread(Thread-15216, initial)>\n",
            "Running minibatch sequential-scan SGD with momentum (8 threads)\n"
          ]
        },
        {
          "output_type": "stream",
          "name": "stderr",
          "text": [
            "100%|██████████| 40/40 [00:00<00:00, 101.36it/s]\n"
          ]
        },
        {
          "output_type": "stream",
          "name": "stdout",
          "text": [
            "current loss: [[nan]]\n",
            "running thread  <Thread(Thread-15217, initial)>\n",
            "running thread  <Thread(Thread-15218, initial)>\n",
            "running thread  <Thread(Thread-15219, initial)>\n",
            "running thread  <Thread(Thread-15220, initial)>\n",
            "running thread  <Thread(Thread-15221, initial)>\n",
            "running thread  <Thread(Thread-15222, initial)>\n",
            "running thread  <Thread(Thread-15223, initial)>\n",
            "running thread  <Thread(Thread-15224, initial)>\n",
            "Running minibatch sequential-scan SGD with momentum (8 threads)\n"
          ]
        },
        {
          "output_type": "stream",
          "name": "stderr",
          "text": [
            "100%|██████████| 40/40 [00:00<00:00, 117.50it/s]\n"
          ]
        },
        {
          "output_type": "stream",
          "name": "stdout",
          "text": [
            "current loss: [[2.32397459e+228]]\n",
            "running thread  <Thread(Thread-15225, initial)>\n",
            "running thread  <Thread(Thread-15226, initial)>\n",
            "running thread  <Thread(Thread-15227, initial)>\n",
            "running thread  <Thread(Thread-15228, initial)>\n",
            "running thread  <Thread(Thread-15229, initial)>\n",
            "running thread  <Thread(Thread-15230, initial)>\n",
            "running thread  <Thread(Thread-15231, initial)>\n",
            "running thread  <Thread(Thread-15232, initial)>\n",
            "Running minibatch sequential-scan SGD with momentum (8 threads)\n"
          ]
        },
        {
          "output_type": "stream",
          "name": "stderr",
          "text": [
            "100%|██████████| 40/40 [00:00<00:00, 114.25it/s]\n"
          ]
        },
        {
          "output_type": "stream",
          "name": "stdout",
          "text": [
            "current loss: [[nan]]\n",
            "running thread  <Thread(Thread-15233, initial)>\n",
            "running thread  <Thread(Thread-15234, initial)>\n",
            "running thread  <Thread(Thread-15235, initial)>\n",
            "running thread  <Thread(Thread-15236, initial)>\n",
            "running thread  <Thread(Thread-15237, initial)>\n",
            "running thread  <Thread(Thread-15238, initial)>\n",
            "running thread  <Thread(Thread-15239, initial)>\n",
            "running thread  <Thread(Thread-15240, initial)>\n",
            "Running minibatch sequential-scan SGD with momentum (8 threads)\n"
          ]
        },
        {
          "output_type": "stream",
          "name": "stderr",
          "text": [
            "100%|██████████| 40/40 [00:00<00:00, 96.23it/s]\n"
          ]
        },
        {
          "output_type": "stream",
          "name": "stdout",
          "text": [
            "current loss: [[2.36198965e+243]]\n",
            "running thread  <Thread(Thread-15241, initial)>\n",
            "running thread  <Thread(Thread-15242, initial)>\n",
            "running thread  <Thread(Thread-15243, initial)>\n",
            "running thread  <Thread(Thread-15244, initial)>\n",
            "running thread  <Thread(Thread-15245, initial)>\n",
            "running thread  <Thread(Thread-15246, initial)>\n",
            "running thread  <Thread(Thread-15247, initial)>\n",
            "running thread  <Thread(Thread-15248, initial)>\n",
            "Running minibatch sequential-scan SGD with momentum (8 threads)\n"
          ]
        },
        {
          "output_type": "stream",
          "name": "stderr",
          "text": [
            "100%|██████████| 40/40 [00:00<00:00, 115.96it/s]\n"
          ]
        },
        {
          "output_type": "stream",
          "name": "stdout",
          "text": [
            "current loss: [[1.35318677e+48]]\n",
            "running thread  <Thread(Thread-15249, initial)>\n",
            "running thread  <Thread(Thread-15250, initial)>\n",
            "running thread  <Thread(Thread-15251, initial)>\n",
            "running thread  <Thread(Thread-15252, initial)>\n",
            "running thread  <Thread(Thread-15253, initial)>\n",
            "running thread  <Thread(Thread-15254, initial)>\n",
            "running thread  <Thread(Thread-15255, initial)>\n",
            "running thread  <Thread(Thread-15256, initial)>\n",
            "Running minibatch sequential-scan SGD with momentum (8 threads)\n"
          ]
        },
        {
          "output_type": "stream",
          "name": "stderr",
          "text": [
            "100%|██████████| 40/40 [00:00<00:00, 113.34it/s]\n"
          ]
        },
        {
          "output_type": "stream",
          "name": "stdout",
          "text": [
            "current loss: [[inf]]\n",
            "running thread  <Thread(Thread-15257, initial)>\n",
            "running thread  <Thread(Thread-15258, initial)>\n",
            "running thread  <Thread(Thread-15259, initial)>\n",
            "running thread  <Thread(Thread-15260, initial)>\n",
            "running thread  <Thread(Thread-15261, initial)>\n",
            "running thread  <Thread(Thread-15262, initial)>\n",
            "running thread  <Thread(Thread-15263, initial)>\n",
            "running thread  <Thread(Thread-15264, initial)>\n",
            "Running minibatch sequential-scan SGD with momentum (8 threads)\n"
          ]
        },
        {
          "output_type": "stream",
          "name": "stderr",
          "text": [
            "100%|██████████| 40/40 [00:00<00:00, 104.90it/s]\n"
          ]
        },
        {
          "output_type": "stream",
          "name": "stdout",
          "text": [
            "current loss: [[nan]]\n",
            "running thread  <Thread(Thread-15265, initial)>\n",
            "running thread  <Thread(Thread-15266, initial)>\n",
            "running thread  <Thread(Thread-15267, initial)>\n",
            "running thread  <Thread(Thread-15268, initial)>\n",
            "running thread  <Thread(Thread-15269, initial)>\n",
            "running thread  <Thread(Thread-15270, initial)>\n",
            "running thread  <Thread(Thread-15271, initial)>\n",
            "running thread  <Thread(Thread-15272, initial)>\n",
            "Running minibatch sequential-scan SGD with momentum (8 threads)\n"
          ]
        },
        {
          "output_type": "stream",
          "name": "stderr",
          "text": [
            "100%|██████████| 40/40 [00:00<00:00, 95.49it/s]\n"
          ]
        },
        {
          "output_type": "stream",
          "name": "stdout",
          "text": [
            "current loss: [[47.98655236]]\n",
            "running thread  <Thread(Thread-15273, initial)>\n",
            "running thread  <Thread(Thread-15274, initial)>\n",
            "running thread  <Thread(Thread-15275, initial)>\n",
            "running thread  <Thread(Thread-15276, initial)>\n",
            "running thread  <Thread(Thread-15277, initial)>\n",
            "running thread  <Thread(Thread-15278, initial)>\n",
            "running thread  <Thread(Thread-15279, initial)>\n",
            "running thread  <Thread(Thread-15280, initial)>\n",
            "Running minibatch sequential-scan SGD with momentum (8 threads)\n"
          ]
        },
        {
          "output_type": "stream",
          "name": "stderr",
          "text": [
            "100%|██████████| 40/40 [00:00<00:00, 124.45it/s]\n"
          ]
        },
        {
          "output_type": "stream",
          "name": "stdout",
          "text": [
            "current loss: [[4.42362223e+194]]\n",
            "running thread  <Thread(Thread-15281, initial)>\n",
            "running thread  <Thread(Thread-15282, initial)>\n",
            "running thread  <Thread(Thread-15283, initial)>\n",
            "running thread  <Thread(Thread-15284, initial)>\n",
            "running thread  <Thread(Thread-15285, initial)>\n",
            "running thread  <Thread(Thread-15286, initial)>\n",
            "running thread  <Thread(Thread-15287, initial)>\n",
            "running thread  <Thread(Thread-15288, initial)>\n",
            "Running minibatch sequential-scan SGD with momentum (8 threads)\n"
          ]
        },
        {
          "output_type": "stream",
          "name": "stderr",
          "text": [
            "100%|██████████| 40/40 [00:00<00:00, 97.27it/s]\n"
          ]
        },
        {
          "output_type": "stream",
          "name": "stdout",
          "text": [
            "current loss: [[3.55805492e+210]]\n",
            "running thread  <Thread(Thread-15289, initial)>\n",
            "running thread  <Thread(Thread-15290, initial)>\n",
            "running thread  <Thread(Thread-15291, initial)>\n",
            "running thread  <Thread(Thread-15292, initial)>\n",
            "running thread  <Thread(Thread-15293, initial)>\n",
            "running thread  <Thread(Thread-15294, initial)>\n",
            "running thread  <Thread(Thread-15295, initial)>\n",
            "running thread  <Thread(Thread-15296, initial)>\n",
            "Running minibatch sequential-scan SGD with momentum (8 threads)\n"
          ]
        },
        {
          "output_type": "stream",
          "name": "stderr",
          "text": [
            "100%|██████████| 40/40 [00:00<00:00, 102.87it/s]\n"
          ]
        },
        {
          "output_type": "stream",
          "name": "stdout",
          "text": [
            "current loss: [[nan]]\n",
            "running thread  <Thread(Thread-15297, initial)>\n",
            "running thread  <Thread(Thread-15298, initial)>\n",
            "running thread  <Thread(Thread-15299, initial)>\n",
            "running thread  <Thread(Thread-15300, initial)>\n",
            "running thread  <Thread(Thread-15301, initial)>\n",
            "running thread  <Thread(Thread-15302, initial)>\n",
            "running thread  <Thread(Thread-15303, initial)>\n",
            "running thread  <Thread(Thread-15304, initial)>\n",
            "Running minibatch sequential-scan SGD with momentum (8 threads)\n"
          ]
        },
        {
          "output_type": "stream",
          "name": "stderr",
          "text": [
            "100%|██████████| 40/40 [00:00<00:00, 104.94it/s]\n"
          ]
        },
        {
          "output_type": "stream",
          "name": "stdout",
          "text": [
            "current loss: [[5.83504137e+70]]\n",
            "running thread  <Thread(Thread-15305, initial)>\n",
            "running thread  <Thread(Thread-15306, initial)>\n",
            "running thread  <Thread(Thread-15307, initial)>\n",
            "running thread  <Thread(Thread-15308, initial)>\n",
            "running thread  <Thread(Thread-15309, initial)>\n",
            "running thread  <Thread(Thread-15310, initial)>\n",
            "running thread  <Thread(Thread-15311, initial)>\n",
            "running thread  <Thread(Thread-15312, initial)>\n",
            "Running minibatch sequential-scan SGD with momentum (8 threads)\n"
          ]
        },
        {
          "output_type": "stream",
          "name": "stderr",
          "text": [
            "100%|██████████| 40/40 [00:00<00:00, 117.92it/s]\n"
          ]
        },
        {
          "output_type": "stream",
          "name": "stdout",
          "text": [
            "current loss: [[inf]]\n",
            "running thread  <Thread(Thread-15313, initial)>\n",
            "running thread  <Thread(Thread-15314, initial)>\n",
            "running thread  <Thread(Thread-15315, initial)>\n",
            "running thread  <Thread(Thread-15316, initial)>\n",
            "running thread  <Thread(Thread-15317, initial)>\n",
            "running thread  <Thread(Thread-15318, initial)>\n",
            "running thread  <Thread(Thread-15319, initial)>\n",
            "running thread  <Thread(Thread-15320, initial)>\n",
            "Running minibatch sequential-scan SGD with momentum (8 threads)\n"
          ]
        },
        {
          "output_type": "stream",
          "name": "stderr",
          "text": [
            "100%|██████████| 40/40 [00:00<00:00, 119.61it/s]\n"
          ]
        },
        {
          "output_type": "stream",
          "name": "stdout",
          "text": [
            "current loss: [[8.41827863e+48]]\n",
            "running thread  <Thread(Thread-15321, initial)>\n",
            "running thread  <Thread(Thread-15322, initial)>\n",
            "running thread  <Thread(Thread-15323, initial)>\n",
            "running thread  <Thread(Thread-15324, initial)>\n",
            "running thread  <Thread(Thread-15325, initial)>\n",
            "running thread  <Thread(Thread-15326, initial)>\n",
            "running thread  <Thread(Thread-15327, initial)>\n",
            "running thread  <Thread(Thread-15328, initial)>\n",
            "Running minibatch sequential-scan SGD with momentum (8 threads)\n"
          ]
        },
        {
          "output_type": "stream",
          "name": "stderr",
          "text": [
            "100%|██████████| 40/40 [00:00<00:00, 102.33it/s]\n"
          ]
        },
        {
          "output_type": "stream",
          "name": "stdout",
          "text": [
            "current loss: [[264.37605812]]\n",
            "running thread  <Thread(Thread-15329, initial)>\n",
            "running thread  <Thread(Thread-15330, initial)>\n",
            "running thread  <Thread(Thread-15331, initial)>\n",
            "running thread  <Thread(Thread-15332, initial)>\n",
            "running thread  <Thread(Thread-15333, initial)>\n",
            "running thread  <Thread(Thread-15334, initial)>\n",
            "running thread  <Thread(Thread-15335, initial)>\n",
            "running thread  <Thread(Thread-15336, initial)>\n",
            "Running minibatch sequential-scan SGD with momentum (8 threads)\n"
          ]
        },
        {
          "output_type": "stream",
          "name": "stderr",
          "text": [
            "100%|██████████| 40/40 [00:00<00:00, 123.03it/s]\n"
          ]
        },
        {
          "output_type": "stream",
          "name": "stdout",
          "text": [
            "current loss: [[4.86422407e+229]]\n",
            "running thread  <Thread(Thread-15337, initial)>\n",
            "running thread  <Thread(Thread-15338, initial)>\n",
            "running thread  <Thread(Thread-15339, initial)>\n",
            "running thread  <Thread(Thread-15340, initial)>\n",
            "running thread  <Thread(Thread-15341, initial)>\n",
            "running thread  <Thread(Thread-15342, initial)>\n",
            "running thread  <Thread(Thread-15343, initial)>\n",
            "running thread  <Thread(Thread-15344, initial)>\n",
            "Running minibatch sequential-scan SGD with momentum (8 threads)\n"
          ]
        },
        {
          "output_type": "stream",
          "name": "stderr",
          "text": [
            "100%|██████████| 40/40 [00:00<00:00, 110.08it/s]\n"
          ]
        },
        {
          "output_type": "stream",
          "name": "stdout",
          "text": [
            "current loss: [[3.80420777e+69]]\n",
            "running thread  <Thread(Thread-15345, initial)>\n",
            "running thread  <Thread(Thread-15346, initial)>\n",
            "running thread  <Thread(Thread-15347, initial)>\n",
            "running thread  <Thread(Thread-15348, initial)>\n",
            "running thread  <Thread(Thread-15349, initial)>\n",
            "running thread  <Thread(Thread-15350, initial)>\n",
            "running thread  <Thread(Thread-15351, initial)>\n",
            "running thread  <Thread(Thread-15352, initial)>\n",
            "Running minibatch sequential-scan SGD with momentum (8 threads)\n"
          ]
        },
        {
          "output_type": "stream",
          "name": "stderr",
          "text": [
            "100%|██████████| 40/40 [00:00<00:00, 126.17it/s]\n"
          ]
        },
        {
          "output_type": "stream",
          "name": "stdout",
          "text": [
            "current loss: [[1.98030129e+286]]\n",
            "running thread  <Thread(Thread-15353, initial)>\n",
            "running thread  <Thread(Thread-15354, initial)>\n",
            "running thread  <Thread(Thread-15355, initial)>\n",
            "running thread  <Thread(Thread-15356, initial)>\n",
            "running thread  <Thread(Thread-15357, initial)>\n",
            "running thread  <Thread(Thread-15358, initial)>\n",
            "running thread  <Thread(Thread-15359, initial)>\n",
            "running thread  <Thread(Thread-15360, initial)>\n",
            "Running minibatch sequential-scan SGD with momentum (8 threads)\n"
          ]
        },
        {
          "output_type": "stream",
          "name": "stderr",
          "text": [
            "100%|██████████| 40/40 [00:00<00:00, 117.07it/s]\n"
          ]
        },
        {
          "output_type": "stream",
          "name": "stdout",
          "text": [
            "current loss: [[inf]]\n",
            "running thread  <Thread(Thread-15361, initial)>\n",
            "running thread  <Thread(Thread-15362, initial)>\n",
            "running thread  <Thread(Thread-15363, initial)>\n",
            "running thread  <Thread(Thread-15364, initial)>\n",
            "running thread  <Thread(Thread-15365, initial)>\n",
            "running thread  <Thread(Thread-15366, initial)>\n",
            "running thread  <Thread(Thread-15367, initial)>\n",
            "running thread  <Thread(Thread-15368, initial)>\n",
            "Running minibatch sequential-scan SGD with momentum (8 threads)\n"
          ]
        },
        {
          "output_type": "stream",
          "name": "stderr",
          "text": [
            "100%|██████████| 40/40 [00:00<00:00, 107.02it/s]\n"
          ]
        },
        {
          "output_type": "stream",
          "name": "stdout",
          "text": [
            "current loss: [[nan]]\n",
            "running thread  <Thread(Thread-15369, initial)>\n",
            "running thread  <Thread(Thread-15370, initial)>\n",
            "running thread  <Thread(Thread-15371, initial)>\n",
            "running thread  <Thread(Thread-15372, initial)>\n",
            "running thread  <Thread(Thread-15373, initial)>\n",
            "running thread  <Thread(Thread-15374, initial)>\n",
            "running thread  <Thread(Thread-15375, initial)>\n",
            "running thread  <Thread(Thread-15376, initial)>\n",
            "Running minibatch sequential-scan SGD with momentum (8 threads)\n"
          ]
        },
        {
          "output_type": "stream",
          "name": "stderr",
          "text": [
            "100%|██████████| 40/40 [00:00<00:00, 119.25it/s]\n"
          ]
        },
        {
          "output_type": "stream",
          "name": "stdout",
          "text": [
            "current loss: [[inf]]\n",
            "running thread  <Thread(Thread-15377, initial)>\n",
            "running thread  <Thread(Thread-15378, initial)>\n",
            "running thread  <Thread(Thread-15379, initial)>\n",
            "running thread  <Thread(Thread-15380, initial)>\n",
            "running thread  <Thread(Thread-15381, initial)>\n",
            "running thread  <Thread(Thread-15382, initial)>\n",
            "running thread  <Thread(Thread-15383, initial)>\n",
            "running thread  <Thread(Thread-15384, initial)>\n",
            "Running minibatch sequential-scan SGD with momentum (8 threads)\n"
          ]
        },
        {
          "output_type": "stream",
          "name": "stderr",
          "text": [
            "100%|██████████| 40/40 [00:00<00:00, 89.23it/s]\n"
          ]
        },
        {
          "output_type": "stream",
          "name": "stdout",
          "text": [
            "current loss: [[inf]]\n",
            "running thread  <Thread(Thread-15385, initial)>\n",
            "running thread  <Thread(Thread-15386, initial)>\n",
            "running thread  <Thread(Thread-15387, initial)>\n",
            "running thread  <Thread(Thread-15388, initial)>\n",
            "running thread  <Thread(Thread-15389, initial)>\n",
            "running thread  <Thread(Thread-15390, initial)>\n",
            "running thread  <Thread(Thread-15391, initial)>\n",
            "running thread  <Thread(Thread-15392, initial)>\n",
            "Running minibatch sequential-scan SGD with momentum (8 threads)\n"
          ]
        },
        {
          "output_type": "stream",
          "name": "stderr",
          "text": [
            "100%|██████████| 40/40 [00:00<00:00, 111.41it/s]\n"
          ]
        },
        {
          "output_type": "stream",
          "name": "stdout",
          "text": [
            "current loss: [[4.36556644e+186]]\n",
            "running thread  <Thread(Thread-15393, initial)>\n",
            "running thread  <Thread(Thread-15394, initial)>\n",
            "running thread  <Thread(Thread-15395, initial)>\n",
            "running thread  <Thread(Thread-15396, initial)>\n",
            "running thread  <Thread(Thread-15397, initial)>\n",
            "running thread  <Thread(Thread-15398, initial)>\n",
            "running thread  <Thread(Thread-15399, initial)>\n",
            "running thread  <Thread(Thread-15400, initial)>\n",
            "Running minibatch sequential-scan SGD with momentum (8 threads)\n"
          ]
        },
        {
          "output_type": "stream",
          "name": "stderr",
          "text": [
            "100%|██████████| 40/40 [00:00<00:00, 119.72it/s]\n"
          ]
        },
        {
          "output_type": "stream",
          "name": "stdout",
          "text": [
            "current loss: [[nan]]\n",
            "running thread  <Thread(Thread-15401, initial)>\n",
            "running thread  <Thread(Thread-15402, initial)>\n",
            "running thread  <Thread(Thread-15403, initial)>\n",
            "running thread  <Thread(Thread-15404, initial)>\n",
            "running thread  <Thread(Thread-15405, initial)>\n",
            "running thread  <Thread(Thread-15406, initial)>\n",
            "running thread  <Thread(Thread-15407, initial)>\n",
            "running thread  <Thread(Thread-15408, initial)>\n",
            "Running minibatch sequential-scan SGD with momentum (8 threads)\n"
          ]
        },
        {
          "output_type": "stream",
          "name": "stderr",
          "text": [
            "100%|██████████| 40/40 [00:00<00:00, 106.82it/s]\n"
          ]
        },
        {
          "output_type": "stream",
          "name": "stdout",
          "text": [
            "current loss: [[1.11426915e+285]]\n",
            "running thread  <Thread(Thread-15409, initial)>\n",
            "running thread  <Thread(Thread-15410, initial)>\n",
            "running thread  <Thread(Thread-15411, initial)>\n",
            "running thread  <Thread(Thread-15412, initial)>\n",
            "running thread  <Thread(Thread-15413, initial)>\n",
            "running thread  <Thread(Thread-15414, initial)>\n",
            "running thread  <Thread(Thread-15415, initial)>\n",
            "running thread  <Thread(Thread-15416, initial)>\n",
            "Running minibatch sequential-scan SGD with momentum (8 threads)\n"
          ]
        },
        {
          "output_type": "stream",
          "name": "stderr",
          "text": [
            "100%|██████████| 40/40 [00:00<00:00, 99.72it/s] \n"
          ]
        },
        {
          "output_type": "stream",
          "name": "stdout",
          "text": [
            "current loss: [[8.9383176e+82]]\n",
            "running thread  <Thread(Thread-15417, initial)>\n",
            "running thread  <Thread(Thread-15418, initial)>\n",
            "running thread  <Thread(Thread-15419, initial)>\n",
            "running thread  <Thread(Thread-15420, initial)>\n",
            "running thread  <Thread(Thread-15421, initial)>\n",
            "running thread  <Thread(Thread-15422, initial)>\n",
            "running thread  <Thread(Thread-15423, initial)>\n",
            "running thread  <Thread(Thread-15424, initial)>\n",
            "Running minibatch sequential-scan SGD with momentum (8 threads)\n"
          ]
        },
        {
          "output_type": "stream",
          "name": "stderr",
          "text": [
            "100%|██████████| 40/40 [00:00<00:00, 113.48it/s]\n"
          ]
        },
        {
          "output_type": "stream",
          "name": "stdout",
          "text": [
            "current loss: [[3.30714429e+196]]\n",
            "running thread  <Thread(Thread-15425, initial)>\n",
            "running thread  <Thread(Thread-15426, initial)>\n",
            "running thread  <Thread(Thread-15427, initial)>\n",
            "running thread  <Thread(Thread-15428, initial)>\n",
            "running thread  <Thread(Thread-15429, initial)>\n",
            "running thread  <Thread(Thread-15430, initial)>\n",
            "running thread  <Thread(Thread-15431, initial)>\n",
            "running thread  <Thread(Thread-15432, initial)>\n",
            "Running minibatch sequential-scan SGD with momentum (8 threads)\n"
          ]
        },
        {
          "output_type": "stream",
          "name": "stderr",
          "text": [
            "100%|██████████| 40/40 [00:00<00:00, 90.49it/s]\n"
          ]
        },
        {
          "output_type": "stream",
          "name": "stdout",
          "text": [
            "current loss: [[1.68873562e+249]]\n",
            "running thread  <Thread(Thread-15433, initial)>\n",
            "running thread  <Thread(Thread-15434, initial)>\n",
            "running thread  <Thread(Thread-15435, initial)>\n",
            "running thread  <Thread(Thread-15436, initial)>\n",
            "running thread  <Thread(Thread-15437, initial)>\n",
            "running thread  <Thread(Thread-15438, initial)>\n",
            "running thread  <Thread(Thread-15439, initial)>\n",
            "running thread  <Thread(Thread-15440, initial)>\n",
            "Running minibatch sequential-scan SGD with momentum (8 threads)\n"
          ]
        },
        {
          "output_type": "stream",
          "name": "stderr",
          "text": [
            "100%|██████████| 40/40 [00:00<00:00, 102.92it/s]\n"
          ]
        },
        {
          "output_type": "stream",
          "name": "stdout",
          "text": [
            "current loss: [[2.98074643e+94]]\n",
            "running thread  <Thread(Thread-15441, initial)>\n",
            "running thread  <Thread(Thread-15442, initial)>\n",
            "running thread  <Thread(Thread-15443, initial)>\n",
            "running thread  <Thread(Thread-15444, initial)>\n",
            "running thread  <Thread(Thread-15445, initial)>\n",
            "running thread  <Thread(Thread-15446, initial)>\n",
            "running thread  <Thread(Thread-15447, initial)>\n",
            "running thread  <Thread(Thread-15448, initial)>\n",
            "Running minibatch sequential-scan SGD with momentum (8 threads)\n"
          ]
        },
        {
          "output_type": "stream",
          "name": "stderr",
          "text": [
            "100%|██████████| 40/40 [00:00<00:00, 103.30it/s]\n"
          ]
        },
        {
          "output_type": "stream",
          "name": "stdout",
          "text": [
            "current loss: [[1.19723481e+293]]\n",
            "running thread  <Thread(Thread-15449, initial)>\n",
            "running thread  <Thread(Thread-15450, initial)>\n",
            "running thread  <Thread(Thread-15451, initial)>\n",
            "running thread  <Thread(Thread-15452, initial)>\n",
            "running thread  <Thread(Thread-15453, initial)>\n",
            "running thread  <Thread(Thread-15454, initial)>\n",
            "running thread  <Thread(Thread-15455, initial)>\n",
            "running thread  <Thread(Thread-15456, initial)>\n",
            "Running minibatch sequential-scan SGD with momentum (8 threads)\n"
          ]
        },
        {
          "output_type": "stream",
          "name": "stderr",
          "text": [
            "100%|██████████| 40/40 [00:00<00:00, 98.34it/s]\n"
          ]
        },
        {
          "output_type": "stream",
          "name": "stdout",
          "text": [
            "current loss: [[inf]]\n",
            "running thread  <Thread(Thread-15457, initial)>\n",
            "running thread  <Thread(Thread-15458, initial)>\n",
            "running thread  <Thread(Thread-15459, initial)>\n",
            "running thread  <Thread(Thread-15460, initial)>\n",
            "running thread  <Thread(Thread-15461, initial)>\n",
            "running thread  <Thread(Thread-15462, initial)>\n",
            "running thread  <Thread(Thread-15463, initial)>\n",
            "running thread  <Thread(Thread-15464, initial)>\n",
            "Running minibatch sequential-scan SGD with momentum (8 threads)\n"
          ]
        },
        {
          "output_type": "stream",
          "name": "stderr",
          "text": [
            "100%|██████████| 40/40 [00:00<00:00, 105.66it/s]\n"
          ]
        },
        {
          "output_type": "stream",
          "name": "stdout",
          "text": [
            "current loss: [[4.52218218e+273]]\n",
            "running thread  <Thread(Thread-15465, initial)>\n",
            "running thread  <Thread(Thread-15466, initial)>\n",
            "running thread  <Thread(Thread-15467, initial)>\n",
            "running thread  <Thread(Thread-15468, initial)>\n",
            "running thread  <Thread(Thread-15469, initial)>\n",
            "running thread  <Thread(Thread-15470, initial)>\n",
            "running thread  <Thread(Thread-15471, initial)>\n",
            "running thread  <Thread(Thread-15472, initial)>\n",
            "Running minibatch sequential-scan SGD with momentum (8 threads)\n"
          ]
        },
        {
          "output_type": "stream",
          "name": "stderr",
          "text": [
            "100%|██████████| 40/40 [00:00<00:00, 98.74it/s]\n"
          ]
        },
        {
          "output_type": "stream",
          "name": "stdout",
          "text": [
            "current loss: [[inf]]\n",
            "running thread  <Thread(Thread-15473, initial)>\n",
            "running thread  <Thread(Thread-15474, initial)>\n",
            "running thread  <Thread(Thread-15475, initial)>\n",
            "running thread  <Thread(Thread-15476, initial)>\n",
            "running thread  <Thread(Thread-15477, initial)>\n",
            "running thread  <Thread(Thread-15478, initial)>\n",
            "running thread  <Thread(Thread-15479, initial)>\n",
            "running thread  <Thread(Thread-15480, initial)>\n",
            "Running minibatch sequential-scan SGD with momentum (8 threads)\n"
          ]
        },
        {
          "output_type": "stream",
          "name": "stderr",
          "text": [
            "100%|██████████| 40/40 [00:00<00:00, 114.55it/s]\n"
          ]
        },
        {
          "output_type": "stream",
          "name": "stdout",
          "text": [
            "current loss: [[1.05308732e+141]]\n",
            "running thread  <Thread(Thread-15481, initial)>\n",
            "running thread  <Thread(Thread-15482, initial)>\n",
            "running thread  <Thread(Thread-15483, initial)>\n",
            "running thread  <Thread(Thread-15484, initial)>\n",
            "running thread  <Thread(Thread-15485, initial)>\n",
            "running thread  <Thread(Thread-15486, initial)>\n",
            "running thread  <Thread(Thread-15487, initial)>\n",
            "running thread  <Thread(Thread-15488, initial)>\n",
            "Running minibatch sequential-scan SGD with momentum (8 threads)\n"
          ]
        },
        {
          "output_type": "stream",
          "name": "stderr",
          "text": [
            "100%|██████████| 40/40 [00:00<00:00, 94.66it/s]\n"
          ]
        },
        {
          "output_type": "stream",
          "name": "stdout",
          "text": [
            "current loss: [[1314.39785517]]\n",
            "running thread  <Thread(Thread-15489, initial)>\n",
            "running thread  <Thread(Thread-15490, initial)>\n",
            "running thread  <Thread(Thread-15491, initial)>\n",
            "running thread  <Thread(Thread-15492, initial)>\n",
            "running thread  <Thread(Thread-15493, initial)>\n",
            "running thread  <Thread(Thread-15494, initial)>\n",
            "running thread  <Thread(Thread-15495, initial)>\n",
            "running thread  <Thread(Thread-15496, initial)>\n",
            "Running minibatch sequential-scan SGD with momentum (8 threads)\n"
          ]
        },
        {
          "output_type": "stream",
          "name": "stderr",
          "text": [
            "100%|██████████| 40/40 [00:00<00:00, 101.54it/s]\n"
          ]
        },
        {
          "output_type": "stream",
          "name": "stdout",
          "text": [
            "current loss: [[7.28205055e+268]]\n",
            "running thread  <Thread(Thread-15497, initial)>\n",
            "running thread  <Thread(Thread-15498, initial)>\n",
            "running thread  <Thread(Thread-15499, initial)>\n",
            "running thread  <Thread(Thread-15500, initial)>\n",
            "running thread  <Thread(Thread-15501, initial)>\n",
            "running thread  <Thread(Thread-15502, initial)>\n",
            "running thread  <Thread(Thread-15503, initial)>\n",
            "running thread  <Thread(Thread-15504, initial)>\n",
            "Running minibatch sequential-scan SGD with momentum (8 threads)\n"
          ]
        },
        {
          "output_type": "stream",
          "name": "stderr",
          "text": [
            "100%|██████████| 40/40 [00:00<00:00, 98.61it/s]\n"
          ]
        },
        {
          "output_type": "stream",
          "name": "stdout",
          "text": [
            "current loss: [[nan]]\n",
            "running thread  <Thread(Thread-15505, initial)>\n",
            "running thread  <Thread(Thread-15506, initial)>\n",
            "running thread  <Thread(Thread-15507, initial)>\n",
            "running thread  <Thread(Thread-15508, initial)>\n",
            "running thread  <Thread(Thread-15509, initial)>\n",
            "running thread  <Thread(Thread-15510, initial)>\n",
            "running thread  <Thread(Thread-15511, initial)>\n",
            "running thread  <Thread(Thread-15512, initial)>\n",
            "Running minibatch sequential-scan SGD with momentum (8 threads)\n"
          ]
        },
        {
          "output_type": "stream",
          "name": "stderr",
          "text": [
            "100%|██████████| 40/40 [00:00<00:00, 115.84it/s]\n"
          ]
        },
        {
          "output_type": "stream",
          "name": "stdout",
          "text": [
            "current loss: [[3.63448243e+277]]\n",
            "running thread  <Thread(Thread-15513, initial)>\n",
            "running thread  <Thread(Thread-15514, initial)>\n",
            "running thread  <Thread(Thread-15515, initial)>\n",
            "running thread  <Thread(Thread-15516, initial)>\n",
            "running thread  <Thread(Thread-15517, initial)>\n",
            "running thread  <Thread(Thread-15518, initial)>\n",
            "running thread  <Thread(Thread-15519, initial)>\n",
            "running thread  <Thread(Thread-15520, initial)>\n",
            "Running minibatch sequential-scan SGD with momentum (8 threads)\n"
          ]
        },
        {
          "output_type": "stream",
          "name": "stderr",
          "text": [
            "100%|██████████| 40/40 [00:00<00:00, 91.14it/s]\n"
          ]
        },
        {
          "output_type": "stream",
          "name": "stdout",
          "text": [
            "current loss: [[94.13038241]]\n",
            "running thread  <Thread(Thread-15521, initial)>\n",
            "running thread  <Thread(Thread-15522, initial)>\n",
            "running thread  <Thread(Thread-15523, initial)>\n",
            "running thread  <Thread(Thread-15524, initial)>\n",
            "running thread  <Thread(Thread-15525, initial)>\n",
            "running thread  <Thread(Thread-15526, initial)>\n",
            "running thread  <Thread(Thread-15527, initial)>\n",
            "running thread  <Thread(Thread-15528, initial)>\n",
            "Running minibatch sequential-scan SGD with momentum (8 threads)\n"
          ]
        },
        {
          "output_type": "stream",
          "name": "stderr",
          "text": [
            "100%|██████████| 40/40 [00:00<00:00, 96.90it/s]\n"
          ]
        },
        {
          "output_type": "stream",
          "name": "stdout",
          "text": [
            "current loss: [[nan]]\n",
            "running thread  <Thread(Thread-15529, initial)>\n",
            "running thread  <Thread(Thread-15530, initial)>\n",
            "running thread  <Thread(Thread-15531, initial)>\n",
            "running thread  <Thread(Thread-15532, initial)>\n",
            "running thread  <Thread(Thread-15533, initial)>\n",
            "running thread  <Thread(Thread-15534, initial)>\n",
            "running thread  <Thread(Thread-15535, initial)>\n",
            "running thread  <Thread(Thread-15536, initial)>\n",
            "Running minibatch sequential-scan SGD with momentum (8 threads)\n"
          ]
        },
        {
          "output_type": "stream",
          "name": "stderr",
          "text": [
            "100%|██████████| 40/40 [00:00<00:00, 108.08it/s]\n"
          ]
        },
        {
          "output_type": "stream",
          "name": "stdout",
          "text": [
            "current loss: [[nan]]\n",
            "running thread  <Thread(Thread-15537, initial)>\n",
            "running thread  <Thread(Thread-15538, initial)>\n",
            "running thread  <Thread(Thread-15539, initial)>\n",
            "running thread  <Thread(Thread-15540, initial)>\n",
            "running thread  <Thread(Thread-15541, initial)>\n",
            "running thread  <Thread(Thread-15542, initial)>\n",
            "running thread  <Thread(Thread-15543, initial)>\n",
            "running thread  <Thread(Thread-15544, initial)>\n",
            "Running minibatch sequential-scan SGD with momentum (8 threads)\n"
          ]
        },
        {
          "output_type": "stream",
          "name": "stderr",
          "text": [
            "100%|██████████| 40/40 [00:00<00:00, 106.71it/s]\n"
          ]
        },
        {
          "output_type": "stream",
          "name": "stdout",
          "text": [
            "current loss: [[nan]]\n",
            "running thread  <Thread(Thread-15545, initial)>\n",
            "running thread  <Thread(Thread-15546, initial)>\n",
            "running thread  <Thread(Thread-15547, initial)>\n",
            "running thread  <Thread(Thread-15548, initial)>\n",
            "running thread  <Thread(Thread-15549, initial)>\n",
            "running thread  <Thread(Thread-15550, initial)>\n",
            "running thread  <Thread(Thread-15551, initial)>\n",
            "running thread  <Thread(Thread-15552, initial)>\n",
            "Running minibatch sequential-scan SGD with momentum (8 threads)\n"
          ]
        },
        {
          "output_type": "stream",
          "name": "stderr",
          "text": [
            "100%|██████████| 40/40 [00:00<00:00, 96.56it/s]\n"
          ]
        },
        {
          "output_type": "stream",
          "name": "stdout",
          "text": [
            "current loss: [[1.41179134e+87]]\n",
            "running thread  <Thread(Thread-15553, initial)>\n",
            "running thread  <Thread(Thread-15554, initial)>\n",
            "running thread  <Thread(Thread-15555, initial)>\n",
            "running thread  <Thread(Thread-15556, initial)>\n",
            "running thread  <Thread(Thread-15557, initial)>\n",
            "running thread  <Thread(Thread-15558, initial)>\n",
            "running thread  <Thread(Thread-15559, initial)>\n",
            "running thread  <Thread(Thread-15560, initial)>\n",
            "Running minibatch sequential-scan SGD with momentum (8 threads)\n"
          ]
        },
        {
          "output_type": "stream",
          "name": "stderr",
          "text": [
            "100%|██████████| 40/40 [00:00<00:00, 88.76it/s]\n"
          ]
        },
        {
          "output_type": "stream",
          "name": "stdout",
          "text": [
            "current loss: [[7.09315625e+189]]\n",
            "running thread  <Thread(Thread-15561, initial)>\n",
            "running thread  <Thread(Thread-15562, initial)>\n",
            "running thread  <Thread(Thread-15563, initial)>\n",
            "running thread  <Thread(Thread-15564, initial)>\n",
            "running thread  <Thread(Thread-15565, initial)>\n",
            "running thread  <Thread(Thread-15566, initial)>\n",
            "running thread  <Thread(Thread-15567, initial)>\n",
            "running thread  <Thread(Thread-15568, initial)>\n",
            "Running minibatch sequential-scan SGD with momentum (8 threads)\n"
          ]
        },
        {
          "output_type": "stream",
          "name": "stderr",
          "text": [
            "100%|██████████| 40/40 [00:00<00:00, 113.56it/s]\n"
          ]
        },
        {
          "output_type": "stream",
          "name": "stdout",
          "text": [
            "current loss: [[nan]]\n",
            "running thread  <Thread(Thread-15569, initial)>\n",
            "running thread  <Thread(Thread-15570, initial)>\n",
            "running thread  <Thread(Thread-15571, initial)>\n",
            "running thread  <Thread(Thread-15572, initial)>\n",
            "running thread  <Thread(Thread-15573, initial)>\n",
            "running thread  <Thread(Thread-15574, initial)>\n",
            "running thread  <Thread(Thread-15575, initial)>\n",
            "running thread  <Thread(Thread-15576, initial)>\n",
            "Running minibatch sequential-scan SGD with momentum (8 threads)\n"
          ]
        },
        {
          "output_type": "stream",
          "name": "stderr",
          "text": [
            "100%|██████████| 40/40 [00:00<00:00, 104.86it/s]\n"
          ]
        },
        {
          "output_type": "stream",
          "name": "stdout",
          "text": [
            "current loss: [[1.54969582e+245]]\n",
            "running thread  <Thread(Thread-15577, initial)>\n",
            "running thread  <Thread(Thread-15578, initial)>\n",
            "running thread  <Thread(Thread-15579, initial)>\n",
            "running thread  <Thread(Thread-15580, initial)>\n",
            "running thread  <Thread(Thread-15581, initial)>\n",
            "running thread  <Thread(Thread-15582, initial)>\n",
            "running thread  <Thread(Thread-15583, initial)>\n",
            "running thread  <Thread(Thread-15584, initial)>\n",
            "Running minibatch sequential-scan SGD with momentum (8 threads)\n"
          ]
        },
        {
          "output_type": "stream",
          "name": "stderr",
          "text": [
            "100%|██████████| 40/40 [00:00<00:00, 96.60it/s] \n"
          ]
        },
        {
          "output_type": "stream",
          "name": "stdout",
          "text": [
            "current loss: [[inf]]\n",
            "running thread  <Thread(Thread-15585, initial)>\n",
            "running thread  <Thread(Thread-15586, initial)>\n",
            "running thread  <Thread(Thread-15587, initial)>\n",
            "running thread  <Thread(Thread-15588, initial)>\n",
            "running thread  <Thread(Thread-15589, initial)>\n",
            "running thread  <Thread(Thread-15590, initial)>\n",
            "running thread  <Thread(Thread-15591, initial)>\n",
            "running thread  <Thread(Thread-15592, initial)>\n",
            "Running minibatch sequential-scan SGD with momentum (8 threads)\n"
          ]
        },
        {
          "output_type": "stream",
          "name": "stderr",
          "text": [
            "100%|██████████| 40/40 [00:00<00:00, 113.17it/s]\n"
          ]
        },
        {
          "output_type": "stream",
          "name": "stdout",
          "text": [
            "current loss: [[inf]]\n",
            "running thread  <Thread(Thread-15593, initial)>\n",
            "running thread  <Thread(Thread-15594, initial)>\n",
            "running thread  <Thread(Thread-15595, initial)>\n",
            "running thread  <Thread(Thread-15596, initial)>\n",
            "running thread  <Thread(Thread-15597, initial)>\n",
            "running thread  <Thread(Thread-15598, initial)>\n",
            "running thread  <Thread(Thread-15599, initial)>\n",
            "running thread  <Thread(Thread-15600, initial)>\n",
            "Running minibatch sequential-scan SGD with momentum (8 threads)\n"
          ]
        },
        {
          "output_type": "stream",
          "name": "stderr",
          "text": [
            "100%|██████████| 40/40 [00:00<00:00, 110.91it/s]\n"
          ]
        },
        {
          "output_type": "stream",
          "name": "stdout",
          "text": [
            "current loss: [[inf]]\n",
            "running thread  <Thread(Thread-15601, initial)>\n",
            "running thread  <Thread(Thread-15602, initial)>\n",
            "running thread  <Thread(Thread-15603, initial)>\n",
            "running thread  <Thread(Thread-15604, initial)>\n",
            "running thread  <Thread(Thread-15605, initial)>\n",
            "running thread  <Thread(Thread-15606, initial)>\n",
            "running thread  <Thread(Thread-15607, initial)>\n",
            "running thread  <Thread(Thread-15608, initial)>\n",
            "Running minibatch sequential-scan SGD with momentum (8 threads)\n"
          ]
        },
        {
          "output_type": "stream",
          "name": "stderr",
          "text": [
            "100%|██████████| 40/40 [00:00<00:00, 112.66it/s]\n"
          ]
        },
        {
          "output_type": "stream",
          "name": "stdout",
          "text": [
            "current loss: [[nan]]\n",
            "running thread  <Thread(Thread-15609, initial)>\n",
            "running thread  <Thread(Thread-15610, initial)>\n",
            "running thread  <Thread(Thread-15611, initial)>\n",
            "running thread  <Thread(Thread-15612, initial)>\n",
            "running thread  <Thread(Thread-15613, initial)>\n",
            "running thread  <Thread(Thread-15614, initial)>\n",
            "running thread  <Thread(Thread-15615, initial)>\n",
            "running thread  <Thread(Thread-15616, initial)>\n",
            "Running minibatch sequential-scan SGD with momentum (8 threads)\n"
          ]
        },
        {
          "output_type": "stream",
          "name": "stderr",
          "text": [
            "100%|██████████| 40/40 [00:00<00:00, 97.01it/s]\n"
          ]
        },
        {
          "output_type": "stream",
          "name": "stdout",
          "text": [
            "current loss: [[4.51370077e+199]]\n",
            "running thread  <Thread(Thread-15617, initial)>\n",
            "running thread  <Thread(Thread-15618, initial)>\n",
            "running thread  <Thread(Thread-15619, initial)>\n",
            "running thread  <Thread(Thread-15620, initial)>\n",
            "running thread  <Thread(Thread-15621, initial)>\n",
            "running thread  <Thread(Thread-15622, initial)>\n",
            "running thread  <Thread(Thread-15623, initial)>\n",
            "running thread  <Thread(Thread-15624, initial)>\n",
            "Running minibatch sequential-scan SGD with momentum (8 threads)\n"
          ]
        },
        {
          "output_type": "stream",
          "name": "stderr",
          "text": [
            "100%|██████████| 40/40 [00:00<00:00, 105.27it/s]\n"
          ]
        },
        {
          "output_type": "stream",
          "name": "stdout",
          "text": [
            "current loss: [[nan]]\n",
            "running thread  <Thread(Thread-15625, initial)>\n",
            "running thread  <Thread(Thread-15626, initial)>\n",
            "running thread  <Thread(Thread-15627, initial)>\n",
            "running thread  <Thread(Thread-15628, initial)>\n",
            "running thread  <Thread(Thread-15629, initial)>\n",
            "running thread  <Thread(Thread-15630, initial)>\n",
            "running thread  <Thread(Thread-15631, initial)>\n",
            "running thread  <Thread(Thread-15632, initial)>\n",
            "Running minibatch sequential-scan SGD with momentum (8 threads)\n"
          ]
        },
        {
          "output_type": "stream",
          "name": "stderr",
          "text": [
            "100%|██████████| 40/40 [00:00<00:00, 107.07it/s]\n"
          ]
        },
        {
          "output_type": "stream",
          "name": "stdout",
          "text": [
            "current loss: [[4.36362534e+288]]\n",
            "running thread  <Thread(Thread-15633, initial)>\n",
            "running thread  <Thread(Thread-15634, initial)>\n",
            "running thread  <Thread(Thread-15635, initial)>\n",
            "running thread  <Thread(Thread-15636, initial)>\n",
            "running thread  <Thread(Thread-15637, initial)>\n",
            "running thread  <Thread(Thread-15638, initial)>\n",
            "running thread  <Thread(Thread-15639, initial)>\n",
            "running thread  <Thread(Thread-15640, initial)>\n",
            "Running minibatch sequential-scan SGD with momentum (8 threads)\n"
          ]
        },
        {
          "output_type": "stream",
          "name": "stderr",
          "text": [
            "100%|██████████| 40/40 [00:00<00:00, 111.29it/s]\n"
          ]
        },
        {
          "output_type": "stream",
          "name": "stdout",
          "text": [
            "current loss: [[nan]]\n",
            "running thread  <Thread(Thread-15641, initial)>\n",
            "running thread  <Thread(Thread-15642, initial)>\n",
            "running thread  <Thread(Thread-15643, initial)>\n",
            "running thread  <Thread(Thread-15644, initial)>\n",
            "running thread  <Thread(Thread-15645, initial)>\n",
            "running thread  <Thread(Thread-15646, initial)>\n",
            "running thread  <Thread(Thread-15647, initial)>\n",
            "running thread  <Thread(Thread-15648, initial)>\n",
            "Running minibatch sequential-scan SGD with momentum (8 threads)\n"
          ]
        },
        {
          "output_type": "stream",
          "name": "stderr",
          "text": [
            "100%|██████████| 40/40 [00:00<00:00, 116.13it/s]\n"
          ]
        },
        {
          "output_type": "stream",
          "name": "stdout",
          "text": [
            "current loss: [[inf]]\n",
            "running thread  <Thread(Thread-15649, initial)>\n",
            "running thread  <Thread(Thread-15650, initial)>\n",
            "running thread  <Thread(Thread-15651, initial)>\n",
            "running thread  <Thread(Thread-15652, initial)>\n",
            "running thread  <Thread(Thread-15653, initial)>\n",
            "running thread  <Thread(Thread-15654, initial)>\n",
            "running thread  <Thread(Thread-15655, initial)>\n",
            "running thread  <Thread(Thread-15656, initial)>\n",
            "Running minibatch sequential-scan SGD with momentum (8 threads)\n"
          ]
        },
        {
          "output_type": "stream",
          "name": "stderr",
          "text": [
            "100%|██████████| 40/40 [00:00<00:00, 111.35it/s]\n"
          ]
        },
        {
          "output_type": "stream",
          "name": "stdout",
          "text": [
            "current loss: [[nan]]\n",
            "running thread  <Thread(Thread-15657, initial)>\n",
            "running thread  <Thread(Thread-15658, initial)>\n",
            "running thread  <Thread(Thread-15659, initial)>\n",
            "running thread  <Thread(Thread-15660, initial)>\n",
            "running thread  <Thread(Thread-15661, initial)>\n",
            "running thread  <Thread(Thread-15662, initial)>\n",
            "running thread  <Thread(Thread-15663, initial)>\n",
            "running thread  <Thread(Thread-15664, initial)>\n",
            "Running minibatch sequential-scan SGD with momentum (8 threads)\n"
          ]
        },
        {
          "output_type": "stream",
          "name": "stderr",
          "text": [
            "100%|██████████| 40/40 [00:00<00:00, 109.70it/s]\n"
          ]
        },
        {
          "output_type": "stream",
          "name": "stdout",
          "text": [
            "current loss: [[3.61214559e+230]]\n",
            "running thread  <Thread(Thread-15665, initial)>\n",
            "running thread  <Thread(Thread-15666, initial)>\n",
            "running thread  <Thread(Thread-15667, initial)>\n",
            "running thread  <Thread(Thread-15668, initial)>\n",
            "running thread  <Thread(Thread-15669, initial)>\n",
            "running thread  <Thread(Thread-15670, initial)>\n",
            "running thread  <Thread(Thread-15671, initial)>\n",
            "running thread  <Thread(Thread-15672, initial)>\n",
            "Running minibatch sequential-scan SGD with momentum (8 threads)\n"
          ]
        },
        {
          "output_type": "stream",
          "name": "stderr",
          "text": [
            "100%|██████████| 40/40 [00:00<00:00, 104.54it/s]\n"
          ]
        },
        {
          "output_type": "stream",
          "name": "stdout",
          "text": [
            "current loss: [[3.37192538e+220]]\n",
            "running thread  <Thread(Thread-15673, initial)>\n",
            "running thread  <Thread(Thread-15674, initial)>\n",
            "running thread  <Thread(Thread-15675, initial)>\n",
            "running thread  <Thread(Thread-15676, initial)>\n",
            "running thread  <Thread(Thread-15677, initial)>\n",
            "running thread  <Thread(Thread-15678, initial)>\n",
            "running thread  <Thread(Thread-15679, initial)>\n",
            "running thread  <Thread(Thread-15680, initial)>\n",
            "Running minibatch sequential-scan SGD with momentum (8 threads)\n"
          ]
        },
        {
          "output_type": "stream",
          "name": "stderr",
          "text": [
            "100%|██████████| 40/40 [00:00<00:00, 108.37it/s]\n"
          ]
        },
        {
          "output_type": "stream",
          "name": "stdout",
          "text": [
            "current loss: [[inf]]\n",
            "running thread  <Thread(Thread-15681, initial)>\n",
            "running thread  <Thread(Thread-15682, initial)>\n",
            "running thread  <Thread(Thread-15683, initial)>\n",
            "running thread  <Thread(Thread-15684, initial)>\n",
            "running thread  <Thread(Thread-15685, initial)>\n",
            "running thread  <Thread(Thread-15686, initial)>\n",
            "running thread  <Thread(Thread-15687, initial)>\n",
            "running thread  <Thread(Thread-15688, initial)>\n",
            "Running minibatch sequential-scan SGD with momentum (8 threads)\n"
          ]
        },
        {
          "output_type": "stream",
          "name": "stderr",
          "text": [
            "100%|██████████| 40/40 [00:00<00:00, 97.14it/s]\n"
          ]
        },
        {
          "output_type": "stream",
          "name": "stdout",
          "text": [
            "current loss: [[nan]]\n",
            "running thread  <Thread(Thread-15689, initial)>\n",
            "running thread  <Thread(Thread-15690, initial)>\n",
            "running thread  <Thread(Thread-15691, initial)>\n",
            "running thread  <Thread(Thread-15692, initial)>\n",
            "running thread  <Thread(Thread-15693, initial)>\n",
            "running thread  <Thread(Thread-15694, initial)>\n",
            "running thread  <Thread(Thread-15695, initial)>\n",
            "running thread  <Thread(Thread-15696, initial)>\n",
            "Running minibatch sequential-scan SGD with momentum (8 threads)\n"
          ]
        },
        {
          "output_type": "stream",
          "name": "stderr",
          "text": [
            "100%|██████████| 40/40 [00:00<00:00, 123.06it/s]\n"
          ]
        },
        {
          "output_type": "stream",
          "name": "stdout",
          "text": [
            "current loss: [[2.5069424e+307]]\n",
            "running thread  <Thread(Thread-15697, initial)>\n",
            "running thread  <Thread(Thread-15698, initial)>\n",
            "running thread  <Thread(Thread-15699, initial)>\n",
            "running thread  <Thread(Thread-15700, initial)>\n",
            "running thread  <Thread(Thread-15701, initial)>\n",
            "running thread  <Thread(Thread-15702, initial)>\n",
            "running thread  <Thread(Thread-15703, initial)>\n",
            "running thread  <Thread(Thread-15704, initial)>\n",
            "Running minibatch sequential-scan SGD with momentum (8 threads)\n"
          ]
        },
        {
          "output_type": "stream",
          "name": "stderr",
          "text": [
            "100%|██████████| 40/40 [00:00<00:00, 102.44it/s]\n"
          ]
        },
        {
          "output_type": "stream",
          "name": "stdout",
          "text": [
            "current loss: [[2.21089766e+138]]\n",
            "running thread  <Thread(Thread-15705, initial)>\n",
            "running thread  <Thread(Thread-15706, initial)>\n",
            "running thread  <Thread(Thread-15707, initial)>\n",
            "running thread  <Thread(Thread-15708, initial)>\n",
            "running thread  <Thread(Thread-15709, initial)>\n",
            "running thread  <Thread(Thread-15710, initial)>\n",
            "running thread  <Thread(Thread-15711, initial)>\n",
            "running thread  <Thread(Thread-15712, initial)>\n",
            "Running minibatch sequential-scan SGD with momentum (8 threads)\n"
          ]
        },
        {
          "output_type": "stream",
          "name": "stderr",
          "text": [
            "100%|██████████| 40/40 [00:00<00:00, 100.89it/s]\n"
          ]
        },
        {
          "output_type": "stream",
          "name": "stdout",
          "text": [
            "current loss: [[inf]]\n",
            "running thread  <Thread(Thread-15713, initial)>\n",
            "running thread  <Thread(Thread-15714, initial)>\n",
            "running thread  <Thread(Thread-15715, initial)>\n",
            "running thread  <Thread(Thread-15716, initial)>\n",
            "running thread  <Thread(Thread-15717, initial)>\n",
            "running thread  <Thread(Thread-15718, initial)>\n",
            "running thread  <Thread(Thread-15719, initial)>\n",
            "running thread  <Thread(Thread-15720, initial)>\n",
            "Running minibatch sequential-scan SGD with momentum (8 threads)\n"
          ]
        },
        {
          "output_type": "stream",
          "name": "stderr",
          "text": [
            "100%|██████████| 40/40 [00:00<00:00, 97.87it/s] \n"
          ]
        },
        {
          "output_type": "stream",
          "name": "stdout",
          "text": [
            "current loss: [[nan]]\n",
            "running thread  <Thread(Thread-15721, initial)>\n",
            "running thread  <Thread(Thread-15722, initial)>\n",
            "running thread  <Thread(Thread-15723, initial)>\n",
            "running thread  <Thread(Thread-15724, initial)>\n",
            "running thread  <Thread(Thread-15725, initial)>\n",
            "running thread  <Thread(Thread-15726, initial)>\n",
            "running thread  <Thread(Thread-15727, initial)>\n",
            "running thread  <Thread(Thread-15728, initial)>\n",
            "Running minibatch sequential-scan SGD with momentum (8 threads)\n"
          ]
        },
        {
          "output_type": "stream",
          "name": "stderr",
          "text": [
            "100%|██████████| 40/40 [00:00<00:00, 101.53it/s]\n"
          ]
        },
        {
          "output_type": "stream",
          "name": "stdout",
          "text": [
            "current loss: [[9.72575359e+200]]\n",
            "running thread  <Thread(Thread-15729, initial)>\n",
            "running thread  <Thread(Thread-15730, initial)>\n",
            "running thread  <Thread(Thread-15731, initial)>\n",
            "running thread  <Thread(Thread-15732, initial)>\n",
            "running thread  <Thread(Thread-15733, initial)>\n",
            "running thread  <Thread(Thread-15734, initial)>\n",
            "running thread  <Thread(Thread-15735, initial)>\n",
            "running thread  <Thread(Thread-15736, initial)>\n",
            "Running minibatch sequential-scan SGD with momentum (8 threads)\n"
          ]
        },
        {
          "output_type": "stream",
          "name": "stderr",
          "text": [
            "100%|██████████| 40/40 [00:00<00:00, 123.06it/s]\n"
          ]
        },
        {
          "output_type": "stream",
          "name": "stdout",
          "text": [
            "current loss: [[2.98236852e+158]]\n",
            "running thread  <Thread(Thread-15737, initial)>\n",
            "running thread  <Thread(Thread-15738, initial)>\n",
            "running thread  <Thread(Thread-15739, initial)>\n",
            "running thread  <Thread(Thread-15740, initial)>\n",
            "running thread  <Thread(Thread-15741, initial)>\n",
            "running thread  <Thread(Thread-15742, initial)>\n",
            "running thread  <Thread(Thread-15743, initial)>\n",
            "running thread  <Thread(Thread-15744, initial)>\n",
            "Running minibatch sequential-scan SGD with momentum (8 threads)\n"
          ]
        },
        {
          "output_type": "stream",
          "name": "stderr",
          "text": [
            "100%|██████████| 40/40 [00:00<00:00, 98.11it/s]\n"
          ]
        },
        {
          "output_type": "stream",
          "name": "stdout",
          "text": [
            "current loss: [[inf]]\n",
            "running thread  <Thread(Thread-15745, initial)>\n",
            "running thread  <Thread(Thread-15746, initial)>\n",
            "running thread  <Thread(Thread-15747, initial)>\n",
            "running thread  <Thread(Thread-15748, initial)>\n",
            "running thread  <Thread(Thread-15749, initial)>\n",
            "running thread  <Thread(Thread-15750, initial)>\n",
            "running thread  <Thread(Thread-15751, initial)>\n",
            "running thread  <Thread(Thread-15752, initial)>\n",
            "Running minibatch sequential-scan SGD with momentum (8 threads)\n"
          ]
        },
        {
          "output_type": "stream",
          "name": "stderr",
          "text": [
            "100%|██████████| 40/40 [00:00<00:00, 110.14it/s]\n"
          ]
        },
        {
          "output_type": "stream",
          "name": "stdout",
          "text": [
            "current loss: [[nan]]\n",
            "running thread  <Thread(Thread-15753, initial)>\n",
            "running thread  <Thread(Thread-15754, initial)>\n",
            "running thread  <Thread(Thread-15755, initial)>\n",
            "running thread  <Thread(Thread-15756, initial)>\n",
            "running thread  <Thread(Thread-15757, initial)>\n",
            "running thread  <Thread(Thread-15758, initial)>\n",
            "running thread  <Thread(Thread-15759, initial)>\n",
            "running thread  <Thread(Thread-15760, initial)>\n",
            "Running minibatch sequential-scan SGD with momentum (8 threads)\n"
          ]
        },
        {
          "output_type": "stream",
          "name": "stderr",
          "text": [
            "100%|██████████| 40/40 [00:00<00:00, 97.59it/s]\n"
          ]
        },
        {
          "output_type": "stream",
          "name": "stdout",
          "text": [
            "current loss: [[4.03331901e+191]]\n",
            "running thread  <Thread(Thread-15761, initial)>\n",
            "running thread  <Thread(Thread-15762, initial)>\n",
            "running thread  <Thread(Thread-15763, initial)>\n",
            "running thread  <Thread(Thread-15764, initial)>\n",
            "running thread  <Thread(Thread-15765, initial)>\n",
            "running thread  <Thread(Thread-15766, initial)>\n",
            "running thread  <Thread(Thread-15767, initial)>\n",
            "running thread  <Thread(Thread-15768, initial)>\n",
            "Running minibatch sequential-scan SGD with momentum (8 threads)\n"
          ]
        },
        {
          "output_type": "stream",
          "name": "stderr",
          "text": [
            "100%|██████████| 40/40 [00:00<00:00, 112.06it/s]\n"
          ]
        },
        {
          "output_type": "stream",
          "name": "stdout",
          "text": [
            "current loss: [[nan]]\n",
            "running thread  <Thread(Thread-15769, initial)>\n",
            "running thread  <Thread(Thread-15770, initial)>\n",
            "running thread  <Thread(Thread-15771, initial)>\n",
            "running thread  <Thread(Thread-15772, initial)>\n",
            "running thread  <Thread(Thread-15773, initial)>\n",
            "running thread  <Thread(Thread-15774, initial)>\n",
            "running thread  <Thread(Thread-15775, initial)>\n",
            "running thread  <Thread(Thread-15776, initial)>\n",
            "Running minibatch sequential-scan SGD with momentum (8 threads)\n"
          ]
        },
        {
          "output_type": "stream",
          "name": "stderr",
          "text": [
            "100%|██████████| 40/40 [00:00<00:00, 98.37it/s]\n"
          ]
        },
        {
          "output_type": "stream",
          "name": "stdout",
          "text": [
            "current loss: [[inf]]\n",
            "running thread  <Thread(Thread-15777, initial)>\n",
            "running thread  <Thread(Thread-15778, initial)>\n",
            "running thread  <Thread(Thread-15779, initial)>\n",
            "running thread  <Thread(Thread-15780, initial)>\n",
            "running thread  <Thread(Thread-15781, initial)>\n",
            "running thread  <Thread(Thread-15782, initial)>\n",
            "running thread  <Thread(Thread-15783, initial)>\n",
            "running thread  <Thread(Thread-15784, initial)>\n",
            "Running minibatch sequential-scan SGD with momentum (8 threads)\n"
          ]
        },
        {
          "output_type": "stream",
          "name": "stderr",
          "text": [
            "100%|██████████| 40/40 [00:00<00:00, 103.56it/s]\n"
          ]
        },
        {
          "output_type": "stream",
          "name": "stdout",
          "text": [
            "current loss: [[inf]]\n",
            "running thread  <Thread(Thread-15785, initial)>\n",
            "running thread  <Thread(Thread-15786, initial)>\n",
            "running thread  <Thread(Thread-15787, initial)>\n",
            "running thread  <Thread(Thread-15788, initial)>\n",
            "running thread  <Thread(Thread-15789, initial)>\n",
            "running thread  <Thread(Thread-15790, initial)>\n",
            "running thread  <Thread(Thread-15791, initial)>\n",
            "running thread  <Thread(Thread-15792, initial)>\n",
            "Running minibatch sequential-scan SGD with momentum (8 threads)\n"
          ]
        },
        {
          "output_type": "stream",
          "name": "stderr",
          "text": [
            "100%|██████████| 40/40 [00:00<00:00, 94.95it/s]\n"
          ]
        },
        {
          "output_type": "stream",
          "name": "stdout",
          "text": [
            "current loss: [[1.22024717e+210]]\n",
            "running thread  <Thread(Thread-15793, initial)>\n",
            "running thread  <Thread(Thread-15794, initial)>\n",
            "running thread  <Thread(Thread-15795, initial)>\n",
            "running thread  <Thread(Thread-15796, initial)>\n",
            "running thread  <Thread(Thread-15797, initial)>\n",
            "running thread  <Thread(Thread-15798, initial)>\n",
            "running thread  <Thread(Thread-15799, initial)>\n",
            "running thread  <Thread(Thread-15800, initial)>\n",
            "Running minibatch sequential-scan SGD with momentum (8 threads)\n"
          ]
        },
        {
          "output_type": "stream",
          "name": "stderr",
          "text": [
            "100%|██████████| 40/40 [00:00<00:00, 111.96it/s]\n"
          ]
        },
        {
          "output_type": "stream",
          "name": "stdout",
          "text": [
            "current loss: [[1.05153057e+229]]\n",
            "running thread  <Thread(Thread-15801, initial)>\n",
            "running thread  <Thread(Thread-15802, initial)>\n",
            "running thread  <Thread(Thread-15803, initial)>\n",
            "running thread  <Thread(Thread-15804, initial)>\n",
            "running thread  <Thread(Thread-15805, initial)>\n",
            "running thread  <Thread(Thread-15806, initial)>\n",
            "running thread  <Thread(Thread-15807, initial)>\n",
            "running thread  <Thread(Thread-15808, initial)>\n",
            "Running minibatch sequential-scan SGD with momentum (8 threads)\n"
          ]
        },
        {
          "output_type": "stream",
          "name": "stderr",
          "text": [
            "100%|██████████| 40/40 [00:00<00:00, 110.97it/s]\n"
          ]
        },
        {
          "output_type": "stream",
          "name": "stdout",
          "text": [
            "current loss: [[2.11634519e+107]]\n",
            "running thread  <Thread(Thread-15809, initial)>\n",
            "running thread  <Thread(Thread-15810, initial)>\n",
            "running thread  <Thread(Thread-15811, initial)>\n",
            "running thread  <Thread(Thread-15812, initial)>\n",
            "running thread  <Thread(Thread-15813, initial)>\n",
            "running thread  <Thread(Thread-15814, initial)>\n",
            "running thread  <Thread(Thread-15815, initial)>\n",
            "running thread  <Thread(Thread-15816, initial)>\n",
            "Running minibatch sequential-scan SGD with momentum (8 threads)\n"
          ]
        },
        {
          "output_type": "stream",
          "name": "stderr",
          "text": [
            "100%|██████████| 40/40 [00:00<00:00, 116.48it/s]\n"
          ]
        },
        {
          "output_type": "stream",
          "name": "stdout",
          "text": [
            "current loss: [[1.9437942e+218]]\n",
            "running thread  <Thread(Thread-15817, initial)>\n",
            "running thread  <Thread(Thread-15818, initial)>\n",
            "running thread  <Thread(Thread-15819, initial)>\n",
            "running thread  <Thread(Thread-15820, initial)>\n",
            "running thread  <Thread(Thread-15821, initial)>\n",
            "running thread  <Thread(Thread-15822, initial)>\n",
            "running thread  <Thread(Thread-15823, initial)>\n",
            "running thread  <Thread(Thread-15824, initial)>\n",
            "Running minibatch sequential-scan SGD with momentum (8 threads)\n"
          ]
        },
        {
          "output_type": "stream",
          "name": "stderr",
          "text": [
            "100%|██████████| 40/40 [00:00<00:00, 105.13it/s]\n"
          ]
        },
        {
          "output_type": "stream",
          "name": "stdout",
          "text": [
            "current loss: [[8.42184844e+24]]\n",
            "running thread  <Thread(Thread-15825, initial)>\n",
            "running thread  <Thread(Thread-15826, initial)>\n",
            "running thread  <Thread(Thread-15827, initial)>\n",
            "running thread  <Thread(Thread-15828, initial)>\n",
            "running thread  <Thread(Thread-15829, initial)>\n",
            "running thread  <Thread(Thread-15830, initial)>\n",
            "running thread  <Thread(Thread-15831, initial)>\n",
            "running thread  <Thread(Thread-15832, initial)>\n",
            "Running minibatch sequential-scan SGD with momentum (8 threads)\n"
          ]
        },
        {
          "output_type": "stream",
          "name": "stderr",
          "text": [
            "100%|██████████| 40/40 [00:00<00:00, 103.69it/s]\n"
          ]
        },
        {
          "output_type": "stream",
          "name": "stdout",
          "text": [
            "current loss: [[inf]]\n",
            "running thread  <Thread(Thread-15833, initial)>\n",
            "running thread  <Thread(Thread-15834, initial)>\n",
            "running thread  <Thread(Thread-15835, initial)>\n",
            "running thread  <Thread(Thread-15836, initial)>\n",
            "running thread  <Thread(Thread-15837, initial)>\n",
            "running thread  <Thread(Thread-15838, initial)>\n",
            "running thread  <Thread(Thread-15839, initial)>\n",
            "running thread  <Thread(Thread-15840, initial)>\n",
            "Running minibatch sequential-scan SGD with momentum (8 threads)\n"
          ]
        },
        {
          "output_type": "stream",
          "name": "stderr",
          "text": [
            "100%|██████████| 40/40 [00:00<00:00, 105.26it/s]\n"
          ]
        },
        {
          "output_type": "stream",
          "name": "stdout",
          "text": [
            "current loss: [[4.93129633e+279]]\n",
            "running thread  <Thread(Thread-15841, initial)>\n",
            "running thread  <Thread(Thread-15842, initial)>\n",
            "running thread  <Thread(Thread-15843, initial)>\n",
            "running thread  <Thread(Thread-15844, initial)>\n",
            "running thread  <Thread(Thread-15845, initial)>\n",
            "running thread  <Thread(Thread-15846, initial)>\n",
            "running thread  <Thread(Thread-15847, initial)>\n",
            "running thread  <Thread(Thread-15848, initial)>\n",
            "Running minibatch sequential-scan SGD with momentum (8 threads)\n"
          ]
        },
        {
          "output_type": "stream",
          "name": "stderr",
          "text": [
            "100%|██████████| 40/40 [00:00<00:00, 98.19it/s]\n"
          ]
        },
        {
          "output_type": "stream",
          "name": "stdout",
          "text": [
            "current loss: [[nan]]\n",
            "running thread  <Thread(Thread-15849, initial)>\n",
            "running thread  <Thread(Thread-15850, initial)>\n",
            "running thread  <Thread(Thread-15851, initial)>\n",
            "running thread  <Thread(Thread-15852, initial)>\n",
            "running thread  <Thread(Thread-15853, initial)>\n",
            "running thread  <Thread(Thread-15854, initial)>\n",
            "running thread  <Thread(Thread-15855, initial)>\n",
            "running thread  <Thread(Thread-15856, initial)>\n",
            "Running minibatch sequential-scan SGD with momentum (8 threads)\n"
          ]
        },
        {
          "output_type": "stream",
          "name": "stderr",
          "text": [
            "100%|██████████| 40/40 [00:00<00:00, 104.30it/s]\n"
          ]
        },
        {
          "output_type": "stream",
          "name": "stdout",
          "text": [
            "current loss: [[inf]]\n",
            "running thread  <Thread(Thread-15857, initial)>\n",
            "running thread  <Thread(Thread-15858, initial)>\n",
            "running thread  <Thread(Thread-15859, initial)>\n",
            "running thread  <Thread(Thread-15860, initial)>\n",
            "running thread  <Thread(Thread-15861, initial)>\n",
            "running thread  <Thread(Thread-15862, initial)>\n",
            "running thread  <Thread(Thread-15863, initial)>\n",
            "running thread  <Thread(Thread-15864, initial)>\n",
            "Running minibatch sequential-scan SGD with momentum (8 threads)\n"
          ]
        },
        {
          "output_type": "stream",
          "name": "stderr",
          "text": [
            "100%|██████████| 40/40 [00:00<00:00, 105.76it/s]\n"
          ]
        },
        {
          "output_type": "stream",
          "name": "stdout",
          "text": [
            "current loss: [[5.71899555e+307]]\n",
            "running thread  <Thread(Thread-15865, initial)>\n",
            "running thread  <Thread(Thread-15866, initial)>\n",
            "running thread  <Thread(Thread-15867, initial)>\n",
            "running thread  <Thread(Thread-15868, initial)>\n",
            "running thread  <Thread(Thread-15869, initial)>\n",
            "running thread  <Thread(Thread-15870, initial)>\n",
            "running thread  <Thread(Thread-15871, initial)>\n",
            "running thread  <Thread(Thread-15872, initial)>\n",
            "Running minibatch sequential-scan SGD with momentum (8 threads)\n"
          ]
        },
        {
          "output_type": "stream",
          "name": "stderr",
          "text": [
            "100%|██████████| 40/40 [00:00<00:00, 96.67it/s] \n"
          ]
        },
        {
          "output_type": "stream",
          "name": "stdout",
          "text": [
            "current loss: [[inf]]\n",
            "running thread  <Thread(Thread-15873, initial)>\n",
            "running thread  <Thread(Thread-15874, initial)>\n",
            "running thread  <Thread(Thread-15875, initial)>\n",
            "running thread  <Thread(Thread-15876, initial)>\n",
            "running thread  <Thread(Thread-15877, initial)>\n",
            "running thread  <Thread(Thread-15878, initial)>\n",
            "running thread  <Thread(Thread-15879, initial)>\n",
            "running thread  <Thread(Thread-15880, initial)>\n",
            "Running minibatch sequential-scan SGD with momentum (8 threads)\n"
          ]
        },
        {
          "output_type": "stream",
          "name": "stderr",
          "text": [
            "100%|██████████| 40/40 [00:00<00:00, 97.05it/s] \n"
          ]
        },
        {
          "output_type": "stream",
          "name": "stdout",
          "text": [
            "current loss: [[inf]]\n",
            "running thread  <Thread(Thread-15881, initial)>\n",
            "running thread  <Thread(Thread-15882, initial)>\n",
            "running thread  <Thread(Thread-15883, initial)>\n",
            "running thread  <Thread(Thread-15884, initial)>\n",
            "running thread  <Thread(Thread-15885, initial)>\n",
            "running thread  <Thread(Thread-15886, initial)>\n",
            "running thread  <Thread(Thread-15887, initial)>\n",
            "running thread  <Thread(Thread-15888, initial)>\n",
            "Running minibatch sequential-scan SGD with momentum (8 threads)\n"
          ]
        },
        {
          "output_type": "stream",
          "name": "stderr",
          "text": [
            "100%|██████████| 40/40 [00:00<00:00, 114.50it/s]\n"
          ]
        },
        {
          "output_type": "stream",
          "name": "stdout",
          "text": [
            "current loss: [[nan]]\n",
            "running thread  <Thread(Thread-15889, initial)>\n",
            "running thread  <Thread(Thread-15890, initial)>\n",
            "running thread  <Thread(Thread-15891, initial)>\n",
            "running thread  <Thread(Thread-15892, initial)>\n",
            "running thread  <Thread(Thread-15893, initial)>\n",
            "running thread  <Thread(Thread-15894, initial)>\n",
            "running thread  <Thread(Thread-15895, initial)>\n",
            "running thread  <Thread(Thread-15896, initial)>\n",
            "Running minibatch sequential-scan SGD with momentum (8 threads)\n"
          ]
        },
        {
          "output_type": "stream",
          "name": "stderr",
          "text": [
            "100%|██████████| 40/40 [00:00<00:00, 96.88it/s]\n"
          ]
        },
        {
          "output_type": "stream",
          "name": "stdout",
          "text": [
            "current loss: [[3.86568163e+51]]\n",
            "running thread  <Thread(Thread-15897, initial)>\n",
            "running thread  <Thread(Thread-15898, initial)>\n",
            "running thread  <Thread(Thread-15899, initial)>\n",
            "running thread  <Thread(Thread-15900, initial)>\n",
            "running thread  <Thread(Thread-15901, initial)>\n",
            "running thread  <Thread(Thread-15902, initial)>\n",
            "running thread  <Thread(Thread-15903, initial)>\n",
            "running thread  <Thread(Thread-15904, initial)>\n",
            "Running minibatch sequential-scan SGD with momentum (8 threads)\n"
          ]
        },
        {
          "output_type": "stream",
          "name": "stderr",
          "text": [
            "100%|██████████| 40/40 [00:00<00:00, 110.28it/s]\n"
          ]
        },
        {
          "output_type": "stream",
          "name": "stdout",
          "text": [
            "current loss: [[inf]]\n",
            "running thread  <Thread(Thread-15905, initial)>\n",
            "running thread  <Thread(Thread-15906, initial)>\n",
            "running thread  <Thread(Thread-15907, initial)>\n",
            "running thread  <Thread(Thread-15908, initial)>\n",
            "running thread  <Thread(Thread-15909, initial)>\n",
            "running thread  <Thread(Thread-15910, initial)>\n",
            "running thread  <Thread(Thread-15911, initial)>\n",
            "running thread  <Thread(Thread-15912, initial)>\n",
            "Running minibatch sequential-scan SGD with momentum (8 threads)\n"
          ]
        },
        {
          "output_type": "stream",
          "name": "stderr",
          "text": [
            "100%|██████████| 40/40 [00:00<00:00, 113.34it/s]\n"
          ]
        },
        {
          "output_type": "stream",
          "name": "stdout",
          "text": [
            "current loss: [[1.62598493e+187]]\n",
            "running thread  <Thread(Thread-15913, initial)>\n",
            "running thread  <Thread(Thread-15914, initial)>\n",
            "running thread  <Thread(Thread-15915, initial)>\n",
            "running thread  <Thread(Thread-15916, initial)>\n",
            "running thread  <Thread(Thread-15917, initial)>\n",
            "running thread  <Thread(Thread-15918, initial)>\n",
            "running thread  <Thread(Thread-15919, initial)>\n",
            "running thread  <Thread(Thread-15920, initial)>\n",
            "Running minibatch sequential-scan SGD with momentum (8 threads)\n"
          ]
        },
        {
          "output_type": "stream",
          "name": "stderr",
          "text": [
            "100%|██████████| 40/40 [00:00<00:00, 123.83it/s]\n"
          ]
        },
        {
          "output_type": "stream",
          "name": "stdout",
          "text": [
            "current loss: [[inf]]\n",
            "running thread  <Thread(Thread-15921, initial)>\n",
            "running thread  <Thread(Thread-15922, initial)>\n",
            "running thread  <Thread(Thread-15923, initial)>\n",
            "running thread  <Thread(Thread-15924, initial)>\n",
            "running thread  <Thread(Thread-15925, initial)>\n",
            "running thread  <Thread(Thread-15926, initial)>\n",
            "running thread  <Thread(Thread-15927, initial)>\n",
            "running thread  <Thread(Thread-15928, initial)>\n",
            "Running minibatch sequential-scan SGD with momentum (8 threads)\n"
          ]
        },
        {
          "output_type": "stream",
          "name": "stderr",
          "text": [
            "100%|██████████| 40/40 [00:00<00:00, 92.89it/s]\n"
          ]
        },
        {
          "output_type": "stream",
          "name": "stdout",
          "text": [
            "current loss: [[1.12945105e+161]]\n",
            "running thread  <Thread(Thread-15929, initial)>\n",
            "running thread  <Thread(Thread-15930, initial)>\n",
            "running thread  <Thread(Thread-15931, initial)>\n",
            "running thread  <Thread(Thread-15932, initial)>\n",
            "running thread  <Thread(Thread-15933, initial)>\n",
            "running thread  <Thread(Thread-15934, initial)>\n",
            "running thread  <Thread(Thread-15935, initial)>\n",
            "running thread  <Thread(Thread-15936, initial)>\n",
            "Running minibatch sequential-scan SGD with momentum (8 threads)\n"
          ]
        },
        {
          "output_type": "stream",
          "name": "stderr",
          "text": [
            "100%|██████████| 40/40 [00:00<00:00, 121.03it/s]\n"
          ]
        },
        {
          "output_type": "stream",
          "name": "stdout",
          "text": [
            "current loss: [[inf]]\n",
            "running thread  <Thread(Thread-15937, initial)>\n",
            "running thread  <Thread(Thread-15938, initial)>\n",
            "running thread  <Thread(Thread-15939, initial)>\n",
            "running thread  <Thread(Thread-15940, initial)>\n",
            "running thread  <Thread(Thread-15941, initial)>\n",
            "running thread  <Thread(Thread-15942, initial)>\n",
            "running thread  <Thread(Thread-15943, initial)>\n",
            "running thread  <Thread(Thread-15944, initial)>\n",
            "Running minibatch sequential-scan SGD with momentum (8 threads)\n"
          ]
        },
        {
          "output_type": "stream",
          "name": "stderr",
          "text": [
            "100%|██████████| 40/40 [00:00<00:00, 99.91it/s]\n"
          ]
        },
        {
          "output_type": "stream",
          "name": "stdout",
          "text": [
            "current loss: [[inf]]\n",
            "running thread  <Thread(Thread-15945, initial)>\n",
            "running thread  <Thread(Thread-15946, initial)>\n",
            "running thread  <Thread(Thread-15947, initial)>\n",
            "running thread  <Thread(Thread-15948, initial)>\n",
            "running thread  <Thread(Thread-15949, initial)>\n",
            "running thread  <Thread(Thread-15950, initial)>\n",
            "running thread  <Thread(Thread-15951, initial)>\n",
            "running thread  <Thread(Thread-15952, initial)>\n",
            "Running minibatch sequential-scan SGD with momentum (8 threads)\n"
          ]
        },
        {
          "output_type": "stream",
          "name": "stderr",
          "text": [
            "100%|██████████| 40/40 [00:00<00:00, 105.07it/s]\n"
          ]
        },
        {
          "output_type": "stream",
          "name": "stdout",
          "text": [
            "current loss: [[inf]]\n",
            "running thread  <Thread(Thread-15953, initial)>\n",
            "running thread  <Thread(Thread-15954, initial)>\n",
            "running thread  <Thread(Thread-15955, initial)>\n",
            "running thread  <Thread(Thread-15956, initial)>\n",
            "running thread  <Thread(Thread-15957, initial)>\n",
            "running thread  <Thread(Thread-15958, initial)>\n",
            "running thread  <Thread(Thread-15959, initial)>\n",
            "running thread  <Thread(Thread-15960, initial)>\n",
            "Running minibatch sequential-scan SGD with momentum (8 threads)\n"
          ]
        },
        {
          "output_type": "stream",
          "name": "stderr",
          "text": [
            "100%|██████████| 40/40 [00:00<00:00, 114.66it/s]\n"
          ]
        },
        {
          "output_type": "stream",
          "name": "stdout",
          "text": [
            "current loss: [[1.50584152e+255]]\n",
            "running thread  <Thread(Thread-15961, initial)>\n",
            "running thread  <Thread(Thread-15962, initial)>\n",
            "running thread  <Thread(Thread-15963, initial)>\n",
            "running thread  <Thread(Thread-15964, initial)>\n",
            "running thread  <Thread(Thread-15965, initial)>\n",
            "running thread  <Thread(Thread-15966, initial)>\n",
            "running thread  <Thread(Thread-15967, initial)>\n",
            "running thread  <Thread(Thread-15968, initial)>\n",
            "Running minibatch sequential-scan SGD with momentum (8 threads)\n"
          ]
        },
        {
          "output_type": "stream",
          "name": "stderr",
          "text": [
            "100%|██████████| 40/40 [00:00<00:00, 125.33it/s]\n"
          ]
        },
        {
          "output_type": "stream",
          "name": "stdout",
          "text": [
            "current loss: [[inf]]\n",
            "running thread  <Thread(Thread-15969, initial)>\n",
            "running thread  <Thread(Thread-15970, initial)>\n",
            "running thread  <Thread(Thread-15971, initial)>\n",
            "running thread  <Thread(Thread-15972, initial)>\n",
            "running thread  <Thread(Thread-15973, initial)>\n",
            "running thread  <Thread(Thread-15974, initial)>\n",
            "running thread  <Thread(Thread-15975, initial)>\n",
            "running thread  <Thread(Thread-15976, initial)>\n",
            "Running minibatch sequential-scan SGD with momentum (8 threads)\n"
          ]
        },
        {
          "output_type": "stream",
          "name": "stderr",
          "text": [
            "100%|██████████| 40/40 [00:00<00:00, 110.97it/s]\n"
          ]
        },
        {
          "output_type": "stream",
          "name": "stdout",
          "text": [
            "current loss: [[2.46337234e+209]]\n",
            "running thread  <Thread(Thread-15977, initial)>\n",
            "running thread  <Thread(Thread-15978, initial)>\n",
            "running thread  <Thread(Thread-15979, initial)>\n",
            "running thread  <Thread(Thread-15980, initial)>\n",
            "running thread  <Thread(Thread-15981, initial)>\n",
            "running thread  <Thread(Thread-15982, initial)>\n",
            "running thread  <Thread(Thread-15983, initial)>\n",
            "running thread  <Thread(Thread-15984, initial)>\n",
            "Running minibatch sequential-scan SGD with momentum (8 threads)\n"
          ]
        },
        {
          "output_type": "stream",
          "name": "stderr",
          "text": [
            "100%|██████████| 40/40 [00:00<00:00, 110.51it/s]\n"
          ]
        },
        {
          "output_type": "stream",
          "name": "stdout",
          "text": [
            "current loss: [[inf]]\n",
            "running thread  <Thread(Thread-15985, initial)>\n",
            "running thread  <Thread(Thread-15986, initial)>\n",
            "running thread  <Thread(Thread-15987, initial)>\n",
            "running thread  <Thread(Thread-15988, initial)>\n",
            "running thread  <Thread(Thread-15989, initial)>\n",
            "running thread  <Thread(Thread-15990, initial)>\n",
            "running thread  <Thread(Thread-15991, initial)>\n",
            "running thread  <Thread(Thread-15992, initial)>\n",
            "Running minibatch sequential-scan SGD with momentum (8 threads)\n"
          ]
        },
        {
          "output_type": "stream",
          "name": "stderr",
          "text": [
            "100%|██████████| 40/40 [00:00<00:00, 105.69it/s]\n"
          ]
        },
        {
          "output_type": "stream",
          "name": "stdout",
          "text": [
            "current loss: [[nan]]\n",
            "running thread  <Thread(Thread-15993, initial)>\n",
            "running thread  <Thread(Thread-15994, initial)>\n",
            "running thread  <Thread(Thread-15995, initial)>\n",
            "running thread  <Thread(Thread-15996, initial)>\n",
            "running thread  <Thread(Thread-15997, initial)>\n",
            "running thread  <Thread(Thread-15998, initial)>\n",
            "running thread  <Thread(Thread-15999, initial)>\n",
            "running thread  <Thread(Thread-16000, initial)>\n",
            "Running minibatch sequential-scan SGD with momentum (8 threads)\n"
          ]
        },
        {
          "output_type": "stream",
          "name": "stderr",
          "text": [
            "100%|██████████| 40/40 [00:00<00:00, 117.82it/s]\n"
          ]
        },
        {
          "output_type": "stream",
          "name": "stdout",
          "text": [
            "current loss: [[nan]]\n",
            "running thread  <Thread(Thread-16001, initial)>\n",
            "running thread  <Thread(Thread-16002, initial)>\n",
            "running thread  <Thread(Thread-16003, initial)>\n",
            "running thread  <Thread(Thread-16004, initial)>\n",
            "running thread  <Thread(Thread-16005, initial)>\n",
            "running thread  <Thread(Thread-16006, initial)>\n",
            "running thread  <Thread(Thread-16007, initial)>\n",
            "running thread  <Thread(Thread-16008, initial)>\n",
            "Running minibatch sequential-scan SGD with momentum (8 threads)\n"
          ]
        },
        {
          "output_type": "stream",
          "name": "stderr",
          "text": [
            "100%|██████████| 40/40 [00:00<00:00, 103.70it/s]\n"
          ]
        },
        {
          "output_type": "stream",
          "name": "stdout",
          "text": [
            "current loss: [[4.51229928e+305]]\n",
            "running thread  <Thread(Thread-16009, initial)>\n",
            "running thread  <Thread(Thread-16010, initial)>\n",
            "running thread  <Thread(Thread-16011, initial)>\n",
            "running thread  <Thread(Thread-16012, initial)>\n",
            "running thread  <Thread(Thread-16013, initial)>\n",
            "running thread  <Thread(Thread-16014, initial)>\n",
            "running thread  <Thread(Thread-16015, initial)>\n",
            "running thread  <Thread(Thread-16016, initial)>\n",
            "Running minibatch sequential-scan SGD with momentum (8 threads)\n"
          ]
        },
        {
          "output_type": "stream",
          "name": "stderr",
          "text": [
            "100%|██████████| 40/40 [00:00<00:00, 103.87it/s]\n"
          ]
        },
        {
          "output_type": "stream",
          "name": "stdout",
          "text": [
            "current loss: [[inf]]\n",
            "running thread  <Thread(Thread-16017, initial)>\n",
            "running thread  <Thread(Thread-16018, initial)>\n",
            "running thread  <Thread(Thread-16019, initial)>\n",
            "running thread  <Thread(Thread-16020, initial)>\n",
            "running thread  <Thread(Thread-16021, initial)>\n",
            "running thread  <Thread(Thread-16022, initial)>\n",
            "running thread  <Thread(Thread-16023, initial)>\n",
            "running thread  <Thread(Thread-16024, initial)>\n",
            "Running minibatch sequential-scan SGD with momentum (8 threads)\n"
          ]
        },
        {
          "output_type": "stream",
          "name": "stderr",
          "text": [
            "100%|██████████| 40/40 [00:00<00:00, 94.25it/s]\n"
          ]
        },
        {
          "output_type": "stream",
          "name": "stdout",
          "text": [
            "current loss: [[1.35205636e+192]]\n",
            "running thread  <Thread(Thread-16025, initial)>\n",
            "running thread  <Thread(Thread-16026, initial)>\n",
            "running thread  <Thread(Thread-16027, initial)>\n",
            "running thread  <Thread(Thread-16028, initial)>\n",
            "running thread  <Thread(Thread-16029, initial)>\n",
            "running thread  <Thread(Thread-16030, initial)>\n",
            "running thread  <Thread(Thread-16031, initial)>\n",
            "running thread  <Thread(Thread-16032, initial)>\n",
            "Running minibatch sequential-scan SGD with momentum (8 threads)\n"
          ]
        },
        {
          "output_type": "stream",
          "name": "stderr",
          "text": [
            "100%|██████████| 40/40 [00:00<00:00, 120.77it/s]"
          ]
        },
        {
          "output_type": "stream",
          "name": "stdout",
          "text": [
            "current loss: [[6.01253559e+203]]\n",
            "0.7685527843976404\n",
            "tensor([0.1612, 0.0375, 0.3463])\n",
            "tensor([3.2033e+01, 6.0981e+01, 4.7278e+01, 7.5783e+01, 2.8606e+06, 1.0052e+07,\n",
            "        9.8964e+03, 3.7004e+32, 2.9284e+01,        inf, 2.2172e+01, 1.5604e+27,\n",
            "        7.6855e-01, 3.3270e+17, 3.5897e+02, 1.1224e+01, 4.0533e+00,        inf,\n",
            "        4.3999e+24,        inf])\n",
            "tensor([[ 1.0000e-04,  1.0000e-04,  1.0000e-04,  1.2919e+00, -2.3357e-01,\n",
            "          9.6428e-01, -2.3842e-01,  8.2893e-02, -6.7754e-01,  2.8579e-01,\n",
            "          3.8074e-01, -1.4973e+00,  1.6121e-01, -8.9280e-01, -2.0270e+00,\n",
            "          5.4311e-01,  1.2185e-01, -1.9261e-01, -7.0933e-03, -1.2539e+00],\n",
            "        [ 1.0000e-03,  1.0000e-03,  1.0000e-03,  5.4977e-02,  1.4342e-01,\n",
            "         -8.0022e-03,  1.5816e-01, -1.4176e-02,  1.3476e-03, -6.8986e-02,\n",
            "          9.0205e-02, -6.0348e-02,  3.7487e-02,  1.5619e-01, -5.5493e-03,\n",
            "          5.3249e-02,  5.3686e-02, -3.0258e-01,  9.8412e-02,  8.1510e-02],\n",
            "        [ 9.0000e-01,  9.0000e-01,  9.0000e-01, -6.3991e-01,  1.9566e-01,\n",
            "         -4.3547e-01,  3.7095e-02,  4.4078e-01,  7.8237e-01,  2.5412e-01,\n",
            "         -2.0726e-01, -8.1671e-01,  3.4632e-01, -1.2273e-01, -4.9912e-01,\n",
            "          4.4841e-01,  5.7116e-01, -4.6814e-01,  7.1244e-01, -1.0591e+00]])\n"
          ]
        },
        {
          "output_type": "stream",
          "name": "stderr",
          "text": [
            "\n"
          ]
        }
      ]
    },
    {
      "cell_type": "code",
      "source": [
        "# the weight matrix generated under the optimal hyperparameter set\n",
        "W = sgd_mss_with_momentum_threaded(Xs=Xs_tr, Ys=Ys_tr, gamma=0.1612, W0=W0, alpha=0.0375, beta=0.3463, B=8, num_epochs=40, num_threads=8)"
      ],
      "metadata": {
        "colab": {
          "base_uri": "https://localhost:8080/"
        },
        "id": "f7lIPHYabUjb",
        "outputId": "36fa8435-4b3c-4c33-870c-2a362e6ca378"
      },
      "execution_count": 288,
      "outputs": [
        {
          "output_type": "stream",
          "name": "stdout",
          "text": [
            "running thread  <Thread(Thread-16033, initial)>\n",
            "running thread  <Thread(Thread-16034, initial)>\n",
            "running thread  <Thread(Thread-16035, initial)>\n",
            "running thread  <Thread(Thread-16036, initial)>\n",
            "running thread  <Thread(Thread-16037, initial)>\n",
            "running thread  <Thread(Thread-16038, initial)>\n",
            "running thread  <Thread(Thread-16039, initial)>\n",
            "running thread  <Thread(Thread-16040, initial)>\n",
            "Running minibatch sequential-scan SGD with momentum (8 threads)\n"
          ]
        },
        {
          "output_type": "stream",
          "name": "stderr",
          "text": [
            "100%|██████████| 40/40 [00:00<00:00, 110.06it/s]"
          ]
        },
        {
          "output_type": "stream",
          "name": "stdout",
          "text": [
            "current loss: [[41.83394781]]\n"
          ]
        },
        {
          "output_type": "stream",
          "name": "stderr",
          "text": [
            "\n"
          ]
        }
      ]
    },
    {
      "cell_type": "code",
      "source": [
        "# use the model to predict the approximate number of the scanned receipts for each day of 2022\n",
        "q = deque()\n",
        "warm_up = [Receipt_Count[j] for j in range(364, 364 - day_range, -1)]\n",
        "for count in warm_up:\n",
        "    q.append(count)\n",
        "predictions = []\n",
        "for _ in range(365):\n",
        "    X = numpy.array(q, dtype=float).reshape(30,)\n",
        "    predictions.append(((W @ (X - mean) / std) * std + mean).item())\n",
        "    q.popleft()\n",
        "    q.append(predictions[-1])\n",
        "# calculate the predicted number of the scanned receipts for each month of 2022\n",
        "df = pandas.DataFrame()\n",
        "df.index = pandas.date_range(start='1/1/2022', end='12/31/2022')\n",
        "df[\"count\"] = predictions\n",
        "monthSum = df.groupby(df.index.month).sum()"
      ],
      "metadata": {
        "id": "SZQGtCUqHnuc"
      },
      "execution_count": 291,
      "outputs": []
    },
    {
      "cell_type": "code",
      "source": [
        "df # predicted data"
      ],
      "metadata": {
        "colab": {
          "base_uri": "https://localhost:8080/",
          "height": 424
        },
        "id": "CyQNIFyM22L4",
        "outputId": "3fc8423f-0021-4cc7-f361-3fdd95caaca9"
      },
      "execution_count": 293,
      "outputs": [
        {
          "output_type": "execute_result",
          "data": {
            "text/plain": [
              "                   count\n",
              "2022-01-01  9.846695e+06\n",
              "2022-01-02  9.976004e+06\n",
              "2022-01-03  1.002773e+07\n",
              "2022-01-04  9.902056e+06\n",
              "2022-01-05  9.906046e+06\n",
              "...                  ...\n",
              "2022-12-27  8.932000e+06\n",
              "2022-12-28  8.942787e+06\n",
              "2022-12-29  8.936760e+06\n",
              "2022-12-30  8.920917e+06\n",
              "2022-12-31  8.914862e+06\n",
              "\n",
              "[365 rows x 1 columns]"
            ],
            "text/html": [
              "\n",
              "  <div id=\"df-caafb587-6d8b-40db-972b-8561a5ed6bdf\">\n",
              "    <div class=\"colab-df-container\">\n",
              "      <div>\n",
              "<style scoped>\n",
              "    .dataframe tbody tr th:only-of-type {\n",
              "        vertical-align: middle;\n",
              "    }\n",
              "\n",
              "    .dataframe tbody tr th {\n",
              "        vertical-align: top;\n",
              "    }\n",
              "\n",
              "    .dataframe thead th {\n",
              "        text-align: right;\n",
              "    }\n",
              "</style>\n",
              "<table border=\"1\" class=\"dataframe\">\n",
              "  <thead>\n",
              "    <tr style=\"text-align: right;\">\n",
              "      <th></th>\n",
              "      <th>count</th>\n",
              "    </tr>\n",
              "  </thead>\n",
              "  <tbody>\n",
              "    <tr>\n",
              "      <th>2022-01-01</th>\n",
              "      <td>9.846695e+06</td>\n",
              "    </tr>\n",
              "    <tr>\n",
              "      <th>2022-01-02</th>\n",
              "      <td>9.976004e+06</td>\n",
              "    </tr>\n",
              "    <tr>\n",
              "      <th>2022-01-03</th>\n",
              "      <td>1.002773e+07</td>\n",
              "    </tr>\n",
              "    <tr>\n",
              "      <th>2022-01-04</th>\n",
              "      <td>9.902056e+06</td>\n",
              "    </tr>\n",
              "    <tr>\n",
              "      <th>2022-01-05</th>\n",
              "      <td>9.906046e+06</td>\n",
              "    </tr>\n",
              "    <tr>\n",
              "      <th>...</th>\n",
              "      <td>...</td>\n",
              "    </tr>\n",
              "    <tr>\n",
              "      <th>2022-12-27</th>\n",
              "      <td>8.932000e+06</td>\n",
              "    </tr>\n",
              "    <tr>\n",
              "      <th>2022-12-28</th>\n",
              "      <td>8.942787e+06</td>\n",
              "    </tr>\n",
              "    <tr>\n",
              "      <th>2022-12-29</th>\n",
              "      <td>8.936760e+06</td>\n",
              "    </tr>\n",
              "    <tr>\n",
              "      <th>2022-12-30</th>\n",
              "      <td>8.920917e+06</td>\n",
              "    </tr>\n",
              "    <tr>\n",
              "      <th>2022-12-31</th>\n",
              "      <td>8.914862e+06</td>\n",
              "    </tr>\n",
              "  </tbody>\n",
              "</table>\n",
              "<p>365 rows × 1 columns</p>\n",
              "</div>\n",
              "      <button class=\"colab-df-convert\" onclick=\"convertToInteractive('df-caafb587-6d8b-40db-972b-8561a5ed6bdf')\"\n",
              "              title=\"Convert this dataframe to an interactive table.\"\n",
              "              style=\"display:none;\">\n",
              "        \n",
              "  <svg xmlns=\"http://www.w3.org/2000/svg\" height=\"24px\"viewBox=\"0 0 24 24\"\n",
              "       width=\"24px\">\n",
              "    <path d=\"M0 0h24v24H0V0z\" fill=\"none\"/>\n",
              "    <path d=\"M18.56 5.44l.94 2.06.94-2.06 2.06-.94-2.06-.94-.94-2.06-.94 2.06-2.06.94zm-11 1L8.5 8.5l.94-2.06 2.06-.94-2.06-.94L8.5 2.5l-.94 2.06-2.06.94zm10 10l.94 2.06.94-2.06 2.06-.94-2.06-.94-.94-2.06-.94 2.06-2.06.94z\"/><path d=\"M17.41 7.96l-1.37-1.37c-.4-.4-.92-.59-1.43-.59-.52 0-1.04.2-1.43.59L10.3 9.45l-7.72 7.72c-.78.78-.78 2.05 0 2.83L4 21.41c.39.39.9.59 1.41.59.51 0 1.02-.2 1.41-.59l7.78-7.78 2.81-2.81c.8-.78.8-2.07 0-2.86zM5.41 20L4 18.59l7.72-7.72 1.47 1.35L5.41 20z\"/>\n",
              "  </svg>\n",
              "      </button>\n",
              "      \n",
              "  <style>\n",
              "    .colab-df-container {\n",
              "      display:flex;\n",
              "      flex-wrap:wrap;\n",
              "      gap: 12px;\n",
              "    }\n",
              "\n",
              "    .colab-df-convert {\n",
              "      background-color: #E8F0FE;\n",
              "      border: none;\n",
              "      border-radius: 50%;\n",
              "      cursor: pointer;\n",
              "      display: none;\n",
              "      fill: #1967D2;\n",
              "      height: 32px;\n",
              "      padding: 0 0 0 0;\n",
              "      width: 32px;\n",
              "    }\n",
              "\n",
              "    .colab-df-convert:hover {\n",
              "      background-color: #E2EBFA;\n",
              "      box-shadow: 0px 1px 2px rgba(60, 64, 67, 0.3), 0px 1px 3px 1px rgba(60, 64, 67, 0.15);\n",
              "      fill: #174EA6;\n",
              "    }\n",
              "\n",
              "    [theme=dark] .colab-df-convert {\n",
              "      background-color: #3B4455;\n",
              "      fill: #D2E3FC;\n",
              "    }\n",
              "\n",
              "    [theme=dark] .colab-df-convert:hover {\n",
              "      background-color: #434B5C;\n",
              "      box-shadow: 0px 1px 3px 1px rgba(0, 0, 0, 0.15);\n",
              "      filter: drop-shadow(0px 1px 2px rgba(0, 0, 0, 0.3));\n",
              "      fill: #FFFFFF;\n",
              "    }\n",
              "  </style>\n",
              "\n",
              "      <script>\n",
              "        const buttonEl =\n",
              "          document.querySelector('#df-caafb587-6d8b-40db-972b-8561a5ed6bdf button.colab-df-convert');\n",
              "        buttonEl.style.display =\n",
              "          google.colab.kernel.accessAllowed ? 'block' : 'none';\n",
              "\n",
              "        async function convertToInteractive(key) {\n",
              "          const element = document.querySelector('#df-caafb587-6d8b-40db-972b-8561a5ed6bdf');\n",
              "          const dataTable =\n",
              "            await google.colab.kernel.invokeFunction('convertToInteractive',\n",
              "                                                     [key], {});\n",
              "          if (!dataTable) return;\n",
              "\n",
              "          const docLinkHtml = 'Like what you see? Visit the ' +\n",
              "            '<a target=\"_blank\" href=https://colab.research.google.com/notebooks/data_table.ipynb>data table notebook</a>'\n",
              "            + ' to learn more about interactive tables.';\n",
              "          element.innerHTML = '';\n",
              "          dataTable['output_type'] = 'display_data';\n",
              "          await google.colab.output.renderOutput(dataTable, element);\n",
              "          const docLink = document.createElement('div');\n",
              "          docLink.innerHTML = docLinkHtml;\n",
              "          element.appendChild(docLink);\n",
              "        }\n",
              "      </script>\n",
              "    </div>\n",
              "  </div>\n",
              "  "
            ]
          },
          "metadata": {},
          "execution_count": 293
        }
      ]
    },
    {
      "cell_type": "code",
      "source": [
        "# save the trained linear model\n",
        "with open('trained linear model.pkl','wb') as f:\n",
        "    pickle.dump(monthSum, f)"
      ],
      "metadata": {
        "id": "QJOwRcedwNwV"
      },
      "execution_count": 294,
      "outputs": []
    }
  ]
}